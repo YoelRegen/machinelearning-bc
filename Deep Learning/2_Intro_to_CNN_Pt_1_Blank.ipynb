{
  "nbformat": 4,
  "nbformat_minor": 0,
  "metadata": {
    "colab": {
      "name": "2_Intro_to_CNN_Pt_1_Blank.ipynb",
      "provenance": []
    },
    "kernelspec": {
      "name": "python3",
      "display_name": "Python 3"
    },
    "accelerator": "GPU"
  },
  "cells": [
    {
      "cell_type": "code",
      "metadata": {
        "id": "5badx-5OMVFo"
      },
      "source": [
        "from tensorflow.keras.datasets import mnist\n",
        "import matplotlib.pyplot as plt\n",
        "import pandas as pd"
      ],
      "execution_count": null,
      "outputs": []
    },
    {
      "cell_type": "code",
      "metadata": {
        "id": "PZ5nvfOAMJLF",
        "outputId": "ccebda38-142d-4286-8543-e69f51e95387",
        "colab": {
          "base_uri": "https://localhost:8080/",
          "height": 352
        }
      },
      "source": [
        "(feature_train, label_train), (feature_test, label_test) = mnist.load_data()\n",
        "\n",
        "print(\"Train\", feature_train.shape, label_train.shape)\n",
        "print(\"Test\", feature_test.shape, label_test.shape)\n",
        "\n",
        "plt.imshow(feature_train[100], cmap=plt.get_cmap('gray'))"
      ],
      "execution_count": null,
      "outputs": [
        {
          "output_type": "stream",
          "text": [
            "Downloading data from https://storage.googleapis.com/tensorflow/tf-keras-datasets/mnist.npz\n",
            "11493376/11490434 [==============================] - 0s 0us/step\n",
            "Train (60000, 28, 28) (60000,)\n",
            "Test (10000, 28, 28) (10000,)\n"
          ],
          "name": "stdout"
        },
        {
          "output_type": "execute_result",
          "data": {
            "text/plain": [
              "<matplotlib.image.AxesImage at 0x7ff4cb646e80>"
            ]
          },
          "metadata": {
            "tags": []
          },
          "execution_count": 2
        },
        {
          "output_type": "display_data",
          "data": {
            "image/png": "[encoded data removed]",
            "text/plain": [
              "<Figure size 432x288 with 1 Axes>"
            ]
          },
          "metadata": {
            "tags": [],
            "needs_background": "light"
          }
        }
      ]
    },
    {
      "cell_type": "code",
      "metadata": {
        "id": "s0k6T3gJZ-tC",
        "outputId": "7a820397-b061-47df-8e3c-d9c8852ee871",
        "colab": {
          "base_uri": "https://localhost:8080/",
          "height": 868
        }
      },
      "source": [
        "feature_train"
      ],
      "execution_count": null,
      "outputs": [
        {
          "output_type": "execute_result",
          "data": {
            "text/plain": [
              "array([[[0, 0, 0, ..., 0, 0, 0],\n",
              "        [0, 0, 0, ..., 0, 0, 0],\n",
              "        [0, 0, 0, ..., 0, 0, 0],\n",
              "        ...,\n",
              "        [0, 0, 0, ..., 0, 0, 0],\n",
              "        [0, 0, 0, ..., 0, 0, 0],\n",
              "        [0, 0, 0, ..., 0, 0, 0]],\n",
              "\n",
              "       [[0, 0, 0, ..., 0, 0, 0],\n",
              "        [0, 0, 0, ..., 0, 0, 0],\n",
              "        [0, 0, 0, ..., 0, 0, 0],\n",
              "        ...,\n",
              "        [0, 0, 0, ..., 0, 0, 0],\n",
              "        [0, 0, 0, ..., 0, 0, 0],\n",
              "        [0, 0, 0, ..., 0, 0, 0]],\n",
              "\n",
              "       [[0, 0, 0, ..., 0, 0, 0],\n",
              "        [0, 0, 0, ..., 0, 0, 0],\n",
              "        [0, 0, 0, ..., 0, 0, 0],\n",
              "        ...,\n",
              "        [0, 0, 0, ..., 0, 0, 0],\n",
              "        [0, 0, 0, ..., 0, 0, 0],\n",
              "        [0, 0, 0, ..., 0, 0, 0]],\n",
              "\n",
              "       ...,\n",
              "\n",
              "       [[0, 0, 0, ..., 0, 0, 0],\n",
              "        [0, 0, 0, ..., 0, 0, 0],\n",
              "        [0, 0, 0, ..., 0, 0, 0],\n",
              "        ...,\n",
              "        [0, 0, 0, ..., 0, 0, 0],\n",
              "        [0, 0, 0, ..., 0, 0, 0],\n",
              "        [0, 0, 0, ..., 0, 0, 0]],\n",
              "\n",
              "       [[0, 0, 0, ..., 0, 0, 0],\n",
              "        [0, 0, 0, ..., 0, 0, 0],\n",
              "        [0, 0, 0, ..., 0, 0, 0],\n",
              "        ...,\n",
              "        [0, 0, 0, ..., 0, 0, 0],\n",
              "        [0, 0, 0, ..., 0, 0, 0],\n",
              "        [0, 0, 0, ..., 0, 0, 0]],\n",
              "\n",
              "       [[0, 0, 0, ..., 0, 0, 0],\n",
              "        [0, 0, 0, ..., 0, 0, 0],\n",
              "        [0, 0, 0, ..., 0, 0, 0],\n",
              "        ...,\n",
              "        [0, 0, 0, ..., 0, 0, 0],\n",
              "        [0, 0, 0, ..., 0, 0, 0],\n",
              "        [0, 0, 0, ..., 0, 0, 0]]], dtype=uint8)"
            ]
          },
          "metadata": {
            "tags": []
          },
          "execution_count": 3
        }
      ]
    },
    {
      "cell_type": "markdown",
      "metadata": {
        "id": "IO3QQwwXNXd3"
      },
      "source": [
        "## Feature Engineering"
      ]
    },
    {
      "cell_type": "code",
      "metadata": {
        "id": "JUglBLFINSd0"
      },
      "source": [
        "feature_train = feature_train.reshape((feature_train.shape[0], 28, 28, 1))\n",
        "feature_test = feature_test.reshape((feature_test.shape[0], 28, 28, 1))"
      ],
      "execution_count": null,
      "outputs": []
    },
    {
      "cell_type": "code",
      "metadata": {
        "id": "hDJyzaP9hE6_",
        "outputId": "301a11d8-a221-44fa-e0a6-d832989b9795",
        "colab": {
          "base_uri": "https://localhost:8080/",
          "height": 34
        }
      },
      "source": [
        "print(feature_train.shape)"
      ],
      "execution_count": null,
      "outputs": [
        {
          "output_type": "stream",
          "text": [
            "(60000, 28, 28, 1)\n"
          ],
          "name": "stdout"
        }
      ]
    },
    {
      "cell_type": "code",
      "metadata": {
        "id": "FO2_g0KDaDvY",
        "outputId": "d556fbf2-2fc1-46fe-ee55-c981d879797f",
        "colab": {
          "base_uri": "https://localhost:8080/",
          "height": 1000
        }
      },
      "source": [
        "feature_train"
      ],
      "execution_count": null,
      "outputs": [
        {
          "output_type": "execute_result",
          "data": {
            "text/plain": [
              "array([[[[0],\n",
              "         [0],\n",
              "         [0],\n",
              "         ...,\n",
              "         [0],\n",
              "         [0],\n",
              "         [0]],\n",
              "\n",
              "        [[0],\n",
              "         [0],\n",
              "         [0],\n",
              "         ...,\n",
              "         [0],\n",
              "         [0],\n",
              "         [0]],\n",
              "\n",
              "        [[0],\n",
              "         [0],\n",
              "         [0],\n",
              "         ...,\n",
              "         [0],\n",
              "         [0],\n",
              "         [0]],\n",
              "\n",
              "        ...,\n",
              "\n",
              "        [[0],\n",
              "         [0],\n",
              "         [0],\n",
              "         ...,\n",
              "         [0],\n",
              "         [0],\n",
              "         [0]],\n",
              "\n",
              "        [[0],\n",
              "         [0],\n",
              "         [0],\n",
              "         ...,\n",
              "         [0],\n",
              "         [0],\n",
              "         [0]],\n",
              "\n",
              "        [[0],\n",
              "         [0],\n",
              "         [0],\n",
              "         ...,\n",
              "         [0],\n",
              "         [0],\n",
              "         [0]]],\n",
              "\n",
              "\n",
              "       [[[0],\n",
              "         [0],\n",
              "         [0],\n",
              "         ...,\n",
              "         [0],\n",
              "         [0],\n",
              "         [0]],\n",
              "\n",
              "        [[0],\n",
              "         [0],\n",
              "         [0],\n",
              "         ...,\n",
              "         [0],\n",
              "         [0],\n",
              "         [0]],\n",
              "\n",
              "        [[0],\n",
              "         [0],\n",
              "         [0],\n",
              "         ...,\n",
              "         [0],\n",
              "         [0],\n",
              "         [0]],\n",
              "\n",
              "        ...,\n",
              "\n",
              "        [[0],\n",
              "         [0],\n",
              "         [0],\n",
              "         ...,\n",
              "         [0],\n",
              "         [0],\n",
              "         [0]],\n",
              "\n",
              "        [[0],\n",
              "         [0],\n",
              "         [0],\n",
              "         ...,\n",
              "         [0],\n",
              "         [0],\n",
              "         [0]],\n",
              "\n",
              "        [[0],\n",
              "         [0],\n",
              "         [0],\n",
              "         ...,\n",
              "         [0],\n",
              "         [0],\n",
              "         [0]]],\n",
              "\n",
              "\n",
              "       [[[0],\n",
              "         [0],\n",
              "         [0],\n",
              "         ...,\n",
              "         [0],\n",
              "         [0],\n",
              "         [0]],\n",
              "\n",
              "        [[0],\n",
              "         [0],\n",
              "         [0],\n",
              "         ...,\n",
              "         [0],\n",
              "         [0],\n",
              "         [0]],\n",
              "\n",
              "        [[0],\n",
              "         [0],\n",
              "         [0],\n",
              "         ...,\n",
              "         [0],\n",
              "         [0],\n",
              "         [0]],\n",
              "\n",
              "        ...,\n",
              "\n",
              "        [[0],\n",
              "         [0],\n",
              "         [0],\n",
              "         ...,\n",
              "         [0],\n",
              "         [0],\n",
              "         [0]],\n",
              "\n",
              "        [[0],\n",
              "         [0],\n",
              "         [0],\n",
              "         ...,\n",
              "         [0],\n",
              "         [0],\n",
              "         [0]],\n",
              "\n",
              "        [[0],\n",
              "         [0],\n",
              "         [0],\n",
              "         ...,\n",
              "         [0],\n",
              "         [0],\n",
              "         [0]]],\n",
              "\n",
              "\n",
              "       ...,\n",
              "\n",
              "\n",
              "       [[[0],\n",
              "         [0],\n",
              "         [0],\n",
              "         ...,\n",
              "         [0],\n",
              "         [0],\n",
              "         [0]],\n",
              "\n",
              "        [[0],\n",
              "         [0],\n",
              "         [0],\n",
              "         ...,\n",
              "         [0],\n",
              "         [0],\n",
              "         [0]],\n",
              "\n",
              "        [[0],\n",
              "         [0],\n",
              "         [0],\n",
              "         ...,\n",
              "         [0],\n",
              "         [0],\n",
              "         [0]],\n",
              "\n",
              "        ...,\n",
              "\n",
              "        [[0],\n",
              "         [0],\n",
              "         [0],\n",
              "         ...,\n",
              "         [0],\n",
              "         [0],\n",
              "         [0]],\n",
              "\n",
              "        [[0],\n",
              "         [0],\n",
              "         [0],\n",
              "         ...,\n",
              "         [0],\n",
              "         [0],\n",
              "         [0]],\n",
              "\n",
              "        [[0],\n",
              "         [0],\n",
              "         [0],\n",
              "         ...,\n",
              "         [0],\n",
              "         [0],\n",
              "         [0]]],\n",
              "\n",
              "\n",
              "       [[[0],\n",
              "         [0],\n",
              "         [0],\n",
              "         ...,\n",
              "         [0],\n",
              "         [0],\n",
              "         [0]],\n",
              "\n",
              "        [[0],\n",
              "         [0],\n",
              "         [0],\n",
              "         ...,\n",
              "         [0],\n",
              "         [0],\n",
              "         [0]],\n",
              "\n",
              "        [[0],\n",
              "         [0],\n",
              "         [0],\n",
              "         ...,\n",
              "         [0],\n",
              "         [0],\n",
              "         [0]],\n",
              "\n",
              "        ...,\n",
              "\n",
              "        [[0],\n",
              "         [0],\n",
              "         [0],\n",
              "         ...,\n",
              "         [0],\n",
              "         [0],\n",
              "         [0]],\n",
              "\n",
              "        [[0],\n",
              "         [0],\n",
              "         [0],\n",
              "         ...,\n",
              "         [0],\n",
              "         [0],\n",
              "         [0]],\n",
              "\n",
              "        [[0],\n",
              "         [0],\n",
              "         [0],\n",
              "         ...,\n",
              "         [0],\n",
              "         [0],\n",
              "         [0]]],\n",
              "\n",
              "\n",
              "       [[[0],\n",
              "         [0],\n",
              "         [0],\n",
              "         ...,\n",
              "         [0],\n",
              "         [0],\n",
              "         [0]],\n",
              "\n",
              "        [[0],\n",
              "         [0],\n",
              "         [0],\n",
              "         ...,\n",
              "         [0],\n",
              "         [0],\n",
              "         [0]],\n",
              "\n",
              "        [[0],\n",
              "         [0],\n",
              "         [0],\n",
              "         ...,\n",
              "         [0],\n",
              "         [0],\n",
              "         [0]],\n",
              "\n",
              "        ...,\n",
              "\n",
              "        [[0],\n",
              "         [0],\n",
              "         [0],\n",
              "         ...,\n",
              "         [0],\n",
              "         [0],\n",
              "         [0]],\n",
              "\n",
              "        [[0],\n",
              "         [0],\n",
              "         [0],\n",
              "         ...,\n",
              "         [0],\n",
              "         [0],\n",
              "         [0]],\n",
              "\n",
              "        [[0],\n",
              "         [0],\n",
              "         [0],\n",
              "         ...,\n",
              "         [0],\n",
              "         [0],\n",
              "         [0]]]], dtype=uint8)"
            ]
          },
          "metadata": {
            "tags": []
          },
          "execution_count": 6
        }
      ]
    },
    {
      "cell_type": "code",
      "metadata": {
        "id": "ePwMvhdjPctF",
        "outputId": "f2e859d3-cefc-4c2e-b298-fcaa05b49e08",
        "colab": {
          "base_uri": "https://localhost:8080/",
          "height": 139
        }
      },
      "source": [
        "from tensorflow.keras.utils import to_categorical\n",
        "\n",
        "label_train = to_categorical(label_train)\n",
        "label_test = to_categorical(label_test)\n",
        "\n",
        "print(label_train)"
      ],
      "execution_count": null,
      "outputs": [
        {
          "output_type": "stream",
          "text": [
            "[[0. 0. 0. ... 0. 0. 0.]\n",
            " [1. 0. 0. ... 0. 0. 0.]\n",
            " [0. 0. 0. ... 0. 0. 0.]\n",
            " ...\n",
            " [0. 0. 0. ... 0. 0. 0.]\n",
            " [0. 0. 0. ... 0. 0. 0.]\n",
            " [0. 0. 0. ... 0. 1. 0.]]\n"
          ],
          "name": "stdout"
        }
      ]
    },
    {
      "cell_type": "code",
      "metadata": {
        "id": "nyGLG2SuP5vX"
      },
      "source": [
        "feature_train = feature_train.astype('float32')\n",
        "feature_test = feature_test.astype('float32')\n",
        "\n",
        "feature_train = feature_train / 255.0\n",
        "feature_test = feature_test / 255.0"
      ],
      "execution_count": null,
      "outputs": []
    },
    {
      "cell_type": "code",
      "metadata": {
        "id": "bwP6J7TpVOwX",
        "outputId": "336910a2-ef8d-4022-aa7f-7e9ed4da78c6",
        "colab": {
          "base_uri": "https://localhost:8080/",
          "height": 1000
        }
      },
      "source": [
        "feature_train"
      ],
      "execution_count": null,
      "outputs": [
        {
          "output_type": "execute_result",
          "data": {
            "text/plain": [
              "array([[[[0.],\n",
              "         [0.],\n",
              "         [0.],\n",
              "         ...,\n",
              "         [0.],\n",
              "         [0.],\n",
              "         [0.]],\n",
              "\n",
              "        [[0.],\n",
              "         [0.],\n",
              "         [0.],\n",
              "         ...,\n",
              "         [0.],\n",
              "         [0.],\n",
              "         [0.]],\n",
              "\n",
              "        [[0.],\n",
              "         [0.],\n",
              "         [0.],\n",
              "         ...,\n",
              "         [0.],\n",
              "         [0.],\n",
              "         [0.]],\n",
              "\n",
              "        ...,\n",
              "\n",
              "        [[0.],\n",
              "         [0.],\n",
              "         [0.],\n",
              "         ...,\n",
              "         [0.],\n",
              "         [0.],\n",
              "         [0.]],\n",
              "\n",
              "        [[0.],\n",
              "         [0.],\n",
              "         [0.],\n",
              "         ...,\n",
              "         [0.],\n",
              "         [0.],\n",
              "         [0.]],\n",
              "\n",
              "        [[0.],\n",
              "         [0.],\n",
              "         [0.],\n",
              "         ...,\n",
              "         [0.],\n",
              "         [0.],\n",
              "         [0.]]],\n",
              "\n",
              "\n",
              "       [[[0.],\n",
              "         [0.],\n",
              "         [0.],\n",
              "         ...,\n",
              "         [0.],\n",
              "         [0.],\n",
              "         [0.]],\n",
              "\n",
              "        [[0.],\n",
              "         [0.],\n",
              "         [0.],\n",
              "         ...,\n",
              "         [0.],\n",
              "         [0.],\n",
              "         [0.]],\n",
              "\n",
              "        [[0.],\n",
              "         [0.],\n",
              "         [0.],\n",
              "         ...,\n",
              "         [0.],\n",
              "         [0.],\n",
              "         [0.]],\n",
              "\n",
              "        ...,\n",
              "\n",
              "        [[0.],\n",
              "         [0.],\n",
              "         [0.],\n",
              "         ...,\n",
              "         [0.],\n",
              "         [0.],\n",
              "         [0.]],\n",
              "\n",
              "        [[0.],\n",
              "         [0.],\n",
              "         [0.],\n",
              "         ...,\n",
              "         [0.],\n",
              "         [0.],\n",
              "         [0.]],\n",
              "\n",
              "        [[0.],\n",
              "         [0.],\n",
              "         [0.],\n",
              "         ...,\n",
              "         [0.],\n",
              "         [0.],\n",
              "         [0.]]],\n",
              "\n",
              "\n",
              "       [[[0.],\n",
              "         [0.],\n",
              "         [0.],\n",
              "         ...,\n",
              "         [0.],\n",
              "         [0.],\n",
              "         [0.]],\n",
              "\n",
              "        [[0.],\n",
              "         [0.],\n",
              "         [0.],\n",
              "         ...,\n",
              "         [0.],\n",
              "         [0.],\n",
              "         [0.]],\n",
              "\n",
              "        [[0.],\n",
              "         [0.],\n",
              "         [0.],\n",
              "         ...,\n",
              "         [0.],\n",
              "         [0.],\n",
              "         [0.]],\n",
              "\n",
              "        ...,\n",
              "\n",
              "        [[0.],\n",
              "         [0.],\n",
              "         [0.],\n",
              "         ...,\n",
              "         [0.],\n",
              "         [0.],\n",
              "         [0.]],\n",
              "\n",
              "        [[0.],\n",
              "         [0.],\n",
              "         [0.],\n",
              "         ...,\n",
              "         [0.],\n",
              "         [0.],\n",
              "         [0.]],\n",
              "\n",
              "        [[0.],\n",
              "         [0.],\n",
              "         [0.],\n",
              "         ...,\n",
              "         [0.],\n",
              "         [0.],\n",
              "         [0.]]],\n",
              "\n",
              "\n",
              "       ...,\n",
              "\n",
              "\n",
              "       [[[0.],\n",
              "         [0.],\n",
              "         [0.],\n",
              "         ...,\n",
              "         [0.],\n",
              "         [0.],\n",
              "         [0.]],\n",
              "\n",
              "        [[0.],\n",
              "         [0.],\n",
              "         [0.],\n",
              "         ...,\n",
              "         [0.],\n",
              "         [0.],\n",
              "         [0.]],\n",
              "\n",
              "        [[0.],\n",
              "         [0.],\n",
              "         [0.],\n",
              "         ...,\n",
              "         [0.],\n",
              "         [0.],\n",
              "         [0.]],\n",
              "\n",
              "        ...,\n",
              "\n",
              "        [[0.],\n",
              "         [0.],\n",
              "         [0.],\n",
              "         ...,\n",
              "         [0.],\n",
              "         [0.],\n",
              "         [0.]],\n",
              "\n",
              "        [[0.],\n",
              "         [0.],\n",
              "         [0.],\n",
              "         ...,\n",
              "         [0.],\n",
              "         [0.],\n",
              "         [0.]],\n",
              "\n",
              "        [[0.],\n",
              "         [0.],\n",
              "         [0.],\n",
              "         ...,\n",
              "         [0.],\n",
              "         [0.],\n",
              "         [0.]]],\n",
              "\n",
              "\n",
              "       [[[0.],\n",
              "         [0.],\n",
              "         [0.],\n",
              "         ...,\n",
              "         [0.],\n",
              "         [0.],\n",
              "         [0.]],\n",
              "\n",
              "        [[0.],\n",
              "         [0.],\n",
              "         [0.],\n",
              "         ...,\n",
              "         [0.],\n",
              "         [0.],\n",
              "         [0.]],\n",
              "\n",
              "        [[0.],\n",
              "         [0.],\n",
              "         [0.],\n",
              "         ...,\n",
              "         [0.],\n",
              "         [0.],\n",
              "         [0.]],\n",
              "\n",
              "        ...,\n",
              "\n",
              "        [[0.],\n",
              "         [0.],\n",
              "         [0.],\n",
              "         ...,\n",
              "         [0.],\n",
              "         [0.],\n",
              "         [0.]],\n",
              "\n",
              "        [[0.],\n",
              "         [0.],\n",
              "         [0.],\n",
              "         ...,\n",
              "         [0.],\n",
              "         [0.],\n",
              "         [0.]],\n",
              "\n",
              "        [[0.],\n",
              "         [0.],\n",
              "         [0.],\n",
              "         ...,\n",
              "         [0.],\n",
              "         [0.],\n",
              "         [0.]]],\n",
              "\n",
              "\n",
              "       [[[0.],\n",
              "         [0.],\n",
              "         [0.],\n",
              "         ...,\n",
              "         [0.],\n",
              "         [0.],\n",
              "         [0.]],\n",
              "\n",
              "        [[0.],\n",
              "         [0.],\n",
              "         [0.],\n",
              "         ...,\n",
              "         [0.],\n",
              "         [0.],\n",
              "         [0.]],\n",
              "\n",
              "        [[0.],\n",
              "         [0.],\n",
              "         [0.],\n",
              "         ...,\n",
              "         [0.],\n",
              "         [0.],\n",
              "         [0.]],\n",
              "\n",
              "        ...,\n",
              "\n",
              "        [[0.],\n",
              "         [0.],\n",
              "         [0.],\n",
              "         ...,\n",
              "         [0.],\n",
              "         [0.],\n",
              "         [0.]],\n",
              "\n",
              "        [[0.],\n",
              "         [0.],\n",
              "         [0.],\n",
              "         ...,\n",
              "         [0.],\n",
              "         [0.],\n",
              "         [0.]],\n",
              "\n",
              "        [[0.],\n",
              "         [0.],\n",
              "         [0.],\n",
              "         ...,\n",
              "         [0.],\n",
              "         [0.],\n",
              "         [0.]]]], dtype=float32)"
            ]
          },
          "metadata": {
            "tags": []
          },
          "execution_count": 8
        }
      ]
    },
    {
      "cell_type": "code",
      "metadata": {
        "id": "5w2hBAChj4t7"
      },
      "source": [
        "from tensorflow.keras.models import Sequential\n",
        "from tensorflow.keras.layers import Conv2D\n",
        "from tensorflow.keras.layers import MaxPooling2D\n",
        "from tensorflow.keras.layers import Dense\n",
        "from tensorflow.keras.layers import Flatten\n",
        "from tensorflow.keras.optimizers import SGD\n",
        "from tensorflow.keras.layers import BatchNormalization"
      ],
      "execution_count": null,
      "outputs": []
    },
    {
      "cell_type": "markdown",
      "metadata": {
        "id": "UUNSzpZOlzr6"
      },
      "source": [
        "## Multilayer Perceptron (Neural Network)"
      ]
    },
    {
      "cell_type": "code",
      "metadata": {
        "id": "6EoE3U5ej1Nk",
        "outputId": "3ea13107-88b6-4345-b9d4-be2fc7ca2cc7",
        "colab": {
          "base_uri": "https://localhost:8080/",
          "height": 607
        }
      },
      "source": [
        "base_model = Sequential()\n",
        "\n",
        "base_model.add(Flatten(input_shape=(28, 28, 1)))\n",
        "base_model.add(Dense(128, activation='relu', kernel_initializer='he_uniform')) # Activation relu dipakai, ini salah satu function yang paling banyak dipakai\n",
        "base_model.add(Dense(10, activation='softmax')) # Activation softmax dipakai untuk classification, nilai 10 karena terdapat 10 class (0-9)\n",
        "\n",
        "opt = SGD(lr=0.01, momentum=0.9) # Optimizer (Stochastic Gradient Descent), untuk mencari minima dari grafik fungsi loss\n",
        "\n",
        "base_model.compile(optimizer=opt, loss='categorical_crossentropy', metrics=['accuracy']) # Loss Function\n",
        "\n",
        "base_model.summary()\n",
        "\n",
        "history = base_model.fit(feature_train, label_train, batch_size=32, validation_data=(feature_test, label_test), epochs=10)"
      ],
      "execution_count": null,
      "outputs": [
        {
          "output_type": "stream",
          "text": [
            "Model: \"sequential_1\"\n",
            "_________________________________________________________________\n",
            "Layer (type)                 Output Shape              Param #   \n",
            "=================================================================\n",
            "flatten_1 (Flatten)          (None, 784)               0         \n",
            "_________________________________________________________________\n",
            "dense_2 (Dense)              (None, 128)               100480    \n",
            "_________________________________________________________________\n",
            "dense_3 (Dense)              (None, 10)                1290      \n",
            "=================================================================\n",
            "Total params: 101,770\n",
            "Trainable params: 101,770\n",
            "Non-trainable params: 0\n",
            "_________________________________________________________________\n",
            "Epoch 1/10\n",
            "1875/1875 [==============================] - 4s 2ms/step - loss: 0.3010 - accuracy: 0.9119 - val_loss: 0.1722 - val_accuracy: 0.9505\n",
            "Epoch 2/10\n",
            "1875/1875 [==============================] - 4s 2ms/step - loss: 0.1425 - accuracy: 0.9589 - val_loss: 0.1241 - val_accuracy: 0.9624\n",
            "Epoch 3/10\n",
            "1875/1875 [==============================] - 4s 2ms/step - loss: 0.1046 - accuracy: 0.9695 - val_loss: 0.1012 - val_accuracy: 0.9709\n",
            "Epoch 4/10\n",
            "1875/1875 [==============================] - 4s 2ms/step - loss: 0.0826 - accuracy: 0.9756 - val_loss: 0.0915 - val_accuracy: 0.9725\n",
            "Epoch 5/10\n",
            "1875/1875 [==============================] - 4s 2ms/step - loss: 0.0683 - accuracy: 0.9798 - val_loss: 0.0813 - val_accuracy: 0.9755\n",
            "Epoch 6/10\n",
            "1875/1875 [==============================] - 4s 2ms/step - loss: 0.0579 - accuracy: 0.9834 - val_loss: 0.0753 - val_accuracy: 0.9763\n",
            "Epoch 7/10\n",
            "1875/1875 [==============================] - 4s 2ms/step - loss: 0.0494 - accuracy: 0.9858 - val_loss: 0.0718 - val_accuracy: 0.9770\n",
            "Epoch 8/10\n",
            "1875/1875 [==============================] - 4s 2ms/step - loss: 0.0428 - accuracy: 0.9876 - val_loss: 0.0731 - val_accuracy: 0.9766\n",
            "Epoch 9/10\n",
            "1875/1875 [==============================] - 4s 2ms/step - loss: 0.0378 - accuracy: 0.9894 - val_loss: 0.0752 - val_accuracy: 0.9759\n",
            "Epoch 10/10\n",
            "1875/1875 [==============================] - 4s 2ms/step - loss: 0.0319 - accuracy: 0.9911 - val_loss: 0.0710 - val_accuracy: 0.9769\n"
          ],
          "name": "stdout"
        }
      ]
    },
    {
      "cell_type": "code",
      "metadata": {
        "id": "UGJbXzb7SjC7"
      },
      "source": [
        "def plot_loss(history):\n",
        "  plt.plot(history.history['loss'], label='loss')\n",
        "  plt.plot(history.history['val_loss'], label='val_loss')\n",
        "  plt.xlabel('Epoch')\n",
        "  plt.ylabel('Loss')\n",
        "  plt.legend()\n",
        "  plt.grid(True)"
      ],
      "execution_count": null,
      "outputs": []
    },
    {
      "cell_type": "code",
      "metadata": {
        "id": "c3z2b1JuTSom",
        "outputId": "a40591bf-a3cb-473d-8e4e-d7dd198aaf7d",
        "colab": {
          "base_uri": "https://localhost:8080/",
          "height": 363
        }
      },
      "source": [
        "history_dataframe = pd.DataFrame(history.history)\n",
        "history_dataframe['epoch'] = history.epoch\n",
        "history_dataframe"
      ],
      "execution_count": null,
      "outputs": [
        {
          "output_type": "execute_result",
          "data": {
            "text/html": [
              "<div>\n",
              "<style scoped>\n",
              "    .dataframe tbody tr th:only-of-type {\n",
              "        vertical-align: middle;\n",
              "    }\n",
              "\n",
              "    .dataframe tbody tr th {\n",
              "        vertical-align: top;\n",
              "    }\n",
              "\n",
              "    .dataframe thead th {\n",
              "        text-align: right;\n",
              "    }\n",
              "</style>\n",
              "<table border=\"1\" class=\"dataframe\">\n",
              "  <thead>\n",
              "    <tr style=\"text-align: right;\">\n",
              "      <th></th>\n",
              "      <th>loss</th>\n",
              "      <th>accuracy</th>\n",
              "      <th>val_loss</th>\n",
              "      <th>val_accuracy</th>\n",
              "      <th>epoch</th>\n",
              "    </tr>\n",
              "  </thead>\n",
              "  <tbody>\n",
              "    <tr>\n",
              "      <th>0</th>\n",
              "      <td>0.301013</td>\n",
              "      <td>0.911867</td>\n",
              "      <td>0.172177</td>\n",
              "      <td>0.9505</td>\n",
              "      <td>0</td>\n",
              "    </tr>\n",
              "    <tr>\n",
              "      <th>1</th>\n",
              "      <td>0.142513</td>\n",
              "      <td>0.958917</td>\n",
              "      <td>0.124063</td>\n",
              "      <td>0.9624</td>\n",
              "      <td>1</td>\n",
              "    </tr>\n",
              "    <tr>\n",
              "      <th>2</th>\n",
              "      <td>0.104604</td>\n",
              "      <td>0.969483</td>\n",
              "      <td>0.101243</td>\n",
              "      <td>0.9709</td>\n",
              "      <td>2</td>\n",
              "    </tr>\n",
              "    <tr>\n",
              "      <th>3</th>\n",
              "      <td>0.082558</td>\n",
              "      <td>0.975600</td>\n",
              "      <td>0.091487</td>\n",
              "      <td>0.9725</td>\n",
              "      <td>3</td>\n",
              "    </tr>\n",
              "    <tr>\n",
              "      <th>4</th>\n",
              "      <td>0.068274</td>\n",
              "      <td>0.979817</td>\n",
              "      <td>0.081265</td>\n",
              "      <td>0.9755</td>\n",
              "      <td>4</td>\n",
              "    </tr>\n",
              "    <tr>\n",
              "      <th>5</th>\n",
              "      <td>0.057851</td>\n",
              "      <td>0.983367</td>\n",
              "      <td>0.075333</td>\n",
              "      <td>0.9763</td>\n",
              "      <td>5</td>\n",
              "    </tr>\n",
              "    <tr>\n",
              "      <th>6</th>\n",
              "      <td>0.049391</td>\n",
              "      <td>0.985817</td>\n",
              "      <td>0.071803</td>\n",
              "      <td>0.9770</td>\n",
              "      <td>6</td>\n",
              "    </tr>\n",
              "    <tr>\n",
              "      <th>7</th>\n",
              "      <td>0.042759</td>\n",
              "      <td>0.987650</td>\n",
              "      <td>0.073149</td>\n",
              "      <td>0.9766</td>\n",
              "      <td>7</td>\n",
              "    </tr>\n",
              "    <tr>\n",
              "      <th>8</th>\n",
              "      <td>0.037764</td>\n",
              "      <td>0.989417</td>\n",
              "      <td>0.075242</td>\n",
              "      <td>0.9759</td>\n",
              "      <td>8</td>\n",
              "    </tr>\n",
              "    <tr>\n",
              "      <th>9</th>\n",
              "      <td>0.031876</td>\n",
              "      <td>0.991133</td>\n",
              "      <td>0.070970</td>\n",
              "      <td>0.9769</td>\n",
              "      <td>9</td>\n",
              "    </tr>\n",
              "  </tbody>\n",
              "</table>\n",
              "</div>"
            ],
            "text/plain": [
              "       loss  accuracy  val_loss  val_accuracy  epoch\n",
              "0  0.301013  0.911867  0.172177        0.9505      0\n",
              "1  0.142513  0.958917  0.124063        0.9624      1\n",
              "2  0.104604  0.969483  0.101243        0.9709      2\n",
              "3  0.082558  0.975600  0.091487        0.9725      3\n",
              "4  0.068274  0.979817  0.081265        0.9755      4\n",
              "5  0.057851  0.983367  0.075333        0.9763      5\n",
              "6  0.049391  0.985817  0.071803        0.9770      6\n",
              "7  0.042759  0.987650  0.073149        0.9766      7\n",
              "8  0.037764  0.989417  0.075242        0.9759      8\n",
              "9  0.031876  0.991133  0.070970        0.9769      9"
            ]
          },
          "metadata": {
            "tags": []
          },
          "execution_count": 28
        }
      ]
    },
    {
      "cell_type": "code",
      "metadata": {
        "id": "qk5lH4rrSp22",
        "outputId": "45ab51ab-7b94-47ad-87ff-985431bf7af1",
        "colab": {
          "base_uri": "https://localhost:8080/",
          "height": 283
        }
      },
      "source": [
        "plot_loss(history) # epoch vs loss graph"
      ],
      "execution_count": null,
      "outputs": [
        {
          "output_type": "display_data",
          "data": {
            "image/png": "[encoded data removed]",
            "text/plain": [
              "<Figure size 432x288 with 1 Axes>"
            ]
          },
          "metadata": {
            "tags": [],
            "needs_background": "light"
          }
        }
      ]
    },
    {
      "cell_type": "markdown",
      "metadata": {
        "id": "EhfzqJPGUT3R"
      },
      "source": [
        "Yang kita inginkan adalah, nilai epoch dimana nilai loss mulai stabil (artinya, tidak ada perubahan yang signifikan dalam nilai loss, nillai weight sudah sesuai untuk melakukan klasifikasi/regresi)."
      ]
    },
    {
      "cell_type": "markdown",
      "metadata": {
        "id": "hiqJma7KUoXe"
      },
      "source": [
        "![Screen Shot 2020-09-25 at 10.31.45.png](data:image/png;base64,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)"
      ]
    },
    {
      "cell_type": "markdown",
      "metadata": {
        "id": "Ft0Fc_X5Uy8m"
      },
      "source": [
        "Sumbu x: Nilai epoch / iterasi\n",
        "\n",
        "Sumbu y: Loss\n",
        "\n",
        "https://github.com/tensorflow/tensorflow/issues/18858"
      ]
    },
    {
      "cell_type": "code",
      "metadata": {
        "id": "pFfSnLO-ka9u",
        "outputId": "0395d1bc-f48b-47b6-9f97-938b74c54fe7",
        "colab": {
          "base_uri": "https://localhost:8080/",
          "height": 69
        }
      },
      "source": [
        "loss, accuracy = base_model.evaluate(feature_test,  label_test, verbose=2)\n",
        "\n",
        "print(\"Test accuracy:\", accuracy)\n",
        "print(\"Test loss:\", loss)"
      ],
      "execution_count": null,
      "outputs": [
        {
          "output_type": "stream",
          "text": [
            "313/313 - 1s - loss: 0.0700 - accuracy: 0.9785\n",
            "Test accuracy: 0.9785000085830688\n",
            "Test loss: 0.06996443122625351\n"
          ],
          "name": "stdout"
        }
      ]
    },
    {
      "cell_type": "markdown",
      "metadata": {
        "id": "D20aS2TSl1gm"
      },
      "source": [
        "## Convolutional Neural Network (CNN)"
      ]
    },
    {
      "cell_type": "code",
      "metadata": {
        "id": "sjwhNq6DVVz5",
        "outputId": "3276fba2-293a-45bd-ce4b-6176078e2c7f",
        "colab": {
          "base_uri": "https://localhost:8080/",
          "height": 677
        }
      },
      "source": [
        "# Adapted from: https://machinelearningmastery.com/how-to-develop-a-convolutional-neural-network-from-scratch-for-mnist-handwritten-digit-classification/\n",
        "\n",
        "model = Sequential()\n",
        "model.add(Conv2D(32, (3, 3), activation='relu', kernel_initializer='he_uniform', input_shape=(28, 28, 1))) # Convolution, 32 filters, masing-masing dengan kernel 3x3\n",
        "\n",
        "model.add(MaxPooling2D((2, 2))) # Pooling\n",
        "\n",
        "model.add(Flatten()) # Flatten hasil output\n",
        "\n",
        "# Fully connected layer\n",
        "model.add(Dense(100, activation='relu', kernel_initializer='he_uniform')) # Activation relu dipakai, ini salah satu function yang paling banyak dipakai\n",
        "model.add(Dense(10, activation='softmax')) # Activation softmax dipakai untuk classification, nilai 10 karena terdapat 10 class (0-9)\n",
        "\n",
        "opt = SGD(lr=0.01, momentum=0.9) # Optimizer (Stochastic Gradient Descent), untuk mencari minima dari grafik fungsi loss\n",
        "\n",
        "model.compile(optimizer=opt, loss='categorical_crossentropy', metrics=['accuracy']) # Loss Function\n",
        "\n",
        "model.summary()\n",
        "\n",
        "history_cnn = model.fit(feature_train, label_train, batch_size=32, validation_data=(feature_test, label_test), epochs=10)"
      ],
      "execution_count": null,
      "outputs": [
        {
          "output_type": "stream",
          "text": [
            "Model: \"sequential_3\"\n",
            "_________________________________________________________________\n",
            "Layer (type)                 Output Shape              Param #   \n",
            "=================================================================\n",
            "conv2d_1 (Conv2D)            (None, 26, 26, 32)        320       \n",
            "_________________________________________________________________\n",
            "max_pooling2d_1 (MaxPooling2 (None, 13, 13, 32)        0         \n",
            "_________________________________________________________________\n",
            "flatten_3 (Flatten)          (None, 5408)              0         \n",
            "_________________________________________________________________\n",
            "dense_6 (Dense)              (None, 100)               540900    \n",
            "_________________________________________________________________\n",
            "dense_7 (Dense)              (None, 10)                1010      \n",
            "=================================================================\n",
            "Total params: 542,230\n",
            "Trainable params: 542,230\n",
            "Non-trainable params: 0\n",
            "_________________________________________________________________\n",
            "Epoch 1/10\n",
            "1875/1875 [==============================] - 5s 3ms/step - loss: 0.1610 - accuracy: 0.9506 - val_loss: 0.0703 - val_accuracy: 0.9766\n",
            "Epoch 2/10\n",
            "1875/1875 [==============================] - 5s 3ms/step - loss: 0.0564 - accuracy: 0.9833 - val_loss: 0.0496 - val_accuracy: 0.9834\n",
            "Epoch 3/10\n",
            "1875/1875 [==============================] - 5s 3ms/step - loss: 0.0364 - accuracy: 0.9889 - val_loss: 0.0476 - val_accuracy: 0.9843\n",
            "Epoch 4/10\n",
            "1875/1875 [==============================] - 5s 3ms/step - loss: 0.0247 - accuracy: 0.9928 - val_loss: 0.0403 - val_accuracy: 0.9864\n",
            "Epoch 5/10\n",
            "1875/1875 [==============================] - 5s 3ms/step - loss: 0.0171 - accuracy: 0.9950 - val_loss: 0.0425 - val_accuracy: 0.9871\n",
            "Epoch 6/10\n",
            "1875/1875 [==============================] - 5s 3ms/step - loss: 0.0124 - accuracy: 0.9968 - val_loss: 0.0464 - val_accuracy: 0.9854\n",
            "Epoch 7/10\n",
            "1875/1875 [==============================] - 5s 3ms/step - loss: 0.0077 - accuracy: 0.9981 - val_loss: 0.0380 - val_accuracy: 0.9871\n",
            "Epoch 8/10\n",
            "1875/1875 [==============================] - 5s 3ms/step - loss: 0.0056 - accuracy: 0.9987 - val_loss: 0.0424 - val_accuracy: 0.9885\n",
            "Epoch 9/10\n",
            "1875/1875 [==============================] - 5s 3ms/step - loss: 0.0037 - accuracy: 0.9993 - val_loss: 0.0398 - val_accuracy: 0.9890\n",
            "Epoch 10/10\n",
            "1875/1875 [==============================] - 5s 3ms/step - loss: 0.0023 - accuracy: 0.9998 - val_loss: 0.0392 - val_accuracy: 0.9893\n"
          ],
          "name": "stdout"
        }
      ]
    },
    {
      "cell_type": "code",
      "metadata": {
        "id": "bDXIubauXE1V",
        "outputId": "202fb581-ee7e-4240-8f87-2df79ce17216",
        "colab": {
          "base_uri": "https://localhost:8080/",
          "height": 69
        }
      },
      "source": [
        "loss, accuracy = model.evaluate(feature_test,  label_test, verbose=2)\n",
        "\n",
        "print(\"Test accuracy:\", accuracy)\n",
        "print(\"Test loss:\", loss)"
      ],
      "execution_count": null,
      "outputs": [
        {
          "output_type": "stream",
          "text": [
            "313/313 - 1s - loss: 0.0392 - accuracy: 0.9893\n",
            "Test accuracy: 0.989300012588501\n",
            "Test loss: 0.03922822326421738\n"
          ],
          "name": "stdout"
        }
      ]
    },
    {
      "cell_type": "code",
      "metadata": {
        "id": "HSoWHoZQThaI",
        "outputId": "2af32fcc-4748-4595-f173-b539f53dc872",
        "colab": {
          "base_uri": "https://localhost:8080/",
          "height": 283
        }
      },
      "source": [
        "plot_loss(history_cnn)"
      ],
      "execution_count": null,
      "outputs": [
        {
          "output_type": "display_data",
          "data": {
            "image/png": "[encoded data removed]",
            "text/plain": [
              "<Figure size 432x288 with 1 Axes>"
            ]
          },
          "metadata": {
            "tags": [],
            "needs_background": "light"
          }
        }
      ]
    },
    {
      "cell_type": "markdown",
      "metadata": {
        "id": "yW5HSRkqoKe3"
      },
      "source": [
        "# Assignment\n",
        "\n",
        "1. Lakukan image classification terhadap dataset fashion MNIST (https://keras.io/api/datasets/fashion_mnist/) dengan 2 arsitektur diatas! Tunjukan grafik epoch terhadap loss. Tentukan arsitektur dengan hasil terbaik dan jelaskan!\n",
        "\n",
        "2. Buatlah sebuah arsitektur dengan convolution layer lebih dalam:\n",
        "\n",
        "  - Convolution layer dengan 32 filters, kernel size 3x3, activation function ReLu, & nilai awal berdasarkan he_uniform\n",
        "  - Max Pooling Layer 2x2\n",
        "  - Convolution layer dengan 64 filters, kernel size 3x3, activation function ReLu, & nilai awal berdasarkan he_uniform\n",
        "  - Max Pooling Layer 2x2\n",
        "\n",
        "  Lakukan training kepada dataset MNIST & Fashion MNIST! Perhatikan hasil accuracy yang didapat & jelaskan!"
      ]
    }
  ]
}