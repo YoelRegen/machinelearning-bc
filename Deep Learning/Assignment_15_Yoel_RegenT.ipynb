{
  "nbformat": 4,
  "nbformat_minor": 0,
  "metadata": {
    "colab": {
      "name": "Assignment_15_Yoel_RegenT.ipynb",
      "provenance": [],
      "collapsed_sections": [
        "XPCkQv5pEd4I",
        "t2WDQjgJEhVv",
        "VlBXvFg4Fk7h",
        "iE3h_NRIEZcv"
      ]
    },
    "kernelspec": {
      "name": "python3",
      "display_name": "Python 3"
    },
    "accelerator": "GPU"
  },
  "cells": [
    {
      "cell_type": "markdown",
      "metadata": {
        "id": "KmYWqQYiEepY"
      },
      "source": [
        "# Jawaban 1"
      ]
    },
    {
      "cell_type": "markdown",
      "metadata": {
        "id": "XPCkQv5pEd4I"
      },
      "source": [
        "# Zipping File"
      ]
    },
    {
      "cell_type": "code",
      "metadata": {
        "id": "0Jz-q6uB13OX"
      },
      "source": [
        "zip_path = '/content/drive/My\\ Drive/BCML/DL/DLCV/cats-dogs.zip'\n",
        "\n",
        "!cp {zip_path} /content/\n",
        "\n",
        "!cd /content/\n",
        "\n",
        "!unzip -q /content/cats-dogs.zip -d /content\n",
        "\n",
        "!rm /content/cats-dogs.zip"
      ],
      "execution_count": null,
      "outputs": []
    },
    {
      "cell_type": "markdown",
      "metadata": {
        "id": "t2WDQjgJEhVv"
      },
      "source": [
        "# Libraries & Plot Epoch"
      ]
    },
    {
      "cell_type": "code",
      "metadata": {
        "id": "tiPev1wMIqIl"
      },
      "source": [
        "import numpy as np\n",
        "import os\n",
        "import matplotlib.pyplot as plt\n",
        "\n",
        "from tensorflow.keras.models import Sequential\n",
        "from tensorflow.keras.layers import Conv2D, MaxPooling2D, Dense, Flatten\n",
        "from tensorflow.keras.optimizers import SGD\n",
        "\n",
        "from tensorflow.keras.preprocessing.image import ImageDataGenerator"
      ],
      "execution_count": null,
      "outputs": []
    },
    {
      "cell_type": "code",
      "metadata": {
        "id": "AR_ZKWTHNWMI"
      },
      "source": [
        "def plot_loss(history):\n",
        "  plt.plot(history.history['loss'], label='loss')\n",
        "  plt.plot(history.history['val_loss'], label='val_loss')\n",
        "  plt.xlabel('Epoch')\n",
        "  plt.ylabel('Loss')\n",
        "  plt.legend()\n",
        "  plt.grid(True)"
      ],
      "execution_count": null,
      "outputs": []
    },
    {
      "cell_type": "markdown",
      "metadata": {
        "id": "VlBXvFg4Fk7h"
      },
      "source": [
        "# Modeling"
      ]
    },
    {
      "cell_type": "code",
      "metadata": {
        "id": "VM5YppKdNZYt",
        "outputId": "50c03c52-d5bb-4fd6-8c62-75880d3146f8",
        "colab": {
          "base_uri": "https://localhost:8080/",
          "height": 478
        }
      },
      "source": [
        "model = Sequential()\n",
        "model.add(Conv2D(32, (3, 3), activation='relu', kernel_initializer='he_uniform', padding='same', input_shape=(200, 200, 3)))\n",
        "model.add(MaxPooling2D((2, 2)))\n",
        "\n",
        "model.add(Conv2D(64, (3, 3), activation='relu', kernel_initializer='he_uniform', padding='same', input_shape=(200, 200, 3)))\n",
        "model.add(MaxPooling2D((2, 2)))\n",
        "\n",
        "model.add(Conv2D(128, (3, 3), activation='relu', kernel_initializer='he_uniform', padding='same', input_shape=(200, 200, 3)))\n",
        "model.add(MaxPooling2D((2, 2)))\n",
        "\n",
        "model.add(Flatten())\n",
        "\n",
        "model.add(Dense(128, activation='relu', kernel_initializer='he_uniform'))\n",
        "model.add(Dense(1, activation='sigmoid'))\n",
        "\n",
        "opt = SGD(lr=0.001, momentum=0.9)\n",
        "\n",
        "model.compile(optimizer=opt, loss='binary_crossentropy', metrics=['accuracy'])\n",
        "\n",
        "model.summary()"
      ],
      "execution_count": null,
      "outputs": [
        {
          "output_type": "stream",
          "text": [
            "Model: \"sequential_1\"\n",
            "_________________________________________________________________\n",
            "Layer (type)                 Output Shape              Param #   \n",
            "=================================================================\n",
            "conv2d_1 (Conv2D)            (None, 200, 200, 32)      896       \n",
            "_________________________________________________________________\n",
            "max_pooling2d_1 (MaxPooling2 (None, 100, 100, 32)      0         \n",
            "_________________________________________________________________\n",
            "conv2d_2 (Conv2D)            (None, 100, 100, 64)      18496     \n",
            "_________________________________________________________________\n",
            "max_pooling2d_2 (MaxPooling2 (None, 50, 50, 64)        0         \n",
            "_________________________________________________________________\n",
            "conv2d_3 (Conv2D)            (None, 50, 50, 128)       73856     \n",
            "_________________________________________________________________\n",
            "max_pooling2d_3 (MaxPooling2 (None, 25, 25, 128)       0         \n",
            "_________________________________________________________________\n",
            "flatten_1 (Flatten)          (None, 80000)             0         \n",
            "_________________________________________________________________\n",
            "dense_2 (Dense)              (None, 128)               10240128  \n",
            "_________________________________________________________________\n",
            "dense_3 (Dense)              (None, 1)                 129       \n",
            "=================================================================\n",
            "Total params: 10,333,505\n",
            "Trainable params: 10,333,505\n",
            "Non-trainable params: 0\n",
            "_________________________________________________________________\n"
          ],
          "name": "stdout"
        }
      ]
    },
    {
      "cell_type": "markdown",
      "metadata": {
        "id": "NrG6R6mizDJN"
      },
      "source": [
        "Preprocessing dengan width_shift_range=0.1 dan height_shift_range=0.1"
      ]
    },
    {
      "cell_type": "code",
      "metadata": {
        "id": "1FA0OvmLk41I",
        "outputId": "c35747d4-5702-4f8f-b18b-2929582a8c39",
        "colab": {
          "base_uri": "https://localhost:8080/",
          "height": 52
        }
      },
      "source": [
        "dataset_dir = '/content/'\n",
        "\n",
        "train_datagen = ImageDataGenerator(rescale=1.0/255.0, width_shift_range=0.1, height_shift_range=0.1, horizontal_flip=True)\n",
        "test_datagen = ImageDataGenerator(rescale=1.0/255.0)\n",
        "\n",
        "train_iterator = train_datagen.flow_from_directory(os.path.join(dataset_dir, 'train'), class_mode='binary', batch_size=128, target_size=(200, 200))\n",
        "test_iterator = test_datagen.flow_from_directory(os.path.join(dataset_dir, 'test'), class_mode='binary', batch_size=128, target_size=(200, 200))"
      ],
      "execution_count": null,
      "outputs": [
        {
          "output_type": "stream",
          "text": [
            "Found 12749 images belonging to 2 classes.\n",
            "Found 2252 images belonging to 2 classes.\n"
          ],
          "name": "stdout"
        }
      ]
    },
    {
      "cell_type": "code",
      "metadata": {
        "id": "lWzS-9gglIkp",
        "outputId": "de9dcbc0-9e35-4761-db73-ed51123c5220",
        "colab": {
          "base_uri": "https://localhost:8080/",
          "height": 1000
        }
      },
      "source": [
        "history_base_model = model.fit_generator(train_iterator, steps_per_epoch=len(train_iterator), validation_data=test_iterator, validation_steps=len(test_iterator), epochs=75)"
      ],
      "execution_count": null,
      "outputs": [
        {
          "output_type": "stream",
          "text": [
            "Epoch 1/75\n",
            "100/100 [==============================] - 134s 1s/step - loss: 0.7646 - accuracy: 0.6516 - val_loss: 0.5356 - val_accuracy: 0.7140\n",
            "Epoch 2/75\n",
            "100/100 [==============================] - 136s 1s/step - loss: 0.5461 - accuracy: 0.7243 - val_loss: 0.4874 - val_accuracy: 0.7660\n",
            "Epoch 3/75\n",
            "100/100 [==============================] - 135s 1s/step - loss: 0.5083 - accuracy: 0.7575 - val_loss: 0.4817 - val_accuracy: 0.7540\n",
            "Epoch 4/75\n",
            "100/100 [==============================] - 136s 1s/step - loss: 0.4912 - accuracy: 0.7596 - val_loss: 0.4392 - val_accuracy: 0.7904\n",
            "Epoch 5/75\n",
            "100/100 [==============================] - 135s 1s/step - loss: 0.4782 - accuracy: 0.7741 - val_loss: 0.4452 - val_accuracy: 0.7846\n",
            "Epoch 6/75\n",
            "100/100 [==============================] - 136s 1s/step - loss: 0.4693 - accuracy: 0.7786 - val_loss: 0.4726 - val_accuracy: 0.7713\n",
            "Epoch 7/75\n",
            "100/100 [==============================] - 136s 1s/step - loss: 0.4627 - accuracy: 0.7807 - val_loss: 0.4253 - val_accuracy: 0.8002\n",
            "Epoch 8/75\n",
            "100/100 [==============================] - 136s 1s/step - loss: 0.4438 - accuracy: 0.7963 - val_loss: 0.4164 - val_accuracy: 0.8086\n",
            "Epoch 9/75\n",
            "100/100 [==============================] - 137s 1s/step - loss: 0.4484 - accuracy: 0.7888 - val_loss: 0.4190 - val_accuracy: 0.8162\n",
            "Epoch 10/75\n",
            "100/100 [==============================] - 137s 1s/step - loss: 0.4336 - accuracy: 0.7952 - val_loss: 0.4302 - val_accuracy: 0.7913\n",
            "Epoch 11/75\n",
            "100/100 [==============================] - 136s 1s/step - loss: 0.4295 - accuracy: 0.7988 - val_loss: 0.4253 - val_accuracy: 0.8015\n",
            "Epoch 12/75\n",
            "100/100 [==============================] - 135s 1s/step - loss: 0.4269 - accuracy: 0.8027 - val_loss: 0.4560 - val_accuracy: 0.7864\n",
            "Epoch 13/75\n",
            "100/100 [==============================] - 135s 1s/step - loss: 0.4206 - accuracy: 0.8081 - val_loss: 0.4028 - val_accuracy: 0.8099\n",
            "Epoch 14/75\n",
            "100/100 [==============================] - 136s 1s/step - loss: 0.4203 - accuracy: 0.8048 - val_loss: 0.4009 - val_accuracy: 0.8219\n",
            "Epoch 15/75\n",
            "100/100 [==============================] - 134s 1s/step - loss: 0.4093 - accuracy: 0.8136 - val_loss: 0.4052 - val_accuracy: 0.8077\n",
            "Epoch 16/75\n",
            "100/100 [==============================] - 136s 1s/step - loss: 0.4065 - accuracy: 0.8177 - val_loss: 0.4247 - val_accuracy: 0.8077\n",
            "Epoch 17/75\n",
            "100/100 [==============================] - 137s 1s/step - loss: 0.4055 - accuracy: 0.8193 - val_loss: 0.3839 - val_accuracy: 0.8242\n",
            "Epoch 18/75\n",
            "100/100 [==============================] - 135s 1s/step - loss: 0.3930 - accuracy: 0.8234 - val_loss: 0.3907 - val_accuracy: 0.8206\n",
            "Epoch 19/75\n",
            "100/100 [==============================] - 136s 1s/step - loss: 0.3932 - accuracy: 0.8260 - val_loss: 0.3839 - val_accuracy: 0.8335\n",
            "Epoch 20/75\n",
            "100/100 [==============================] - 136s 1s/step - loss: 0.3978 - accuracy: 0.8185 - val_loss: 0.3949 - val_accuracy: 0.8166\n",
            "Epoch 21/75\n",
            "100/100 [==============================] - 137s 1s/step - loss: 0.3943 - accuracy: 0.8208 - val_loss: 0.3852 - val_accuracy: 0.8242\n",
            "Epoch 22/75\n",
            "100/100 [==============================] - 137s 1s/step - loss: 0.3840 - accuracy: 0.8300 - val_loss: 0.3840 - val_accuracy: 0.8242\n",
            "Epoch 23/75\n",
            "100/100 [==============================] - 135s 1s/step - loss: 0.3823 - accuracy: 0.8257 - val_loss: 0.3703 - val_accuracy: 0.8361\n",
            "Epoch 24/75\n",
            "100/100 [==============================] - 135s 1s/step - loss: 0.3732 - accuracy: 0.8328 - val_loss: 0.3813 - val_accuracy: 0.8233\n",
            "Epoch 25/75\n",
            "100/100 [==============================] - 136s 1s/step - loss: 0.3743 - accuracy: 0.8361 - val_loss: 0.3762 - val_accuracy: 0.8295\n",
            "Epoch 26/75\n",
            "100/100 [==============================] - 136s 1s/step - loss: 0.3698 - accuracy: 0.8354 - val_loss: 0.3913 - val_accuracy: 0.8219\n",
            "Epoch 27/75\n",
            "100/100 [==============================] - 137s 1s/step - loss: 0.3740 - accuracy: 0.8290 - val_loss: 0.3661 - val_accuracy: 0.8441\n",
            "Epoch 28/75\n",
            "100/100 [==============================] - 137s 1s/step - loss: 0.3653 - accuracy: 0.8365 - val_loss: 0.3553 - val_accuracy: 0.8379\n",
            "Epoch 29/75\n",
            "100/100 [==============================] - 137s 1s/step - loss: 0.3612 - accuracy: 0.8336 - val_loss: 0.3646 - val_accuracy: 0.8406\n",
            "Epoch 30/75\n",
            "100/100 [==============================] - 136s 1s/step - loss: 0.3632 - accuracy: 0.8381 - val_loss: 0.3593 - val_accuracy: 0.8379\n",
            "Epoch 31/75\n",
            "100/100 [==============================] - 136s 1s/step - loss: 0.3630 - accuracy: 0.8363 - val_loss: 0.3460 - val_accuracy: 0.8415\n",
            "Epoch 32/75\n",
            "100/100 [==============================] - 137s 1s/step - loss: 0.3545 - accuracy: 0.8397 - val_loss: 0.3529 - val_accuracy: 0.8450\n",
            "Epoch 33/75\n",
            "100/100 [==============================] - 137s 1s/step - loss: 0.3540 - accuracy: 0.8419 - val_loss: 0.3578 - val_accuracy: 0.8410\n",
            "Epoch 34/75\n",
            "100/100 [==============================] - 138s 1s/step - loss: 0.3495 - accuracy: 0.8467 - val_loss: 0.3467 - val_accuracy: 0.8433\n",
            "Epoch 35/75\n",
            "100/100 [==============================] - 138s 1s/step - loss: 0.3503 - accuracy: 0.8423 - val_loss: 0.3665 - val_accuracy: 0.8299\n",
            "Epoch 36/75\n",
            "100/100 [==============================] - 140s 1s/step - loss: 0.3486 - accuracy: 0.8460 - val_loss: 0.3520 - val_accuracy: 0.8410\n",
            "Epoch 37/75\n",
            "100/100 [==============================] - 137s 1s/step - loss: 0.3463 - accuracy: 0.8499 - val_loss: 0.3439 - val_accuracy: 0.8472\n",
            "Epoch 38/75\n",
            "100/100 [==============================] - 136s 1s/step - loss: 0.3389 - accuracy: 0.8525 - val_loss: 0.3508 - val_accuracy: 0.8424\n",
            "Epoch 39/75\n",
            "100/100 [==============================] - 136s 1s/step - loss: 0.3370 - accuracy: 0.8502 - val_loss: 0.3398 - val_accuracy: 0.8561\n",
            "Epoch 40/75\n",
            "100/100 [==============================] - 137s 1s/step - loss: 0.3360 - accuracy: 0.8521 - val_loss: 0.3529 - val_accuracy: 0.8464\n",
            "Epoch 41/75\n",
            "100/100 [==============================] - 137s 1s/step - loss: 0.3359 - accuracy: 0.8536 - val_loss: 0.3822 - val_accuracy: 0.8295\n",
            "Epoch 42/75\n",
            "100/100 [==============================] - 138s 1s/step - loss: 0.3317 - accuracy: 0.8544 - val_loss: 0.3438 - val_accuracy: 0.8486\n",
            "Epoch 43/75\n",
            "100/100 [==============================] - 138s 1s/step - loss: 0.3289 - accuracy: 0.8582 - val_loss: 0.3354 - val_accuracy: 0.8512\n",
            "Epoch 44/75\n",
            "100/100 [==============================] - 136s 1s/step - loss: 0.3267 - accuracy: 0.8558 - val_loss: 0.3435 - val_accuracy: 0.8486\n",
            "Epoch 45/75\n",
            "100/100 [==============================] - 138s 1s/step - loss: 0.3246 - accuracy: 0.8597 - val_loss: 0.3455 - val_accuracy: 0.8419\n",
            "Epoch 46/75\n",
            "100/100 [==============================] - 138s 1s/step - loss: 0.3233 - accuracy: 0.8594 - val_loss: 0.3439 - val_accuracy: 0.8495\n",
            "Epoch 47/75\n",
            "100/100 [==============================] - 138s 1s/step - loss: 0.3271 - accuracy: 0.8572 - val_loss: 0.3767 - val_accuracy: 0.8357\n",
            "Epoch 48/75\n",
            "100/100 [==============================] - 138s 1s/step - loss: 0.3223 - accuracy: 0.8607 - val_loss: 0.3561 - val_accuracy: 0.8495\n",
            "Epoch 49/75\n",
            "100/100 [==============================] - 137s 1s/step - loss: 0.3172 - accuracy: 0.8606 - val_loss: 0.3437 - val_accuracy: 0.8508\n",
            "Epoch 50/75\n",
            "100/100 [==============================] - 135s 1s/step - loss: 0.3175 - accuracy: 0.8615 - val_loss: 0.3447 - val_accuracy: 0.8481\n",
            "Epoch 51/75\n",
            "100/100 [==============================] - 136s 1s/step - loss: 0.3100 - accuracy: 0.8651 - val_loss: 0.3373 - val_accuracy: 0.8495\n",
            "Epoch 52/75\n",
            "100/100 [==============================] - 137s 1s/step - loss: 0.3054 - accuracy: 0.8693 - val_loss: 0.3417 - val_accuracy: 0.8512\n",
            "Epoch 53/75\n",
            "100/100 [==============================] - 135s 1s/step - loss: 0.3062 - accuracy: 0.8685 - val_loss: 0.3496 - val_accuracy: 0.8539\n",
            "Epoch 54/75\n",
            "100/100 [==============================] - 136s 1s/step - loss: 0.3102 - accuracy: 0.8650 - val_loss: 0.3675 - val_accuracy: 0.8428\n",
            "Epoch 55/75\n",
            "100/100 [==============================] - 136s 1s/step - loss: 0.3033 - accuracy: 0.8681 - val_loss: 0.3299 - val_accuracy: 0.8579\n",
            "Epoch 56/75\n",
            "100/100 [==============================] - 137s 1s/step - loss: 0.3104 - accuracy: 0.8656 - val_loss: 0.3218 - val_accuracy: 0.8646\n",
            "Epoch 57/75\n",
            "100/100 [==============================] - 135s 1s/step - loss: 0.3021 - accuracy: 0.8693 - val_loss: 0.3388 - val_accuracy: 0.8544\n",
            "Epoch 58/75\n",
            "100/100 [==============================] - 135s 1s/step - loss: 0.3034 - accuracy: 0.8704 - val_loss: 0.3291 - val_accuracy: 0.8597\n",
            "Epoch 59/75\n",
            "100/100 [==============================] - 134s 1s/step - loss: 0.2936 - accuracy: 0.8736 - val_loss: 0.3285 - val_accuracy: 0.8628\n",
            "Epoch 60/75\n",
            "100/100 [==============================] - 134s 1s/step - loss: 0.2933 - accuracy: 0.8749 - val_loss: 0.3328 - val_accuracy: 0.8570\n",
            "Epoch 61/75\n",
            "100/100 [==============================] - 137s 1s/step - loss: 0.3005 - accuracy: 0.8689 - val_loss: 0.3367 - val_accuracy: 0.8530\n",
            "Epoch 62/75\n",
            "100/100 [==============================] - 138s 1s/step - loss: 0.2919 - accuracy: 0.8730 - val_loss: 0.3322 - val_accuracy: 0.8544\n",
            "Epoch 63/75\n",
            "100/100 [==============================] - 136s 1s/step - loss: 0.2924 - accuracy: 0.8735 - val_loss: 0.3290 - val_accuracy: 0.8650\n",
            "Epoch 64/75\n",
            "100/100 [==============================] - 134s 1s/step - loss: 0.2902 - accuracy: 0.8774 - val_loss: 0.3404 - val_accuracy: 0.8561\n",
            "Epoch 65/75\n",
            "100/100 [==============================] - 134s 1s/step - loss: 0.2924 - accuracy: 0.8761 - val_loss: 0.3796 - val_accuracy: 0.8370\n",
            "Epoch 66/75\n",
            "100/100 [==============================] - 135s 1s/step - loss: 0.2862 - accuracy: 0.8759 - val_loss: 0.3180 - val_accuracy: 0.8641\n",
            "Epoch 67/75\n",
            "100/100 [==============================] - 135s 1s/step - loss: 0.2762 - accuracy: 0.8858 - val_loss: 0.3255 - val_accuracy: 0.8641\n",
            "Epoch 68/75\n",
            "100/100 [==============================] - 135s 1s/step - loss: 0.2805 - accuracy: 0.8840 - val_loss: 0.3210 - val_accuracy: 0.8659\n",
            "Epoch 69/75\n",
            "100/100 [==============================] - 134s 1s/step - loss: 0.2787 - accuracy: 0.8804 - val_loss: 0.3279 - val_accuracy: 0.8597\n",
            "Epoch 70/75\n",
            "100/100 [==============================] - 136s 1s/step - loss: 0.2848 - accuracy: 0.8765 - val_loss: 0.3234 - val_accuracy: 0.8659\n",
            "Epoch 71/75\n",
            "100/100 [==============================] - 135s 1s/step - loss: 0.2773 - accuracy: 0.8811 - val_loss: 0.3645 - val_accuracy: 0.8472\n",
            "Epoch 72/75\n",
            "100/100 [==============================] - 135s 1s/step - loss: 0.2757 - accuracy: 0.8827 - val_loss: 0.3300 - val_accuracy: 0.8632\n",
            "Epoch 73/75\n",
            "100/100 [==============================] - 135s 1s/step - loss: 0.2726 - accuracy: 0.8852 - val_loss: 0.3317 - val_accuracy: 0.8655\n",
            "Epoch 74/75\n",
            "100/100 [==============================] - 135s 1s/step - loss: 0.2737 - accuracy: 0.8860 - val_loss: 0.3210 - val_accuracy: 0.8668\n",
            "Epoch 75/75\n",
            "100/100 [==============================] - 135s 1s/step - loss: 0.2711 - accuracy: 0.8886 - val_loss: 0.3285 - val_accuracy: 0.8597\n"
          ],
          "name": "stdout"
        }
      ]
    },
    {
      "cell_type": "code",
      "metadata": {
        "id": "Q4Jph-dclKKY",
        "outputId": "77233560-39e6-4316-fd18-37b315edd545",
        "colab": {
          "base_uri": "https://localhost:8080/",
          "height": 278
        }
      },
      "source": [
        "plot_loss(history_base_model)"
      ],
      "execution_count": null,
      "outputs": [
        {
          "output_type": "display_data",
          "data": {
            "image/png": "[encoded data removed]",
            "text/plain": [
              "<Figure size 432x288 with 1 Axes>"
            ]
          },
          "metadata": {
            "tags": [],
            "needs_background": "light"
          }
        }
      ]
    },
    {
      "cell_type": "markdown",
      "metadata": {
        "id": "usffaMuAzS3t"
      },
      "source": [
        "Didapat pada epoch ke 66 akurasi tertinggi dan validation loss terendah. Dimana:\n",
        "\n",
        "Epoch 66/75\n",
        "100/100 [==============================] - 135s 1s/step - loss: 0.2862 - accuracy: 0.8759 - val_loss: 0.3180 - val_accuracy: 0.8641"
      ]
    },
    {
      "cell_type": "markdown",
      "metadata": {
        "id": "i598kWxnEYYg"
      },
      "source": [
        "# Jawaban 2"
      ]
    },
    {
      "cell_type": "markdown",
      "metadata": {
        "id": "iE3h_NRIEZcv"
      },
      "source": [
        "# Modeling"
      ]
    },
    {
      "cell_type": "markdown",
      "metadata": {
        "id": "IPR6yauAyDXc"
      },
      "source": [
        "Dengan 4 layer convo(32,64,128,128 filter) dan 4 max pooling. FC layer dengan 2 hidden layer(128 neuron)"
      ]
    },
    {
      "cell_type": "code",
      "metadata": {
        "id": "kcZJmniYEY6_",
        "outputId": "e1428d7d-6e86-49cf-cbd1-93931ee37ca3",
        "colab": {
          "base_uri": "https://localhost:8080/",
          "height": 585
        }
      },
      "source": [
        "model = Sequential()\n",
        "model.add(Conv2D(32, (3, 3), activation='relu', kernel_initializer='he_uniform', padding='same', input_shape=(200, 200, 3)))\n",
        "model.add(MaxPooling2D((2, 2)))\n",
        "\n",
        "model.add(Conv2D(64, (3, 3), activation='relu', kernel_initializer='he_uniform', padding='same', input_shape=(200, 200, 3)))\n",
        "model.add(MaxPooling2D((2, 2)))\n",
        "\n",
        "model.add(Conv2D(128, (3, 3), activation='relu', kernel_initializer='he_uniform', padding='same', input_shape=(200, 200, 3)))\n",
        "model.add(MaxPooling2D((2, 2)))\n",
        "\n",
        "model.add(Conv2D(128, (3, 3), activation='relu', kernel_initializer='he_uniform', padding='same', input_shape=(200, 200, 3)))\n",
        "model.add(MaxPooling2D((2, 2)))\n",
        "\n",
        "model.add(Flatten())\n",
        "\n",
        "model.add(Dense(128, activation='relu', kernel_initializer='he_uniform'))\n",
        "model.add(Dense(128, activation='relu', kernel_initializer='he_uniform'))\n",
        "model.add(Dense(1, activation='sigmoid'))\n",
        "\n",
        "opt = SGD(lr=0.001, momentum=0.9)\n",
        "\n",
        "model.compile(optimizer=opt, loss='binary_crossentropy', metrics=['accuracy'])\n",
        "\n",
        "model.summary()"
      ],
      "execution_count": null,
      "outputs": [
        {
          "output_type": "stream",
          "text": [
            "Model: \"sequential\"\n",
            "_________________________________________________________________\n",
            "Layer (type)                 Output Shape              Param #   \n",
            "=================================================================\n",
            "conv2d (Conv2D)              (None, 200, 200, 32)      896       \n",
            "_________________________________________________________________\n",
            "max_pooling2d (MaxPooling2D) (None, 100, 100, 32)      0         \n",
            "_________________________________________________________________\n",
            "conv2d_1 (Conv2D)            (None, 100, 100, 64)      18496     \n",
            "_________________________________________________________________\n",
            "max_pooling2d_1 (MaxPooling2 (None, 50, 50, 64)        0         \n",
            "_________________________________________________________________\n",
            "conv2d_2 (Conv2D)            (None, 50, 50, 128)       73856     \n",
            "_________________________________________________________________\n",
            "max_pooling2d_2 (MaxPooling2 (None, 25, 25, 128)       0         \n",
            "_________________________________________________________________\n",
            "conv2d_3 (Conv2D)            (None, 25, 25, 128)       147584    \n",
            "_________________________________________________________________\n",
            "max_pooling2d_3 (MaxPooling2 (None, 12, 12, 128)       0         \n",
            "_________________________________________________________________\n",
            "flatten (Flatten)            (None, 18432)             0         \n",
            "_________________________________________________________________\n",
            "dense (Dense)                (None, 128)               2359424   \n",
            "_________________________________________________________________\n",
            "dense_1 (Dense)              (None, 128)               16512     \n",
            "_________________________________________________________________\n",
            "dense_2 (Dense)              (None, 1)                 129       \n",
            "=================================================================\n",
            "Total params: 2,616,897\n",
            "Trainable params: 2,616,897\n",
            "Non-trainable params: 0\n",
            "_________________________________________________________________\n"
          ],
          "name": "stdout"
        }
      ]
    },
    {
      "cell_type": "markdown",
      "metadata": {
        "id": "fKYSCUPJyZE8"
      },
      "source": [
        "Preprocessing dengan width_shift_range=0.1 dan height_shift_range=0.1"
      ]
    },
    {
      "cell_type": "code",
      "metadata": {
        "id": "BVcXrpYuFDix",
        "outputId": "5867aa86-a49b-49f7-8c8e-9718e4590bb0",
        "colab": {
          "base_uri": "https://localhost:8080/",
          "height": 52
        }
      },
      "source": [
        "dataset_dir = '/content/'\n",
        "\n",
        "train_datagen = ImageDataGenerator(rescale=1.0/255.0, width_shift_range=0.1, height_shift_range=0.1, horizontal_flip=True)\n",
        "test_datagen = ImageDataGenerator(rescale=1.0/255.0)\n",
        "\n",
        "train_iterator = train_datagen.flow_from_directory(os.path.join(dataset_dir, 'train'), class_mode='binary', batch_size=128, target_size=(200, 200))\n",
        "test_iterator = test_datagen.flow_from_directory(os.path.join(dataset_dir, 'test'), class_mode='binary', batch_size=128, target_size=(200, 200))"
      ],
      "execution_count": null,
      "outputs": [
        {
          "output_type": "stream",
          "text": [
            "Found 12749 images belonging to 2 classes.\n",
            "Found 2252 images belonging to 2 classes.\n"
          ],
          "name": "stdout"
        }
      ]
    },
    {
      "cell_type": "code",
      "metadata": {
        "id": "I2sTMkLWFGO_",
        "outputId": "e20284a2-65dc-4903-8f04-100344803842",
        "colab": {
          "base_uri": "https://localhost:8080/",
          "height": 1000
        }
      },
      "source": [
        "history_base_model = model.fit_generator(train_iterator, steps_per_epoch=len(train_iterator), validation_data=test_iterator, validation_steps=len(test_iterator), epochs=75)"
      ],
      "execution_count": null,
      "outputs": [
        {
          "output_type": "stream",
          "text": [
            "WARNING:tensorflow:From <ipython-input-6-97d030b73ef6>:1: Model.fit_generator (from tensorflow.python.keras.engine.training) is deprecated and will be removed in a future version.\n",
            "Instructions for updating:\n",
            "Please use Model.fit, which supports generators.\n",
            "Epoch 1/75\n",
            "  2/100 [..............................] - ETA: 7s - loss: 0.7282 - accuracy: 0.4766WARNING:tensorflow:Callbacks method `on_train_batch_end` is slow compared to the batch time (batch time: 0.0488s vs `on_train_batch_end` time: 0.1135s). Check your callbacks.\n",
            "100/100 [==============================] - 132s 1s/step - loss: 0.6815 - accuracy: 0.5684 - val_loss: 0.6379 - val_accuracy: 0.6408\n",
            "Epoch 2/75\n",
            "100/100 [==============================] - 133s 1s/step - loss: 0.6581 - accuracy: 0.6044 - val_loss: 0.6239 - val_accuracy: 0.6599\n",
            "Epoch 3/75\n",
            "100/100 [==============================] - 134s 1s/step - loss: 0.6325 - accuracy: 0.6430 - val_loss: 0.5919 - val_accuracy: 0.6790\n",
            "Epoch 4/75\n",
            "100/100 [==============================] - 135s 1s/step - loss: 0.6184 - accuracy: 0.6510 - val_loss: 0.5872 - val_accuracy: 0.6874\n",
            "Epoch 5/75\n",
            "100/100 [==============================] - 134s 1s/step - loss: 0.6018 - accuracy: 0.6724 - val_loss: 0.6208 - val_accuracy: 0.6359\n",
            "Epoch 6/75\n",
            "100/100 [==============================] - 134s 1s/step - loss: 0.5873 - accuracy: 0.6855 - val_loss: 0.5445 - val_accuracy: 0.7207\n",
            "Epoch 7/75\n",
            "100/100 [==============================] - 135s 1s/step - loss: 0.5897 - accuracy: 0.6833 - val_loss: 0.5534 - val_accuracy: 0.6998\n",
            "Epoch 8/75\n",
            "100/100 [==============================] - 136s 1s/step - loss: 0.5648 - accuracy: 0.7051 - val_loss: 0.5606 - val_accuracy: 0.6874\n",
            "Epoch 9/75\n",
            "100/100 [==============================] - 133s 1s/step - loss: 0.5489 - accuracy: 0.7209 - val_loss: 0.5626 - val_accuracy: 0.6874\n",
            "Epoch 10/75\n",
            "100/100 [==============================] - 131s 1s/step - loss: 0.5467 - accuracy: 0.7223 - val_loss: 0.5054 - val_accuracy: 0.7491\n",
            "Epoch 11/75\n",
            "100/100 [==============================] - 133s 1s/step - loss: 0.5350 - accuracy: 0.7344 - val_loss: 0.5288 - val_accuracy: 0.7229\n",
            "Epoch 12/75\n",
            "100/100 [==============================] - 131s 1s/step - loss: 0.5224 - accuracy: 0.7426 - val_loss: 0.4920 - val_accuracy: 0.7549\n",
            "Epoch 13/75\n",
            "100/100 [==============================] - 135s 1s/step - loss: 0.5123 - accuracy: 0.7508 - val_loss: 0.4858 - val_accuracy: 0.7655\n",
            "Epoch 14/75\n",
            "100/100 [==============================] - 131s 1s/step - loss: 0.5036 - accuracy: 0.7555 - val_loss: 0.5016 - val_accuracy: 0.7620\n",
            "Epoch 15/75\n",
            "100/100 [==============================] - 131s 1s/step - loss: 0.5042 - accuracy: 0.7521 - val_loss: 0.4781 - val_accuracy: 0.7651\n",
            "Epoch 16/75\n",
            "100/100 [==============================] - 133s 1s/step - loss: 0.4936 - accuracy: 0.7643 - val_loss: 0.5503 - val_accuracy: 0.7145\n",
            "Epoch 17/75\n",
            "100/100 [==============================] - 130s 1s/step - loss: 0.4855 - accuracy: 0.7641 - val_loss: 0.4706 - val_accuracy: 0.7753\n",
            "Epoch 18/75\n",
            "100/100 [==============================] - 130s 1s/step - loss: 0.4881 - accuracy: 0.7641 - val_loss: 0.4638 - val_accuracy: 0.7726\n",
            "Epoch 19/75\n",
            "100/100 [==============================] - 130s 1s/step - loss: 0.4768 - accuracy: 0.7725 - val_loss: 0.4552 - val_accuracy: 0.7904\n",
            "Epoch 20/75\n",
            "100/100 [==============================] - 129s 1s/step - loss: 0.4641 - accuracy: 0.7783 - val_loss: 0.4478 - val_accuracy: 0.7913\n",
            "Epoch 21/75\n",
            "100/100 [==============================] - 129s 1s/step - loss: 0.4565 - accuracy: 0.7845 - val_loss: 0.4524 - val_accuracy: 0.7873\n",
            "Epoch 22/75\n",
            "100/100 [==============================] - 129s 1s/step - loss: 0.4541 - accuracy: 0.7882 - val_loss: 0.4471 - val_accuracy: 0.7900\n",
            "Epoch 23/75\n",
            "100/100 [==============================] - 129s 1s/step - loss: 0.4492 - accuracy: 0.7936 - val_loss: 0.4261 - val_accuracy: 0.7953\n",
            "Epoch 24/75\n",
            "100/100 [==============================] - 129s 1s/step - loss: 0.4461 - accuracy: 0.7930 - val_loss: 0.4330 - val_accuracy: 0.8006\n",
            "Epoch 25/75\n",
            "100/100 [==============================] - 129s 1s/step - loss: 0.4430 - accuracy: 0.7932 - val_loss: 0.4276 - val_accuracy: 0.8033\n",
            "Epoch 26/75\n",
            "100/100 [==============================] - 129s 1s/step - loss: 0.4326 - accuracy: 0.8005 - val_loss: 0.4459 - val_accuracy: 0.8011\n",
            "Epoch 27/75\n",
            "100/100 [==============================] - 129s 1s/step - loss: 0.4319 - accuracy: 0.8012 - val_loss: 0.4189 - val_accuracy: 0.8046\n",
            "Epoch 28/75\n",
            "100/100 [==============================] - 129s 1s/step - loss: 0.4271 - accuracy: 0.8069 - val_loss: 0.4158 - val_accuracy: 0.8020\n",
            "Epoch 29/75\n",
            "100/100 [==============================] - 129s 1s/step - loss: 0.4179 - accuracy: 0.8081 - val_loss: 0.4206 - val_accuracy: 0.8051\n",
            "Epoch 30/75\n",
            "100/100 [==============================] - 129s 1s/step - loss: 0.4103 - accuracy: 0.8159 - val_loss: 0.4159 - val_accuracy: 0.8033\n",
            "Epoch 31/75\n",
            "100/100 [==============================] - 129s 1s/step - loss: 0.4140 - accuracy: 0.8102 - val_loss: 0.4146 - val_accuracy: 0.8113\n",
            "Epoch 32/75\n",
            "100/100 [==============================] - 129s 1s/step - loss: 0.4098 - accuracy: 0.8124 - val_loss: 0.4072 - val_accuracy: 0.8148\n",
            "Epoch 33/75\n",
            "100/100 [==============================] - 129s 1s/step - loss: 0.3978 - accuracy: 0.8216 - val_loss: 0.3862 - val_accuracy: 0.8313\n",
            "Epoch 34/75\n",
            "100/100 [==============================] - 129s 1s/step - loss: 0.3991 - accuracy: 0.8191 - val_loss: 0.4023 - val_accuracy: 0.8188\n",
            "Epoch 35/75\n",
            "100/100 [==============================] - 129s 1s/step - loss: 0.3901 - accuracy: 0.8226 - val_loss: 0.3761 - val_accuracy: 0.8339\n",
            "Epoch 36/75\n",
            "100/100 [==============================] - 129s 1s/step - loss: 0.3911 - accuracy: 0.8267 - val_loss: 0.3800 - val_accuracy: 0.8330\n",
            "Epoch 37/75\n",
            "100/100 [==============================] - 129s 1s/step - loss: 0.3877 - accuracy: 0.8248 - val_loss: 0.3921 - val_accuracy: 0.8237\n",
            "Epoch 38/75\n",
            "100/100 [==============================] - 129s 1s/step - loss: 0.3865 - accuracy: 0.8267 - val_loss: 0.3955 - val_accuracy: 0.8277\n",
            "Epoch 39/75\n",
            "100/100 [==============================] - 129s 1s/step - loss: 0.3822 - accuracy: 0.8249 - val_loss: 0.3745 - val_accuracy: 0.8304\n",
            "Epoch 40/75\n",
            "100/100 [==============================] - 129s 1s/step - loss: 0.3742 - accuracy: 0.8328 - val_loss: 0.3780 - val_accuracy: 0.8348\n",
            "Epoch 41/75\n",
            "100/100 [==============================] - 129s 1s/step - loss: 0.3788 - accuracy: 0.8309 - val_loss: 0.3721 - val_accuracy: 0.8401\n",
            "Epoch 42/75\n",
            "100/100 [==============================] - 129s 1s/step - loss: 0.3678 - accuracy: 0.8371 - val_loss: 0.3599 - val_accuracy: 0.8419\n",
            "Epoch 43/75\n",
            "100/100 [==============================] - 129s 1s/step - loss: 0.3723 - accuracy: 0.8347 - val_loss: 0.3717 - val_accuracy: 0.8370\n",
            "Epoch 44/75\n",
            "100/100 [==============================] - 129s 1s/step - loss: 0.3601 - accuracy: 0.8388 - val_loss: 0.3601 - val_accuracy: 0.8477\n",
            "Epoch 45/75\n",
            "100/100 [==============================] - 129s 1s/step - loss: 0.3586 - accuracy: 0.8417 - val_loss: 0.3749 - val_accuracy: 0.8450\n",
            "Epoch 46/75\n",
            "100/100 [==============================] - 129s 1s/step - loss: 0.3548 - accuracy: 0.8427 - val_loss: 0.3505 - val_accuracy: 0.8552\n",
            "Epoch 47/75\n",
            "100/100 [==============================] - 129s 1s/step - loss: 0.3536 - accuracy: 0.8445 - val_loss: 0.3904 - val_accuracy: 0.8348\n",
            "Epoch 48/75\n",
            "100/100 [==============================] - 129s 1s/step - loss: 0.3428 - accuracy: 0.8483 - val_loss: 0.3562 - val_accuracy: 0.8486\n",
            "Epoch 49/75\n",
            "100/100 [==============================] - 129s 1s/step - loss: 0.3451 - accuracy: 0.8479 - val_loss: 0.3707 - val_accuracy: 0.8361\n",
            "Epoch 50/75\n",
            "100/100 [==============================] - 129s 1s/step - loss: 0.3447 - accuracy: 0.8481 - val_loss: 0.3391 - val_accuracy: 0.8548\n",
            "Epoch 51/75\n",
            "100/100 [==============================] - 129s 1s/step - loss: 0.3445 - accuracy: 0.8503 - val_loss: 0.3422 - val_accuracy: 0.8535\n",
            "Epoch 52/75\n",
            "100/100 [==============================] - 129s 1s/step - loss: 0.3274 - accuracy: 0.8594 - val_loss: 0.3445 - val_accuracy: 0.8477\n",
            "Epoch 53/75\n",
            "100/100 [==============================] - 129s 1s/step - loss: 0.3341 - accuracy: 0.8497 - val_loss: 0.3561 - val_accuracy: 0.8504\n",
            "Epoch 54/75\n",
            "100/100 [==============================] - 139s 1s/step - loss: 0.3364 - accuracy: 0.8518 - val_loss: 0.3391 - val_accuracy: 0.8597\n",
            "Epoch 55/75\n",
            "100/100 [==============================] - 143s 1s/step - loss: 0.3395 - accuracy: 0.8483 - val_loss: 0.3715 - val_accuracy: 0.8384\n",
            "Epoch 56/75\n",
            "100/100 [==============================] - 139s 1s/step - loss: 0.3301 - accuracy: 0.8569 - val_loss: 0.3245 - val_accuracy: 0.8650\n",
            "Epoch 57/75\n",
            "100/100 [==============================] - 147s 1s/step - loss: 0.3208 - accuracy: 0.8601 - val_loss: 0.3297 - val_accuracy: 0.8552\n",
            "Epoch 58/75\n",
            "100/100 [==============================] - 142s 1s/step - loss: 0.3183 - accuracy: 0.8630 - val_loss: 0.3899 - val_accuracy: 0.8348\n",
            "Epoch 59/75\n",
            "100/100 [==============================] - 142s 1s/step - loss: 0.3279 - accuracy: 0.8572 - val_loss: 0.3377 - val_accuracy: 0.8535\n",
            "Epoch 60/75\n",
            "100/100 [==============================] - 151s 2s/step - loss: 0.3170 - accuracy: 0.8624 - val_loss: 0.3452 - val_accuracy: 0.8517\n",
            "Epoch 61/75\n",
            "100/100 [==============================] - 153s 2s/step - loss: 0.3106 - accuracy: 0.8650 - val_loss: 0.3432 - val_accuracy: 0.8566\n",
            "Epoch 62/75\n",
            "100/100 [==============================] - 154s 2s/step - loss: 0.3143 - accuracy: 0.8623 - val_loss: 0.3347 - val_accuracy: 0.8570\n",
            "Epoch 63/75\n",
            "100/100 [==============================] - 155s 2s/step - loss: 0.3114 - accuracy: 0.8649 - val_loss: 0.3284 - val_accuracy: 0.8628\n",
            "Epoch 64/75\n",
            "100/100 [==============================] - 154s 2s/step - loss: 0.3038 - accuracy: 0.8667 - val_loss: 0.3380 - val_accuracy: 0.8583\n",
            "Epoch 65/75\n",
            "100/100 [==============================] - 153s 2s/step - loss: 0.2951 - accuracy: 0.8725 - val_loss: 0.3402 - val_accuracy: 0.8557\n",
            "Epoch 66/75\n",
            "100/100 [==============================] - 151s 2s/step - loss: 0.3009 - accuracy: 0.8694 - val_loss: 0.3387 - val_accuracy: 0.8552\n",
            "Epoch 67/75\n",
            "100/100 [==============================] - 152s 2s/step - loss: 0.3002 - accuracy: 0.8691 - val_loss: 0.3311 - val_accuracy: 0.8615\n",
            "Epoch 68/75\n",
            "100/100 [==============================] - 152s 2s/step - loss: 0.3004 - accuracy: 0.8707 - val_loss: 0.3200 - val_accuracy: 0.8655\n",
            "Epoch 69/75\n",
            "100/100 [==============================] - 152s 2s/step - loss: 0.2989 - accuracy: 0.8736 - val_loss: 0.3328 - val_accuracy: 0.8570\n",
            "Epoch 70/75\n",
            "100/100 [==============================] - 152s 2s/step - loss: 0.2876 - accuracy: 0.8782 - val_loss: 0.3413 - val_accuracy: 0.8552\n",
            "Epoch 71/75\n",
            "100/100 [==============================] - 152s 2s/step - loss: 0.2912 - accuracy: 0.8765 - val_loss: 0.3500 - val_accuracy: 0.8486\n",
            "Epoch 72/75\n",
            "100/100 [==============================] - 153s 2s/step - loss: 0.2857 - accuracy: 0.8773 - val_loss: 0.3265 - val_accuracy: 0.8610\n",
            "Epoch 73/75\n",
            "100/100 [==============================] - 153s 2s/step - loss: 0.2825 - accuracy: 0.8772 - val_loss: 0.3477 - val_accuracy: 0.8552\n",
            "Epoch 74/75\n",
            "100/100 [==============================] - 153s 2s/step - loss: 0.2846 - accuracy: 0.8791 - val_loss: 0.3059 - val_accuracy: 0.8703\n",
            "Epoch 75/75\n",
            "100/100 [==============================] - 153s 2s/step - loss: 0.2747 - accuracy: 0.8853 - val_loss: 0.3321 - val_accuracy: 0.8579\n"
          ],
          "name": "stdout"
        }
      ]
    },
    {
      "cell_type": "code",
      "metadata": {
        "id": "9DV_bAIvFIIP",
        "outputId": "48d34bcb-1a48-400b-ce1f-fd7043e6c92b",
        "colab": {
          "base_uri": "https://localhost:8080/",
          "height": 282
        }
      },
      "source": [
        "plot_loss(history_base_model)"
      ],
      "execution_count": null,
      "outputs": [
        {
          "output_type": "display_data",
          "data": {
            "image/png": "[encoded data removed]",
            "text/plain": [
              "<Figure size 432x288 with 1 Axes>"
            ]
          },
          "metadata": {
            "tags": [],
            "needs_background": "light"
          }
        }
      ]
    },
    {
      "cell_type": "markdown",
      "metadata": {
        "id": "N0J0inJDxvT9"
      },
      "source": [
        "Didapat pada epoch ke 74 akurasi tertinggi dan validation loss terendah, dimana:\n",
        "\n",
        "Epoch 74/75\n",
        "100/100 [==============================] - 153s 2s/step - loss: 0.2846 - accuracy: 0.8791 - val_loss: 0.3059 - val_accuracy: 0.8703"
      ]
    },
    {
      "cell_type": "markdown",
      "metadata": {
        "id": "nzixWMMMwQ3m"
      },
      "source": [
        "# Kesimpulan\n",
        "\n",
        "Penambahan 1 layer convo(128 filtering) dan max pooling, serta 1 layer hidden dengan 128 neuron lebih meningkatkan akurasi dan mengurangi akurasi loss pada model"
      ]
    }
  ]
}