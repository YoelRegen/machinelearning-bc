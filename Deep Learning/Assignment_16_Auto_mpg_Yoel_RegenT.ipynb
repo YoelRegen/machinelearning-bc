{
  "nbformat": 4,
  "nbformat_minor": 0,
  "metadata": {
    "colab": {
      "name": "Assignment_16_Auto-mpg_Yoel_RegenT.ipynb",
      "provenance": [],
      "collapsed_sections": []
    },
    "kernelspec": {
      "name": "python3",
      "display_name": "Python 3"
    },
    "accelerator": "GPU"
  },
  "cells": [
    {
      "cell_type": "markdown",
      "metadata": {
        "id": "DCrEstfofAsg"
      },
      "source": [
        "# Import Libraries dan Read dataset"
      ]
    },
    {
      "cell_type": "code",
      "metadata": {
        "id": "f6Q3OyLKRLIu"
      },
      "source": [
        "import pandas as pd\n",
        "import numpy as np\n",
        "import matplotlib.pyplot as plt\n",
        "import os\n",
        "import seaborn as sb"
      ],
      "execution_count": 1,
      "outputs": []
    },
    {
      "cell_type": "code",
      "metadata": {
        "id": "hUpP3zrITRlr",
        "outputId": "e7899dd4-1e6d-4ec5-c591-f771509b6fc8",
        "colab": {
          "base_uri": "https://localhost:8080/",
          "height": 287
        }
      },
      "source": [
        "dataset = pd.read_csv('/content/drive/My Drive/BCML/auto-mpg.csv')\n",
        "\n",
        "dataset.describe()"
      ],
      "execution_count": 2,
      "outputs": [
        {
          "output_type": "execute_result",
          "data": {
            "text/html": [
              "<div>\n",
              "<style scoped>\n",
              "    .dataframe tbody tr th:only-of-type {\n",
              "        vertical-align: middle;\n",
              "    }\n",
              "\n",
              "    .dataframe tbody tr th {\n",
              "        vertical-align: top;\n",
              "    }\n",
              "\n",
              "    .dataframe thead th {\n",
              "        text-align: right;\n",
              "    }\n",
              "</style>\n",
              "<table border=\"1\" class=\"dataframe\">\n",
              "  <thead>\n",
              "    <tr style=\"text-align: right;\">\n",
              "      <th></th>\n",
              "      <th>cylinders</th>\n",
              "      <th>displacement</th>\n",
              "      <th>weight</th>\n",
              "      <th>acceleration</th>\n",
              "      <th>model year</th>\n",
              "      <th>origin</th>\n",
              "      <th>mpg</th>\n",
              "    </tr>\n",
              "  </thead>\n",
              "  <tbody>\n",
              "    <tr>\n",
              "      <th>count</th>\n",
              "      <td>398.000000</td>\n",
              "      <td>398.000000</td>\n",
              "      <td>398.000000</td>\n",
              "      <td>398.000000</td>\n",
              "      <td>398.000000</td>\n",
              "      <td>398.000000</td>\n",
              "      <td>398.000000</td>\n",
              "    </tr>\n",
              "    <tr>\n",
              "      <th>mean</th>\n",
              "      <td>5.454774</td>\n",
              "      <td>193.425879</td>\n",
              "      <td>2970.424623</td>\n",
              "      <td>15.568090</td>\n",
              "      <td>76.010050</td>\n",
              "      <td>1.572864</td>\n",
              "      <td>23.514573</td>\n",
              "    </tr>\n",
              "    <tr>\n",
              "      <th>std</th>\n",
              "      <td>1.701004</td>\n",
              "      <td>104.269838</td>\n",
              "      <td>846.841774</td>\n",
              "      <td>2.757689</td>\n",
              "      <td>3.697627</td>\n",
              "      <td>0.802055</td>\n",
              "      <td>7.815984</td>\n",
              "    </tr>\n",
              "    <tr>\n",
              "      <th>min</th>\n",
              "      <td>3.000000</td>\n",
              "      <td>68.000000</td>\n",
              "      <td>1613.000000</td>\n",
              "      <td>8.000000</td>\n",
              "      <td>70.000000</td>\n",
              "      <td>1.000000</td>\n",
              "      <td>9.000000</td>\n",
              "    </tr>\n",
              "    <tr>\n",
              "      <th>25%</th>\n",
              "      <td>4.000000</td>\n",
              "      <td>104.250000</td>\n",
              "      <td>2223.750000</td>\n",
              "      <td>13.825000</td>\n",
              "      <td>73.000000</td>\n",
              "      <td>1.000000</td>\n",
              "      <td>17.500000</td>\n",
              "    </tr>\n",
              "    <tr>\n",
              "      <th>50%</th>\n",
              "      <td>4.000000</td>\n",
              "      <td>148.500000</td>\n",
              "      <td>2803.500000</td>\n",
              "      <td>15.500000</td>\n",
              "      <td>76.000000</td>\n",
              "      <td>1.000000</td>\n",
              "      <td>23.000000</td>\n",
              "    </tr>\n",
              "    <tr>\n",
              "      <th>75%</th>\n",
              "      <td>8.000000</td>\n",
              "      <td>262.000000</td>\n",
              "      <td>3608.000000</td>\n",
              "      <td>17.175000</td>\n",
              "      <td>79.000000</td>\n",
              "      <td>2.000000</td>\n",
              "      <td>29.000000</td>\n",
              "    </tr>\n",
              "    <tr>\n",
              "      <th>max</th>\n",
              "      <td>8.000000</td>\n",
              "      <td>455.000000</td>\n",
              "      <td>5140.000000</td>\n",
              "      <td>24.800000</td>\n",
              "      <td>82.000000</td>\n",
              "      <td>3.000000</td>\n",
              "      <td>46.600000</td>\n",
              "    </tr>\n",
              "  </tbody>\n",
              "</table>\n",
              "</div>"
            ],
            "text/plain": [
              "        cylinders  displacement  ...      origin         mpg\n",
              "count  398.000000    398.000000  ...  398.000000  398.000000\n",
              "mean     5.454774    193.425879  ...    1.572864   23.514573\n",
              "std      1.701004    104.269838  ...    0.802055    7.815984\n",
              "min      3.000000     68.000000  ...    1.000000    9.000000\n",
              "25%      4.000000    104.250000  ...    1.000000   17.500000\n",
              "50%      4.000000    148.500000  ...    1.000000   23.000000\n",
              "75%      8.000000    262.000000  ...    2.000000   29.000000\n",
              "max      8.000000    455.000000  ...    3.000000   46.600000\n",
              "\n",
              "[8 rows x 7 columns]"
            ]
          },
          "metadata": {
            "tags": []
          },
          "execution_count": 2
        }
      ]
    },
    {
      "cell_type": "markdown",
      "metadata": {
        "id": "kx8efhylfLHv"
      },
      "source": [
        "# EDA dan Data Cleaning"
      ]
    },
    {
      "cell_type": "code",
      "metadata": {
        "id": "xWmX5btATRjP",
        "outputId": "186dcc69-e76e-4f8a-cf54-d815ddebc864",
        "colab": {
          "base_uri": "https://localhost:8080/",
          "height": 301
        }
      },
      "source": [
        "dataset.info()"
      ],
      "execution_count": 3,
      "outputs": [
        {
          "output_type": "stream",
          "text": [
            "<class 'pandas.core.frame.DataFrame'>\n",
            "RangeIndex: 398 entries, 0 to 397\n",
            "Data columns (total 9 columns):\n",
            " #   Column        Non-Null Count  Dtype  \n",
            "---  ------        --------------  -----  \n",
            " 0   cylinders     398 non-null    int64  \n",
            " 1   displacement  398 non-null    float64\n",
            " 2   horsepower    398 non-null    object \n",
            " 3   weight        398 non-null    int64  \n",
            " 4   acceleration  398 non-null    float64\n",
            " 5   model year    398 non-null    int64  \n",
            " 6   origin        398 non-null    int64  \n",
            " 7   car name      398 non-null    object \n",
            " 8   mpg           398 non-null    float64\n",
            "dtypes: float64(3), int64(4), object(2)\n",
            "memory usage: 28.1+ KB\n"
          ],
          "name": "stdout"
        }
      ]
    },
    {
      "cell_type": "code",
      "metadata": {
        "id": "1FwiWupxWtpz",
        "outputId": "369df9a2-c55b-4ad4-d099-146a7e09463a",
        "colab": {
          "base_uri": "https://localhost:8080/",
          "height": 283
        }
      },
      "source": [
        "# Drop kolom\n",
        "dataset.drop(['car name'], axis=1, inplace=True)\n",
        "dataset.info()"
      ],
      "execution_count": 4,
      "outputs": [
        {
          "output_type": "stream",
          "text": [
            "<class 'pandas.core.frame.DataFrame'>\n",
            "RangeIndex: 398 entries, 0 to 397\n",
            "Data columns (total 8 columns):\n",
            " #   Column        Non-Null Count  Dtype  \n",
            "---  ------        --------------  -----  \n",
            " 0   cylinders     398 non-null    int64  \n",
            " 1   displacement  398 non-null    float64\n",
            " 2   horsepower    398 non-null    object \n",
            " 3   weight        398 non-null    int64  \n",
            " 4   acceleration  398 non-null    float64\n",
            " 5   model year    398 non-null    int64  \n",
            " 6   origin        398 non-null    int64  \n",
            " 7   mpg           398 non-null    float64\n",
            "dtypes: float64(3), int64(4), object(1)\n",
            "memory usage: 25.0+ KB\n"
          ],
          "name": "stdout"
        }
      ]
    },
    {
      "cell_type": "code",
      "metadata": {
        "id": "2K16VGWgajQZ",
        "outputId": "e443b402-0210-4e79-dbde-c24a140261f4",
        "colab": {
          "base_uri": "https://localhost:8080/",
          "height": 197
        }
      },
      "source": [
        "dataset.head()"
      ],
      "execution_count": 5,
      "outputs": [
        {
          "output_type": "execute_result",
          "data": {
            "text/html": [
              "<div>\n",
              "<style scoped>\n",
              "    .dataframe tbody tr th:only-of-type {\n",
              "        vertical-align: middle;\n",
              "    }\n",
              "\n",
              "    .dataframe tbody tr th {\n",
              "        vertical-align: top;\n",
              "    }\n",
              "\n",
              "    .dataframe thead th {\n",
              "        text-align: right;\n",
              "    }\n",
              "</style>\n",
              "<table border=\"1\" class=\"dataframe\">\n",
              "  <thead>\n",
              "    <tr style=\"text-align: right;\">\n",
              "      <th></th>\n",
              "      <th>cylinders</th>\n",
              "      <th>displacement</th>\n",
              "      <th>horsepower</th>\n",
              "      <th>weight</th>\n",
              "      <th>acceleration</th>\n",
              "      <th>model year</th>\n",
              "      <th>origin</th>\n",
              "      <th>mpg</th>\n",
              "    </tr>\n",
              "  </thead>\n",
              "  <tbody>\n",
              "    <tr>\n",
              "      <th>0</th>\n",
              "      <td>8</td>\n",
              "      <td>307.0</td>\n",
              "      <td>130</td>\n",
              "      <td>3504</td>\n",
              "      <td>12.0</td>\n",
              "      <td>70</td>\n",
              "      <td>1</td>\n",
              "      <td>18.0</td>\n",
              "    </tr>\n",
              "    <tr>\n",
              "      <th>1</th>\n",
              "      <td>8</td>\n",
              "      <td>350.0</td>\n",
              "      <td>165</td>\n",
              "      <td>3693</td>\n",
              "      <td>11.5</td>\n",
              "      <td>70</td>\n",
              "      <td>1</td>\n",
              "      <td>15.0</td>\n",
              "    </tr>\n",
              "    <tr>\n",
              "      <th>2</th>\n",
              "      <td>8</td>\n",
              "      <td>318.0</td>\n",
              "      <td>150</td>\n",
              "      <td>3436</td>\n",
              "      <td>11.0</td>\n",
              "      <td>70</td>\n",
              "      <td>1</td>\n",
              "      <td>18.0</td>\n",
              "    </tr>\n",
              "    <tr>\n",
              "      <th>3</th>\n",
              "      <td>8</td>\n",
              "      <td>304.0</td>\n",
              "      <td>150</td>\n",
              "      <td>3433</td>\n",
              "      <td>12.0</td>\n",
              "      <td>70</td>\n",
              "      <td>1</td>\n",
              "      <td>16.0</td>\n",
              "    </tr>\n",
              "    <tr>\n",
              "      <th>4</th>\n",
              "      <td>8</td>\n",
              "      <td>302.0</td>\n",
              "      <td>140</td>\n",
              "      <td>3449</td>\n",
              "      <td>10.5</td>\n",
              "      <td>70</td>\n",
              "      <td>1</td>\n",
              "      <td>17.0</td>\n",
              "    </tr>\n",
              "  </tbody>\n",
              "</table>\n",
              "</div>"
            ],
            "text/plain": [
              "   cylinders  displacement horsepower  ...  model year  origin   mpg\n",
              "0          8         307.0        130  ...          70       1  18.0\n",
              "1          8         350.0        165  ...          70       1  15.0\n",
              "2          8         318.0        150  ...          70       1  18.0\n",
              "3          8         304.0        150  ...          70       1  16.0\n",
              "4          8         302.0        140  ...          70       1  17.0\n",
              "\n",
              "[5 rows x 8 columns]"
            ]
          },
          "metadata": {
            "tags": []
          },
          "execution_count": 5
        }
      ]
    },
    {
      "cell_type": "code",
      "metadata": {
        "id": "O77F8BQvU6as"
      },
      "source": [
        "# Replace nilai \"?\" dengan None\n",
        "\n",
        "dataset.replace(\"?\", np.nan, inplace=True)"
      ],
      "execution_count": 6,
      "outputs": []
    },
    {
      "cell_type": "code",
      "metadata": {
        "id": "vmTz-F15Wacd",
        "outputId": "c0904e58-1fda-4124-f2c2-8a1476bfc266",
        "colab": {
          "base_uri": "https://localhost:8080/",
          "height": 176
        }
      },
      "source": [
        "dataset.isnull().sum().sort_values()"
      ],
      "execution_count": 7,
      "outputs": [
        {
          "output_type": "execute_result",
          "data": {
            "text/plain": [
              "cylinders       0\n",
              "displacement    0\n",
              "weight          0\n",
              "acceleration    0\n",
              "model year      0\n",
              "origin          0\n",
              "mpg             0\n",
              "horsepower      6\n",
              "dtype: int64"
            ]
          },
          "metadata": {
            "tags": []
          },
          "execution_count": 7
        }
      ]
    },
    {
      "cell_type": "code",
      "metadata": {
        "id": "qoswADgoF5Oh",
        "outputId": "c61c70bb-3a1e-4c0e-ded5-719aca34d5d5",
        "colab": {
          "base_uri": "https://localhost:8080/",
          "height": 230
        }
      },
      "source": [
        "dataset['horsepower'].value_counts()"
      ],
      "execution_count": 8,
      "outputs": [
        {
          "output_type": "execute_result",
          "data": {
            "text/plain": [
              "150    22\n",
              "90     20\n",
              "88     19\n",
              "110    18\n",
              "100    17\n",
              "       ..\n",
              "158     1\n",
              "94      1\n",
              "132     1\n",
              "137     1\n",
              "133     1\n",
              "Name: horsepower, Length: 93, dtype: int64"
            ]
          },
          "metadata": {
            "tags": []
          },
          "execution_count": 8
        }
      ]
    },
    {
      "cell_type": "code",
      "metadata": {
        "id": "HGNpSsV_ab8d",
        "outputId": "f1ed639f-90a9-454b-d6f0-701c1baa19e3",
        "colab": {
          "base_uri": "https://localhost:8080/",
          "height": 34
        }
      },
      "source": [
        "# Rata-rata\n",
        "avg_horsepower = dataset['horsepower'].astype('float').mean(axis=0)\n",
        "\n",
        "avg_horsepower"
      ],
      "execution_count": 9,
      "outputs": [
        {
          "output_type": "execute_result",
          "data": {
            "text/plain": [
              "104.46938775510205"
            ]
          },
          "metadata": {
            "tags": []
          },
          "execution_count": 9
        }
      ]
    },
    {
      "cell_type": "code",
      "metadata": {
        "id": "_SS-JHJ_bCIt",
        "outputId": "9c04b0b5-814b-4703-8c30-92a57e344491",
        "colab": {
          "base_uri": "https://localhost:8080/",
          "height": 197
        }
      },
      "source": [
        "# Replace data none dengan nilai rata-rata2\n",
        "dataset[\"horsepower\"].replace(np.nan, avg_horsepower, inplace=True)\n",
        "dataset.head()"
      ],
      "execution_count": 10,
      "outputs": [
        {
          "output_type": "execute_result",
          "data": {
            "text/html": [
              "<div>\n",
              "<style scoped>\n",
              "    .dataframe tbody tr th:only-of-type {\n",
              "        vertical-align: middle;\n",
              "    }\n",
              "\n",
              "    .dataframe tbody tr th {\n",
              "        vertical-align: top;\n",
              "    }\n",
              "\n",
              "    .dataframe thead th {\n",
              "        text-align: right;\n",
              "    }\n",
              "</style>\n",
              "<table border=\"1\" class=\"dataframe\">\n",
              "  <thead>\n",
              "    <tr style=\"text-align: right;\">\n",
              "      <th></th>\n",
              "      <th>cylinders</th>\n",
              "      <th>displacement</th>\n",
              "      <th>horsepower</th>\n",
              "      <th>weight</th>\n",
              "      <th>acceleration</th>\n",
              "      <th>model year</th>\n",
              "      <th>origin</th>\n",
              "      <th>mpg</th>\n",
              "    </tr>\n",
              "  </thead>\n",
              "  <tbody>\n",
              "    <tr>\n",
              "      <th>0</th>\n",
              "      <td>8</td>\n",
              "      <td>307.0</td>\n",
              "      <td>130</td>\n",
              "      <td>3504</td>\n",
              "      <td>12.0</td>\n",
              "      <td>70</td>\n",
              "      <td>1</td>\n",
              "      <td>18.0</td>\n",
              "    </tr>\n",
              "    <tr>\n",
              "      <th>1</th>\n",
              "      <td>8</td>\n",
              "      <td>350.0</td>\n",
              "      <td>165</td>\n",
              "      <td>3693</td>\n",
              "      <td>11.5</td>\n",
              "      <td>70</td>\n",
              "      <td>1</td>\n",
              "      <td>15.0</td>\n",
              "    </tr>\n",
              "    <tr>\n",
              "      <th>2</th>\n",
              "      <td>8</td>\n",
              "      <td>318.0</td>\n",
              "      <td>150</td>\n",
              "      <td>3436</td>\n",
              "      <td>11.0</td>\n",
              "      <td>70</td>\n",
              "      <td>1</td>\n",
              "      <td>18.0</td>\n",
              "    </tr>\n",
              "    <tr>\n",
              "      <th>3</th>\n",
              "      <td>8</td>\n",
              "      <td>304.0</td>\n",
              "      <td>150</td>\n",
              "      <td>3433</td>\n",
              "      <td>12.0</td>\n",
              "      <td>70</td>\n",
              "      <td>1</td>\n",
              "      <td>16.0</td>\n",
              "    </tr>\n",
              "    <tr>\n",
              "      <th>4</th>\n",
              "      <td>8</td>\n",
              "      <td>302.0</td>\n",
              "      <td>140</td>\n",
              "      <td>3449</td>\n",
              "      <td>10.5</td>\n",
              "      <td>70</td>\n",
              "      <td>1</td>\n",
              "      <td>17.0</td>\n",
              "    </tr>\n",
              "  </tbody>\n",
              "</table>\n",
              "</div>"
            ],
            "text/plain": [
              "   cylinders  displacement horsepower  ...  model year  origin   mpg\n",
              "0          8         307.0        130  ...          70       1  18.0\n",
              "1          8         350.0        165  ...          70       1  15.0\n",
              "2          8         318.0        150  ...          70       1  18.0\n",
              "3          8         304.0        150  ...          70       1  16.0\n",
              "4          8         302.0        140  ...          70       1  17.0\n",
              "\n",
              "[5 rows x 8 columns]"
            ]
          },
          "metadata": {
            "tags": []
          },
          "execution_count": 10
        }
      ]
    },
    {
      "cell_type": "code",
      "metadata": {
        "id": "J7pJqAQKbVdT",
        "outputId": "7b00a09e-4930-4472-c327-9463fd9af0e0",
        "colab": {
          "base_uri": "https://localhost:8080/",
          "height": 283
        }
      },
      "source": [
        "dataset.info()"
      ],
      "execution_count": 11,
      "outputs": [
        {
          "output_type": "stream",
          "text": [
            "<class 'pandas.core.frame.DataFrame'>\n",
            "RangeIndex: 398 entries, 0 to 397\n",
            "Data columns (total 8 columns):\n",
            " #   Column        Non-Null Count  Dtype  \n",
            "---  ------        --------------  -----  \n",
            " 0   cylinders     398 non-null    int64  \n",
            " 1   displacement  398 non-null    float64\n",
            " 2   horsepower    398 non-null    object \n",
            " 3   weight        398 non-null    int64  \n",
            " 4   acceleration  398 non-null    float64\n",
            " 5   model year    398 non-null    int64  \n",
            " 6   origin        398 non-null    int64  \n",
            " 7   mpg           398 non-null    float64\n",
            "dtypes: float64(3), int64(4), object(1)\n",
            "memory usage: 25.0+ KB\n"
          ],
          "name": "stdout"
        }
      ]
    },
    {
      "cell_type": "code",
      "metadata": {
        "id": "umbCPHhqbSTU",
        "outputId": "8630b777-d6ae-40ac-9eef-62ef7b4b9744",
        "colab": {
          "base_uri": "https://localhost:8080/",
          "height": 176
        }
      },
      "source": [
        "# Casting data\n",
        "dataset[[\"horsepower\"]] = dataset[[\"horsepower\"]].astype('int')\n",
        "\n",
        "dataset.dtypes"
      ],
      "execution_count": 12,
      "outputs": [
        {
          "output_type": "execute_result",
          "data": {
            "text/plain": [
              "cylinders         int64\n",
              "displacement    float64\n",
              "horsepower        int64\n",
              "weight            int64\n",
              "acceleration    float64\n",
              "model year        int64\n",
              "origin            int64\n",
              "mpg             float64\n",
              "dtype: object"
            ]
          },
          "metadata": {
            "tags": []
          },
          "execution_count": 12
        }
      ]
    },
    {
      "cell_type": "code",
      "metadata": {
        "id": "6E3OovhbTRg7",
        "outputId": "130c1a98-3bee-488d-b0d9-635066d3b95f",
        "colab": {
          "base_uri": "https://localhost:8080/",
          "height": 1000
        }
      },
      "source": [
        "dataset.hist(figsize=(18, 22), bins=50, xlabelsize=8, ylabelsize=8)"
      ],
      "execution_count": 13,
      "outputs": [
        {
          "output_type": "execute_result",
          "data": {
            "text/plain": [
              "array([[<matplotlib.axes._subplots.AxesSubplot object at 0x7f23499032b0>,\n",
              "        <matplotlib.axes._subplots.AxesSubplot object at 0x7f23498d4550>,\n",
              "        <matplotlib.axes._subplots.AxesSubplot object at 0x7f234988b7b8>],\n",
              "       [<matplotlib.axes._subplots.AxesSubplot object at 0x7f234983ba20>,\n",
              "        <matplotlib.axes._subplots.AxesSubplot object at 0x7f23497f0c88>,\n",
              "        <matplotlib.axes._subplots.AxesSubplot object at 0x7f23497a4ef0>],\n",
              "       [<matplotlib.axes._subplots.AxesSubplot object at 0x7f2349764198>,\n",
              "        <matplotlib.axes._subplots.AxesSubplot object at 0x7f23497983c8>,\n",
              "        <matplotlib.axes._subplots.AxesSubplot object at 0x7f2349798438>]],\n",
              "      dtype=object)"
            ]
          },
          "metadata": {
            "tags": []
          },
          "execution_count": 13
        },
        {
          "output_type": "display_data",
          "data": {
            "image/png": "[encoded data removed]",
            "text/plain": [
              "<Figure size 1296x1584 with 9 Axes>"
            ]
          },
          "metadata": {
            "tags": [],
            "needs_background": "light"
          }
        }
      ]
    },
    {
      "cell_type": "code",
      "metadata": {
        "id": "h5d42xpJTRey",
        "outputId": "7f3a46a5-7c64-409c-b744-7e1051faf234",
        "colab": {
          "base_uri": "https://localhost:8080/",
          "height": 287
        }
      },
      "source": [
        "corr = dataset.corr()\n",
        "\n",
        "corr"
      ],
      "execution_count": 14,
      "outputs": [
        {
          "output_type": "execute_result",
          "data": {
            "text/html": [
              "<div>\n",
              "<style scoped>\n",
              "    .dataframe tbody tr th:only-of-type {\n",
              "        vertical-align: middle;\n",
              "    }\n",
              "\n",
              "    .dataframe tbody tr th {\n",
              "        vertical-align: top;\n",
              "    }\n",
              "\n",
              "    .dataframe thead th {\n",
              "        text-align: right;\n",
              "    }\n",
              "</style>\n",
              "<table border=\"1\" class=\"dataframe\">\n",
              "  <thead>\n",
              "    <tr style=\"text-align: right;\">\n",
              "      <th></th>\n",
              "      <th>cylinders</th>\n",
              "      <th>displacement</th>\n",
              "      <th>horsepower</th>\n",
              "      <th>weight</th>\n",
              "      <th>acceleration</th>\n",
              "      <th>model year</th>\n",
              "      <th>origin</th>\n",
              "      <th>mpg</th>\n",
              "    </tr>\n",
              "  </thead>\n",
              "  <tbody>\n",
              "    <tr>\n",
              "      <th>cylinders</th>\n",
              "      <td>1.000000</td>\n",
              "      <td>0.950721</td>\n",
              "      <td>0.839061</td>\n",
              "      <td>0.896017</td>\n",
              "      <td>-0.505419</td>\n",
              "      <td>-0.348746</td>\n",
              "      <td>-0.562543</td>\n",
              "      <td>-0.775396</td>\n",
              "    </tr>\n",
              "    <tr>\n",
              "      <th>displacement</th>\n",
              "      <td>0.950721</td>\n",
              "      <td>1.000000</td>\n",
              "      <td>0.893760</td>\n",
              "      <td>0.932824</td>\n",
              "      <td>-0.543684</td>\n",
              "      <td>-0.370164</td>\n",
              "      <td>-0.609409</td>\n",
              "      <td>-0.804203</td>\n",
              "    </tr>\n",
              "    <tr>\n",
              "      <th>horsepower</th>\n",
              "      <td>0.839061</td>\n",
              "      <td>0.893760</td>\n",
              "      <td>1.000000</td>\n",
              "      <td>0.860676</td>\n",
              "      <td>-0.684376</td>\n",
              "      <td>-0.411750</td>\n",
              "      <td>-0.453613</td>\n",
              "      <td>-0.771543</td>\n",
              "    </tr>\n",
              "    <tr>\n",
              "      <th>weight</th>\n",
              "      <td>0.896017</td>\n",
              "      <td>0.932824</td>\n",
              "      <td>0.860676</td>\n",
              "      <td>1.000000</td>\n",
              "      <td>-0.417457</td>\n",
              "      <td>-0.306564</td>\n",
              "      <td>-0.581024</td>\n",
              "      <td>-0.831741</td>\n",
              "    </tr>\n",
              "    <tr>\n",
              "      <th>acceleration</th>\n",
              "      <td>-0.505419</td>\n",
              "      <td>-0.543684</td>\n",
              "      <td>-0.684376</td>\n",
              "      <td>-0.417457</td>\n",
              "      <td>1.000000</td>\n",
              "      <td>0.288137</td>\n",
              "      <td>0.205873</td>\n",
              "      <td>0.420289</td>\n",
              "    </tr>\n",
              "    <tr>\n",
              "      <th>model year</th>\n",
              "      <td>-0.348746</td>\n",
              "      <td>-0.370164</td>\n",
              "      <td>-0.411750</td>\n",
              "      <td>-0.306564</td>\n",
              "      <td>0.288137</td>\n",
              "      <td>1.000000</td>\n",
              "      <td>0.180662</td>\n",
              "      <td>0.579267</td>\n",
              "    </tr>\n",
              "    <tr>\n",
              "      <th>origin</th>\n",
              "      <td>-0.562543</td>\n",
              "      <td>-0.609409</td>\n",
              "      <td>-0.453613</td>\n",
              "      <td>-0.581024</td>\n",
              "      <td>0.205873</td>\n",
              "      <td>0.180662</td>\n",
              "      <td>1.000000</td>\n",
              "      <td>0.563450</td>\n",
              "    </tr>\n",
              "    <tr>\n",
              "      <th>mpg</th>\n",
              "      <td>-0.775396</td>\n",
              "      <td>-0.804203</td>\n",
              "      <td>-0.771543</td>\n",
              "      <td>-0.831741</td>\n",
              "      <td>0.420289</td>\n",
              "      <td>0.579267</td>\n",
              "      <td>0.563450</td>\n",
              "      <td>1.000000</td>\n",
              "    </tr>\n",
              "  </tbody>\n",
              "</table>\n",
              "</div>"
            ],
            "text/plain": [
              "              cylinders  displacement  ...    origin       mpg\n",
              "cylinders      1.000000      0.950721  ... -0.562543 -0.775396\n",
              "displacement   0.950721      1.000000  ... -0.609409 -0.804203\n",
              "horsepower     0.839061      0.893760  ... -0.453613 -0.771543\n",
              "weight         0.896017      0.932824  ... -0.581024 -0.831741\n",
              "acceleration  -0.505419     -0.543684  ...  0.205873  0.420289\n",
              "model year    -0.348746     -0.370164  ...  0.180662  0.579267\n",
              "origin        -0.562543     -0.609409  ...  1.000000  0.563450\n",
              "mpg           -0.775396     -0.804203  ...  0.563450  1.000000\n",
              "\n",
              "[8 rows x 8 columns]"
            ]
          },
          "metadata": {
            "tags": []
          },
          "execution_count": 14
        }
      ]
    },
    {
      "cell_type": "code",
      "metadata": {
        "id": "MTasgGXDTRcT",
        "outputId": "5da75506-bee0-4179-8908-a34a82c5f31c",
        "colab": {
          "base_uri": "https://localhost:8080/",
          "height": 1000
        }
      },
      "source": [
        "plt.figure(figsize=(20,20))\n",
        "sb.heatmap(corr, cbar=True, square= True, fmt='.1f', annot=True, annot_kws={'size':15}, cmap='Greens')"
      ],
      "execution_count": 15,
      "outputs": [
        {
          "output_type": "execute_result",
          "data": {
            "text/plain": [
              "<matplotlib.axes._subplots.AxesSubplot at 0x7f2349716c88>"
            ]
          },
          "metadata": {
            "tags": []
          },
          "execution_count": 15
        },
        {
          "output_type": "display_data",
          "data": {
            "image/png": "[encoded data removed]",
            "text/plain": [
              "<Figure size 1440x1440 with 2 Axes>"
            ]
          },
          "metadata": {
            "tags": [],
            "needs_background": "light"
          }
        }
      ]
    },
    {
      "cell_type": "markdown",
      "metadata": {
        "id": "QtdINMvP4YOt"
      },
      "source": [
        "# Feature Engineering"
      ]
    },
    {
      "cell_type": "code",
      "metadata": {
        "id": "D2cvZwxU4UKL"
      },
      "source": [
        "label = dataset['mpg']\n",
        "features = dataset.drop(['mpg'], axis=1)"
      ],
      "execution_count": 16,
      "outputs": []
    },
    {
      "cell_type": "code",
      "metadata": {
        "id": "ivxW5Lny5QmX"
      },
      "source": [
        "from sklearn import preprocessing\n",
        "scaler = preprocessing.StandardScaler()\n",
        "\n",
        "features = scaler.fit_transform(features.values)\n",
        "label = scaler.fit_transform(label.values.reshape(-1,1)).flatten()"
      ],
      "execution_count": 17,
      "outputs": []
    },
    {
      "cell_type": "code",
      "metadata": {
        "id": "eVZoQC3i4e1b"
      },
      "source": [
        "from sklearn.model_selection import train_test_split\n",
        "feature_train, feature_test, label_train, label_test = train_test_split(features, label, test_size=0.2, random_state=10)"
      ],
      "execution_count": 18,
      "outputs": []
    },
    {
      "cell_type": "markdown",
      "metadata": {
        "id": "hGstyEjkfmML"
      },
      "source": [
        "# Linear Regression"
      ]
    },
    {
      "cell_type": "code",
      "metadata": {
        "id": "dtOFfE5y4jUs",
        "outputId": "91675fc6-221c-4a23-8bb6-e5cee4cf16b2",
        "colab": {
          "base_uri": "https://localhost:8080/",
          "height": 87
        }
      },
      "source": [
        "from sklearn.linear_model import LinearRegression\n",
        "\n",
        "lm = LinearRegression()\n",
        "lm.fit(feature_train, label_train)\n",
        "\n",
        "predictions = lm.predict(feature_test)\n",
        "\n",
        "from sklearn.metrics import mean_squared_error, mean_absolute_error, r2_score\n",
        "\n",
        "mse = mean_squared_error(label_test, predictions)\n",
        "mae = mean_absolute_error(label_test, predictions)\n",
        "r2 = r2_score(label_test, predictions)\n",
        "print(\"MSE (Mean Squared Error)\", mse)\n",
        "print(\"MAE (Mean Absolute Error)\", mae)\n",
        "print(\"r^2 score\", r2)\n",
        "print('RMSE (Root Mean Squared Error', np.sqrt(mean_squared_error(label_test, predictions)))"
      ],
      "execution_count": 32,
      "outputs": [
        {
          "output_type": "stream",
          "text": [
            "MSE (Mean Squared Error) 0.20826660169611802\n",
            "MAE (Mean Absolute Error) 0.3684271684436153\n",
            "r^2 score 0.792478802889181\n",
            "RMSE (Root Mean Squared Error 0.4563623578869296\n"
          ],
          "name": "stdout"
        }
      ]
    },
    {
      "cell_type": "markdown",
      "metadata": {
        "id": "71NOADCA4oSi"
      },
      "source": [
        "# Baseline"
      ]
    },
    {
      "cell_type": "code",
      "metadata": {
        "id": "u520t66w21i6"
      },
      "source": [
        "# Based on: https://machinelearningmastery.com/regression-tutorial-keras-deep-learning-library-python/\n",
        "from tensorflow.keras.models import Sequential\n",
        "from tensorflow.keras.layers import Dense\n",
        "\n",
        "model = Sequential()\n",
        "model.add(Dense(13, input_dim=7, kernel_initializer='normal', activation='relu')) # 13 neuron, sesuai dengan 13 features\n",
        "model.add(Dense(1, kernel_initializer='normal'))\n",
        "\n",
        "model.compile(loss='mean_squared_error', optimizer='adam')"
      ],
      "execution_count": 33,
      "outputs": []
    },
    {
      "cell_type": "code",
      "metadata": {
        "id": "SvGU4xsO6C74",
        "outputId": "92ab5922-f53c-4a68-ff22-cc2ae9550ecb",
        "colab": {
          "base_uri": "https://localhost:8080/",
          "height": 1000
        }
      },
      "source": [
        "model.fit(x=feature_train, y=label_train, validation_data=(feature_test, label_test), epochs=50, batch_size=8)"
      ],
      "execution_count": 34,
      "outputs": [
        {
          "output_type": "stream",
          "text": [
            "Epoch 1/50\n",
            "40/40 [==============================] - 0s 4ms/step - loss: 0.9204 - val_loss: 0.8275\n",
            "Epoch 2/50\n",
            "40/40 [==============================] - 0s 2ms/step - loss: 0.6988 - val_loss: 0.5577\n",
            "Epoch 3/50\n",
            "40/40 [==============================] - 0s 3ms/step - loss: 0.4466 - val_loss: 0.3627\n",
            "Epoch 4/50\n",
            "40/40 [==============================] - 0s 2ms/step - loss: 0.3026 - val_loss: 0.2841\n",
            "Epoch 5/50\n",
            "40/40 [==============================] - 0s 2ms/step - loss: 0.2391 - val_loss: 0.2566\n",
            "Epoch 6/50\n",
            "40/40 [==============================] - 0s 2ms/step - loss: 0.2116 - val_loss: 0.2420\n",
            "Epoch 7/50\n",
            "40/40 [==============================] - 0s 2ms/step - loss: 0.1948 - val_loss: 0.2282\n",
            "Epoch 8/50\n",
            "40/40 [==============================] - 0s 2ms/step - loss: 0.1796 - val_loss: 0.2158\n",
            "Epoch 9/50\n",
            "40/40 [==============================] - 0s 2ms/step - loss: 0.1678 - val_loss: 0.2079\n",
            "Epoch 10/50\n",
            "40/40 [==============================] - 0s 2ms/step - loss: 0.1596 - val_loss: 0.1991\n",
            "Epoch 11/50\n",
            "40/40 [==============================] - 0s 2ms/step - loss: 0.1522 - val_loss: 0.1933\n",
            "Epoch 12/50\n",
            "40/40 [==============================] - 0s 2ms/step - loss: 0.1450 - val_loss: 0.1890\n",
            "Epoch 13/50\n",
            "40/40 [==============================] - 0s 2ms/step - loss: 0.1399 - val_loss: 0.1850\n",
            "Epoch 14/50\n",
            "40/40 [==============================] - 0s 2ms/step - loss: 0.1356 - val_loss: 0.1830\n",
            "Epoch 15/50\n",
            "40/40 [==============================] - 0s 2ms/step - loss: 0.1319 - val_loss: 0.1765\n",
            "Epoch 16/50\n",
            "40/40 [==============================] - 0s 2ms/step - loss: 0.1299 - val_loss: 0.1763\n",
            "Epoch 17/50\n",
            "40/40 [==============================] - 0s 2ms/step - loss: 0.1274 - val_loss: 0.1716\n",
            "Epoch 18/50\n",
            "40/40 [==============================] - 0s 2ms/step - loss: 0.1261 - val_loss: 0.1732\n",
            "Epoch 19/50\n",
            "40/40 [==============================] - 0s 2ms/step - loss: 0.1249 - val_loss: 0.1701\n",
            "Epoch 20/50\n",
            "40/40 [==============================] - 0s 2ms/step - loss: 0.1236 - val_loss: 0.1689\n",
            "Epoch 21/50\n",
            "40/40 [==============================] - 0s 2ms/step - loss: 0.1219 - val_loss: 0.1669\n",
            "Epoch 22/50\n",
            "40/40 [==============================] - 0s 2ms/step - loss: 0.1204 - val_loss: 0.1657\n",
            "Epoch 23/50\n",
            "40/40 [==============================] - 0s 2ms/step - loss: 0.1198 - val_loss: 0.1661\n",
            "Epoch 24/50\n",
            "40/40 [==============================] - 0s 2ms/step - loss: 0.1194 - val_loss: 0.1647\n",
            "Epoch 25/50\n",
            "40/40 [==============================] - 0s 2ms/step - loss: 0.1182 - val_loss: 0.1625\n",
            "Epoch 26/50\n",
            "40/40 [==============================] - 0s 2ms/step - loss: 0.1176 - val_loss: 0.1607\n",
            "Epoch 27/50\n",
            "40/40 [==============================] - 0s 2ms/step - loss: 0.1163 - val_loss: 0.1627\n",
            "Epoch 28/50\n",
            "40/40 [==============================] - 0s 2ms/step - loss: 0.1166 - val_loss: 0.1635\n",
            "Epoch 29/50\n",
            "40/40 [==============================] - 0s 2ms/step - loss: 0.1154 - val_loss: 0.1626\n",
            "Epoch 30/50\n",
            "40/40 [==============================] - 0s 2ms/step - loss: 0.1147 - val_loss: 0.1629\n",
            "Epoch 31/50\n",
            "40/40 [==============================] - 0s 2ms/step - loss: 0.1135 - val_loss: 0.1586\n",
            "Epoch 32/50\n",
            "40/40 [==============================] - 0s 2ms/step - loss: 0.1133 - val_loss: 0.1606\n",
            "Epoch 33/50\n",
            "40/40 [==============================] - 0s 2ms/step - loss: 0.1139 - val_loss: 0.1634\n",
            "Epoch 34/50\n",
            "40/40 [==============================] - 0s 2ms/step - loss: 0.1126 - val_loss: 0.1610\n",
            "Epoch 35/50\n",
            "40/40 [==============================] - 0s 3ms/step - loss: 0.1112 - val_loss: 0.1597\n",
            "Epoch 36/50\n",
            "40/40 [==============================] - 0s 2ms/step - loss: 0.1107 - val_loss: 0.1600\n",
            "Epoch 37/50\n",
            "40/40 [==============================] - 0s 2ms/step - loss: 0.1103 - val_loss: 0.1608\n",
            "Epoch 38/50\n",
            "40/40 [==============================] - 0s 2ms/step - loss: 0.1099 - val_loss: 0.1584\n",
            "Epoch 39/50\n",
            "40/40 [==============================] - 0s 2ms/step - loss: 0.1102 - val_loss: 0.1585\n",
            "Epoch 40/50\n",
            "40/40 [==============================] - 0s 2ms/step - loss: 0.1097 - val_loss: 0.1565\n",
            "Epoch 41/50\n",
            "40/40 [==============================] - 0s 2ms/step - loss: 0.1090 - val_loss: 0.1573\n",
            "Epoch 42/50\n",
            "40/40 [==============================] - 0s 2ms/step - loss: 0.1102 - val_loss: 0.1544\n",
            "Epoch 43/50\n",
            "40/40 [==============================] - 0s 2ms/step - loss: 0.1080 - val_loss: 0.1630\n",
            "Epoch 44/50\n",
            "40/40 [==============================] - 0s 2ms/step - loss: 0.1082 - val_loss: 0.1565\n",
            "Epoch 45/50\n",
            "40/40 [==============================] - 0s 2ms/step - loss: 0.1075 - val_loss: 0.1543\n",
            "Epoch 46/50\n",
            "40/40 [==============================] - 0s 2ms/step - loss: 0.1074 - val_loss: 0.1572\n",
            "Epoch 47/50\n",
            "40/40 [==============================] - 0s 2ms/step - loss: 0.1069 - val_loss: 0.1572\n",
            "Epoch 48/50\n",
            "40/40 [==============================] - 0s 2ms/step - loss: 0.1067 - val_loss: 0.1549\n",
            "Epoch 49/50\n",
            "40/40 [==============================] - 0s 2ms/step - loss: 0.1065 - val_loss: 0.1535\n",
            "Epoch 50/50\n",
            "40/40 [==============================] - 0s 2ms/step - loss: 0.1059 - val_loss: 0.1517\n"
          ],
          "name": "stdout"
        },
        {
          "output_type": "execute_result",
          "data": {
            "text/plain": [
              "<tensorflow.python.keras.callbacks.History at 0x7f22a4455470>"
            ]
          },
          "metadata": {
            "tags": []
          },
          "execution_count": 34
        }
      ]
    },
    {
      "cell_type": "code",
      "metadata": {
        "id": "WeJGsG9a6oca"
      },
      "source": [
        "predictions = model.predict(feature_test)\n",
        "\n",
        "predictions = predictions.flatten()"
      ],
      "execution_count": 35,
      "outputs": []
    },
    {
      "cell_type": "code",
      "metadata": {
        "id": "6RIqgTJK8EkK",
        "outputId": "abeaec75-e644-478b-f802-66383d4d53cf",
        "colab": {
          "base_uri": "https://localhost:8080/",
          "height": 87
        }
      },
      "source": [
        "from sklearn.metrics import mean_squared_error, mean_absolute_error, r2_score\n",
        "\n",
        "mse = mean_squared_error(label_test, predictions)\n",
        "mae = mean_absolute_error(label_test, predictions)\n",
        "r2 = r2_score(label_test, predictions)\n",
        "print(\"MSE (Mean Squared Error)\", mse)\n",
        "print(\"MAE (Mean Absolute Error)\", mae)\n",
        "print(\"r^2 score\", r2)\n",
        "print('RMSE (Root Mean Squared Error', np.sqrt(mean_squared_error(label_test, predictions)))"
      ],
      "execution_count": 36,
      "outputs": [
        {
          "output_type": "stream",
          "text": [
            "MSE (Mean Squared Error) 0.1516921880759416\n",
            "MAE (Mean Absolute Error) 0.3006543572696667\n",
            "r^2 score 0.8488507316799145\n",
            "RMSE (Root Mean Squared Error 0.38947681327126726\n"
          ],
          "name": "stdout"
        }
      ]
    },
    {
      "cell_type": "markdown",
      "metadata": {
        "id": "eeLikvdE9MsO"
      },
      "source": [
        "## Deeper Model"
      ]
    },
    {
      "cell_type": "code",
      "metadata": {
        "id": "MEiteeaV8YOc",
        "outputId": "78e22262-092f-4225-c883-611f30248c2b",
        "colab": {
          "base_uri": "https://localhost:8080/",
          "height": 1000
        }
      },
      "source": [
        "deeper_model = Sequential()\n",
        "deeper_model.add(Dense(13, input_dim=7, kernel_initializer='normal', activation='relu'))\n",
        "deeper_model.add(Dense(6, kernel_initializer='normal', activation='relu'))\n",
        "deeper_model.add(Dense(1, kernel_initializer='normal'))\n",
        "\n",
        "deeper_model.compile(loss='mean_squared_error', optimizer='adam')\n",
        "\n",
        "deeper_model.fit(x=feature_train, y=label_train, validation_data=(feature_test, label_test), epochs=50, batch_size=8)"
      ],
      "execution_count": 37,
      "outputs": [
        {
          "output_type": "stream",
          "text": [
            "Epoch 1/50\n",
            "40/40 [==============================] - 0s 5ms/step - loss: 0.9916 - val_loss: 0.9855\n",
            "Epoch 2/50\n",
            "40/40 [==============================] - 0s 2ms/step - loss: 0.9345 - val_loss: 0.8704\n",
            "Epoch 3/50\n",
            "40/40 [==============================] - 0s 2ms/step - loss: 0.7602 - val_loss: 0.6147\n",
            "Epoch 4/50\n",
            "40/40 [==============================] - 0s 3ms/step - loss: 0.4798 - val_loss: 0.3720\n",
            "Epoch 5/50\n",
            "40/40 [==============================] - 0s 2ms/step - loss: 0.2956 - val_loss: 0.2693\n",
            "Epoch 6/50\n",
            "40/40 [==============================] - 0s 2ms/step - loss: 0.2290 - val_loss: 0.2537\n",
            "Epoch 7/50\n",
            "40/40 [==============================] - 0s 2ms/step - loss: 0.2087 - val_loss: 0.2337\n",
            "Epoch 8/50\n",
            "40/40 [==============================] - 0s 2ms/step - loss: 0.1938 - val_loss: 0.2273\n",
            "Epoch 9/50\n",
            "40/40 [==============================] - 0s 3ms/step - loss: 0.1850 - val_loss: 0.2106\n",
            "Epoch 10/50\n",
            "40/40 [==============================] - 0s 2ms/step - loss: 0.1722 - val_loss: 0.2058\n",
            "Epoch 11/50\n",
            "40/40 [==============================] - 0s 2ms/step - loss: 0.1659 - val_loss: 0.1981\n",
            "Epoch 12/50\n",
            "40/40 [==============================] - 0s 2ms/step - loss: 0.1572 - val_loss: 0.1903\n",
            "Epoch 13/50\n",
            "40/40 [==============================] - 0s 2ms/step - loss: 0.1518 - val_loss: 0.1864\n",
            "Epoch 14/50\n",
            "40/40 [==============================] - 0s 2ms/step - loss: 0.1461 - val_loss: 0.1842\n",
            "Epoch 15/50\n",
            "40/40 [==============================] - 0s 2ms/step - loss: 0.1424 - val_loss: 0.1852\n",
            "Epoch 16/50\n",
            "40/40 [==============================] - 0s 2ms/step - loss: 0.1387 - val_loss: 0.1776\n",
            "Epoch 17/50\n",
            "40/40 [==============================] - 0s 3ms/step - loss: 0.1364 - val_loss: 0.1800\n",
            "Epoch 18/50\n",
            "40/40 [==============================] - 0s 2ms/step - loss: 0.1343 - val_loss: 0.1766\n",
            "Epoch 19/50\n",
            "40/40 [==============================] - 0s 2ms/step - loss: 0.1312 - val_loss: 0.1719\n",
            "Epoch 20/50\n",
            "40/40 [==============================] - 0s 3ms/step - loss: 0.1306 - val_loss: 0.1693\n",
            "Epoch 21/50\n",
            "40/40 [==============================] - 0s 2ms/step - loss: 0.1283 - val_loss: 0.1721\n",
            "Epoch 22/50\n",
            "40/40 [==============================] - 0s 2ms/step - loss: 0.1262 - val_loss: 0.1719\n",
            "Epoch 23/50\n",
            "40/40 [==============================] - 0s 2ms/step - loss: 0.1259 - val_loss: 0.1640\n",
            "Epoch 24/50\n",
            "40/40 [==============================] - 0s 2ms/step - loss: 0.1239 - val_loss: 0.1706\n",
            "Epoch 25/50\n",
            "40/40 [==============================] - 0s 2ms/step - loss: 0.1240 - val_loss: 0.1688\n",
            "Epoch 26/50\n",
            "40/40 [==============================] - 0s 2ms/step - loss: 0.1225 - val_loss: 0.1629\n",
            "Epoch 27/50\n",
            "40/40 [==============================] - 0s 2ms/step - loss: 0.1227 - val_loss: 0.1668\n",
            "Epoch 28/50\n",
            "40/40 [==============================] - 0s 2ms/step - loss: 0.1205 - val_loss: 0.1589\n",
            "Epoch 29/50\n",
            "40/40 [==============================] - 0s 2ms/step - loss: 0.1202 - val_loss: 0.1642\n",
            "Epoch 30/50\n",
            "40/40 [==============================] - 0s 2ms/step - loss: 0.1192 - val_loss: 0.1632\n",
            "Epoch 31/50\n",
            "40/40 [==============================] - 0s 2ms/step - loss: 0.1179 - val_loss: 0.1617\n",
            "Epoch 32/50\n",
            "40/40 [==============================] - 0s 2ms/step - loss: 0.1187 - val_loss: 0.1602\n",
            "Epoch 33/50\n",
            "40/40 [==============================] - 0s 2ms/step - loss: 0.1198 - val_loss: 0.1579\n",
            "Epoch 34/50\n",
            "40/40 [==============================] - 0s 2ms/step - loss: 0.1169 - val_loss: 0.1602\n",
            "Epoch 35/50\n",
            "40/40 [==============================] - 0s 2ms/step - loss: 0.1177 - val_loss: 0.1568\n",
            "Epoch 36/50\n",
            "40/40 [==============================] - 0s 2ms/step - loss: 0.1156 - val_loss: 0.1607\n",
            "Epoch 37/50\n",
            "40/40 [==============================] - 0s 3ms/step - loss: 0.1154 - val_loss: 0.1600\n",
            "Epoch 38/50\n",
            "40/40 [==============================] - 0s 2ms/step - loss: 0.1144 - val_loss: 0.1585\n",
            "Epoch 39/50\n",
            "40/40 [==============================] - 0s 2ms/step - loss: 0.1140 - val_loss: 0.1614\n",
            "Epoch 40/50\n",
            "40/40 [==============================] - 0s 3ms/step - loss: 0.1143 - val_loss: 0.1640\n",
            "Epoch 41/50\n",
            "40/40 [==============================] - 0s 2ms/step - loss: 0.1134 - val_loss: 0.1586\n",
            "Epoch 42/50\n",
            "40/40 [==============================] - 0s 2ms/step - loss: 0.1142 - val_loss: 0.1570\n",
            "Epoch 43/50\n",
            "40/40 [==============================] - 0s 2ms/step - loss: 0.1125 - val_loss: 0.1587\n",
            "Epoch 44/50\n",
            "40/40 [==============================] - 0s 2ms/step - loss: 0.1113 - val_loss: 0.1591\n",
            "Epoch 45/50\n",
            "40/40 [==============================] - 0s 2ms/step - loss: 0.1117 - val_loss: 0.1582\n",
            "Epoch 46/50\n",
            "40/40 [==============================] - 0s 2ms/step - loss: 0.1111 - val_loss: 0.1584\n",
            "Epoch 47/50\n",
            "40/40 [==============================] - 0s 2ms/step - loss: 0.1111 - val_loss: 0.1609\n",
            "Epoch 48/50\n",
            "40/40 [==============================] - 0s 2ms/step - loss: 0.1099 - val_loss: 0.1550\n",
            "Epoch 49/50\n",
            "40/40 [==============================] - 0s 2ms/step - loss: 0.1114 - val_loss: 0.1576\n",
            "Epoch 50/50\n",
            "40/40 [==============================] - 0s 3ms/step - loss: 0.1100 - val_loss: 0.1598\n"
          ],
          "name": "stdout"
        },
        {
          "output_type": "execute_result",
          "data": {
            "text/plain": [
              "<tensorflow.python.keras.callbacks.History at 0x7f22a42fb588>"
            ]
          },
          "metadata": {
            "tags": []
          },
          "execution_count": 37
        }
      ]
    },
    {
      "cell_type": "code",
      "metadata": {
        "id": "lyJeIf8s8yL2"
      },
      "source": [
        "predictions = deeper_model.predict(feature_test)\n",
        "\n",
        "predictions = predictions.flatten()"
      ],
      "execution_count": 38,
      "outputs": []
    },
    {
      "cell_type": "code",
      "metadata": {
        "id": "gP7CrS1n81Ue",
        "outputId": "f16c47e9-e90d-4162-8d37-68d99389466f",
        "colab": {
          "base_uri": "https://localhost:8080/",
          "height": 87
        }
      },
      "source": [
        "from sklearn.metrics import mean_squared_error, mean_absolute_error, r2_score\n",
        "\n",
        "mse = mean_squared_error(label_test, predictions)\n",
        "mae = mean_absolute_error(label_test, predictions)\n",
        "r2 = r2_score(label_test, predictions)\n",
        "print(\"MSE (Mean Squared Error)\", mse)\n",
        "print(\"MAE (Mean Absolute Error)\", mae)\n",
        "print(\"r^2 score\", r2)\n",
        "print('RMSE (Root Mean Squared Error', np.sqrt(mean_squared_error(label_test, predictions)))"
      ],
      "execution_count": 39,
      "outputs": [
        {
          "output_type": "stream",
          "text": [
            "MSE (Mean Squared Error) 0.15982117285646813\n",
            "MAE (Mean Absolute Error) 0.3101213415859285\n",
            "r^2 score 0.8407508412547954\n",
            "RMSE (Root Mean Squared Error 0.39977640357638433\n"
          ],
          "name": "stdout"
        }
      ]
    },
    {
      "cell_type": "markdown",
      "metadata": {
        "id": "WAtLbRex9T7M"
      },
      "source": [
        "### Wider model"
      ]
    },
    {
      "cell_type": "code",
      "metadata": {
        "id": "VZrrMdLG9TZ3",
        "outputId": "60a62abc-2c19-4dae-8fe7-2cd01bcc24f6",
        "colab": {
          "base_uri": "https://localhost:8080/",
          "height": 1000
        }
      },
      "source": [
        "wider_model = Sequential()\n",
        "wider_model.add(Dense(20, input_dim=7, kernel_initializer='normal', activation='relu'))\n",
        "wider_model.add(Dense(1, kernel_initializer='normal'))\n",
        "\n",
        "wider_model.compile(loss='mean_squared_error', optimizer='adam')\n",
        "\n",
        "history = wider_model.fit(x=feature_train, y=label_train, validation_data=(feature_test, label_test), epochs=100, batch_size=8)"
      ],
      "execution_count": 40,
      "outputs": [
        {
          "output_type": "stream",
          "text": [
            "Epoch 1/100\n",
            "40/40 [==============================] - 0s 4ms/step - loss: 0.9215 - val_loss: 0.8262\n",
            "Epoch 2/100\n",
            "40/40 [==============================] - 0s 2ms/step - loss: 0.6736 - val_loss: 0.5092\n",
            "Epoch 3/100\n",
            "40/40 [==============================] - 0s 2ms/step - loss: 0.3631 - val_loss: 0.2909\n",
            "Epoch 4/100\n",
            "40/40 [==============================] - 0s 2ms/step - loss: 0.2381 - val_loss: 0.2503\n",
            "Epoch 5/100\n",
            "40/40 [==============================] - 0s 2ms/step - loss: 0.2048 - val_loss: 0.2343\n",
            "Epoch 6/100\n",
            "40/40 [==============================] - 0s 2ms/step - loss: 0.1875 - val_loss: 0.2171\n",
            "Epoch 7/100\n",
            "40/40 [==============================] - 0s 2ms/step - loss: 0.1702 - val_loss: 0.2061\n",
            "Epoch 8/100\n",
            "40/40 [==============================] - 0s 2ms/step - loss: 0.1586 - val_loss: 0.1967\n",
            "Epoch 9/100\n",
            "40/40 [==============================] - 0s 2ms/step - loss: 0.1500 - val_loss: 0.1912\n",
            "Epoch 10/100\n",
            "40/40 [==============================] - 0s 2ms/step - loss: 0.1433 - val_loss: 0.1865\n",
            "Epoch 11/100\n",
            "40/40 [==============================] - 0s 2ms/step - loss: 0.1384 - val_loss: 0.1827\n",
            "Epoch 12/100\n",
            "40/40 [==============================] - 0s 2ms/step - loss: 0.1344 - val_loss: 0.1778\n",
            "Epoch 13/100\n",
            "40/40 [==============================] - 0s 2ms/step - loss: 0.1312 - val_loss: 0.1750\n",
            "Epoch 14/100\n",
            "40/40 [==============================] - 0s 2ms/step - loss: 0.1270 - val_loss: 0.1757\n",
            "Epoch 15/100\n",
            "40/40 [==============================] - 0s 2ms/step - loss: 0.1248 - val_loss: 0.1741\n",
            "Epoch 16/100\n",
            "40/40 [==============================] - 0s 2ms/step - loss: 0.1224 - val_loss: 0.1724\n",
            "Epoch 17/100\n",
            "40/40 [==============================] - 0s 2ms/step - loss: 0.1207 - val_loss: 0.1673\n",
            "Epoch 18/100\n",
            "40/40 [==============================] - 0s 2ms/step - loss: 0.1191 - val_loss: 0.1686\n",
            "Epoch 19/100\n",
            "40/40 [==============================] - 0s 2ms/step - loss: 0.1177 - val_loss: 0.1672\n",
            "Epoch 20/100\n",
            "40/40 [==============================] - 0s 2ms/step - loss: 0.1155 - val_loss: 0.1662\n",
            "Epoch 21/100\n",
            "40/40 [==============================] - 0s 2ms/step - loss: 0.1153 - val_loss: 0.1630\n",
            "Epoch 22/100\n",
            "40/40 [==============================] - 0s 2ms/step - loss: 0.1143 - val_loss: 0.1648\n",
            "Epoch 23/100\n",
            "40/40 [==============================] - 0s 2ms/step - loss: 0.1135 - val_loss: 0.1660\n",
            "Epoch 24/100\n",
            "40/40 [==============================] - 0s 2ms/step - loss: 0.1125 - val_loss: 0.1614\n",
            "Epoch 25/100\n",
            "40/40 [==============================] - 0s 2ms/step - loss: 0.1121 - val_loss: 0.1613\n",
            "Epoch 26/100\n",
            "40/40 [==============================] - 0s 2ms/step - loss: 0.1108 - val_loss: 0.1613\n",
            "Epoch 27/100\n",
            "40/40 [==============================] - 0s 3ms/step - loss: 0.1098 - val_loss: 0.1607\n",
            "Epoch 28/100\n",
            "40/40 [==============================] - 0s 2ms/step - loss: 0.1097 - val_loss: 0.1635\n",
            "Epoch 29/100\n",
            "40/40 [==============================] - 0s 2ms/step - loss: 0.1092 - val_loss: 0.1574\n",
            "Epoch 30/100\n",
            "40/40 [==============================] - 0s 2ms/step - loss: 0.1095 - val_loss: 0.1603\n",
            "Epoch 31/100\n",
            "40/40 [==============================] - 0s 2ms/step - loss: 0.1084 - val_loss: 0.1617\n",
            "Epoch 32/100\n",
            "40/40 [==============================] - 0s 2ms/step - loss: 0.1090 - val_loss: 0.1552\n",
            "Epoch 33/100\n",
            "40/40 [==============================] - 0s 2ms/step - loss: 0.1069 - val_loss: 0.1547\n",
            "Epoch 34/100\n",
            "40/40 [==============================] - 0s 2ms/step - loss: 0.1059 - val_loss: 0.1580\n",
            "Epoch 35/100\n",
            "40/40 [==============================] - 0s 2ms/step - loss: 0.1059 - val_loss: 0.1565\n",
            "Epoch 36/100\n",
            "40/40 [==============================] - 0s 2ms/step - loss: 0.1069 - val_loss: 0.1517\n",
            "Epoch 37/100\n",
            "40/40 [==============================] - 0s 2ms/step - loss: 0.1049 - val_loss: 0.1577\n",
            "Epoch 38/100\n",
            "40/40 [==============================] - 0s 2ms/step - loss: 0.1051 - val_loss: 0.1516\n",
            "Epoch 39/100\n",
            "40/40 [==============================] - 0s 2ms/step - loss: 0.1047 - val_loss: 0.1586\n",
            "Epoch 40/100\n",
            "40/40 [==============================] - 0s 2ms/step - loss: 0.1052 - val_loss: 0.1510\n",
            "Epoch 41/100\n",
            "40/40 [==============================] - 0s 2ms/step - loss: 0.1066 - val_loss: 0.1567\n",
            "Epoch 42/100\n",
            "40/40 [==============================] - 0s 2ms/step - loss: 0.1038 - val_loss: 0.1513\n",
            "Epoch 43/100\n",
            "40/40 [==============================] - 0s 2ms/step - loss: 0.1031 - val_loss: 0.1568\n",
            "Epoch 44/100\n",
            "40/40 [==============================] - 0s 2ms/step - loss: 0.1028 - val_loss: 0.1529\n",
            "Epoch 45/100\n",
            "40/40 [==============================] - 0s 2ms/step - loss: 0.1035 - val_loss: 0.1503\n",
            "Epoch 46/100\n",
            "40/40 [==============================] - 0s 2ms/step - loss: 0.1019 - val_loss: 0.1583\n",
            "Epoch 47/100\n",
            "40/40 [==============================] - 0s 2ms/step - loss: 0.1026 - val_loss: 0.1582\n",
            "Epoch 48/100\n",
            "40/40 [==============================] - 0s 3ms/step - loss: 0.1033 - val_loss: 0.1528\n",
            "Epoch 49/100\n",
            "40/40 [==============================] - 0s 2ms/step - loss: 0.1023 - val_loss: 0.1525\n",
            "Epoch 50/100\n",
            "40/40 [==============================] - 0s 2ms/step - loss: 0.1017 - val_loss: 0.1539\n",
            "Epoch 51/100\n",
            "40/40 [==============================] - 0s 2ms/step - loss: 0.1014 - val_loss: 0.1576\n",
            "Epoch 52/100\n",
            "40/40 [==============================] - 0s 2ms/step - loss: 0.1006 - val_loss: 0.1508\n",
            "Epoch 53/100\n",
            "40/40 [==============================] - 0s 2ms/step - loss: 0.1002 - val_loss: 0.1565\n",
            "Epoch 54/100\n",
            "40/40 [==============================] - 0s 2ms/step - loss: 0.0998 - val_loss: 0.1522\n",
            "Epoch 55/100\n",
            "40/40 [==============================] - 0s 2ms/step - loss: 0.1001 - val_loss: 0.1541\n",
            "Epoch 56/100\n",
            "40/40 [==============================] - 0s 2ms/step - loss: 0.1004 - val_loss: 0.1512\n",
            "Epoch 57/100\n",
            "40/40 [==============================] - 0s 2ms/step - loss: 0.0989 - val_loss: 0.1540\n",
            "Epoch 58/100\n",
            "40/40 [==============================] - 0s 2ms/step - loss: 0.0996 - val_loss: 0.1531\n",
            "Epoch 59/100\n",
            "40/40 [==============================] - 0s 3ms/step - loss: 0.0985 - val_loss: 0.1552\n",
            "Epoch 60/100\n",
            "40/40 [==============================] - 0s 2ms/step - loss: 0.0985 - val_loss: 0.1571\n",
            "Epoch 61/100\n",
            "40/40 [==============================] - 0s 2ms/step - loss: 0.0994 - val_loss: 0.1522\n",
            "Epoch 62/100\n",
            "40/40 [==============================] - 0s 2ms/step - loss: 0.0985 - val_loss: 0.1585\n",
            "Epoch 63/100\n",
            "40/40 [==============================] - 0s 2ms/step - loss: 0.0983 - val_loss: 0.1540\n",
            "Epoch 64/100\n",
            "40/40 [==============================] - 0s 2ms/step - loss: 0.0982 - val_loss: 0.1554\n",
            "Epoch 65/100\n",
            "40/40 [==============================] - 0s 2ms/step - loss: 0.0992 - val_loss: 0.1594\n",
            "Epoch 66/100\n",
            "40/40 [==============================] - 0s 2ms/step - loss: 0.0985 - val_loss: 0.1500\n",
            "Epoch 67/100\n",
            "40/40 [==============================] - 0s 2ms/step - loss: 0.0974 - val_loss: 0.1561\n",
            "Epoch 68/100\n",
            "40/40 [==============================] - 0s 2ms/step - loss: 0.1017 - val_loss: 0.1491\n",
            "Epoch 69/100\n",
            "40/40 [==============================] - 0s 3ms/step - loss: 0.0959 - val_loss: 0.1571\n",
            "Epoch 70/100\n",
            "40/40 [==============================] - 0s 2ms/step - loss: 0.0978 - val_loss: 0.1540\n",
            "Epoch 71/100\n",
            "40/40 [==============================] - 0s 2ms/step - loss: 0.0977 - val_loss: 0.1600\n",
            "Epoch 72/100\n",
            "40/40 [==============================] - 0s 2ms/step - loss: 0.0974 - val_loss: 0.1531\n",
            "Epoch 73/100\n",
            "40/40 [==============================] - 0s 2ms/step - loss: 0.0962 - val_loss: 0.1541\n",
            "Epoch 74/100\n",
            "40/40 [==============================] - 0s 2ms/step - loss: 0.0964 - val_loss: 0.1551\n",
            "Epoch 75/100\n",
            "40/40 [==============================] - 0s 3ms/step - loss: 0.0962 - val_loss: 0.1530\n",
            "Epoch 76/100\n",
            "40/40 [==============================] - 0s 2ms/step - loss: 0.0955 - val_loss: 0.1532\n",
            "Epoch 77/100\n",
            "40/40 [==============================] - 0s 2ms/step - loss: 0.0955 - val_loss: 0.1526\n",
            "Epoch 78/100\n",
            "40/40 [==============================] - 0s 2ms/step - loss: 0.0956 - val_loss: 0.1518\n",
            "Epoch 79/100\n",
            "40/40 [==============================] - 0s 2ms/step - loss: 0.0956 - val_loss: 0.1528\n",
            "Epoch 80/100\n",
            "40/40 [==============================] - 0s 2ms/step - loss: 0.0961 - val_loss: 0.1505\n",
            "Epoch 81/100\n",
            "40/40 [==============================] - 0s 2ms/step - loss: 0.0957 - val_loss: 0.1540\n",
            "Epoch 82/100\n",
            "40/40 [==============================] - 0s 2ms/step - loss: 0.0949 - val_loss: 0.1566\n",
            "Epoch 83/100\n",
            "40/40 [==============================] - 0s 2ms/step - loss: 0.0969 - val_loss: 0.1503\n",
            "Epoch 84/100\n",
            "40/40 [==============================] - 0s 2ms/step - loss: 0.0954 - val_loss: 0.1561\n",
            "Epoch 85/100\n",
            "40/40 [==============================] - 0s 2ms/step - loss: 0.0958 - val_loss: 0.1531\n",
            "Epoch 86/100\n",
            "40/40 [==============================] - 0s 2ms/step - loss: 0.0942 - val_loss: 0.1541\n",
            "Epoch 87/100\n",
            "40/40 [==============================] - 0s 2ms/step - loss: 0.0940 - val_loss: 0.1501\n",
            "Epoch 88/100\n",
            "40/40 [==============================] - 0s 2ms/step - loss: 0.0929 - val_loss: 0.1598\n",
            "Epoch 89/100\n",
            "40/40 [==============================] - 0s 2ms/step - loss: 0.0942 - val_loss: 0.1509\n",
            "Epoch 90/100\n",
            "40/40 [==============================] - 0s 2ms/step - loss: 0.0935 - val_loss: 0.1602\n",
            "Epoch 91/100\n",
            "40/40 [==============================] - 0s 2ms/step - loss: 0.0940 - val_loss: 0.1500\n",
            "Epoch 92/100\n",
            "40/40 [==============================] - 0s 2ms/step - loss: 0.0929 - val_loss: 0.1571\n",
            "Epoch 93/100\n",
            "40/40 [==============================] - 0s 2ms/step - loss: 0.0934 - val_loss: 0.1551\n",
            "Epoch 94/100\n",
            "40/40 [==============================] - 0s 2ms/step - loss: 0.0925 - val_loss: 0.1534\n",
            "Epoch 95/100\n",
            "40/40 [==============================] - 0s 2ms/step - loss: 0.0938 - val_loss: 0.1506\n",
            "Epoch 96/100\n",
            "40/40 [==============================] - 0s 2ms/step - loss: 0.0926 - val_loss: 0.1527\n",
            "Epoch 97/100\n",
            "40/40 [==============================] - 0s 2ms/step - loss: 0.0926 - val_loss: 0.1583\n",
            "Epoch 98/100\n",
            "40/40 [==============================] - 0s 2ms/step - loss: 0.0921 - val_loss: 0.1544\n",
            "Epoch 99/100\n",
            "40/40 [==============================] - 0s 2ms/step - loss: 0.0928 - val_loss: 0.1569\n",
            "Epoch 100/100\n",
            "40/40 [==============================] - 0s 3ms/step - loss: 0.0922 - val_loss: 0.1558\n"
          ],
          "name": "stdout"
        }
      ]
    },
    {
      "cell_type": "code",
      "metadata": {
        "id": "LSMU9ueG9gFY",
        "outputId": "cd3cf677-ee32-4328-c1a1-74dfbe52e713",
        "colab": {
          "base_uri": "https://localhost:8080/",
          "height": 54
        }
      },
      "source": [
        "predictions = wider_model.predict(feature_test)\n",
        "\n",
        "predictions = predictions.flatten()"
      ],
      "execution_count": 41,
      "outputs": [
        {
          "output_type": "stream",
          "text": [
            "WARNING:tensorflow:5 out of the last 13 calls to <function Model.make_predict_function.<locals>.predict_function at 0x7f22a412bd90> triggered tf.function retracing. Tracing is expensive and the excessive number of tracings could be due to (1) creating @tf.function repeatedly in a loop, (2) passing tensors with different shapes, (3) passing Python objects instead of tensors. For (1), please define your @tf.function outside of the loop. For (2), @tf.function has experimental_relax_shapes=True option that relaxes argument shapes that can avoid unnecessary retracing. For (3), please refer to https://www.tensorflow.org/tutorials/customization/performance#python_or_tensor_args and https://www.tensorflow.org/api_docs/python/tf/function for  more details.\n"
          ],
          "name": "stdout"
        }
      ]
    },
    {
      "cell_type": "code",
      "metadata": {
        "id": "ckZvvz7h9jB_",
        "outputId": "306cfacf-a694-47fd-bcbb-f0e33d84d6d4",
        "colab": {
          "base_uri": "https://localhost:8080/",
          "height": 87
        }
      },
      "source": [
        "from sklearn.metrics import mean_squared_error, mean_absolute_error, r2_score\n",
        "\n",
        "mse = mean_squared_error(label_test, predictions)\n",
        "mae = mean_absolute_error(label_test, predictions)\n",
        "r2 = r2_score(label_test, predictions)\n",
        "print(\"MSE (Mean Squared Error)\", mse)\n",
        "print(\"MAE (Mean Absolute Error)\", mae)\n",
        "print(\"r^2 score\", r2)\n",
        "print('RMSE (Root Mean Squared Error', np.sqrt(mean_squared_error(label_test, predictions)))"
      ],
      "execution_count": 42,
      "outputs": [
        {
          "output_type": "stream",
          "text": [
            "MSE (Mean Squared Error) 0.15577684620904927\n",
            "MAE (Mean Absolute Error) 0.298467868330486\n",
            "r^2 score 0.8447806928994875\n",
            "RMSE (Root Mean Squared Error 0.3946857562783958\n"
          ],
          "name": "stdout"
        }
      ]
    },
    {
      "cell_type": "code",
      "metadata": {
        "id": "ovt4YX7h-Gq7"
      },
      "source": [
        "def plot_loss(history):\n",
        "  plt.plot(history.history['loss'], label='loss')\n",
        "  plt.plot(history.history['val_loss'], label='val_loss')\n",
        "  plt.xlabel('Epoch')\n",
        "  plt.ylabel('Loss (MSE)')\n",
        "  plt.legend()\n",
        "  plt.grid(True)"
      ],
      "execution_count": 43,
      "outputs": []
    },
    {
      "cell_type": "code",
      "metadata": {
        "id": "EhnVfEv0-JAS",
        "outputId": "d190a9c5-e69a-4f5f-d386-53408299f25f",
        "colab": {
          "base_uri": "https://localhost:8080/",
          "height": 406
        }
      },
      "source": [
        "history_dataframe = pd.DataFrame(history.history)\n",
        "history_dataframe['epoch'] = history.epoch\n",
        "history_dataframe"
      ],
      "execution_count": 44,
      "outputs": [
        {
          "output_type": "execute_result",
          "data": {
            "text/html": [
              "<div>\n",
              "<style scoped>\n",
              "    .dataframe tbody tr th:only-of-type {\n",
              "        vertical-align: middle;\n",
              "    }\n",
              "\n",
              "    .dataframe tbody tr th {\n",
              "        vertical-align: top;\n",
              "    }\n",
              "\n",
              "    .dataframe thead th {\n",
              "        text-align: right;\n",
              "    }\n",
              "</style>\n",
              "<table border=\"1\" class=\"dataframe\">\n",
              "  <thead>\n",
              "    <tr style=\"text-align: right;\">\n",
              "      <th></th>\n",
              "      <th>loss</th>\n",
              "      <th>val_loss</th>\n",
              "      <th>epoch</th>\n",
              "    </tr>\n",
              "  </thead>\n",
              "  <tbody>\n",
              "    <tr>\n",
              "      <th>0</th>\n",
              "      <td>0.921530</td>\n",
              "      <td>0.826232</td>\n",
              "      <td>0</td>\n",
              "    </tr>\n",
              "    <tr>\n",
              "      <th>1</th>\n",
              "      <td>0.673630</td>\n",
              "      <td>0.509185</td>\n",
              "      <td>1</td>\n",
              "    </tr>\n",
              "    <tr>\n",
              "      <th>2</th>\n",
              "      <td>0.363135</td>\n",
              "      <td>0.290879</td>\n",
              "      <td>2</td>\n",
              "    </tr>\n",
              "    <tr>\n",
              "      <th>3</th>\n",
              "      <td>0.238069</td>\n",
              "      <td>0.250302</td>\n",
              "      <td>3</td>\n",
              "    </tr>\n",
              "    <tr>\n",
              "      <th>4</th>\n",
              "      <td>0.204771</td>\n",
              "      <td>0.234312</td>\n",
              "      <td>4</td>\n",
              "    </tr>\n",
              "    <tr>\n",
              "      <th>...</th>\n",
              "      <td>...</td>\n",
              "      <td>...</td>\n",
              "      <td>...</td>\n",
              "    </tr>\n",
              "    <tr>\n",
              "      <th>95</th>\n",
              "      <td>0.092604</td>\n",
              "      <td>0.152663</td>\n",
              "      <td>95</td>\n",
              "    </tr>\n",
              "    <tr>\n",
              "      <th>96</th>\n",
              "      <td>0.092644</td>\n",
              "      <td>0.158301</td>\n",
              "      <td>96</td>\n",
              "    </tr>\n",
              "    <tr>\n",
              "      <th>97</th>\n",
              "      <td>0.092093</td>\n",
              "      <td>0.154406</td>\n",
              "      <td>97</td>\n",
              "    </tr>\n",
              "    <tr>\n",
              "      <th>98</th>\n",
              "      <td>0.092781</td>\n",
              "      <td>0.156871</td>\n",
              "      <td>98</td>\n",
              "    </tr>\n",
              "    <tr>\n",
              "      <th>99</th>\n",
              "      <td>0.092216</td>\n",
              "      <td>0.155777</td>\n",
              "      <td>99</td>\n",
              "    </tr>\n",
              "  </tbody>\n",
              "</table>\n",
              "<p>100 rows × 3 columns</p>\n",
              "</div>"
            ],
            "text/plain": [
              "        loss  val_loss  epoch\n",
              "0   0.921530  0.826232      0\n",
              "1   0.673630  0.509185      1\n",
              "2   0.363135  0.290879      2\n",
              "3   0.238069  0.250302      3\n",
              "4   0.204771  0.234312      4\n",
              "..       ...       ...    ...\n",
              "95  0.092604  0.152663     95\n",
              "96  0.092644  0.158301     96\n",
              "97  0.092093  0.154406     97\n",
              "98  0.092781  0.156871     98\n",
              "99  0.092216  0.155777     99\n",
              "\n",
              "[100 rows x 3 columns]"
            ]
          },
          "metadata": {
            "tags": []
          },
          "execution_count": 44
        }
      ]
    },
    {
      "cell_type": "code",
      "metadata": {
        "id": "5R67GHJZ8ce2",
        "outputId": "31c6dc9c-5167-4d13-910d-5df861ac2356",
        "colab": {
          "base_uri": "https://localhost:8080/",
          "height": 406
        }
      },
      "source": [
        "history_dataframe.sort_values(by='val_loss', ascending=True)"
      ],
      "execution_count": 45,
      "outputs": [
        {
          "output_type": "execute_result",
          "data": {
            "text/html": [
              "<div>\n",
              "<style scoped>\n",
              "    .dataframe tbody tr th:only-of-type {\n",
              "        vertical-align: middle;\n",
              "    }\n",
              "\n",
              "    .dataframe tbody tr th {\n",
              "        vertical-align: top;\n",
              "    }\n",
              "\n",
              "    .dataframe thead th {\n",
              "        text-align: right;\n",
              "    }\n",
              "</style>\n",
              "<table border=\"1\" class=\"dataframe\">\n",
              "  <thead>\n",
              "    <tr style=\"text-align: right;\">\n",
              "      <th></th>\n",
              "      <th>loss</th>\n",
              "      <th>val_loss</th>\n",
              "      <th>epoch</th>\n",
              "    </tr>\n",
              "  </thead>\n",
              "  <tbody>\n",
              "    <tr>\n",
              "      <th>67</th>\n",
              "      <td>0.101677</td>\n",
              "      <td>0.149071</td>\n",
              "      <td>67</td>\n",
              "    </tr>\n",
              "    <tr>\n",
              "      <th>65</th>\n",
              "      <td>0.098459</td>\n",
              "      <td>0.149978</td>\n",
              "      <td>65</td>\n",
              "    </tr>\n",
              "    <tr>\n",
              "      <th>90</th>\n",
              "      <td>0.094032</td>\n",
              "      <td>0.149998</td>\n",
              "      <td>90</td>\n",
              "    </tr>\n",
              "    <tr>\n",
              "      <th>86</th>\n",
              "      <td>0.093979</td>\n",
              "      <td>0.150073</td>\n",
              "      <td>86</td>\n",
              "    </tr>\n",
              "    <tr>\n",
              "      <th>44</th>\n",
              "      <td>0.103489</td>\n",
              "      <td>0.150323</td>\n",
              "      <td>44</td>\n",
              "    </tr>\n",
              "    <tr>\n",
              "      <th>...</th>\n",
              "      <td>...</td>\n",
              "      <td>...</td>\n",
              "      <td>...</td>\n",
              "    </tr>\n",
              "    <tr>\n",
              "      <th>4</th>\n",
              "      <td>0.204771</td>\n",
              "      <td>0.234312</td>\n",
              "      <td>4</td>\n",
              "    </tr>\n",
              "    <tr>\n",
              "      <th>3</th>\n",
              "      <td>0.238069</td>\n",
              "      <td>0.250302</td>\n",
              "      <td>3</td>\n",
              "    </tr>\n",
              "    <tr>\n",
              "      <th>2</th>\n",
              "      <td>0.363135</td>\n",
              "      <td>0.290879</td>\n",
              "      <td>2</td>\n",
              "    </tr>\n",
              "    <tr>\n",
              "      <th>1</th>\n",
              "      <td>0.673630</td>\n",
              "      <td>0.509185</td>\n",
              "      <td>1</td>\n",
              "    </tr>\n",
              "    <tr>\n",
              "      <th>0</th>\n",
              "      <td>0.921530</td>\n",
              "      <td>0.826232</td>\n",
              "      <td>0</td>\n",
              "    </tr>\n",
              "  </tbody>\n",
              "</table>\n",
              "<p>100 rows × 3 columns</p>\n",
              "</div>"
            ],
            "text/plain": [
              "        loss  val_loss  epoch\n",
              "67  0.101677  0.149071     67\n",
              "65  0.098459  0.149978     65\n",
              "90  0.094032  0.149998     90\n",
              "86  0.093979  0.150073     86\n",
              "44  0.103489  0.150323     44\n",
              "..       ...       ...    ...\n",
              "4   0.204771  0.234312      4\n",
              "3   0.238069  0.250302      3\n",
              "2   0.363135  0.290879      2\n",
              "1   0.673630  0.509185      1\n",
              "0   0.921530  0.826232      0\n",
              "\n",
              "[100 rows x 3 columns]"
            ]
          },
          "metadata": {
            "tags": []
          },
          "execution_count": 45
        }
      ]
    },
    {
      "cell_type": "code",
      "metadata": {
        "id": "H4BETmmT-VPy",
        "outputId": "b6ddc8b3-6628-4b52-ce7e-4522d8c78f5b",
        "colab": {
          "base_uri": "https://localhost:8080/",
          "height": 278
        }
      },
      "source": [
        "plot_loss(history) # epoch vs loss graph"
      ],
      "execution_count": 46,
      "outputs": [
        {
          "output_type": "display_data",
          "data": {
            "image/png": "[encoded data removed]",
            "text/plain": [
              "<Figure size 432x288 with 1 Axes>"
            ]
          },
          "metadata": {
            "tags": [],
            "needs_background": "light"
          }
        }
      ]
    },
    {
      "cell_type": "markdown",
      "metadata": {
        "id": "XO_22ZKaduD0"
      },
      "source": [
        "# Wider Model Tuned"
      ]
    },
    {
      "cell_type": "code",
      "metadata": {
        "id": "dBvCRHud-A2e",
        "outputId": "59cd726f-6831-4e89-a298-451ddab3c8b6",
        "colab": {
          "base_uri": "https://localhost:8080/",
          "height": 230
        }
      },
      "source": [
        "from tensorflow.keras.optimizers import SGD\n",
        "\n",
        "wider_model_tuned = Sequential()\n",
        "wider_model_tuned.add(Dense(20, input_dim=7, kernel_initializer='normal', activation='relu'))\n",
        "wider_model_tuned.add(Dense(1, kernel_initializer='normal'))\n",
        "\n",
        "opt = SGD(lr=0.001, momentum=0.9)\n",
        "\n",
        "wider_model_tuned.compile(loss='mean_squared_error', optimizer=opt)\n",
        "\n",
        "wider_model_tuned.summary()"
      ],
      "execution_count": 47,
      "outputs": [
        {
          "output_type": "stream",
          "text": [
            "Model: \"sequential_7\"\n",
            "_________________________________________________________________\n",
            "Layer (type)                 Output Shape              Param #   \n",
            "=================================================================\n",
            "dense_16 (Dense)             (None, 20)                160       \n",
            "_________________________________________________________________\n",
            "dense_17 (Dense)             (None, 1)                 21        \n",
            "=================================================================\n",
            "Total params: 181\n",
            "Trainable params: 181\n",
            "Non-trainable params: 0\n",
            "_________________________________________________________________\n"
          ],
          "name": "stdout"
        }
      ]
    },
    {
      "cell_type": "code",
      "metadata": {
        "id": "iklWJYPo-Thn",
        "outputId": "6db09f03-b759-493a-aac0-b279783a90d2",
        "colab": {
          "base_uri": "https://localhost:8080/",
          "height": 1000
        }
      },
      "source": [
        "history_tuned = wider_model_tuned.fit(x=feature_train, y=label_train, validation_data=(feature_test, label_test), epochs=100, batch_size=8)"
      ],
      "execution_count": 48,
      "outputs": [
        {
          "output_type": "stream",
          "text": [
            "Epoch 1/100\n",
            "40/40 [==============================] - 0s 4ms/step - loss: 0.9493 - val_loss: 0.9043\n",
            "Epoch 2/100\n",
            "40/40 [==============================] - 0s 2ms/step - loss: 0.7950 - val_loss: 0.6698\n",
            "Epoch 3/100\n",
            "40/40 [==============================] - 0s 2ms/step - loss: 0.4988 - val_loss: 0.3717\n",
            "Epoch 4/100\n",
            "40/40 [==============================] - 0s 2ms/step - loss: 0.2765 - val_loss: 0.2678\n",
            "Epoch 5/100\n",
            "40/40 [==============================] - 0s 2ms/step - loss: 0.2204 - val_loss: 0.2447\n",
            "Epoch 6/100\n",
            "40/40 [==============================] - 0s 2ms/step - loss: 0.1978 - val_loss: 0.2228\n",
            "Epoch 7/100\n",
            "40/40 [==============================] - 0s 2ms/step - loss: 0.1823 - val_loss: 0.2085\n",
            "Epoch 8/100\n",
            "40/40 [==============================] - 0s 2ms/step - loss: 0.1699 - val_loss: 0.1982\n",
            "Epoch 9/100\n",
            "40/40 [==============================] - 0s 2ms/step - loss: 0.1636 - val_loss: 0.1869\n",
            "Epoch 10/100\n",
            "40/40 [==============================] - 0s 2ms/step - loss: 0.1558 - val_loss: 0.1850\n",
            "Epoch 11/100\n",
            "40/40 [==============================] - 0s 2ms/step - loss: 0.1497 - val_loss: 0.1824\n",
            "Epoch 12/100\n",
            "40/40 [==============================] - 0s 2ms/step - loss: 0.1449 - val_loss: 0.1731\n",
            "Epoch 13/100\n",
            "40/40 [==============================] - 0s 2ms/step - loss: 0.1405 - val_loss: 0.1741\n",
            "Epoch 14/100\n",
            "40/40 [==============================] - 0s 3ms/step - loss: 0.1377 - val_loss: 0.1711\n",
            "Epoch 15/100\n",
            "40/40 [==============================] - 0s 2ms/step - loss: 0.1345 - val_loss: 0.1679\n",
            "Epoch 16/100\n",
            "40/40 [==============================] - 0s 2ms/step - loss: 0.1337 - val_loss: 0.1704\n",
            "Epoch 17/100\n",
            "40/40 [==============================] - 0s 2ms/step - loss: 0.1303 - val_loss: 0.1665\n",
            "Epoch 18/100\n",
            "40/40 [==============================] - 0s 2ms/step - loss: 0.1285 - val_loss: 0.1672\n",
            "Epoch 19/100\n",
            "40/40 [==============================] - 0s 2ms/step - loss: 0.1266 - val_loss: 0.1653\n",
            "Epoch 20/100\n",
            "40/40 [==============================] - 0s 2ms/step - loss: 0.1252 - val_loss: 0.1612\n",
            "Epoch 21/100\n",
            "40/40 [==============================] - 0s 2ms/step - loss: 0.1232 - val_loss: 0.1617\n",
            "Epoch 22/100\n",
            "40/40 [==============================] - 0s 2ms/step - loss: 0.1217 - val_loss: 0.1616\n",
            "Epoch 23/100\n",
            "40/40 [==============================] - 0s 2ms/step - loss: 0.1206 - val_loss: 0.1597\n",
            "Epoch 24/100\n",
            "40/40 [==============================] - 0s 2ms/step - loss: 0.1200 - val_loss: 0.1571\n",
            "Epoch 25/100\n",
            "40/40 [==============================] - 0s 2ms/step - loss: 0.1184 - val_loss: 0.1581\n",
            "Epoch 26/100\n",
            "40/40 [==============================] - 0s 2ms/step - loss: 0.1194 - val_loss: 0.1628\n",
            "Epoch 27/100\n",
            "40/40 [==============================] - 0s 2ms/step - loss: 0.1164 - val_loss: 0.1592\n",
            "Epoch 28/100\n",
            "40/40 [==============================] - 0s 2ms/step - loss: 0.1152 - val_loss: 0.1607\n",
            "Epoch 29/100\n",
            "40/40 [==============================] - 0s 2ms/step - loss: 0.1150 - val_loss: 0.1599\n",
            "Epoch 30/100\n",
            "40/40 [==============================] - 0s 2ms/step - loss: 0.1144 - val_loss: 0.1610\n",
            "Epoch 31/100\n",
            "40/40 [==============================] - 0s 3ms/step - loss: 0.1140 - val_loss: 0.1583\n",
            "Epoch 32/100\n",
            "40/40 [==============================] - 0s 2ms/step - loss: 0.1124 - val_loss: 0.1580\n",
            "Epoch 33/100\n",
            "40/40 [==============================] - 0s 2ms/step - loss: 0.1124 - val_loss: 0.1588\n",
            "Epoch 34/100\n",
            "40/40 [==============================] - 0s 2ms/step - loss: 0.1109 - val_loss: 0.1555\n",
            "Epoch 35/100\n",
            "40/40 [==============================] - 0s 2ms/step - loss: 0.1115 - val_loss: 0.1526\n",
            "Epoch 36/100\n",
            "40/40 [==============================] - 0s 2ms/step - loss: 0.1100 - val_loss: 0.1545\n",
            "Epoch 37/100\n",
            "40/40 [==============================] - 0s 2ms/step - loss: 0.1096 - val_loss: 0.1538\n",
            "Epoch 38/100\n",
            "40/40 [==============================] - 0s 2ms/step - loss: 0.1091 - val_loss: 0.1540\n",
            "Epoch 39/100\n",
            "40/40 [==============================] - 0s 2ms/step - loss: 0.1087 - val_loss: 0.1553\n",
            "Epoch 40/100\n",
            "40/40 [==============================] - 0s 2ms/step - loss: 0.1086 - val_loss: 0.1540\n",
            "Epoch 41/100\n",
            "40/40 [==============================] - 0s 2ms/step - loss: 0.1086 - val_loss: 0.1528\n",
            "Epoch 42/100\n",
            "40/40 [==============================] - 0s 2ms/step - loss: 0.1077 - val_loss: 0.1548\n",
            "Epoch 43/100\n",
            "40/40 [==============================] - 0s 2ms/step - loss: 0.1067 - val_loss: 0.1532\n",
            "Epoch 44/100\n",
            "40/40 [==============================] - 0s 2ms/step - loss: 0.1064 - val_loss: 0.1553\n",
            "Epoch 45/100\n",
            "40/40 [==============================] - 0s 2ms/step - loss: 0.1062 - val_loss: 0.1516\n",
            "Epoch 46/100\n",
            "40/40 [==============================] - 0s 2ms/step - loss: 0.1064 - val_loss: 0.1532\n",
            "Epoch 47/100\n",
            "40/40 [==============================] - 0s 2ms/step - loss: 0.1061 - val_loss: 0.1548\n",
            "Epoch 48/100\n",
            "40/40 [==============================] - 0s 2ms/step - loss: 0.1061 - val_loss: 0.1516\n",
            "Epoch 49/100\n",
            "40/40 [==============================] - 0s 2ms/step - loss: 0.1052 - val_loss: 0.1536\n",
            "Epoch 50/100\n",
            "40/40 [==============================] - 0s 2ms/step - loss: 0.1058 - val_loss: 0.1531\n",
            "Epoch 51/100\n",
            "40/40 [==============================] - 0s 3ms/step - loss: 0.1064 - val_loss: 0.1516\n",
            "Epoch 52/100\n",
            "40/40 [==============================] - 0s 2ms/step - loss: 0.1053 - val_loss: 0.1518\n",
            "Epoch 53/100\n",
            "40/40 [==============================] - 0s 2ms/step - loss: 0.1046 - val_loss: 0.1521\n",
            "Epoch 54/100\n",
            "40/40 [==============================] - 0s 2ms/step - loss: 0.1054 - val_loss: 0.1500\n",
            "Epoch 55/100\n",
            "40/40 [==============================] - 0s 2ms/step - loss: 0.1045 - val_loss: 0.1534\n",
            "Epoch 56/100\n",
            "40/40 [==============================] - 0s 3ms/step - loss: 0.1048 - val_loss: 0.1570\n",
            "Epoch 57/100\n",
            "40/40 [==============================] - 0s 2ms/step - loss: 0.1045 - val_loss: 0.1550\n",
            "Epoch 58/100\n",
            "40/40 [==============================] - 0s 2ms/step - loss: 0.1041 - val_loss: 0.1531\n",
            "Epoch 59/100\n",
            "40/40 [==============================] - 0s 2ms/step - loss: 0.1040 - val_loss: 0.1561\n",
            "Epoch 60/100\n",
            "40/40 [==============================] - 0s 2ms/step - loss: 0.1036 - val_loss: 0.1531\n",
            "Epoch 61/100\n",
            "40/40 [==============================] - 0s 2ms/step - loss: 0.1027 - val_loss: 0.1530\n",
            "Epoch 62/100\n",
            "40/40 [==============================] - 0s 2ms/step - loss: 0.1030 - val_loss: 0.1517\n",
            "Epoch 63/100\n",
            "40/40 [==============================] - 0s 2ms/step - loss: 0.1030 - val_loss: 0.1503\n",
            "Epoch 64/100\n",
            "40/40 [==============================] - 0s 2ms/step - loss: 0.1045 - val_loss: 0.1471\n",
            "Epoch 65/100\n",
            "40/40 [==============================] - 0s 2ms/step - loss: 0.1034 - val_loss: 0.1540\n",
            "Epoch 66/100\n",
            "40/40 [==============================] - 0s 2ms/step - loss: 0.1028 - val_loss: 0.1554\n",
            "Epoch 67/100\n",
            "40/40 [==============================] - 0s 2ms/step - loss: 0.1030 - val_loss: 0.1503\n",
            "Epoch 68/100\n",
            "40/40 [==============================] - 0s 2ms/step - loss: 0.1033 - val_loss: 0.1481\n",
            "Epoch 69/100\n",
            "40/40 [==============================] - 0s 2ms/step - loss: 0.1022 - val_loss: 0.1547\n",
            "Epoch 70/100\n",
            "40/40 [==============================] - 0s 2ms/step - loss: 0.1024 - val_loss: 0.1542\n",
            "Epoch 71/100\n",
            "40/40 [==============================] - 0s 2ms/step - loss: 0.1020 - val_loss: 0.1535\n",
            "Epoch 72/100\n",
            "40/40 [==============================] - 0s 2ms/step - loss: 0.1022 - val_loss: 0.1502\n",
            "Epoch 73/100\n",
            "40/40 [==============================] - 0s 2ms/step - loss: 0.1017 - val_loss: 0.1527\n",
            "Epoch 74/100\n",
            "40/40 [==============================] - 0s 2ms/step - loss: 0.1013 - val_loss: 0.1529\n",
            "Epoch 75/100\n",
            "40/40 [==============================] - 0s 2ms/step - loss: 0.1014 - val_loss: 0.1499\n",
            "Epoch 76/100\n",
            "40/40 [==============================] - 0s 2ms/step - loss: 0.1023 - val_loss: 0.1548\n",
            "Epoch 77/100\n",
            "40/40 [==============================] - 0s 3ms/step - loss: 0.1005 - val_loss: 0.1510\n",
            "Epoch 78/100\n",
            "40/40 [==============================] - 0s 2ms/step - loss: 0.1006 - val_loss: 0.1509\n",
            "Epoch 79/100\n",
            "40/40 [==============================] - 0s 2ms/step - loss: 0.1010 - val_loss: 0.1570\n",
            "Epoch 80/100\n",
            "40/40 [==============================] - 0s 2ms/step - loss: 0.1011 - val_loss: 0.1540\n",
            "Epoch 81/100\n",
            "40/40 [==============================] - 0s 2ms/step - loss: 0.1010 - val_loss: 0.1529\n",
            "Epoch 82/100\n",
            "40/40 [==============================] - 0s 2ms/step - loss: 0.1006 - val_loss: 0.1532\n",
            "Epoch 83/100\n",
            "40/40 [==============================] - 0s 2ms/step - loss: 0.1008 - val_loss: 0.1494\n",
            "Epoch 84/100\n",
            "40/40 [==============================] - 0s 2ms/step - loss: 0.1009 - val_loss: 0.1532\n",
            "Epoch 85/100\n",
            "40/40 [==============================] - 0s 2ms/step - loss: 0.1003 - val_loss: 0.1537\n",
            "Epoch 86/100\n",
            "40/40 [==============================] - 0s 2ms/step - loss: 0.1003 - val_loss: 0.1520\n",
            "Epoch 87/100\n",
            "40/40 [==============================] - 0s 2ms/step - loss: 0.1002 - val_loss: 0.1483\n",
            "Epoch 88/100\n",
            "40/40 [==============================] - 0s 3ms/step - loss: 0.1001 - val_loss: 0.1538\n",
            "Epoch 89/100\n",
            "40/40 [==============================] - 0s 2ms/step - loss: 0.0998 - val_loss: 0.1489\n",
            "Epoch 90/100\n",
            "40/40 [==============================] - 0s 2ms/step - loss: 0.0994 - val_loss: 0.1512\n",
            "Epoch 91/100\n",
            "40/40 [==============================] - 0s 2ms/step - loss: 0.0999 - val_loss: 0.1487\n",
            "Epoch 92/100\n",
            "40/40 [==============================] - 0s 2ms/step - loss: 0.0988 - val_loss: 0.1532\n",
            "Epoch 93/100\n",
            "40/40 [==============================] - 0s 2ms/step - loss: 0.0996 - val_loss: 0.1513\n",
            "Epoch 94/100\n",
            "40/40 [==============================] - 0s 2ms/step - loss: 0.0990 - val_loss: 0.1529\n",
            "Epoch 95/100\n",
            "40/40 [==============================] - 0s 2ms/step - loss: 0.0992 - val_loss: 0.1495\n",
            "Epoch 96/100\n",
            "40/40 [==============================] - 0s 2ms/step - loss: 0.0994 - val_loss: 0.1501\n",
            "Epoch 97/100\n",
            "40/40 [==============================] - 0s 2ms/step - loss: 0.0995 - val_loss: 0.1512\n",
            "Epoch 98/100\n",
            "40/40 [==============================] - 0s 2ms/step - loss: 0.0992 - val_loss: 0.1529\n",
            "Epoch 99/100\n",
            "40/40 [==============================] - 0s 2ms/step - loss: 0.0980 - val_loss: 0.1500\n",
            "Epoch 100/100\n",
            "40/40 [==============================] - 0s 2ms/step - loss: 0.0987 - val_loss: 0.1530\n"
          ],
          "name": "stdout"
        }
      ]
    },
    {
      "cell_type": "code",
      "metadata": {
        "id": "AMNUQLcvdEK5",
        "outputId": "d9cba64a-ae20-453a-f37c-59b9fffc08e2",
        "colab": {
          "base_uri": "https://localhost:8080/",
          "height": 54
        }
      },
      "source": [
        "predictions = wider_model_tuned.predict(feature_test)\n",
        "\n",
        "predictions = predictions.flatten()"
      ],
      "execution_count": 49,
      "outputs": [
        {
          "output_type": "stream",
          "text": [
            "WARNING:tensorflow:5 out of the last 13 calls to <function Model.make_predict_function.<locals>.predict_function at 0x7f2298ef2510> triggered tf.function retracing. Tracing is expensive and the excessive number of tracings could be due to (1) creating @tf.function repeatedly in a loop, (2) passing tensors with different shapes, (3) passing Python objects instead of tensors. For (1), please define your @tf.function outside of the loop. For (2), @tf.function has experimental_relax_shapes=True option that relaxes argument shapes that can avoid unnecessary retracing. For (3), please refer to https://www.tensorflow.org/tutorials/customization/performance#python_or_tensor_args and https://www.tensorflow.org/api_docs/python/tf/function for  more details.\n"
          ],
          "name": "stdout"
        }
      ]
    },
    {
      "cell_type": "code",
      "metadata": {
        "id": "hb_lVx6DdEK_",
        "outputId": "3871dc27-a1fc-4a06-ff84-c391837cc8db",
        "colab": {
          "base_uri": "https://localhost:8080/",
          "height": 87
        }
      },
      "source": [
        "from sklearn.metrics import mean_squared_error, mean_absolute_error, r2_score\n",
        "\n",
        "mse = mean_squared_error(label_test, predictions)\n",
        "mae = mean_absolute_error(label_test, predictions)\n",
        "r2 = r2_score(label_test, predictions)\n",
        "print(\"MSE (Mean Squared Error)\", mse)\n",
        "print(\"MAE (Mean Absolute Error)\", mae)\n",
        "print(\"r^2 score\", r2)\n",
        "print('RMSE (Root Mean Squared Error', np.sqrt(mean_squared_error(label_test, predictions)))"
      ],
      "execution_count": 50,
      "outputs": [
        {
          "output_type": "stream",
          "text": [
            "MSE (Mean Squared Error) 0.15299571150103647\n",
            "MAE (Mean Absolute Error) 0.2974476770261352\n",
            "r^2 score 0.8475518736804338\n",
            "RMSE (Root Mean Squared Error 0.39114666239281204\n"
          ],
          "name": "stdout"
        }
      ]
    },
    {
      "cell_type": "code",
      "metadata": {
        "id": "e0vFDtvR-dah",
        "outputId": "3da7745d-eecc-406f-f2ce-4829d33f12b9",
        "colab": {
          "base_uri": "https://localhost:8080/",
          "height": 406
        }
      },
      "source": [
        "history_tuned_dataframe = pd.DataFrame(history_tuned.history)\n",
        "history_tuned_dataframe['epoch'] = history_tuned.epoch\n",
        "history_tuned_dataframe.sort_values(by='val_loss', ascending=True)"
      ],
      "execution_count": 51,
      "outputs": [
        {
          "output_type": "execute_result",
          "data": {
            "text/html": [
              "<div>\n",
              "<style scoped>\n",
              "    .dataframe tbody tr th:only-of-type {\n",
              "        vertical-align: middle;\n",
              "    }\n",
              "\n",
              "    .dataframe tbody tr th {\n",
              "        vertical-align: top;\n",
              "    }\n",
              "\n",
              "    .dataframe thead th {\n",
              "        text-align: right;\n",
              "    }\n",
              "</style>\n",
              "<table border=\"1\" class=\"dataframe\">\n",
              "  <thead>\n",
              "    <tr style=\"text-align: right;\">\n",
              "      <th></th>\n",
              "      <th>loss</th>\n",
              "      <th>val_loss</th>\n",
              "      <th>epoch</th>\n",
              "    </tr>\n",
              "  </thead>\n",
              "  <tbody>\n",
              "    <tr>\n",
              "      <th>63</th>\n",
              "      <td>0.104470</td>\n",
              "      <td>0.147080</td>\n",
              "      <td>63</td>\n",
              "    </tr>\n",
              "    <tr>\n",
              "      <th>67</th>\n",
              "      <td>0.103316</td>\n",
              "      <td>0.148110</td>\n",
              "      <td>67</td>\n",
              "    </tr>\n",
              "    <tr>\n",
              "      <th>86</th>\n",
              "      <td>0.100233</td>\n",
              "      <td>0.148267</td>\n",
              "      <td>86</td>\n",
              "    </tr>\n",
              "    <tr>\n",
              "      <th>90</th>\n",
              "      <td>0.099873</td>\n",
              "      <td>0.148719</td>\n",
              "      <td>90</td>\n",
              "    </tr>\n",
              "    <tr>\n",
              "      <th>88</th>\n",
              "      <td>0.099803</td>\n",
              "      <td>0.148948</td>\n",
              "      <td>88</td>\n",
              "    </tr>\n",
              "    <tr>\n",
              "      <th>...</th>\n",
              "      <td>...</td>\n",
              "      <td>...</td>\n",
              "      <td>...</td>\n",
              "    </tr>\n",
              "    <tr>\n",
              "      <th>4</th>\n",
              "      <td>0.220437</td>\n",
              "      <td>0.244699</td>\n",
              "      <td>4</td>\n",
              "    </tr>\n",
              "    <tr>\n",
              "      <th>3</th>\n",
              "      <td>0.276483</td>\n",
              "      <td>0.267815</td>\n",
              "      <td>3</td>\n",
              "    </tr>\n",
              "    <tr>\n",
              "      <th>2</th>\n",
              "      <td>0.498769</td>\n",
              "      <td>0.371670</td>\n",
              "      <td>2</td>\n",
              "    </tr>\n",
              "    <tr>\n",
              "      <th>1</th>\n",
              "      <td>0.794986</td>\n",
              "      <td>0.669776</td>\n",
              "      <td>1</td>\n",
              "    </tr>\n",
              "    <tr>\n",
              "      <th>0</th>\n",
              "      <td>0.949312</td>\n",
              "      <td>0.904294</td>\n",
              "      <td>0</td>\n",
              "    </tr>\n",
              "  </tbody>\n",
              "</table>\n",
              "<p>100 rows × 3 columns</p>\n",
              "</div>"
            ],
            "text/plain": [
              "        loss  val_loss  epoch\n",
              "63  0.104470  0.147080     63\n",
              "67  0.103316  0.148110     67\n",
              "86  0.100233  0.148267     86\n",
              "90  0.099873  0.148719     90\n",
              "88  0.099803  0.148948     88\n",
              "..       ...       ...    ...\n",
              "4   0.220437  0.244699      4\n",
              "3   0.276483  0.267815      3\n",
              "2   0.498769  0.371670      2\n",
              "1   0.794986  0.669776      1\n",
              "0   0.949312  0.904294      0\n",
              "\n",
              "[100 rows x 3 columns]"
            ]
          },
          "metadata": {
            "tags": []
          },
          "execution_count": 51
        }
      ]
    },
    {
      "cell_type": "markdown",
      "metadata": {
        "id": "dGrsHdeBeVl8"
      },
      "source": [
        "# Wider Model RMSprop"
      ]
    },
    {
      "cell_type": "code",
      "metadata": {
        "id": "tOisowvK-_12",
        "outputId": "e3421c33-0d57-4ac0-8012-e8c343dafe8b",
        "colab": {
          "base_uri": "https://localhost:8080/",
          "height": 230
        }
      },
      "source": [
        "from tensorflow.keras.optimizers import RMSprop\n",
        "\n",
        "wider_model_rmsprop = Sequential()\n",
        "wider_model_rmsprop.add(Dense(20, input_dim=7, kernel_initializer='normal', activation='relu'))\n",
        "wider_model_rmsprop.add(Dense(1, kernel_initializer='normal'))\n",
        "\n",
        "opt = RMSprop(lr=0.001)\n",
        "\n",
        "wider_model_rmsprop.compile(loss='mean_squared_error', optimizer=opt)\n",
        "\n",
        "wider_model_rmsprop.summary()"
      ],
      "execution_count": 52,
      "outputs": [
        {
          "output_type": "stream",
          "text": [
            "Model: \"sequential_8\"\n",
            "_________________________________________________________________\n",
            "Layer (type)                 Output Shape              Param #   \n",
            "=================================================================\n",
            "dense_18 (Dense)             (None, 20)                160       \n",
            "_________________________________________________________________\n",
            "dense_19 (Dense)             (None, 1)                 21        \n",
            "=================================================================\n",
            "Total params: 181\n",
            "Trainable params: 181\n",
            "Non-trainable params: 0\n",
            "_________________________________________________________________\n"
          ],
          "name": "stdout"
        }
      ]
    },
    {
      "cell_type": "code",
      "metadata": {
        "id": "NHe2-cXq_MnJ",
        "outputId": "9e1cc359-213f-43f9-d20d-20e59986cf5a",
        "colab": {
          "base_uri": "https://localhost:8080/",
          "height": 1000
        }
      },
      "source": [
        "history_rmsprop = wider_model_rmsprop.fit(x=feature_train, y=label_train, validation_data=(feature_test, label_test), epochs=100, batch_size=8)"
      ],
      "execution_count": 53,
      "outputs": [
        {
          "output_type": "stream",
          "text": [
            "Epoch 1/100\n",
            "40/40 [==============================] - 0s 4ms/step - loss: 0.8754 - val_loss: 0.7468\n",
            "Epoch 2/100\n",
            "40/40 [==============================] - 0s 2ms/step - loss: 0.5764 - val_loss: 0.4532\n",
            "Epoch 3/100\n",
            "40/40 [==============================] - 0s 3ms/step - loss: 0.3296 - val_loss: 0.2865\n",
            "Epoch 4/100\n",
            "40/40 [==============================] - 0s 2ms/step - loss: 0.2294 - val_loss: 0.2475\n",
            "Epoch 5/100\n",
            "40/40 [==============================] - 0s 2ms/step - loss: 0.2018 - val_loss: 0.2253\n",
            "Epoch 6/100\n",
            "40/40 [==============================] - 0s 3ms/step - loss: 0.1843 - val_loss: 0.2095\n",
            "Epoch 7/100\n",
            "40/40 [==============================] - 0s 2ms/step - loss: 0.1717 - val_loss: 0.1982\n",
            "Epoch 8/100\n",
            "40/40 [==============================] - 0s 2ms/step - loss: 0.1605 - val_loss: 0.1900\n",
            "Epoch 9/100\n",
            "40/40 [==============================] - 0s 2ms/step - loss: 0.1518 - val_loss: 0.1865\n",
            "Epoch 10/100\n",
            "40/40 [==============================] - 0s 2ms/step - loss: 0.1454 - val_loss: 0.1854\n",
            "Epoch 11/100\n",
            "40/40 [==============================] - 0s 2ms/step - loss: 0.1396 - val_loss: 0.1779\n",
            "Epoch 12/100\n",
            "40/40 [==============================] - 0s 2ms/step - loss: 0.1368 - val_loss: 0.1769\n",
            "Epoch 13/100\n",
            "40/40 [==============================] - 0s 3ms/step - loss: 0.1331 - val_loss: 0.1712\n",
            "Epoch 14/100\n",
            "40/40 [==============================] - 0s 3ms/step - loss: 0.1300 - val_loss: 0.1714\n",
            "Epoch 15/100\n",
            "40/40 [==============================] - 0s 2ms/step - loss: 0.1269 - val_loss: 0.1727\n",
            "Epoch 16/100\n",
            "40/40 [==============================] - 0s 2ms/step - loss: 0.1250 - val_loss: 0.1702\n",
            "Epoch 17/100\n",
            "40/40 [==============================] - 0s 3ms/step - loss: 0.1230 - val_loss: 0.1710\n",
            "Epoch 18/100\n",
            "40/40 [==============================] - 0s 2ms/step - loss: 0.1212 - val_loss: 0.1671\n",
            "Epoch 19/100\n",
            "40/40 [==============================] - 0s 2ms/step - loss: 0.1205 - val_loss: 0.1645\n",
            "Epoch 20/100\n",
            "40/40 [==============================] - 0s 2ms/step - loss: 0.1193 - val_loss: 0.1650\n",
            "Epoch 21/100\n",
            "40/40 [==============================] - 0s 2ms/step - loss: 0.1178 - val_loss: 0.1634\n",
            "Epoch 22/100\n",
            "40/40 [==============================] - 0s 3ms/step - loss: 0.1163 - val_loss: 0.1710\n",
            "Epoch 23/100\n",
            "40/40 [==============================] - 0s 2ms/step - loss: 0.1163 - val_loss: 0.1686\n",
            "Epoch 24/100\n",
            "40/40 [==============================] - 0s 2ms/step - loss: 0.1153 - val_loss: 0.1601\n",
            "Epoch 25/100\n",
            "40/40 [==============================] - 0s 3ms/step - loss: 0.1153 - val_loss: 0.1645\n",
            "Epoch 26/100\n",
            "40/40 [==============================] - 0s 2ms/step - loss: 0.1142 - val_loss: 0.1633\n",
            "Epoch 27/100\n",
            "40/40 [==============================] - 0s 3ms/step - loss: 0.1130 - val_loss: 0.1568\n",
            "Epoch 28/100\n",
            "40/40 [==============================] - 0s 2ms/step - loss: 0.1117 - val_loss: 0.1706\n",
            "Epoch 29/100\n",
            "40/40 [==============================] - 0s 2ms/step - loss: 0.1119 - val_loss: 0.1550\n",
            "Epoch 30/100\n",
            "40/40 [==============================] - 0s 2ms/step - loss: 0.1124 - val_loss: 0.1564\n",
            "Epoch 31/100\n",
            "40/40 [==============================] - 0s 2ms/step - loss: 0.1112 - val_loss: 0.1585\n",
            "Epoch 32/100\n",
            "40/40 [==============================] - 0s 3ms/step - loss: 0.1102 - val_loss: 0.1623\n",
            "Epoch 33/100\n",
            "40/40 [==============================] - 0s 3ms/step - loss: 0.1101 - val_loss: 0.1554\n",
            "Epoch 34/100\n",
            "40/40 [==============================] - 0s 2ms/step - loss: 0.1101 - val_loss: 0.1567\n",
            "Epoch 35/100\n",
            "40/40 [==============================] - 0s 2ms/step - loss: 0.1090 - val_loss: 0.1552\n",
            "Epoch 36/100\n",
            "40/40 [==============================] - 0s 2ms/step - loss: 0.1096 - val_loss: 0.1577\n",
            "Epoch 37/100\n",
            "40/40 [==============================] - 0s 3ms/step - loss: 0.1087 - val_loss: 0.1556\n",
            "Epoch 38/100\n",
            "40/40 [==============================] - 0s 2ms/step - loss: 0.1075 - val_loss: 0.1646\n",
            "Epoch 39/100\n",
            "40/40 [==============================] - 0s 2ms/step - loss: 0.1081 - val_loss: 0.1527\n",
            "Epoch 40/100\n",
            "40/40 [==============================] - 0s 2ms/step - loss: 0.1075 - val_loss: 0.1524\n",
            "Epoch 41/100\n",
            "40/40 [==============================] - 0s 3ms/step - loss: 0.1077 - val_loss: 0.1547\n",
            "Epoch 42/100\n",
            "40/40 [==============================] - 0s 3ms/step - loss: 0.1071 - val_loss: 0.1559\n",
            "Epoch 43/100\n",
            "40/40 [==============================] - 0s 2ms/step - loss: 0.1069 - val_loss: 0.1592\n",
            "Epoch 44/100\n",
            "40/40 [==============================] - 0s 2ms/step - loss: 0.1059 - val_loss: 0.1614\n",
            "Epoch 45/100\n",
            "40/40 [==============================] - 0s 2ms/step - loss: 0.1054 - val_loss: 0.1531\n",
            "Epoch 46/100\n",
            "40/40 [==============================] - 0s 3ms/step - loss: 0.1053 - val_loss: 0.1571\n",
            "Epoch 47/100\n",
            "40/40 [==============================] - 0s 3ms/step - loss: 0.1059 - val_loss: 0.1556\n",
            "Epoch 48/100\n",
            "40/40 [==============================] - 0s 2ms/step - loss: 0.1051 - val_loss: 0.1544\n",
            "Epoch 49/100\n",
            "40/40 [==============================] - 0s 2ms/step - loss: 0.1057 - val_loss: 0.1553\n",
            "Epoch 50/100\n",
            "40/40 [==============================] - 0s 2ms/step - loss: 0.1050 - val_loss: 0.1556\n",
            "Epoch 51/100\n",
            "40/40 [==============================] - 0s 2ms/step - loss: 0.1048 - val_loss: 0.1600\n",
            "Epoch 52/100\n",
            "40/40 [==============================] - 0s 3ms/step - loss: 0.1045 - val_loss: 0.1576\n",
            "Epoch 53/100\n",
            "40/40 [==============================] - 0s 2ms/step - loss: 0.1038 - val_loss: 0.1533\n",
            "Epoch 54/100\n",
            "40/40 [==============================] - 0s 3ms/step - loss: 0.1028 - val_loss: 0.1482\n",
            "Epoch 55/100\n",
            "40/40 [==============================] - 0s 3ms/step - loss: 0.1043 - val_loss: 0.1528\n",
            "Epoch 56/100\n",
            "40/40 [==============================] - 0s 3ms/step - loss: 0.1045 - val_loss: 0.1543\n",
            "Epoch 57/100\n",
            "40/40 [==============================] - 0s 2ms/step - loss: 0.1035 - val_loss: 0.1580\n",
            "Epoch 58/100\n",
            "40/40 [==============================] - 0s 2ms/step - loss: 0.1037 - val_loss: 0.1535\n",
            "Epoch 59/100\n",
            "40/40 [==============================] - 0s 2ms/step - loss: 0.1029 - val_loss: 0.1546\n",
            "Epoch 60/100\n",
            "40/40 [==============================] - 0s 2ms/step - loss: 0.1033 - val_loss: 0.1551\n",
            "Epoch 61/100\n",
            "40/40 [==============================] - 0s 3ms/step - loss: 0.1025 - val_loss: 0.1532\n",
            "Epoch 62/100\n",
            "40/40 [==============================] - 0s 3ms/step - loss: 0.1025 - val_loss: 0.1521\n",
            "Epoch 63/100\n",
            "40/40 [==============================] - 0s 2ms/step - loss: 0.1028 - val_loss: 0.1552\n",
            "Epoch 64/100\n",
            "40/40 [==============================] - 0s 2ms/step - loss: 0.1020 - val_loss: 0.1616\n",
            "Epoch 65/100\n",
            "40/40 [==============================] - 0s 3ms/step - loss: 0.1020 - val_loss: 0.1540\n",
            "Epoch 66/100\n",
            "40/40 [==============================] - 0s 2ms/step - loss: 0.1014 - val_loss: 0.1565\n",
            "Epoch 67/100\n",
            "40/40 [==============================] - 0s 2ms/step - loss: 0.1019 - val_loss: 0.1531\n",
            "Epoch 68/100\n",
            "40/40 [==============================] - 0s 2ms/step - loss: 0.1009 - val_loss: 0.1492\n",
            "Epoch 69/100\n",
            "40/40 [==============================] - 0s 2ms/step - loss: 0.1008 - val_loss: 0.1499\n",
            "Epoch 70/100\n",
            "40/40 [==============================] - 0s 2ms/step - loss: 0.1019 - val_loss: 0.1541\n",
            "Epoch 71/100\n",
            "40/40 [==============================] - 0s 3ms/step - loss: 0.1002 - val_loss: 0.1486\n",
            "Epoch 72/100\n",
            "40/40 [==============================] - 0s 2ms/step - loss: 0.1013 - val_loss: 0.1503\n",
            "Epoch 73/100\n",
            "40/40 [==============================] - 0s 3ms/step - loss: 0.1006 - val_loss: 0.1583\n",
            "Epoch 74/100\n",
            "40/40 [==============================] - 0s 2ms/step - loss: 0.1009 - val_loss: 0.1579\n",
            "Epoch 75/100\n",
            "40/40 [==============================] - 0s 3ms/step - loss: 0.1007 - val_loss: 0.1526\n",
            "Epoch 76/100\n",
            "40/40 [==============================] - 0s 2ms/step - loss: 0.1000 - val_loss: 0.1538\n",
            "Epoch 77/100\n",
            "40/40 [==============================] - 0s 2ms/step - loss: 0.1003 - val_loss: 0.1573\n",
            "Epoch 78/100\n",
            "40/40 [==============================] - 0s 3ms/step - loss: 0.1007 - val_loss: 0.1522\n",
            "Epoch 79/100\n",
            "40/40 [==============================] - 0s 2ms/step - loss: 0.1002 - val_loss: 0.1505\n",
            "Epoch 80/100\n",
            "40/40 [==============================] - 0s 2ms/step - loss: 0.0989 - val_loss: 0.1535\n",
            "Epoch 81/100\n",
            "40/40 [==============================] - 0s 3ms/step - loss: 0.0999 - val_loss: 0.1603\n",
            "Epoch 82/100\n",
            "40/40 [==============================] - 0s 2ms/step - loss: 0.1005 - val_loss: 0.1553\n",
            "Epoch 83/100\n",
            "40/40 [==============================] - 0s 2ms/step - loss: 0.0990 - val_loss: 0.1510\n",
            "Epoch 84/100\n",
            "40/40 [==============================] - 0s 3ms/step - loss: 0.0991 - val_loss: 0.1602\n",
            "Epoch 85/100\n",
            "40/40 [==============================] - 0s 3ms/step - loss: 0.0990 - val_loss: 0.1581\n",
            "Epoch 86/100\n",
            "40/40 [==============================] - 0s 2ms/step - loss: 0.0993 - val_loss: 0.1556\n",
            "Epoch 87/100\n",
            "40/40 [==============================] - 0s 2ms/step - loss: 0.0984 - val_loss: 0.1506\n",
            "Epoch 88/100\n",
            "40/40 [==============================] - 0s 2ms/step - loss: 0.0987 - val_loss: 0.1521\n",
            "Epoch 89/100\n",
            "40/40 [==============================] - 0s 2ms/step - loss: 0.0984 - val_loss: 0.1543\n",
            "Epoch 90/100\n",
            "40/40 [==============================] - 0s 3ms/step - loss: 0.0983 - val_loss: 0.1515\n",
            "Epoch 91/100\n",
            "40/40 [==============================] - 0s 3ms/step - loss: 0.0980 - val_loss: 0.1486\n",
            "Epoch 92/100\n",
            "40/40 [==============================] - 0s 2ms/step - loss: 0.0973 - val_loss: 0.1565\n",
            "Epoch 93/100\n",
            "40/40 [==============================] - 0s 2ms/step - loss: 0.0978 - val_loss: 0.1505\n",
            "Epoch 94/100\n",
            "40/40 [==============================] - 0s 3ms/step - loss: 0.0978 - val_loss: 0.1490\n",
            "Epoch 95/100\n",
            "40/40 [==============================] - 0s 2ms/step - loss: 0.0978 - val_loss: 0.1519\n",
            "Epoch 96/100\n",
            "40/40 [==============================] - 0s 2ms/step - loss: 0.0984 - val_loss: 0.1512\n",
            "Epoch 97/100\n",
            "40/40 [==============================] - 0s 2ms/step - loss: 0.0971 - val_loss: 0.1568\n",
            "Epoch 98/100\n",
            "40/40 [==============================] - 0s 2ms/step - loss: 0.0974 - val_loss: 0.1517\n",
            "Epoch 99/100\n",
            "40/40 [==============================] - 0s 2ms/step - loss: 0.0973 - val_loss: 0.1529\n",
            "Epoch 100/100\n",
            "40/40 [==============================] - 0s 3ms/step - loss: 0.0977 - val_loss: 0.1505\n"
          ],
          "name": "stdout"
        }
      ]
    },
    {
      "cell_type": "code",
      "metadata": {
        "id": "6JwmJe-ldMKe",
        "outputId": "6b76b62b-cc63-4c9c-dc2b-224529523251",
        "colab": {
          "base_uri": "https://localhost:8080/",
          "height": 54
        }
      },
      "source": [
        "predictions = wider_model_rmsprop.predict(feature_test)\n",
        "\n",
        "predictions = predictions.flatten()"
      ],
      "execution_count": 54,
      "outputs": [
        {
          "output_type": "stream",
          "text": [
            "WARNING:tensorflow:5 out of the last 13 calls to <function Model.make_predict_function.<locals>.predict_function at 0x7f2297e29ea0> triggered tf.function retracing. Tracing is expensive and the excessive number of tracings could be due to (1) creating @tf.function repeatedly in a loop, (2) passing tensors with different shapes, (3) passing Python objects instead of tensors. For (1), please define your @tf.function outside of the loop. For (2), @tf.function has experimental_relax_shapes=True option that relaxes argument shapes that can avoid unnecessary retracing. For (3), please refer to https://www.tensorflow.org/tutorials/customization/performance#python_or_tensor_args and https://www.tensorflow.org/api_docs/python/tf/function for  more details.\n"
          ],
          "name": "stdout"
        }
      ]
    },
    {
      "cell_type": "code",
      "metadata": {
        "id": "bvy1VZMYdMKh",
        "outputId": "0c1028e5-9af7-4753-c765-36524aa986d6",
        "colab": {
          "base_uri": "https://localhost:8080/",
          "height": 87
        }
      },
      "source": [
        "from sklearn.metrics import mean_squared_error, mean_absolute_error, r2_score\n",
        "\n",
        "mse = mean_squared_error(label_test, predictions)\n",
        "mae = mean_absolute_error(label_test, predictions)\n",
        "r2 = r2_score(label_test, predictions)\n",
        "print(\"MSE (Mean Squared Error)\", mse)\n",
        "print(\"MAE (Mean Absolute Error)\", mae)\n",
        "print(\"r^2 score\", r2)\n",
        "print('RMSE (Root Mean Squared Error', np.sqrt(mean_squared_error(label_test, predictions)))"
      ],
      "execution_count": 55,
      "outputs": [
        {
          "output_type": "stream",
          "text": [
            "MSE (Mean Squared Error) 0.15048430871933893\n",
            "MAE (Mean Absolute Error) 0.2894472043733007\n",
            "r^2 score 0.8500542879294825\n",
            "RMSE (Root Mean Squared Error 0.3879230706201153\n"
          ],
          "name": "stdout"
        }
      ]
    },
    {
      "cell_type": "code",
      "metadata": {
        "id": "w7sNIEcz_QV7",
        "outputId": "cce83980-0f4e-4417-9c24-ac0645578734",
        "colab": {
          "base_uri": "https://localhost:8080/",
          "height": 406
        }
      },
      "source": [
        "history_rmsprop_dataframe = pd.DataFrame(history_rmsprop.history)\n",
        "history_rmsprop_dataframe['epoch'] = history_rmsprop.epoch\n",
        "history_rmsprop_dataframe.sort_values(by='val_loss', ascending=True)"
      ],
      "execution_count": 56,
      "outputs": [
        {
          "output_type": "execute_result",
          "data": {
            "text/html": [
              "<div>\n",
              "<style scoped>\n",
              "    .dataframe tbody tr th:only-of-type {\n",
              "        vertical-align: middle;\n",
              "    }\n",
              "\n",
              "    .dataframe tbody tr th {\n",
              "        vertical-align: top;\n",
              "    }\n",
              "\n",
              "    .dataframe thead th {\n",
              "        text-align: right;\n",
              "    }\n",
              "</style>\n",
              "<table border=\"1\" class=\"dataframe\">\n",
              "  <thead>\n",
              "    <tr style=\"text-align: right;\">\n",
              "      <th></th>\n",
              "      <th>loss</th>\n",
              "      <th>val_loss</th>\n",
              "      <th>epoch</th>\n",
              "    </tr>\n",
              "  </thead>\n",
              "  <tbody>\n",
              "    <tr>\n",
              "      <th>53</th>\n",
              "      <td>0.102849</td>\n",
              "      <td>0.148192</td>\n",
              "      <td>53</td>\n",
              "    </tr>\n",
              "    <tr>\n",
              "      <th>90</th>\n",
              "      <td>0.097960</td>\n",
              "      <td>0.148551</td>\n",
              "      <td>90</td>\n",
              "    </tr>\n",
              "    <tr>\n",
              "      <th>70</th>\n",
              "      <td>0.100154</td>\n",
              "      <td>0.148583</td>\n",
              "      <td>70</td>\n",
              "    </tr>\n",
              "    <tr>\n",
              "      <th>93</th>\n",
              "      <td>0.097801</td>\n",
              "      <td>0.148956</td>\n",
              "      <td>93</td>\n",
              "    </tr>\n",
              "    <tr>\n",
              "      <th>67</th>\n",
              "      <td>0.100911</td>\n",
              "      <td>0.149223</td>\n",
              "      <td>67</td>\n",
              "    </tr>\n",
              "    <tr>\n",
              "      <th>...</th>\n",
              "      <td>...</td>\n",
              "      <td>...</td>\n",
              "      <td>...</td>\n",
              "    </tr>\n",
              "    <tr>\n",
              "      <th>4</th>\n",
              "      <td>0.201826</td>\n",
              "      <td>0.225341</td>\n",
              "      <td>4</td>\n",
              "    </tr>\n",
              "    <tr>\n",
              "      <th>3</th>\n",
              "      <td>0.229438</td>\n",
              "      <td>0.247509</td>\n",
              "      <td>3</td>\n",
              "    </tr>\n",
              "    <tr>\n",
              "      <th>2</th>\n",
              "      <td>0.329600</td>\n",
              "      <td>0.286494</td>\n",
              "      <td>2</td>\n",
              "    </tr>\n",
              "    <tr>\n",
              "      <th>1</th>\n",
              "      <td>0.576445</td>\n",
              "      <td>0.453242</td>\n",
              "      <td>1</td>\n",
              "    </tr>\n",
              "    <tr>\n",
              "      <th>0</th>\n",
              "      <td>0.875402</td>\n",
              "      <td>0.746763</td>\n",
              "      <td>0</td>\n",
              "    </tr>\n",
              "  </tbody>\n",
              "</table>\n",
              "<p>100 rows × 3 columns</p>\n",
              "</div>"
            ],
            "text/plain": [
              "        loss  val_loss  epoch\n",
              "53  0.102849  0.148192     53\n",
              "90  0.097960  0.148551     90\n",
              "70  0.100154  0.148583     70\n",
              "93  0.097801  0.148956     93\n",
              "67  0.100911  0.149223     67\n",
              "..       ...       ...    ...\n",
              "4   0.201826  0.225341      4\n",
              "3   0.229438  0.247509      3\n",
              "2   0.329600  0.286494      2\n",
              "1   0.576445  0.453242      1\n",
              "0   0.875402  0.746763      0\n",
              "\n",
              "[100 rows x 3 columns]"
            ]
          },
          "metadata": {
            "tags": []
          },
          "execution_count": 56
        }
      ]
    },
    {
      "cell_type": "markdown",
      "metadata": {
        "id": "9zNGkM1FdfC6"
      },
      "source": [
        "# Kesimpulan\n",
        "\n",
        "Untuk dataset auto ini, R2 Score paling tinggi dan MSE terendah didapatkan dengan model Wider dengan optimizer RMSprop, dimana:\n",
        "\n",
        "MSE (Mean Squared Error) 0.15048430871933893\n",
        "\n",
        "MAE (Mean Absolute Error) 0.2894472043733007\n",
        "\n",
        "r^2 score 0.8500542879294825\n",
        "\n",
        "RMSE (Root Mean Squared Error 0.3879230706201153"
      ]
    }
  ]
}