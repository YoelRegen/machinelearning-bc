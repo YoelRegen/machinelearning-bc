{
  "nbformat": 4,
  "nbformat_minor": 0,
  "metadata": {
    "colab": {
      "name": "Assignment_16_Bottle_Yoel_RegenT.ipynb",
      "provenance": [],
      "collapsed_sections": [
        "DCrEstfofAsg",
        "kx8efhylfLHv",
        "QtdINMvP4YOt",
        "hGstyEjkfmML"
      ]
    },
    "kernelspec": {
      "name": "python3",
      "display_name": "Python 3"
    },
    "accelerator": "TPU"
  },
  "cells": [
    {
      "cell_type": "markdown",
      "metadata": {
        "id": "DCrEstfofAsg"
      },
      "source": [
        "# Import Libraries dan Read dataset"
      ]
    },
    {
      "cell_type": "code",
      "metadata": {
        "id": "f6Q3OyLKRLIu"
      },
      "source": [
        "import pandas as pd\n",
        "import numpy as np\n",
        "import matplotlib.pyplot as plt\n",
        "import os\n",
        "import seaborn as sb\n",
        "from tensorflow.keras.models import Sequential\n",
        "from tensorflow.keras.layers import Dense"
      ],
      "execution_count": 19,
      "outputs": []
    },
    {
      "cell_type": "code",
      "metadata": {
        "id": "hUpP3zrITRlr",
        "outputId": "0c6b872e-6712-4ff2-ff42-0655a31bde5f",
        "colab": {
          "base_uri": "https://localhost:8080/",
          "height": 287
        }
      },
      "source": [
        "dataset = pd.read_csv('/content/drive/My Drive/BCML/bottle-updated.csv')\n",
        "\n",
        "dataset.describe()"
      ],
      "execution_count": 2,
      "outputs": [
        {
          "output_type": "execute_result",
          "data": {
            "text/html": [
              "<div>\n",
              "<style scoped>\n",
              "    .dataframe tbody tr th:only-of-type {\n",
              "        vertical-align: middle;\n",
              "    }\n",
              "\n",
              "    .dataframe tbody tr th {\n",
              "        vertical-align: top;\n",
              "    }\n",
              "\n",
              "    .dataframe thead th {\n",
              "        text-align: right;\n",
              "    }\n",
              "</style>\n",
              "<table border=\"1\" class=\"dataframe\">\n",
              "  <thead>\n",
              "    <tr style=\"text-align: right;\">\n",
              "      <th></th>\n",
              "      <th>Unnamed: 0</th>\n",
              "      <th>Depthm</th>\n",
              "      <th>T_degC</th>\n",
              "      <th>Salnty</th>\n",
              "    </tr>\n",
              "  </thead>\n",
              "  <tbody>\n",
              "    <tr>\n",
              "      <th>count</th>\n",
              "      <td>864863.000000</td>\n",
              "      <td>864863.000000</td>\n",
              "      <td>853900.000000</td>\n",
              "      <td>817509.000000</td>\n",
              "    </tr>\n",
              "    <tr>\n",
              "      <th>mean</th>\n",
              "      <td>432431.000000</td>\n",
              "      <td>226.831951</td>\n",
              "      <td>10.799677</td>\n",
              "      <td>33.840350</td>\n",
              "    </tr>\n",
              "    <tr>\n",
              "      <th>std</th>\n",
              "      <td>249664.587267</td>\n",
              "      <td>316.050259</td>\n",
              "      <td>4.243825</td>\n",
              "      <td>0.461843</td>\n",
              "    </tr>\n",
              "    <tr>\n",
              "      <th>min</th>\n",
              "      <td>0.000000</td>\n",
              "      <td>0.000000</td>\n",
              "      <td>1.440000</td>\n",
              "      <td>28.431000</td>\n",
              "    </tr>\n",
              "    <tr>\n",
              "      <th>25%</th>\n",
              "      <td>216215.500000</td>\n",
              "      <td>46.000000</td>\n",
              "      <td>7.680000</td>\n",
              "      <td>33.488000</td>\n",
              "    </tr>\n",
              "    <tr>\n",
              "      <th>50%</th>\n",
              "      <td>432431.000000</td>\n",
              "      <td>125.000000</td>\n",
              "      <td>10.060000</td>\n",
              "      <td>33.863000</td>\n",
              "    </tr>\n",
              "    <tr>\n",
              "      <th>75%</th>\n",
              "      <td>648646.500000</td>\n",
              "      <td>300.000000</td>\n",
              "      <td>13.880000</td>\n",
              "      <td>34.196900</td>\n",
              "    </tr>\n",
              "    <tr>\n",
              "      <th>max</th>\n",
              "      <td>864862.000000</td>\n",
              "      <td>5351.000000</td>\n",
              "      <td>31.140000</td>\n",
              "      <td>37.034000</td>\n",
              "    </tr>\n",
              "  </tbody>\n",
              "</table>\n",
              "</div>"
            ],
            "text/plain": [
              "          Unnamed: 0         Depthm         T_degC         Salnty\n",
              "count  864863.000000  864863.000000  853900.000000  817509.000000\n",
              "mean   432431.000000     226.831951      10.799677      33.840350\n",
              "std    249664.587267     316.050259       4.243825       0.461843\n",
              "min         0.000000       0.000000       1.440000      28.431000\n",
              "25%    216215.500000      46.000000       7.680000      33.488000\n",
              "50%    432431.000000     125.000000      10.060000      33.863000\n",
              "75%    648646.500000     300.000000      13.880000      34.196900\n",
              "max    864862.000000    5351.000000      31.140000      37.034000"
            ]
          },
          "metadata": {
            "tags": []
          },
          "execution_count": 2
        }
      ]
    },
    {
      "cell_type": "markdown",
      "metadata": {
        "id": "kx8efhylfLHv"
      },
      "source": [
        "# EDA dan Data Cleaning"
      ]
    },
    {
      "cell_type": "code",
      "metadata": {
        "id": "xWmX5btATRjP",
        "outputId": "ed89a2ad-2dfc-4d86-801e-96afb0e70336",
        "colab": {
          "base_uri": "https://localhost:8080/",
          "height": 0
        }
      },
      "source": [
        "dataset.info()"
      ],
      "execution_count": 3,
      "outputs": [
        {
          "output_type": "stream",
          "text": [
            "<class 'pandas.core.frame.DataFrame'>\n",
            "RangeIndex: 864863 entries, 0 to 864862\n",
            "Data columns (total 4 columns):\n",
            " #   Column      Non-Null Count   Dtype  \n",
            "---  ------      --------------   -----  \n",
            " 0   Unnamed: 0  864863 non-null  int64  \n",
            " 1   Depthm      864863 non-null  int64  \n",
            " 2   T_degC      853900 non-null  float64\n",
            " 3   Salnty      817509 non-null  float64\n",
            "dtypes: float64(2), int64(2)\n",
            "memory usage: 26.4 MB\n"
          ],
          "name": "stdout"
        }
      ]
    },
    {
      "cell_type": "code",
      "metadata": {
        "id": "2K16VGWgajQZ",
        "outputId": "ee77e400-140e-490c-c5ef-33d151e4f22f",
        "colab": {
          "base_uri": "https://localhost:8080/",
          "height": 0
        }
      },
      "source": [
        "dataset.head()"
      ],
      "execution_count": 4,
      "outputs": [
        {
          "output_type": "execute_result",
          "data": {
            "text/html": [
              "<div>\n",
              "<style scoped>\n",
              "    .dataframe tbody tr th:only-of-type {\n",
              "        vertical-align: middle;\n",
              "    }\n",
              "\n",
              "    .dataframe tbody tr th {\n",
              "        vertical-align: top;\n",
              "    }\n",
              "\n",
              "    .dataframe thead th {\n",
              "        text-align: right;\n",
              "    }\n",
              "</style>\n",
              "<table border=\"1\" class=\"dataframe\">\n",
              "  <thead>\n",
              "    <tr style=\"text-align: right;\">\n",
              "      <th></th>\n",
              "      <th>Unnamed: 0</th>\n",
              "      <th>Depthm</th>\n",
              "      <th>T_degC</th>\n",
              "      <th>Salnty</th>\n",
              "    </tr>\n",
              "  </thead>\n",
              "  <tbody>\n",
              "    <tr>\n",
              "      <th>0</th>\n",
              "      <td>0</td>\n",
              "      <td>0</td>\n",
              "      <td>10.50</td>\n",
              "      <td>33.440</td>\n",
              "    </tr>\n",
              "    <tr>\n",
              "      <th>1</th>\n",
              "      <td>1</td>\n",
              "      <td>8</td>\n",
              "      <td>10.46</td>\n",
              "      <td>33.440</td>\n",
              "    </tr>\n",
              "    <tr>\n",
              "      <th>2</th>\n",
              "      <td>2</td>\n",
              "      <td>10</td>\n",
              "      <td>10.46</td>\n",
              "      <td>33.437</td>\n",
              "    </tr>\n",
              "    <tr>\n",
              "      <th>3</th>\n",
              "      <td>3</td>\n",
              "      <td>19</td>\n",
              "      <td>10.45</td>\n",
              "      <td>33.420</td>\n",
              "    </tr>\n",
              "    <tr>\n",
              "      <th>4</th>\n",
              "      <td>4</td>\n",
              "      <td>20</td>\n",
              "      <td>10.45</td>\n",
              "      <td>33.421</td>\n",
              "    </tr>\n",
              "  </tbody>\n",
              "</table>\n",
              "</div>"
            ],
            "text/plain": [
              "   Unnamed: 0  Depthm  T_degC  Salnty\n",
              "0           0       0   10.50  33.440\n",
              "1           1       8   10.46  33.440\n",
              "2           2      10   10.46  33.437\n",
              "3           3      19   10.45  33.420\n",
              "4           4      20   10.45  33.421"
            ]
          },
          "metadata": {
            "tags": []
          },
          "execution_count": 4
        }
      ]
    },
    {
      "cell_type": "code",
      "metadata": {
        "id": "O77F8BQvU6as"
      },
      "source": [
        "# Replace nilai \"?\" dengan None\n",
        "\n",
        "dataset.replace(\"?\", np.nan, inplace=True)"
      ],
      "execution_count": 5,
      "outputs": []
    },
    {
      "cell_type": "code",
      "metadata": {
        "id": "vmTz-F15Wacd",
        "outputId": "d00f98f3-d75e-46c5-f1cd-a4ce043376bb",
        "colab": {
          "base_uri": "https://localhost:8080/",
          "height": 0
        }
      },
      "source": [
        "dataset.isnull().sum().sort_values()"
      ],
      "execution_count": 6,
      "outputs": [
        {
          "output_type": "execute_result",
          "data": {
            "text/plain": [
              "Unnamed: 0        0\n",
              "Depthm            0\n",
              "T_degC        10963\n",
              "Salnty        47354\n",
              "dtype: int64"
            ]
          },
          "metadata": {
            "tags": []
          },
          "execution_count": 6
        }
      ]
    },
    {
      "cell_type": "code",
      "metadata": {
        "id": "HGNpSsV_ab8d",
        "outputId": "ed7029e4-873a-4f92-ec3f-664acb916bf2",
        "colab": {
          "base_uri": "https://localhost:8080/",
          "height": 0
        }
      },
      "source": [
        "# Rata-rata\n",
        "avg_T_degC = dataset['T_degC'].astype('float').mean(axis=0)\n",
        "avg_T_degC"
      ],
      "execution_count": 7,
      "outputs": [
        {
          "output_type": "execute_result",
          "data": {
            "text/plain": [
              "10.799676920013631"
            ]
          },
          "metadata": {
            "tags": []
          },
          "execution_count": 7
        }
      ]
    },
    {
      "cell_type": "code",
      "metadata": {
        "id": "_SS-JHJ_bCIt",
        "outputId": "6fe8411b-fa01-4cdf-dc70-2228cb4a2062",
        "colab": {
          "base_uri": "https://localhost:8080/",
          "height": 0
        }
      },
      "source": [
        "# Replace data none dengan nilai rata-rata2\n",
        "dataset[\"T_degC\"].replace(np.nan, avg_T_degC, inplace=True)\n",
        "dataset.head()"
      ],
      "execution_count": 8,
      "outputs": [
        {
          "output_type": "execute_result",
          "data": {
            "text/html": [
              "<div>\n",
              "<style scoped>\n",
              "    .dataframe tbody tr th:only-of-type {\n",
              "        vertical-align: middle;\n",
              "    }\n",
              "\n",
              "    .dataframe tbody tr th {\n",
              "        vertical-align: top;\n",
              "    }\n",
              "\n",
              "    .dataframe thead th {\n",
              "        text-align: right;\n",
              "    }\n",
              "</style>\n",
              "<table border=\"1\" class=\"dataframe\">\n",
              "  <thead>\n",
              "    <tr style=\"text-align: right;\">\n",
              "      <th></th>\n",
              "      <th>Unnamed: 0</th>\n",
              "      <th>Depthm</th>\n",
              "      <th>T_degC</th>\n",
              "      <th>Salnty</th>\n",
              "    </tr>\n",
              "  </thead>\n",
              "  <tbody>\n",
              "    <tr>\n",
              "      <th>0</th>\n",
              "      <td>0</td>\n",
              "      <td>0</td>\n",
              "      <td>10.50</td>\n",
              "      <td>33.440</td>\n",
              "    </tr>\n",
              "    <tr>\n",
              "      <th>1</th>\n",
              "      <td>1</td>\n",
              "      <td>8</td>\n",
              "      <td>10.46</td>\n",
              "      <td>33.440</td>\n",
              "    </tr>\n",
              "    <tr>\n",
              "      <th>2</th>\n",
              "      <td>2</td>\n",
              "      <td>10</td>\n",
              "      <td>10.46</td>\n",
              "      <td>33.437</td>\n",
              "    </tr>\n",
              "    <tr>\n",
              "      <th>3</th>\n",
              "      <td>3</td>\n",
              "      <td>19</td>\n",
              "      <td>10.45</td>\n",
              "      <td>33.420</td>\n",
              "    </tr>\n",
              "    <tr>\n",
              "      <th>4</th>\n",
              "      <td>4</td>\n",
              "      <td>20</td>\n",
              "      <td>10.45</td>\n",
              "      <td>33.421</td>\n",
              "    </tr>\n",
              "  </tbody>\n",
              "</table>\n",
              "</div>"
            ],
            "text/plain": [
              "   Unnamed: 0  Depthm  T_degC  Salnty\n",
              "0           0       0   10.50  33.440\n",
              "1           1       8   10.46  33.440\n",
              "2           2      10   10.46  33.437\n",
              "3           3      19   10.45  33.420\n",
              "4           4      20   10.45  33.421"
            ]
          },
          "metadata": {
            "tags": []
          },
          "execution_count": 8
        }
      ]
    },
    {
      "cell_type": "code",
      "metadata": {
        "id": "7L_F5sa3bOR4",
        "outputId": "b43b479b-867b-406a-b322-f82ae8287fc2",
        "colab": {
          "base_uri": "https://localhost:8080/",
          "height": 0
        }
      },
      "source": [
        "# Drop data null pada Salnty\n",
        "dataset.dropna(subset=[\"Salnty\"], axis=0, inplace=True)\n",
        "dataset.isnull().sum()"
      ],
      "execution_count": 9,
      "outputs": [
        {
          "output_type": "execute_result",
          "data": {
            "text/plain": [
              "Unnamed: 0    0\n",
              "Depthm        0\n",
              "T_degC        0\n",
              "Salnty        0\n",
              "dtype: int64"
            ]
          },
          "metadata": {
            "tags": []
          },
          "execution_count": 9
        }
      ]
    },
    {
      "cell_type": "code",
      "metadata": {
        "id": "wlLOBVkmkwdW",
        "outputId": "ccd9ecf8-c180-43ca-9ab1-be674115f77d",
        "colab": {
          "base_uri": "https://localhost:8080/",
          "height": 0
        }
      },
      "source": [
        "# Drop kolom index\n",
        "dataset.drop(['Unnamed: 0'], axis=1, inplace=True)\n",
        "dataset.info()"
      ],
      "execution_count": 10,
      "outputs": [
        {
          "output_type": "stream",
          "text": [
            "<class 'pandas.core.frame.DataFrame'>\n",
            "Int64Index: 817509 entries, 0 to 864862\n",
            "Data columns (total 3 columns):\n",
            " #   Column  Non-Null Count   Dtype  \n",
            "---  ------  --------------   -----  \n",
            " 0   Depthm  817509 non-null  int64  \n",
            " 1   T_degC  817509 non-null  float64\n",
            " 2   Salnty  817509 non-null  float64\n",
            "dtypes: float64(2), int64(1)\n",
            "memory usage: 24.9 MB\n"
          ],
          "name": "stdout"
        }
      ]
    },
    {
      "cell_type": "code",
      "metadata": {
        "id": "6E3OovhbTRg7",
        "outputId": "36c5ce71-5418-4156-d06a-729b92d068cd",
        "colab": {
          "base_uri": "https://localhost:8080/",
          "height": 0
        }
      },
      "source": [
        "dataset.hist(figsize=(18, 22), bins=50, xlabelsize=8, ylabelsize=8)"
      ],
      "execution_count": 11,
      "outputs": [
        {
          "output_type": "execute_result",
          "data": {
            "text/plain": [
              "array([[<matplotlib.axes._subplots.AxesSubplot object at 0x7f6b28c6bc88>,\n",
              "        <matplotlib.axes._subplots.AxesSubplot object at 0x7f6b28c43dd8>],\n",
              "       [<matplotlib.axes._subplots.AxesSubplot object at 0x7f6b28c06048>,\n",
              "        <matplotlib.axes._subplots.AxesSubplot object at 0x7f6b28bb62e8>]],\n",
              "      dtype=object)"
            ]
          },
          "metadata": {
            "tags": []
          },
          "execution_count": 11
        },
        {
          "output_type": "display_data",
          "data": {
            "image/png": "[encoded data removed]",
            "text/plain": [
              "<Figure size 1296x1584 with 4 Axes>"
            ]
          },
          "metadata": {
            "tags": [],
            "needs_background": "light"
          }
        }
      ]
    },
    {
      "cell_type": "code",
      "metadata": {
        "id": "h5d42xpJTRey",
        "outputId": "d41e1e21-662f-4c43-dfd6-a628a6986437",
        "colab": {
          "base_uri": "https://localhost:8080/",
          "height": 0
        }
      },
      "source": [
        "corr = dataset.corr()\n",
        "\n",
        "corr"
      ],
      "execution_count": 12,
      "outputs": [
        {
          "output_type": "execute_result",
          "data": {
            "text/html": [
              "<div>\n",
              "<style scoped>\n",
              "    .dataframe tbody tr th:only-of-type {\n",
              "        vertical-align: middle;\n",
              "    }\n",
              "\n",
              "    .dataframe tbody tr th {\n",
              "        vertical-align: top;\n",
              "    }\n",
              "\n",
              "    .dataframe thead th {\n",
              "        text-align: right;\n",
              "    }\n",
              "</style>\n",
              "<table border=\"1\" class=\"dataframe\">\n",
              "  <thead>\n",
              "    <tr style=\"text-align: right;\">\n",
              "      <th></th>\n",
              "      <th>Depthm</th>\n",
              "      <th>T_degC</th>\n",
              "      <th>Salnty</th>\n",
              "    </tr>\n",
              "  </thead>\n",
              "  <tbody>\n",
              "    <tr>\n",
              "      <th>Depthm</th>\n",
              "      <td>1.000000</td>\n",
              "      <td>-0.675604</td>\n",
              "      <td>0.57263</td>\n",
              "    </tr>\n",
              "    <tr>\n",
              "      <th>T_degC</th>\n",
              "      <td>-0.675604</td>\n",
              "      <td>1.000000</td>\n",
              "      <td>-0.50400</td>\n",
              "    </tr>\n",
              "    <tr>\n",
              "      <th>Salnty</th>\n",
              "      <td>0.572630</td>\n",
              "      <td>-0.504000</td>\n",
              "      <td>1.00000</td>\n",
              "    </tr>\n",
              "  </tbody>\n",
              "</table>\n",
              "</div>"
            ],
            "text/plain": [
              "          Depthm    T_degC   Salnty\n",
              "Depthm  1.000000 -0.675604  0.57263\n",
              "T_degC -0.675604  1.000000 -0.50400\n",
              "Salnty  0.572630 -0.504000  1.00000"
            ]
          },
          "metadata": {
            "tags": []
          },
          "execution_count": 12
        }
      ]
    },
    {
      "cell_type": "code",
      "metadata": {
        "id": "MTasgGXDTRcT",
        "outputId": "6656e6e6-6419-40c6-824e-b1a8f9878295",
        "colab": {
          "base_uri": "https://localhost:8080/",
          "height": 0
        }
      },
      "source": [
        "plt.figure(figsize=(20,20))\n",
        "sb.heatmap(corr, cbar=True, square= True, fmt='.1f', annot=True, annot_kws={'size':15}, cmap='Greens')"
      ],
      "execution_count": 13,
      "outputs": [
        {
          "output_type": "execute_result",
          "data": {
            "text/plain": [
              "<matplotlib.axes._subplots.AxesSubplot at 0x7f6b289579b0>"
            ]
          },
          "metadata": {
            "tags": []
          },
          "execution_count": 13
        },
        {
          "output_type": "display_data",
          "data": {
            "image/png": "[encoded data removed]",
            "text/plain": [
              "<Figure size 1440x1440 with 2 Axes>"
            ]
          },
          "metadata": {
            "tags": [],
            "needs_background": "light"
          }
        }
      ]
    },
    {
      "cell_type": "markdown",
      "metadata": {
        "id": "QtdINMvP4YOt"
      },
      "source": [
        "# Feature Engineering"
      ]
    },
    {
      "cell_type": "code",
      "metadata": {
        "id": "D2cvZwxU4UKL"
      },
      "source": [
        "label = dataset['Salnty']\n",
        "features = dataset.drop(['Salnty'], axis=1)"
      ],
      "execution_count": 14,
      "outputs": []
    },
    {
      "cell_type": "code",
      "metadata": {
        "id": "ivxW5Lny5QmX"
      },
      "source": [
        "from sklearn import preprocessing\n",
        "scaler = preprocessing.StandardScaler()\n",
        "\n",
        "features = scaler.fit_transform(features.values)\n",
        "label = scaler.fit_transform(label.values.reshape(-1,1)).flatten()"
      ],
      "execution_count": 15,
      "outputs": []
    },
    {
      "cell_type": "code",
      "metadata": {
        "id": "eVZoQC3i4e1b"
      },
      "source": [
        "from sklearn.model_selection import train_test_split\n",
        "feature_train, feature_test, label_train, label_test = train_test_split(features, label, test_size=0.25, random_state=10)"
      ],
      "execution_count": 16,
      "outputs": []
    },
    {
      "cell_type": "markdown",
      "metadata": {
        "id": "hGstyEjkfmML"
      },
      "source": [
        "# Linear Regression"
      ]
    },
    {
      "cell_type": "code",
      "metadata": {
        "id": "dtOFfE5y4jUs",
        "outputId": "bb9502c5-16e0-455f-f76c-061c91b7fa79",
        "colab": {
          "base_uri": "https://localhost:8080/",
          "height": 87
        }
      },
      "source": [
        "from sklearn.linear_model import LinearRegression\n",
        "\n",
        "lm = LinearRegression()\n",
        "lm.fit(feature_train, label_train)\n",
        "\n",
        "predictions = lm.predict(feature_test)\n",
        "\n",
        "from sklearn.metrics import mean_squared_error, mean_absolute_error, r2_score\n",
        "\n",
        "mse = mean_squared_error(label_test, predictions)\n",
        "mae = mean_absolute_error(label_test, predictions)\n",
        "r2 = r2_score(label_test, predictions)\n",
        "print(\"MSE (Mean Squared Error)\", mse)\n",
        "print(\"MAE (Mean Absolute Error)\", mae)\n",
        "print(\"r^2 score\", r2)\n",
        "print('RMSE (Root Mean Squared Error', np.sqrt(mean_squared_error(label_test, predictions)))"
      ],
      "execution_count": 20,
      "outputs": [
        {
          "output_type": "stream",
          "text": [
            "MSE (Mean Squared Error) 0.6436007810969308\n",
            "MAE (Mean Absolute Error) 0.5597834805603158\n",
            "r^2 score 0.3541970327535493\n",
            "RMSE (Root Mean Squared Error 0.8022473316234406\n"
          ],
          "name": "stdout"
        }
      ]
    },
    {
      "cell_type": "markdown",
      "metadata": {
        "id": "71NOADCA4oSi"
      },
      "source": [
        "# Baseline"
      ]
    },
    {
      "cell_type": "code",
      "metadata": {
        "id": "u520t66w21i6"
      },
      "source": [
        "# Based on: https://machinelearningmastery.com/regression-tutorial-keras-deep-learning-library-python/\n",
        "model = Sequential()\n",
        "model.add(Dense(13, input_dim=2, kernel_initializer='normal', activation='relu')) # 13 neuron, sesuai dengan 13 features\n",
        "model.add(Dense(1, kernel_initializer='normal'))\n",
        "\n",
        "model.compile(loss='mean_squared_error', optimizer='adam')"
      ],
      "execution_count": 21,
      "outputs": []
    },
    {
      "cell_type": "code",
      "metadata": {
        "id": "SvGU4xsO6C74",
        "outputId": "3805dd01-bc78-4c14-c66b-4641682edb73",
        "colab": {
          "base_uri": "https://localhost:8080/",
          "height": 1000
        }
      },
      "source": [
        "model.fit(x=feature_train, y=label_train, validation_data=(feature_test, label_test), epochs=50, batch_size=8)"
      ],
      "execution_count": 22,
      "outputs": [
        {
          "output_type": "stream",
          "text": [
            "Epoch 1/50\n",
            "76642/76642 [==============================] - 137s 2ms/step - loss: 0.3616 - val_loss: 0.3339\n",
            "Epoch 2/50\n",
            "76642/76642 [==============================] - 137s 2ms/step - loss: 0.3401 - val_loss: 0.3324\n",
            "Epoch 3/50\n",
            "76642/76642 [==============================] - 138s 2ms/step - loss: 0.3396 - val_loss: 0.3376\n",
            "Epoch 4/50\n",
            "76642/76642 [==============================] - 138s 2ms/step - loss: 0.3338 - val_loss: 0.3130\n",
            "Epoch 5/50\n",
            "76642/76642 [==============================] - 138s 2ms/step - loss: 0.3154 - val_loss: 0.3075\n",
            "Epoch 6/50\n",
            "76642/76642 [==============================] - 137s 2ms/step - loss: 0.3126 - val_loss: 0.3162\n",
            "Epoch 7/50\n",
            "76642/76642 [==============================] - 137s 2ms/step - loss: 0.3119 - val_loss: 0.3074\n",
            "Epoch 8/50\n",
            "76642/76642 [==============================] - 137s 2ms/step - loss: 0.3115 - val_loss: 0.3072\n",
            "Epoch 9/50\n",
            "76642/76642 [==============================] - 136s 2ms/step - loss: 0.3113 - val_loss: 0.3047\n",
            "Epoch 10/50\n",
            "76642/76642 [==============================] - 137s 2ms/step - loss: 0.3110 - val_loss: 0.3045\n",
            "Epoch 11/50\n",
            "76642/76642 [==============================] - 137s 2ms/step - loss: 0.3110 - val_loss: 0.3042\n",
            "Epoch 12/50\n",
            "76642/76642 [==============================] - 137s 2ms/step - loss: 0.3108 - val_loss: 0.3073\n",
            "Epoch 13/50\n",
            "76642/76642 [==============================] - 136s 2ms/step - loss: 0.3105 - val_loss: 0.3047\n",
            "Epoch 14/50\n",
            "76642/76642 [==============================] - 137s 2ms/step - loss: 0.3105 - val_loss: 0.3042\n",
            "Epoch 15/50\n",
            "76642/76642 [==============================] - 136s 2ms/step - loss: 0.3104 - val_loss: 0.3038\n",
            "Epoch 16/50\n",
            "76642/76642 [==============================] - 137s 2ms/step - loss: 0.3105 - val_loss: 0.3065\n",
            "Epoch 17/50\n",
            "76642/76642 [==============================] - 138s 2ms/step - loss: 0.3104 - val_loss: 0.3047\n",
            "Epoch 18/50\n",
            "76642/76642 [==============================] - 138s 2ms/step - loss: 0.3103 - val_loss: 0.3041\n",
            "Epoch 19/50\n",
            "76642/76642 [==============================] - 145s 2ms/step - loss: 0.3104 - val_loss: 0.3070\n",
            "Epoch 20/50\n",
            "76642/76642 [==============================] - 138s 2ms/step - loss: 0.3101 - val_loss: 0.3053\n",
            "Epoch 21/50\n",
            "76642/76642 [==============================] - 140s 2ms/step - loss: 0.3101 - val_loss: 0.3044\n",
            "Epoch 22/50\n",
            "76642/76642 [==============================] - 142s 2ms/step - loss: 0.3100 - val_loss: 0.3047\n",
            "Epoch 23/50\n",
            "76642/76642 [==============================] - 141s 2ms/step - loss: 0.3100 - val_loss: 0.3115\n",
            "Epoch 24/50\n",
            "76642/76642 [==============================] - 142s 2ms/step - loss: 0.3100 - val_loss: 0.3040\n",
            "Epoch 25/50\n",
            "76642/76642 [==============================] - 138s 2ms/step - loss: 0.3098 - val_loss: 0.3128\n",
            "Epoch 26/50\n",
            "76642/76642 [==============================] - 140s 2ms/step - loss: 0.3096 - val_loss: 0.3043\n",
            "Epoch 27/50\n",
            "76642/76642 [==============================] - 139s 2ms/step - loss: 0.3095 - val_loss: 0.3046\n",
            "Epoch 28/50\n",
            "76642/76642 [==============================] - 138s 2ms/step - loss: 0.3095 - val_loss: 0.3068\n",
            "Epoch 29/50\n",
            "76642/76642 [==============================] - 137s 2ms/step - loss: 0.3093 - val_loss: 0.3039\n",
            "Epoch 30/50\n",
            "76642/76642 [==============================] - 137s 2ms/step - loss: 0.3093 - val_loss: 0.3034\n",
            "Epoch 31/50\n",
            "76642/76642 [==============================] - 137s 2ms/step - loss: 0.3093 - val_loss: 0.3031\n",
            "Epoch 32/50\n",
            "76642/76642 [==============================] - 138s 2ms/step - loss: 0.3093 - val_loss: 0.3031\n",
            "Epoch 33/50\n",
            "76642/76642 [==============================] - 137s 2ms/step - loss: 0.3092 - val_loss: 0.3031\n",
            "Epoch 34/50\n",
            "76642/76642 [==============================] - 137s 2ms/step - loss: 0.3092 - val_loss: 0.3031\n",
            "Epoch 35/50\n",
            "76642/76642 [==============================] - 138s 2ms/step - loss: 0.3090 - val_loss: 0.3045\n",
            "Epoch 36/50\n",
            "76642/76642 [==============================] - 137s 2ms/step - loss: 0.3071 - val_loss: 0.3010\n",
            "Epoch 37/50\n",
            "76642/76642 [==============================] - 138s 2ms/step - loss: 0.3062 - val_loss: 0.3026\n",
            "Epoch 38/50\n",
            "76642/76642 [==============================] - 137s 2ms/step - loss: 0.3057 - val_loss: 0.3002\n",
            "Epoch 39/50\n",
            "76642/76642 [==============================] - 137s 2ms/step - loss: 0.3054 - val_loss: 0.3022\n",
            "Epoch 40/50\n",
            "76642/76642 [==============================] - 137s 2ms/step - loss: 0.3054 - val_loss: 0.3056\n",
            "Epoch 41/50\n",
            "76642/76642 [==============================] - 138s 2ms/step - loss: 0.3053 - val_loss: 0.2998\n",
            "Epoch 42/50\n",
            "76642/76642 [==============================] - 137s 2ms/step - loss: 0.3053 - val_loss: 0.3008\n",
            "Epoch 43/50\n",
            "76642/76642 [==============================] - 137s 2ms/step - loss: 0.3053 - val_loss: 0.3001\n",
            "Epoch 44/50\n",
            "76642/76642 [==============================] - 138s 2ms/step - loss: 0.3053 - val_loss: 0.3009\n",
            "Epoch 45/50\n",
            "76642/76642 [==============================] - 137s 2ms/step - loss: 0.3053 - val_loss: 0.2997\n",
            "Epoch 46/50\n",
            "76642/76642 [==============================] - 138s 2ms/step - loss: 0.3053 - val_loss: 0.3005\n",
            "Epoch 47/50\n",
            "76642/76642 [==============================] - 136s 2ms/step - loss: 0.3053 - val_loss: 0.3010\n",
            "Epoch 48/50\n",
            "76642/76642 [==============================] - 137s 2ms/step - loss: 0.3053 - val_loss: 0.3022\n",
            "Epoch 49/50\n",
            "76642/76642 [==============================] - 138s 2ms/step - loss: 0.3053 - val_loss: 0.3004\n",
            "Epoch 50/50\n",
            "76642/76642 [==============================] - 138s 2ms/step - loss: 0.3053 - val_loss: 0.2994\n"
          ],
          "name": "stdout"
        },
        {
          "output_type": "execute_result",
          "data": {
            "text/plain": [
              "<tensorflow.python.keras.callbacks.History at 0x7f3c80f47ba8>"
            ]
          },
          "metadata": {
            "tags": []
          },
          "execution_count": 22
        }
      ]
    },
    {
      "cell_type": "code",
      "metadata": {
        "id": "WeJGsG9a6oca"
      },
      "source": [
        "predictions = model.predict(feature_test)\n",
        "\n",
        "predictions = predictions.flatten()"
      ],
      "execution_count": 23,
      "outputs": []
    },
    {
      "cell_type": "code",
      "metadata": {
        "id": "6RIqgTJK8EkK",
        "outputId": "7933b440-3254-4786-fead-b4153c70263e",
        "colab": {
          "base_uri": "https://localhost:8080/",
          "height": 87
        }
      },
      "source": [
        "from sklearn.metrics import mean_squared_error, mean_absolute_error, r2_score\n",
        "\n",
        "mse = mean_squared_error(label_test, predictions)\n",
        "mae = mean_absolute_error(label_test, predictions)\n",
        "r2 = r2_score(label_test, predictions)\n",
        "print(\"MSE (Mean Squared Error)\", mse)\n",
        "print(\"MAE (Mean Absolute Error)\", mae)\n",
        "print(\"r^2 score\", r2)\n",
        "print('RMSE (Root Mean Squared Error', np.sqrt(mean_squared_error(label_test, predictions)))"
      ],
      "execution_count": 24,
      "outputs": [
        {
          "output_type": "stream",
          "text": [
            "MSE (Mean Squared Error) 0.2994104362794727\n",
            "MAE (Mean Absolute Error) 0.3525312800494816\n",
            "r^2 score 0.6995650815645662\n",
            "RMSE (Root Mean Squared Error 0.5471840972465051\n"
          ],
          "name": "stdout"
        }
      ]
    },
    {
      "cell_type": "markdown",
      "metadata": {
        "id": "eeLikvdE9MsO"
      },
      "source": [
        "## Deeper Model"
      ]
    },
    {
      "cell_type": "code",
      "metadata": {
        "id": "MEiteeaV8YOc",
        "outputId": "a583b9dd-d16e-4410-a71e-4c696260dc58",
        "colab": {
          "base_uri": "https://localhost:8080/",
          "height": 1000
        }
      },
      "source": [
        "deeper_model = Sequential()\n",
        "deeper_model.add(Dense(13, input_dim=2, kernel_initializer='normal', activation='relu'))\n",
        "deeper_model.add(Dense(6, kernel_initializer='normal', activation='relu'))\n",
        "deeper_model.add(Dense(1, kernel_initializer='normal'))\n",
        "\n",
        "deeper_model.compile(loss='mean_squared_error', optimizer='adam')\n",
        "\n",
        "deeper_model.fit(x=feature_train, y=label_train, validation_data=(feature_test, label_test), epochs=50, batch_size=8)"
      ],
      "execution_count": 20,
      "outputs": [
        {
          "output_type": "stream",
          "text": [
            "Epoch 1/50\n",
            "76642/76642 [==============================] - 94s 1ms/step - loss: 0.3155 - val_loss: 0.3014\n",
            "Epoch 2/50\n",
            "76642/76642 [==============================] - 76s 994us/step - loss: 0.3044 - val_loss: 0.2997\n",
            "Epoch 3/50\n",
            "76642/76642 [==============================] - 76s 986us/step - loss: 0.3031 - val_loss: 0.3005\n",
            "Epoch 4/50\n",
            "76642/76642 [==============================] - 75s 977us/step - loss: 0.3027 - val_loss: 0.3017\n",
            "Epoch 5/50\n",
            "76642/76642 [==============================] - 75s 981us/step - loss: 0.3016 - val_loss: 0.2978\n",
            "Epoch 6/50\n",
            "76642/76642 [==============================] - 84s 1ms/step - loss: 0.3007 - val_loss: 0.2968\n",
            "Epoch 7/50\n",
            "76642/76642 [==============================] - 83s 1ms/step - loss: 0.2996 - val_loss: 0.2953\n",
            "Epoch 8/50\n",
            "76642/76642 [==============================] - 70s 918us/step - loss: 0.2989 - val_loss: 0.2935\n",
            "Epoch 9/50\n",
            "76642/76642 [==============================] - 70s 916us/step - loss: 0.2987 - val_loss: 0.2940\n",
            "Epoch 10/50\n",
            "76642/76642 [==============================] - 68s 893us/step - loss: 0.2985 - val_loss: 0.2955\n",
            "Epoch 11/50\n",
            "76642/76642 [==============================] - 70s 912us/step - loss: 0.2984 - val_loss: 0.2950\n",
            "Epoch 12/50\n",
            "76642/76642 [==============================] - 96s 1ms/step - loss: 0.2983 - val_loss: 0.2944\n",
            "Epoch 13/50\n",
            "76642/76642 [==============================] - 83s 1ms/step - loss: 0.2982 - val_loss: 0.2946\n",
            "Epoch 14/50\n",
            "76642/76642 [==============================] - 86s 1ms/step - loss: 0.2982 - val_loss: 0.2937\n",
            "Epoch 15/50\n",
            "76642/76642 [==============================] - 72s 939us/step - loss: 0.2981 - val_loss: 0.2944\n",
            "Epoch 16/50\n",
            "76642/76642 [==============================] - 70s 912us/step - loss: 0.2980 - val_loss: 0.2937\n",
            "Epoch 17/50\n",
            "76642/76642 [==============================] - 72s 937us/step - loss: 0.2979 - val_loss: 0.2941\n",
            "Epoch 18/50\n",
            "76642/76642 [==============================] - 67s 870us/step - loss: 0.2979 - val_loss: 0.2937\n",
            "Epoch 19/50\n",
            "76642/76642 [==============================] - 66s 860us/step - loss: 0.2978 - val_loss: 0.2927\n",
            "Epoch 20/50\n",
            "76642/76642 [==============================] - 68s 889us/step - loss: 0.2977 - val_loss: 0.2957\n",
            "Epoch 21/50\n",
            "76642/76642 [==============================] - 75s 974us/step - loss: 0.2978 - val_loss: 0.2942\n",
            "Epoch 22/50\n",
            "76642/76642 [==============================] - 64s 839us/step - loss: 0.2977 - val_loss: 0.2936\n",
            "Epoch 23/50\n",
            "76642/76642 [==============================] - 67s 868us/step - loss: 0.2976 - val_loss: 0.2980\n",
            "Epoch 24/50\n",
            "76642/76642 [==============================] - 75s 972us/step - loss: 0.2975 - val_loss: 0.2924\n",
            "Epoch 25/50\n",
            "76642/76642 [==============================] - 72s 946us/step - loss: 0.2975 - val_loss: 0.2975\n",
            "Epoch 26/50\n",
            "76642/76642 [==============================] - 107s 1ms/step - loss: 0.2975 - val_loss: 0.2972\n",
            "Epoch 27/50\n",
            "76642/76642 [==============================] - 89s 1ms/step - loss: 0.2975 - val_loss: 0.2932\n",
            "Epoch 28/50\n",
            "76642/76642 [==============================] - 78s 1ms/step - loss: 0.2974 - val_loss: 0.2945\n",
            "Epoch 29/50\n",
            "76642/76642 [==============================] - 78s 1ms/step - loss: 0.2975 - val_loss: 0.2930\n",
            "Epoch 30/50\n",
            "76642/76642 [==============================] - 82s 1ms/step - loss: 0.2974 - val_loss: 0.2928\n",
            "Epoch 31/50\n",
            "76642/76642 [==============================] - 87s 1ms/step - loss: 0.2974 - val_loss: 0.2926\n",
            "Epoch 32/50\n",
            "76642/76642 [==============================] - 93s 1ms/step - loss: 0.2974 - val_loss: 0.2955\n",
            "Epoch 33/50\n",
            "76642/76642 [==============================] - 99s 1ms/step - loss: 0.2974 - val_loss: 0.2944\n",
            "Epoch 34/50\n",
            "76642/76642 [==============================] - 81s 1ms/step - loss: 0.2973 - val_loss: 0.2947\n",
            "Epoch 35/50\n",
            "76642/76642 [==============================] - 69s 896us/step - loss: 0.2973 - val_loss: 0.2924\n",
            "Epoch 36/50\n",
            "76642/76642 [==============================] - 69s 903us/step - loss: 0.2973 - val_loss: 0.2927\n",
            "Epoch 37/50\n",
            "76642/76642 [==============================] - 68s 888us/step - loss: 0.2973 - val_loss: 0.2945\n",
            "Epoch 38/50\n",
            "76642/76642 [==============================] - 69s 903us/step - loss: 0.2974 - val_loss: 0.2932\n",
            "Epoch 39/50\n",
            "76642/76642 [==============================] - 67s 870us/step - loss: 0.2973 - val_loss: 0.2972\n",
            "Epoch 40/50\n",
            "76642/76642 [==============================] - 68s 883us/step - loss: 0.2973 - val_loss: 0.2947\n",
            "Epoch 41/50\n",
            "76642/76642 [==============================] - 61s 790us/step - loss: 0.2974 - val_loss: 0.2945\n",
            "Epoch 42/50\n",
            "76642/76642 [==============================] - 62s 807us/step - loss: 0.2973 - val_loss: 0.2931\n",
            "Epoch 43/50\n",
            "76642/76642 [==============================] - 60s 782us/step - loss: 0.2973 - val_loss: 0.2942\n",
            "Epoch 44/50\n",
            "76642/76642 [==============================] - 59s 775us/step - loss: 0.2973 - val_loss: 0.2926\n",
            "Epoch 45/50\n",
            "76642/76642 [==============================] - 61s 802us/step - loss: 0.2973 - val_loss: 0.2938\n",
            "Epoch 46/50\n",
            "76642/76642 [==============================] - 59s 775us/step - loss: 0.2973 - val_loss: 0.2928\n",
            "Epoch 47/50\n",
            "76642/76642 [==============================] - 61s 793us/step - loss: 0.2974 - val_loss: 0.2939\n",
            "Epoch 48/50\n",
            "76642/76642 [==============================] - 60s 786us/step - loss: 0.2972 - val_loss: 0.2934\n",
            "Epoch 49/50\n",
            "76642/76642 [==============================] - 59s 773us/step - loss: 0.2973 - val_loss: 0.2926\n",
            "Epoch 50/50\n",
            "76642/76642 [==============================] - 61s 801us/step - loss: 0.2972 - val_loss: 0.2933\n"
          ],
          "name": "stdout"
        },
        {
          "output_type": "execute_result",
          "data": {
            "text/plain": [
              "<tensorflow.python.keras.callbacks.History at 0x7f6af4123f60>"
            ]
          },
          "metadata": {
            "tags": []
          },
          "execution_count": 20
        }
      ]
    },
    {
      "cell_type": "code",
      "metadata": {
        "id": "lyJeIf8s8yL2"
      },
      "source": [
        "predictions = deeper_model.predict(feature_test)\n",
        "\n",
        "predictions = predictions.flatten()"
      ],
      "execution_count": 21,
      "outputs": []
    },
    {
      "cell_type": "code",
      "metadata": {
        "id": "gP7CrS1n81Ue",
        "outputId": "40e4edeb-6c52-47ef-f92f-ade26fc0e107",
        "colab": {
          "base_uri": "https://localhost:8080/",
          "height": 87
        }
      },
      "source": [
        "from sklearn.metrics import mean_squared_error, mean_absolute_error, r2_score\n",
        "\n",
        "mse = mean_squared_error(label_test, predictions)\n",
        "mae = mean_absolute_error(label_test, predictions)\n",
        "r2 = r2_score(label_test, predictions)\n",
        "print(\"MSE (Mean Squared Error)\", mse)\n",
        "print(\"MAE (Mean Absolute Error)\", mae)\n",
        "print(\"r^2 score\", r2)\n",
        "print('RMSE (Root Mean Squared Error', np.sqrt(mean_squared_error(label_test, predictions)))"
      ],
      "execution_count": 22,
      "outputs": [
        {
          "output_type": "stream",
          "text": [
            "MSE (Mean Squared Error) 0.29325511315437164\n",
            "MAE (Mean Absolute Error) 0.3445997956569064\n",
            "r^2 score 0.705741466142248\n",
            "RMSE (Root Mean Squared Error 0.5415303437060306\n"
          ],
          "name": "stdout"
        }
      ]
    },
    {
      "cell_type": "markdown",
      "metadata": {
        "id": "WAtLbRex9T7M"
      },
      "source": [
        "### Wider model"
      ]
    },
    {
      "cell_type": "code",
      "metadata": {
        "id": "VZrrMdLG9TZ3",
        "outputId": "9f9e89b9-feb7-4792-bd3f-64ad2543376b",
        "colab": {
          "base_uri": "https://localhost:8080/",
          "height": 1000
        }
      },
      "source": [
        "wider_model = Sequential()\n",
        "wider_model.add(Dense(20, input_dim=2, kernel_initializer='normal', activation='relu'))\n",
        "wider_model.add(Dense(1, kernel_initializer='normal'))\n",
        "\n",
        "wider_model.compile(loss='mean_squared_error', optimizer='adam')\n",
        "\n",
        "history = wider_model.fit(x=feature_train, y=label_train, validation_data=(feature_test, label_test), epochs=100, batch_size=8)"
      ],
      "execution_count": 23,
      "outputs": [
        {
          "output_type": "stream",
          "text": [
            "Epoch 1/100\n",
            "76642/76642 [==============================] - 56s 731us/step - loss: 0.3366 - val_loss: 0.3140\n",
            "Epoch 2/100\n",
            "76642/76642 [==============================] - 56s 729us/step - loss: 0.3157 - val_loss: 0.3103\n",
            "Epoch 3/100\n",
            "76642/76642 [==============================] - 56s 731us/step - loss: 0.3120 - val_loss: 0.3068\n",
            "Epoch 4/100\n",
            "76642/76642 [==============================] - 54s 709us/step - loss: 0.3103 - val_loss: 0.3038\n",
            "Epoch 5/100\n",
            "76642/76642 [==============================] - 53s 692us/step - loss: 0.3091 - val_loss: 0.3124\n",
            "Epoch 6/100\n",
            "76642/76642 [==============================] - 54s 707us/step - loss: 0.3072 - val_loss: 0.3017\n",
            "Epoch 7/100\n",
            "76642/76642 [==============================] - 53s 689us/step - loss: 0.3028 - val_loss: 0.3003\n",
            "Epoch 8/100\n",
            "76642/76642 [==============================] - 58s 753us/step - loss: 0.3020 - val_loss: 0.2979\n",
            "Epoch 9/100\n",
            "76642/76642 [==============================] - 70s 914us/step - loss: 0.3018 - val_loss: 0.2982\n",
            "Epoch 10/100\n",
            "76642/76642 [==============================] - 68s 889us/step - loss: 0.3017 - val_loss: 0.2976\n",
            "Epoch 11/100\n",
            "76642/76642 [==============================] - 62s 804us/step - loss: 0.3015 - val_loss: 0.2959\n",
            "Epoch 12/100\n",
            "76642/76642 [==============================] - 65s 847us/step - loss: 0.3012 - val_loss: 0.2960\n",
            "Epoch 13/100\n",
            "76642/76642 [==============================] - 58s 754us/step - loss: 0.3011 - val_loss: 0.3008\n",
            "Epoch 14/100\n",
            "76642/76642 [==============================] - 57s 743us/step - loss: 0.3009 - val_loss: 0.2989\n",
            "Epoch 15/100\n",
            "76642/76642 [==============================] - 60s 783us/step - loss: 0.3007 - val_loss: 0.2983\n",
            "Epoch 16/100\n",
            "76642/76642 [==============================] - 57s 750us/step - loss: 0.3008 - val_loss: 0.2959\n",
            "Epoch 17/100\n",
            "76642/76642 [==============================] - 60s 777us/step - loss: 0.3007 - val_loss: 0.2959\n",
            "Epoch 18/100\n",
            "76642/76642 [==============================] - 64s 835us/step - loss: 0.3007 - val_loss: 0.2977\n",
            "Epoch 19/100\n",
            "76642/76642 [==============================] - 65s 847us/step - loss: 0.3007 - val_loss: 0.2968\n",
            "Epoch 20/100\n",
            "76642/76642 [==============================] - 69s 895us/step - loss: 0.3007 - val_loss: 0.2962\n",
            "Epoch 21/100\n",
            "76642/76642 [==============================] - 77s 1ms/step - loss: 0.3007 - val_loss: 0.2985\n",
            "Epoch 22/100\n",
            "76642/76642 [==============================] - 56s 734us/step - loss: 0.3007 - val_loss: 0.2969\n",
            "Epoch 23/100\n",
            "76642/76642 [==============================] - 58s 755us/step - loss: 0.3006 - val_loss: 0.2986\n",
            "Epoch 24/100\n",
            "76642/76642 [==============================] - 55s 714us/step - loss: 0.3006 - val_loss: 0.3001\n",
            "Epoch 25/100\n",
            "76642/76642 [==============================] - 57s 746us/step - loss: 0.3006 - val_loss: 0.2953\n",
            "Epoch 26/100\n",
            "76642/76642 [==============================] - 58s 753us/step - loss: 0.3006 - val_loss: 0.2948\n",
            "Epoch 27/100\n",
            "76642/76642 [==============================] - 56s 737us/step - loss: 0.3005 - val_loss: 0.2960\n",
            "Epoch 28/100\n",
            "76642/76642 [==============================] - 54s 707us/step - loss: 0.3005 - val_loss: 0.2971\n",
            "Epoch 29/100\n",
            "76642/76642 [==============================] - 54s 699us/step - loss: 0.3005 - val_loss: 0.2952\n",
            "Epoch 30/100\n",
            "76642/76642 [==============================] - 53s 688us/step - loss: 0.3004 - val_loss: 0.2951\n",
            "Epoch 31/100\n",
            "76642/76642 [==============================] - 53s 696us/step - loss: 0.3005 - val_loss: 0.2962\n",
            "Epoch 32/100\n",
            "76642/76642 [==============================] - 55s 724us/step - loss: 0.3005 - val_loss: 0.3000\n",
            "Epoch 33/100\n",
            "76642/76642 [==============================] - 59s 767us/step - loss: 0.3004 - val_loss: 0.2975\n",
            "Epoch 34/100\n",
            "76642/76642 [==============================] - 57s 748us/step - loss: 0.3004 - val_loss: 0.2958\n",
            "Epoch 35/100\n",
            "76642/76642 [==============================] - 55s 721us/step - loss: 0.3004 - val_loss: 0.2966\n",
            "Epoch 36/100\n",
            "76642/76642 [==============================] - 54s 709us/step - loss: 0.3004 - val_loss: 0.2969\n",
            "Epoch 37/100\n",
            "76642/76642 [==============================] - 53s 693us/step - loss: 0.3005 - val_loss: 0.2959\n",
            "Epoch 38/100\n",
            "76642/76642 [==============================] - 54s 705us/step - loss: 0.3003 - val_loss: 0.2954\n",
            "Epoch 39/100\n",
            "76642/76642 [==============================] - 53s 691us/step - loss: 0.3004 - val_loss: 0.2964\n",
            "Epoch 40/100\n",
            "76642/76642 [==============================] - 56s 725us/step - loss: 0.3004 - val_loss: 0.2956\n",
            "Epoch 41/100\n",
            "76642/76642 [==============================] - 57s 739us/step - loss: 0.3003 - val_loss: 0.2963\n",
            "Epoch 42/100\n",
            "76642/76642 [==============================] - 52s 684us/step - loss: 0.3003 - val_loss: 0.2980\n",
            "Epoch 43/100\n",
            "76642/76642 [==============================] - 54s 705us/step - loss: 0.3003 - val_loss: 0.2958\n",
            "Epoch 44/100\n",
            "76642/76642 [==============================] - 52s 684us/step - loss: 0.3003 - val_loss: 0.2982\n",
            "Epoch 45/100\n",
            "76642/76642 [==============================] - 54s 708us/step - loss: 0.3003 - val_loss: 0.2969\n",
            "Epoch 46/100\n",
            "76642/76642 [==============================] - 55s 719us/step - loss: 0.3003 - val_loss: 0.2948\n",
            "Epoch 47/100\n",
            "76642/76642 [==============================] - 56s 732us/step - loss: 0.3003 - val_loss: 0.2955\n",
            "Epoch 48/100\n",
            "76642/76642 [==============================] - 57s 749us/step - loss: 0.3003 - val_loss: 0.2958\n",
            "Epoch 49/100\n",
            "76642/76642 [==============================] - 60s 788us/step - loss: 0.3003 - val_loss: 0.2968\n",
            "Epoch 50/100\n",
            "76642/76642 [==============================] - 65s 844us/step - loss: 0.3003 - val_loss: 0.2958\n",
            "Epoch 51/100\n",
            "76642/76642 [==============================] - 60s 787us/step - loss: 0.3003 - val_loss: 0.2966\n",
            "Epoch 52/100\n",
            "76642/76642 [==============================] - 63s 821us/step - loss: 0.3003 - val_loss: 0.2965\n",
            "Epoch 53/100\n",
            "76642/76642 [==============================] - 56s 736us/step - loss: 0.3004 - val_loss: 0.3035\n",
            "Epoch 54/100\n",
            "76642/76642 [==============================] - 60s 780us/step - loss: 0.3003 - val_loss: 0.2997\n",
            "Epoch 55/100\n",
            "76642/76642 [==============================] - 61s 800us/step - loss: 0.3003 - val_loss: 0.2953\n",
            "Epoch 56/100\n",
            "76642/76642 [==============================] - 60s 779us/step - loss: 0.3003 - val_loss: 0.2951\n",
            "Epoch 57/100\n",
            "76642/76642 [==============================] - 58s 755us/step - loss: 0.3003 - val_loss: 0.2950\n",
            "Epoch 58/100\n",
            "76642/76642 [==============================] - 59s 766us/step - loss: 0.3003 - val_loss: 0.2998\n",
            "Epoch 59/100\n",
            "76642/76642 [==============================] - 60s 786us/step - loss: 0.3003 - val_loss: 0.2948\n",
            "Epoch 60/100\n",
            "76642/76642 [==============================] - 61s 799us/step - loss: 0.3003 - val_loss: 0.2957\n",
            "Epoch 61/100\n",
            "76642/76642 [==============================] - 60s 788us/step - loss: 0.3003 - val_loss: 0.2981\n",
            "Epoch 62/100\n",
            "76642/76642 [==============================] - 58s 751us/step - loss: 0.3003 - val_loss: 0.2964\n",
            "Epoch 63/100\n",
            "76642/76642 [==============================] - 58s 757us/step - loss: 0.3002 - val_loss: 0.3003\n",
            "Epoch 64/100\n",
            "76642/76642 [==============================] - 59s 775us/step - loss: 0.3003 - val_loss: 0.2960\n",
            "Epoch 65/100\n",
            "76642/76642 [==============================] - 60s 783us/step - loss: 0.3003 - val_loss: 0.2957\n",
            "Epoch 66/100\n",
            "76642/76642 [==============================] - 63s 828us/step - loss: 0.3003 - val_loss: 0.2983\n",
            "Epoch 67/100\n",
            "76642/76642 [==============================] - 58s 755us/step - loss: 0.3002 - val_loss: 0.2950\n",
            "Epoch 68/100\n",
            "76642/76642 [==============================] - 57s 742us/step - loss: 0.3002 - val_loss: 0.2948\n",
            "Epoch 69/100\n",
            "76642/76642 [==============================] - 55s 722us/step - loss: 0.3002 - val_loss: 0.2971\n",
            "Epoch 70/100\n",
            "76642/76642 [==============================] - 57s 747us/step - loss: 0.3002 - val_loss: 0.2965\n",
            "Epoch 71/100\n",
            "76642/76642 [==============================] - 73s 954us/step - loss: 0.3003 - val_loss: 0.2953\n",
            "Epoch 72/100\n",
            "76642/76642 [==============================] - 73s 956us/step - loss: 0.3002 - val_loss: 0.3054\n",
            "Epoch 73/100\n",
            "76642/76642 [==============================] - 82s 1ms/step - loss: 0.3003 - val_loss: 0.2962\n",
            "Epoch 74/100\n",
            "76642/76642 [==============================] - 98s 1ms/step - loss: 0.3003 - val_loss: 0.2960\n",
            "Epoch 75/100\n",
            "76642/76642 [==============================] - 93s 1ms/step - loss: 0.3002 - val_loss: 0.2982\n",
            "Epoch 76/100\n",
            "76642/76642 [==============================] - 105s 1ms/step - loss: 0.3003 - val_loss: 0.2981\n",
            "Epoch 77/100\n",
            "76642/76642 [==============================] - 94s 1ms/step - loss: 0.3003 - val_loss: 0.2959\n",
            "Epoch 78/100\n",
            "76642/76642 [==============================] - 98s 1ms/step - loss: 0.3003 - val_loss: 0.2955\n",
            "Epoch 79/100\n",
            "76642/76642 [==============================] - 85s 1ms/step - loss: 0.3003 - val_loss: 0.2950\n",
            "Epoch 80/100\n",
            "76642/76642 [==============================] - 87s 1ms/step - loss: 0.3002 - val_loss: 0.2949\n",
            "Epoch 81/100\n",
            "76642/76642 [==============================] - 95s 1ms/step - loss: 0.3003 - val_loss: 0.2984\n",
            "Epoch 82/100\n",
            "76642/76642 [==============================] - 106s 1ms/step - loss: 0.3003 - val_loss: 0.2996\n",
            "Epoch 83/100\n",
            "76642/76642 [==============================] - 88s 1ms/step - loss: 0.3003 - val_loss: 0.2958\n",
            "Epoch 84/100\n",
            "76642/76642 [==============================] - 77s 998us/step - loss: 0.3003 - val_loss: 0.2969\n",
            "Epoch 85/100\n",
            "76642/76642 [==============================] - 80s 1ms/step - loss: 0.3002 - val_loss: 0.2961\n",
            "Epoch 86/100\n",
            "76642/76642 [==============================] - 79s 1ms/step - loss: 0.3003 - val_loss: 0.2964\n",
            "Epoch 87/100\n",
            "76642/76642 [==============================] - 117s 2ms/step - loss: 0.3002 - val_loss: 0.2967\n",
            "Epoch 88/100\n",
            "76642/76642 [==============================] - 96s 1ms/step - loss: 0.3002 - val_loss: 0.2963\n",
            "Epoch 89/100\n",
            "76642/76642 [==============================] - 90s 1ms/step - loss: 0.3003 - val_loss: 0.2955\n",
            "Epoch 90/100\n",
            "76642/76642 [==============================] - 77s 1ms/step - loss: 0.3002 - val_loss: 0.2960\n",
            "Epoch 91/100\n",
            "76642/76642 [==============================] - 77s 1ms/step - loss: 0.3003 - val_loss: 0.2949\n",
            "Epoch 92/100\n",
            "76642/76642 [==============================] - 76s 992us/step - loss: 0.3002 - val_loss: 0.3000\n",
            "Epoch 93/100\n",
            "76642/76642 [==============================] - 79s 1ms/step - loss: 0.3002 - val_loss: 0.2960\n",
            "Epoch 94/100\n",
            "76642/76642 [==============================] - 85s 1ms/step - loss: 0.3002 - val_loss: 0.2965\n",
            "Epoch 95/100\n",
            "76642/76642 [==============================] - 82s 1ms/step - loss: 0.3003 - val_loss: 0.3030\n",
            "Epoch 96/100\n",
            "76642/76642 [==============================] - 74s 964us/step - loss: 0.3002 - val_loss: 0.2946\n",
            "Epoch 97/100\n",
            "76642/76642 [==============================] - 78s 1ms/step - loss: 0.3002 - val_loss: 0.3025\n",
            "Epoch 98/100\n",
            "76642/76642 [==============================] - 83s 1ms/step - loss: 0.3002 - val_loss: 0.2951\n",
            "Epoch 99/100\n",
            "76642/76642 [==============================] - 105s 1ms/step - loss: 0.3002 - val_loss: 0.2953\n",
            "Epoch 100/100\n",
            "76642/76642 [==============================] - 82s 1ms/step - loss: 0.3002 - val_loss: 0.2952\n"
          ],
          "name": "stdout"
        }
      ]
    },
    {
      "cell_type": "code",
      "metadata": {
        "id": "LSMU9ueG9gFY"
      },
      "source": [
        "predictions = wider_model.predict(feature_test)\n",
        "\n",
        "predictions = predictions.flatten()"
      ],
      "execution_count": 24,
      "outputs": []
    },
    {
      "cell_type": "code",
      "metadata": {
        "id": "ckZvvz7h9jB_",
        "outputId": "6e38bc5a-0d1c-4535-c91f-7b9bd8bcab7f",
        "colab": {
          "base_uri": "https://localhost:8080/",
          "height": 87
        }
      },
      "source": [
        "from sklearn.metrics import mean_squared_error, mean_absolute_error, r2_score\n",
        "\n",
        "mse = mean_squared_error(label_test, predictions)\n",
        "mae = mean_absolute_error(label_test, predictions)\n",
        "r2 = r2_score(label_test, predictions)\n",
        "print(\"MSE (Mean Squared Error)\", mse)\n",
        "print(\"MAE (Mean Absolute Error)\", mae)\n",
        "print(\"r^2 score\", r2)\n",
        "print('RMSE (Root Mean Squared Error', np.sqrt(mean_squared_error(label_test, predictions)))"
      ],
      "execution_count": 25,
      "outputs": [
        {
          "output_type": "stream",
          "text": [
            "MSE (Mean Squared Error) 0.2951803772442328\n",
            "MAE (Mean Absolute Error) 0.34866598138957544\n",
            "r^2 score 0.7038096144439852\n",
            "RMSE (Root Mean Squared Error 0.5433050498975992\n"
          ],
          "name": "stdout"
        }
      ]
    },
    {
      "cell_type": "code",
      "metadata": {
        "id": "ovt4YX7h-Gq7"
      },
      "source": [
        "def plot_loss(history):\n",
        "  plt.plot(history.history['loss'], label='loss')\n",
        "  plt.plot(history.history['val_loss'], label='val_loss')\n",
        "  plt.xlabel('Epoch')\n",
        "  plt.ylabel('Loss (MSE)')\n",
        "  plt.legend()\n",
        "  plt.grid(True)"
      ],
      "execution_count": 26,
      "outputs": []
    },
    {
      "cell_type": "code",
      "metadata": {
        "id": "EhnVfEv0-JAS",
        "outputId": "4caf3580-4695-45fd-b534-5779b96ce737",
        "colab": {
          "base_uri": "https://localhost:8080/",
          "height": 406
        }
      },
      "source": [
        "history_dataframe = pd.DataFrame(history.history)\n",
        "history_dataframe['epoch'] = history.epoch\n",
        "history_dataframe"
      ],
      "execution_count": 27,
      "outputs": [
        {
          "output_type": "execute_result",
          "data": {
            "text/html": [
              "<div>\n",
              "<style scoped>\n",
              "    .dataframe tbody tr th:only-of-type {\n",
              "        vertical-align: middle;\n",
              "    }\n",
              "\n",
              "    .dataframe tbody tr th {\n",
              "        vertical-align: top;\n",
              "    }\n",
              "\n",
              "    .dataframe thead th {\n",
              "        text-align: right;\n",
              "    }\n",
              "</style>\n",
              "<table border=\"1\" class=\"dataframe\">\n",
              "  <thead>\n",
              "    <tr style=\"text-align: right;\">\n",
              "      <th></th>\n",
              "      <th>loss</th>\n",
              "      <th>val_loss</th>\n",
              "      <th>epoch</th>\n",
              "    </tr>\n",
              "  </thead>\n",
              "  <tbody>\n",
              "    <tr>\n",
              "      <th>0</th>\n",
              "      <td>0.336584</td>\n",
              "      <td>0.314045</td>\n",
              "      <td>0</td>\n",
              "    </tr>\n",
              "    <tr>\n",
              "      <th>1</th>\n",
              "      <td>0.315658</td>\n",
              "      <td>0.310264</td>\n",
              "      <td>1</td>\n",
              "    </tr>\n",
              "    <tr>\n",
              "      <th>2</th>\n",
              "      <td>0.311972</td>\n",
              "      <td>0.306816</td>\n",
              "      <td>2</td>\n",
              "    </tr>\n",
              "    <tr>\n",
              "      <th>3</th>\n",
              "      <td>0.310348</td>\n",
              "      <td>0.303837</td>\n",
              "      <td>3</td>\n",
              "    </tr>\n",
              "    <tr>\n",
              "      <th>4</th>\n",
              "      <td>0.309074</td>\n",
              "      <td>0.312438</td>\n",
              "      <td>4</td>\n",
              "    </tr>\n",
              "    <tr>\n",
              "      <th>...</th>\n",
              "      <td>...</td>\n",
              "      <td>...</td>\n",
              "      <td>...</td>\n",
              "    </tr>\n",
              "    <tr>\n",
              "      <th>95</th>\n",
              "      <td>0.300193</td>\n",
              "      <td>0.294640</td>\n",
              "      <td>95</td>\n",
              "    </tr>\n",
              "    <tr>\n",
              "      <th>96</th>\n",
              "      <td>0.300232</td>\n",
              "      <td>0.302508</td>\n",
              "      <td>96</td>\n",
              "    </tr>\n",
              "    <tr>\n",
              "      <th>97</th>\n",
              "      <td>0.300244</td>\n",
              "      <td>0.295079</td>\n",
              "      <td>97</td>\n",
              "    </tr>\n",
              "    <tr>\n",
              "      <th>98</th>\n",
              "      <td>0.300229</td>\n",
              "      <td>0.295320</td>\n",
              "      <td>98</td>\n",
              "    </tr>\n",
              "    <tr>\n",
              "      <th>99</th>\n",
              "      <td>0.300239</td>\n",
              "      <td>0.295179</td>\n",
              "      <td>99</td>\n",
              "    </tr>\n",
              "  </tbody>\n",
              "</table>\n",
              "<p>100 rows × 3 columns</p>\n",
              "</div>"
            ],
            "text/plain": [
              "        loss  val_loss  epoch\n",
              "0   0.336584  0.314045      0\n",
              "1   0.315658  0.310264      1\n",
              "2   0.311972  0.306816      2\n",
              "3   0.310348  0.303837      3\n",
              "4   0.309074  0.312438      4\n",
              "..       ...       ...    ...\n",
              "95  0.300193  0.294640     95\n",
              "96  0.300232  0.302508     96\n",
              "97  0.300244  0.295079     97\n",
              "98  0.300229  0.295320     98\n",
              "99  0.300239  0.295179     99\n",
              "\n",
              "[100 rows x 3 columns]"
            ]
          },
          "metadata": {
            "tags": []
          },
          "execution_count": 27
        }
      ]
    },
    {
      "cell_type": "code",
      "metadata": {
        "id": "5R67GHJZ8ce2",
        "outputId": "1d6690b1-b28f-4a54-f81d-99217a0991c9",
        "colab": {
          "base_uri": "https://localhost:8080/",
          "height": 406
        }
      },
      "source": [
        "history_dataframe.sort_values(by='val_loss', ascending=True)"
      ],
      "execution_count": 28,
      "outputs": [
        {
          "output_type": "execute_result",
          "data": {
            "text/html": [
              "<div>\n",
              "<style scoped>\n",
              "    .dataframe tbody tr th:only-of-type {\n",
              "        vertical-align: middle;\n",
              "    }\n",
              "\n",
              "    .dataframe tbody tr th {\n",
              "        vertical-align: top;\n",
              "    }\n",
              "\n",
              "    .dataframe thead th {\n",
              "        text-align: right;\n",
              "    }\n",
              "</style>\n",
              "<table border=\"1\" class=\"dataframe\">\n",
              "  <thead>\n",
              "    <tr style=\"text-align: right;\">\n",
              "      <th></th>\n",
              "      <th>loss</th>\n",
              "      <th>val_loss</th>\n",
              "      <th>epoch</th>\n",
              "    </tr>\n",
              "  </thead>\n",
              "  <tbody>\n",
              "    <tr>\n",
              "      <th>95</th>\n",
              "      <td>0.300193</td>\n",
              "      <td>0.294640</td>\n",
              "      <td>95</td>\n",
              "    </tr>\n",
              "    <tr>\n",
              "      <th>45</th>\n",
              "      <td>0.300322</td>\n",
              "      <td>0.294785</td>\n",
              "      <td>45</td>\n",
              "    </tr>\n",
              "    <tr>\n",
              "      <th>67</th>\n",
              "      <td>0.300244</td>\n",
              "      <td>0.294804</td>\n",
              "      <td>67</td>\n",
              "    </tr>\n",
              "    <tr>\n",
              "      <th>58</th>\n",
              "      <td>0.300257</td>\n",
              "      <td>0.294824</td>\n",
              "      <td>58</td>\n",
              "    </tr>\n",
              "    <tr>\n",
              "      <th>25</th>\n",
              "      <td>0.300620</td>\n",
              "      <td>0.294835</td>\n",
              "      <td>25</td>\n",
              "    </tr>\n",
              "    <tr>\n",
              "      <th>...</th>\n",
              "      <td>...</td>\n",
              "      <td>...</td>\n",
              "      <td>...</td>\n",
              "    </tr>\n",
              "    <tr>\n",
              "      <th>71</th>\n",
              "      <td>0.300155</td>\n",
              "      <td>0.305366</td>\n",
              "      <td>71</td>\n",
              "    </tr>\n",
              "    <tr>\n",
              "      <th>2</th>\n",
              "      <td>0.311972</td>\n",
              "      <td>0.306816</td>\n",
              "      <td>2</td>\n",
              "    </tr>\n",
              "    <tr>\n",
              "      <th>1</th>\n",
              "      <td>0.315658</td>\n",
              "      <td>0.310264</td>\n",
              "      <td>1</td>\n",
              "    </tr>\n",
              "    <tr>\n",
              "      <th>4</th>\n",
              "      <td>0.309074</td>\n",
              "      <td>0.312438</td>\n",
              "      <td>4</td>\n",
              "    </tr>\n",
              "    <tr>\n",
              "      <th>0</th>\n",
              "      <td>0.336584</td>\n",
              "      <td>0.314045</td>\n",
              "      <td>0</td>\n",
              "    </tr>\n",
              "  </tbody>\n",
              "</table>\n",
              "<p>100 rows × 3 columns</p>\n",
              "</div>"
            ],
            "text/plain": [
              "        loss  val_loss  epoch\n",
              "95  0.300193  0.294640     95\n",
              "45  0.300322  0.294785     45\n",
              "67  0.300244  0.294804     67\n",
              "58  0.300257  0.294824     58\n",
              "25  0.300620  0.294835     25\n",
              "..       ...       ...    ...\n",
              "71  0.300155  0.305366     71\n",
              "2   0.311972  0.306816      2\n",
              "1   0.315658  0.310264      1\n",
              "4   0.309074  0.312438      4\n",
              "0   0.336584  0.314045      0\n",
              "\n",
              "[100 rows x 3 columns]"
            ]
          },
          "metadata": {
            "tags": []
          },
          "execution_count": 28
        }
      ]
    },
    {
      "cell_type": "code",
      "metadata": {
        "id": "H4BETmmT-VPy",
        "outputId": "4a585566-565f-42cb-a0a0-776fef44247a",
        "colab": {
          "base_uri": "https://localhost:8080/",
          "height": 278
        }
      },
      "source": [
        "plot_loss(history) # epoch vs loss graph"
      ],
      "execution_count": 29,
      "outputs": [
        {
          "output_type": "display_data",
          "data": {
            "image/png": "[encoded data removed]",
            "text/plain": [
              "<Figure size 432x288 with 1 Axes>"
            ]
          },
          "metadata": {
            "tags": [],
            "needs_background": "light"
          }
        }
      ]
    },
    {
      "cell_type": "markdown",
      "metadata": {
        "id": "XO_22ZKaduD0"
      },
      "source": [
        "# Wider Model Tuned"
      ]
    },
    {
      "cell_type": "code",
      "metadata": {
        "id": "dBvCRHud-A2e",
        "outputId": "7885f5c8-d3dc-4aa5-c12b-06c6a4c61b97",
        "colab": {
          "base_uri": "https://localhost:8080/",
          "height": 230
        }
      },
      "source": [
        "from tensorflow.keras.optimizers import SGD\n",
        "\n",
        "wider_model_tuned = Sequential()\n",
        "wider_model_tuned.add(Dense(20, input_dim=2, kernel_initializer='normal', activation='relu'))\n",
        "wider_model_tuned.add(Dense(1, kernel_initializer='normal'))\n",
        "\n",
        "opt = SGD(lr=0.001, momentum=0.9)\n",
        "\n",
        "wider_model_tuned.compile(loss='mean_squared_error', optimizer=opt)\n",
        "\n",
        "wider_model_tuned.summary()"
      ],
      "execution_count": 30,
      "outputs": [
        {
          "output_type": "stream",
          "text": [
            "Model: \"sequential_2\"\n",
            "_________________________________________________________________\n",
            "Layer (type)                 Output Shape              Param #   \n",
            "=================================================================\n",
            "dense_5 (Dense)              (None, 20)                60        \n",
            "_________________________________________________________________\n",
            "dense_6 (Dense)              (None, 1)                 21        \n",
            "=================================================================\n",
            "Total params: 81\n",
            "Trainable params: 81\n",
            "Non-trainable params: 0\n",
            "_________________________________________________________________\n"
          ],
          "name": "stdout"
        }
      ]
    },
    {
      "cell_type": "code",
      "metadata": {
        "id": "iklWJYPo-Thn",
        "outputId": "03dae58d-6f46-43f7-ba5a-df0ae96d372d",
        "colab": {
          "base_uri": "https://localhost:8080/",
          "height": 1000
        }
      },
      "source": [
        "history_tuned = wider_model_tuned.fit(x=feature_train, y=label_train, validation_data=(feature_test, label_test), epochs=100, batch_size=8)"
      ],
      "execution_count": 31,
      "outputs": [
        {
          "output_type": "stream",
          "text": [
            "Epoch 1/100\n",
            "76642/76642 [==============================] - 80s 1ms/step - loss: 0.3509 - val_loss: 0.3316\n",
            "Epoch 2/100\n",
            "76642/76642 [==============================] - 77s 1ms/step - loss: 0.3286 - val_loss: 0.3138\n",
            "Epoch 3/100\n",
            "76642/76642 [==============================] - 74s 961us/step - loss: 0.3225 - val_loss: 0.3137\n",
            "Epoch 4/100\n",
            "76642/76642 [==============================] - 78s 1ms/step - loss: 0.3303 - val_loss: 0.3214\n",
            "Epoch 5/100\n",
            "76642/76642 [==============================] - 85s 1ms/step - loss: 0.3235 - val_loss: 0.3170\n",
            "Epoch 6/100\n",
            "76642/76642 [==============================] - 71s 923us/step - loss: 0.3244 - val_loss: 0.3139\n",
            "Epoch 7/100\n",
            "76642/76642 [==============================] - 75s 978us/step - loss: 0.3266 - val_loss: 0.3076\n",
            "Epoch 8/100\n",
            "76642/76642 [==============================] - 70s 907us/step - loss: 0.3369 - val_loss: 0.3303\n",
            "Epoch 9/100\n",
            "76642/76642 [==============================] - 68s 882us/step - loss: 0.3259 - val_loss: 0.3088\n",
            "Epoch 10/100\n",
            "76642/76642 [==============================] - 74s 959us/step - loss: 0.3232 - val_loss: 0.3229\n",
            "Epoch 11/100\n",
            "76642/76642 [==============================] - 76s 990us/step - loss: 0.3225 - val_loss: 0.3148\n",
            "Epoch 12/100\n",
            "76642/76642 [==============================] - 65s 848us/step - loss: 0.3235 - val_loss: 0.3083\n",
            "Epoch 13/100\n",
            "76642/76642 [==============================] - 60s 785us/step - loss: 0.3266 - val_loss: 0.3084\n",
            "Epoch 14/100\n",
            "76642/76642 [==============================] - 60s 789us/step - loss: 0.3224 - val_loss: 0.3087\n",
            "Epoch 15/100\n",
            "76642/76642 [==============================] - 60s 788us/step - loss: 0.3389 - val_loss: 0.3566\n",
            "Epoch 16/100\n",
            "76642/76642 [==============================] - 65s 842us/step - loss: 0.3426 - val_loss: 0.3408\n",
            "Epoch 17/100\n",
            "76642/76642 [==============================] - 89s 1ms/step - loss: 0.3402 - val_loss: 0.3330\n",
            "Epoch 18/100\n",
            "76642/76642 [==============================] - 70s 916us/step - loss: 0.3345 - val_loss: 0.3224\n",
            "Epoch 19/100\n",
            "76642/76642 [==============================] - 72s 938us/step - loss: 0.3269 - val_loss: 0.3104\n",
            "Epoch 20/100\n",
            "76642/76642 [==============================] - 66s 856us/step - loss: 0.3301 - val_loss: 0.3085\n",
            "Epoch 21/100\n",
            "76642/76642 [==============================] - 80s 1ms/step - loss: 0.3263 - val_loss: 0.3132\n",
            "Epoch 22/100\n",
            "76642/76642 [==============================] - 83s 1ms/step - loss: 0.3296 - val_loss: 0.3078\n",
            "Epoch 23/100\n",
            "76642/76642 [==============================] - 81s 1ms/step - loss: 0.3259 - val_loss: 0.3094\n",
            "Epoch 24/100\n",
            "76642/76642 [==============================] - 98s 1ms/step - loss: 0.3294 - val_loss: 0.3159\n",
            "Epoch 25/100\n",
            "76642/76642 [==============================] - 115s 1ms/step - loss: 0.3273 - val_loss: 0.3110\n",
            "Epoch 26/100\n",
            "76642/76642 [==============================] - 89s 1ms/step - loss: 0.3262 - val_loss: 0.3109\n",
            "Epoch 27/100\n",
            "76642/76642 [==============================] - 76s 989us/step - loss: 0.3259 - val_loss: 0.3138\n",
            "Epoch 28/100\n",
            "76642/76642 [==============================] - 71s 921us/step - loss: 0.3299 - val_loss: 0.3117\n",
            "Epoch 29/100\n",
            "76642/76642 [==============================] - 72s 944us/step - loss: 0.3272 - val_loss: 0.3162\n",
            "Epoch 30/100\n",
            "76642/76642 [==============================] - 96s 1ms/step - loss: 0.3250 - val_loss: 0.3130\n",
            "Epoch 31/100\n",
            "76642/76642 [==============================] - 88s 1ms/step - loss: 0.3321 - val_loss: 0.3316\n",
            "Epoch 32/100\n",
            "76642/76642 [==============================] - 70s 908us/step - loss: 0.3264 - val_loss: 0.3147\n",
            "Epoch 33/100\n",
            "76642/76642 [==============================] - 73s 951us/step - loss: 0.3285 - val_loss: 0.3203\n",
            "Epoch 34/100\n",
            "76642/76642 [==============================] - 72s 934us/step - loss: 0.3269 - val_loss: 0.3150\n",
            "Epoch 35/100\n",
            "76642/76642 [==============================] - 60s 787us/step - loss: 0.3299 - val_loss: 0.3180\n",
            "Epoch 36/100\n",
            "76642/76642 [==============================] - 61s 794us/step - loss: 0.3247 - val_loss: 0.3252\n",
            "Epoch 37/100\n",
            "76642/76642 [==============================] - 63s 827us/step - loss: 0.3176 - val_loss: 0.3094\n",
            "Epoch 38/100\n",
            "76642/76642 [==============================] - 64s 834us/step - loss: 0.3167 - val_loss: 0.3062\n",
            "Epoch 39/100\n",
            "76642/76642 [==============================] - 58s 758us/step - loss: 0.3165 - val_loss: 0.3056\n",
            "Epoch 40/100\n",
            "76642/76642 [==============================] - 62s 809us/step - loss: 0.3161 - val_loss: 0.3167\n",
            "Epoch 41/100\n",
            "76642/76642 [==============================] - 55s 721us/step - loss: 0.3161 - val_loss: 0.3416\n",
            "Epoch 42/100\n",
            "76642/76642 [==============================] - 56s 732us/step - loss: 0.3163 - val_loss: 0.3069\n",
            "Epoch 43/100\n",
            "76642/76642 [==============================] - 58s 756us/step - loss: 0.3166 - val_loss: 0.3103\n",
            "Epoch 44/100\n",
            "76642/76642 [==============================] - 60s 785us/step - loss: 0.3164 - val_loss: 0.3062\n",
            "Epoch 45/100\n",
            "76642/76642 [==============================] - 65s 849us/step - loss: 0.3163 - val_loss: 0.3060\n",
            "Epoch 46/100\n",
            "76642/76642 [==============================] - 70s 908us/step - loss: 0.3162 - val_loss: 0.3107\n",
            "Epoch 47/100\n",
            "76642/76642 [==============================] - 57s 743us/step - loss: 0.3164 - val_loss: 0.3184\n",
            "Epoch 48/100\n",
            "76642/76642 [==============================] - 59s 765us/step - loss: 0.3161 - val_loss: 0.3140\n",
            "Epoch 49/100\n",
            "76642/76642 [==============================] - 59s 768us/step - loss: 0.3162 - val_loss: 0.3061\n",
            "Epoch 50/100\n",
            "76642/76642 [==============================] - 58s 760us/step - loss: 0.3162 - val_loss: 0.3055\n",
            "Epoch 51/100\n",
            "76642/76642 [==============================] - 63s 817us/step - loss: 0.3160 - val_loss: 0.3228\n",
            "Epoch 52/100\n",
            "76642/76642 [==============================] - 72s 941us/step - loss: 0.3162 - val_loss: 0.3086\n",
            "Epoch 53/100\n",
            "76642/76642 [==============================] - 68s 891us/step - loss: 0.3160 - val_loss: 0.3053\n",
            "Epoch 54/100\n",
            "76642/76642 [==============================] - 66s 858us/step - loss: 0.3160 - val_loss: 0.3162\n",
            "Epoch 55/100\n",
            "76642/76642 [==============================] - 68s 890us/step - loss: 0.3163 - val_loss: 0.3111\n",
            "Epoch 56/100\n",
            "76642/76642 [==============================] - 61s 792us/step - loss: 0.3163 - val_loss: 0.3050\n",
            "Epoch 57/100\n",
            "76642/76642 [==============================] - 64s 837us/step - loss: 0.3161 - val_loss: 0.3130\n",
            "Epoch 58/100\n",
            "76642/76642 [==============================] - 59s 771us/step - loss: 0.3161 - val_loss: 0.3110\n",
            "Epoch 59/100\n",
            "76642/76642 [==============================] - 61s 799us/step - loss: 0.3161 - val_loss: 0.3069\n",
            "Epoch 60/100\n",
            "76642/76642 [==============================] - 67s 872us/step - loss: 0.3159 - val_loss: 0.3089\n",
            "Epoch 61/100\n",
            "76642/76642 [==============================] - 71s 928us/step - loss: 0.3160 - val_loss: 0.3096\n",
            "Epoch 62/100\n",
            "76642/76642 [==============================] - 77s 1ms/step - loss: 0.3158 - val_loss: 0.3218\n",
            "Epoch 63/100\n",
            "76642/76642 [==============================] - 64s 834us/step - loss: 0.3161 - val_loss: 0.3047\n",
            "Epoch 64/100\n",
            "76642/76642 [==============================] - 64s 839us/step - loss: 0.3161 - val_loss: 0.3058\n",
            "Epoch 65/100\n",
            "76642/76642 [==============================] - 66s 865us/step - loss: 0.3160 - val_loss: 0.3064\n",
            "Epoch 66/100\n",
            "76642/76642 [==============================] - 65s 853us/step - loss: 0.3161 - val_loss: 0.3074\n",
            "Epoch 67/100\n",
            "76642/76642 [==============================] - 72s 940us/step - loss: 0.3161 - val_loss: 0.3073\n",
            "Epoch 68/100\n",
            "76642/76642 [==============================] - 76s 987us/step - loss: 0.3163 - val_loss: 0.3181\n",
            "Epoch 69/100\n",
            "76642/76642 [==============================] - 66s 860us/step - loss: 0.3161 - val_loss: 0.3063\n",
            "Epoch 70/100\n",
            "76642/76642 [==============================] - 61s 796us/step - loss: 0.3160 - val_loss: 0.3148\n",
            "Epoch 71/100\n",
            "76642/76642 [==============================] - 62s 814us/step - loss: 0.3164 - val_loss: 0.3052\n",
            "Epoch 72/100\n",
            "76642/76642 [==============================] - 64s 834us/step - loss: 0.3158 - val_loss: 0.3081\n",
            "Epoch 73/100\n",
            "76642/76642 [==============================] - 60s 785us/step - loss: 0.3161 - val_loss: 0.3066\n",
            "Epoch 74/100\n",
            "76642/76642 [==============================] - 65s 854us/step - loss: 0.3158 - val_loss: 0.3104\n",
            "Epoch 75/100\n",
            "76642/76642 [==============================] - 66s 860us/step - loss: 0.3158 - val_loss: 0.3075\n",
            "Epoch 76/100\n",
            "76642/76642 [==============================] - 67s 873us/step - loss: 0.3161 - val_loss: 0.3140\n",
            "Epoch 77/100\n",
            "76642/76642 [==============================] - 65s 847us/step - loss: 0.3159 - val_loss: 0.3289\n",
            "Epoch 78/100\n",
            "76642/76642 [==============================] - 70s 918us/step - loss: 0.3157 - val_loss: 0.3067\n",
            "Epoch 79/100\n",
            "76642/76642 [==============================] - 56s 731us/step - loss: 0.3156 - val_loss: 0.3085\n",
            "Epoch 80/100\n",
            "76642/76642 [==============================] - 59s 767us/step - loss: 0.3160 - val_loss: 0.3266\n",
            "Epoch 81/100\n",
            "76642/76642 [==============================] - 58s 763us/step - loss: 0.3161 - val_loss: 0.3070\n",
            "Epoch 82/100\n",
            "76642/76642 [==============================] - 58s 752us/step - loss: 0.3158 - val_loss: 0.3470\n",
            "Epoch 83/100\n",
            "76642/76642 [==============================] - 62s 814us/step - loss: 0.3158 - val_loss: 0.3237\n",
            "Epoch 84/100\n",
            "76642/76642 [==============================] - 69s 901us/step - loss: 0.3159 - val_loss: 0.3059\n",
            "Epoch 85/100\n",
            "76642/76642 [==============================] - 66s 856us/step - loss: 0.3159 - val_loss: 0.3073\n",
            "Epoch 86/100\n",
            "76642/76642 [==============================] - 57s 745us/step - loss: 0.3160 - val_loss: 0.3114\n",
            "Epoch 87/100\n",
            "76642/76642 [==============================] - 57s 749us/step - loss: 0.3158 - val_loss: 0.3145\n",
            "Epoch 88/100\n",
            "76642/76642 [==============================] - 57s 744us/step - loss: 0.3159 - val_loss: 0.3058\n",
            "Epoch 89/100\n",
            "76642/76642 [==============================] - 59s 776us/step - loss: 0.3159 - val_loss: 0.3055\n",
            "Epoch 90/100\n",
            "76642/76642 [==============================] - 59s 770us/step - loss: 0.3159 - val_loss: 0.3079\n",
            "Epoch 91/100\n",
            "76642/76642 [==============================] - 59s 776us/step - loss: 0.3159 - val_loss: 0.3083\n",
            "Epoch 92/100\n",
            "76642/76642 [==============================] - 59s 765us/step - loss: 0.3161 - val_loss: 0.3148\n",
            "Epoch 93/100\n",
            "76642/76642 [==============================] - 60s 788us/step - loss: 0.3161 - val_loss: 0.3095\n",
            "Epoch 94/100\n",
            "76642/76642 [==============================] - 63s 817us/step - loss: 0.3160 - val_loss: 0.3082\n",
            "Epoch 95/100\n",
            "76642/76642 [==============================] - 59s 764us/step - loss: 0.3160 - val_loss: 0.3065\n",
            "Epoch 96/100\n",
            "76642/76642 [==============================] - 70s 914us/step - loss: 0.3159 - val_loss: 0.3112\n",
            "Epoch 97/100\n",
            "76642/76642 [==============================] - 77s 999us/step - loss: 0.3158 - val_loss: 0.3147\n",
            "Epoch 98/100\n",
            "76642/76642 [==============================] - 60s 785us/step - loss: 0.3156 - val_loss: 0.3222\n",
            "Epoch 99/100\n",
            "76642/76642 [==============================] - 64s 830us/step - loss: 0.3161 - val_loss: 0.3067\n",
            "Epoch 100/100\n",
            "76642/76642 [==============================] - 59s 768us/step - loss: 0.3158 - val_loss: 0.3103\n"
          ],
          "name": "stdout"
        }
      ]
    },
    {
      "cell_type": "code",
      "metadata": {
        "id": "AMNUQLcvdEK5"
      },
      "source": [
        "predictions = wider_model_tuned.predict(feature_test)\n",
        "\n",
        "predictions = predictions.flatten()"
      ],
      "execution_count": 32,
      "outputs": []
    },
    {
      "cell_type": "code",
      "metadata": {
        "id": "hb_lVx6DdEK_",
        "outputId": "897b0bfb-c5e1-4638-c17c-ea89edad40a9",
        "colab": {
          "base_uri": "https://localhost:8080/",
          "height": 87
        }
      },
      "source": [
        "from sklearn.metrics import mean_squared_error, mean_absolute_error, r2_score\n",
        "\n",
        "mse = mean_squared_error(label_test, predictions)\n",
        "mae = mean_absolute_error(label_test, predictions)\n",
        "r2 = r2_score(label_test, predictions)\n",
        "print(\"MSE (Mean Squared Error)\", mse)\n",
        "print(\"MAE (Mean Absolute Error)\", mae)\n",
        "print(\"r^2 score\", r2)\n",
        "print('RMSE (Root Mean Squared Error', np.sqrt(mean_squared_error(label_test, predictions)))"
      ],
      "execution_count": 33,
      "outputs": [
        {
          "output_type": "stream",
          "text": [
            "MSE (Mean Squared Error) 0.31027064050069864\n",
            "MAE (Mean Absolute Error) 0.3705568236894824\n",
            "r^2 score 0.6886677173646403\n",
            "RMSE (Root Mean Squared Error 0.5570194256044385\n"
          ],
          "name": "stdout"
        }
      ]
    },
    {
      "cell_type": "code",
      "metadata": {
        "id": "e0vFDtvR-dah",
        "outputId": "2639bc44-4d7a-4e40-98e6-63a805c09514",
        "colab": {
          "base_uri": "https://localhost:8080/",
          "height": 406
        }
      },
      "source": [
        "history_tuned_dataframe = pd.DataFrame(history_tuned.history)\n",
        "history_tuned_dataframe['epoch'] = history_tuned.epoch\n",
        "history_tuned_dataframe.sort_values(by='val_loss', ascending=True)"
      ],
      "execution_count": 34,
      "outputs": [
        {
          "output_type": "execute_result",
          "data": {
            "text/html": [
              "<div>\n",
              "<style scoped>\n",
              "    .dataframe tbody tr th:only-of-type {\n",
              "        vertical-align: middle;\n",
              "    }\n",
              "\n",
              "    .dataframe tbody tr th {\n",
              "        vertical-align: top;\n",
              "    }\n",
              "\n",
              "    .dataframe thead th {\n",
              "        text-align: right;\n",
              "    }\n",
              "</style>\n",
              "<table border=\"1\" class=\"dataframe\">\n",
              "  <thead>\n",
              "    <tr style=\"text-align: right;\">\n",
              "      <th></th>\n",
              "      <th>loss</th>\n",
              "      <th>val_loss</th>\n",
              "      <th>epoch</th>\n",
              "    </tr>\n",
              "  </thead>\n",
              "  <tbody>\n",
              "    <tr>\n",
              "      <th>62</th>\n",
              "      <td>0.316140</td>\n",
              "      <td>0.304700</td>\n",
              "      <td>62</td>\n",
              "    </tr>\n",
              "    <tr>\n",
              "      <th>55</th>\n",
              "      <td>0.316347</td>\n",
              "      <td>0.304995</td>\n",
              "      <td>55</td>\n",
              "    </tr>\n",
              "    <tr>\n",
              "      <th>70</th>\n",
              "      <td>0.316360</td>\n",
              "      <td>0.305202</td>\n",
              "      <td>70</td>\n",
              "    </tr>\n",
              "    <tr>\n",
              "      <th>52</th>\n",
              "      <td>0.316008</td>\n",
              "      <td>0.305338</td>\n",
              "      <td>52</td>\n",
              "    </tr>\n",
              "    <tr>\n",
              "      <th>49</th>\n",
              "      <td>0.316206</td>\n",
              "      <td>0.305466</td>\n",
              "      <td>49</td>\n",
              "    </tr>\n",
              "    <tr>\n",
              "      <th>...</th>\n",
              "      <td>...</td>\n",
              "      <td>...</td>\n",
              "      <td>...</td>\n",
              "    </tr>\n",
              "    <tr>\n",
              "      <th>16</th>\n",
              "      <td>0.340209</td>\n",
              "      <td>0.332980</td>\n",
              "      <td>16</td>\n",
              "    </tr>\n",
              "    <tr>\n",
              "      <th>15</th>\n",
              "      <td>0.342597</td>\n",
              "      <td>0.340783</td>\n",
              "      <td>15</td>\n",
              "    </tr>\n",
              "    <tr>\n",
              "      <th>40</th>\n",
              "      <td>0.316096</td>\n",
              "      <td>0.341612</td>\n",
              "      <td>40</td>\n",
              "    </tr>\n",
              "    <tr>\n",
              "      <th>81</th>\n",
              "      <td>0.315811</td>\n",
              "      <td>0.346990</td>\n",
              "      <td>81</td>\n",
              "    </tr>\n",
              "    <tr>\n",
              "      <th>14</th>\n",
              "      <td>0.338880</td>\n",
              "      <td>0.356598</td>\n",
              "      <td>14</td>\n",
              "    </tr>\n",
              "  </tbody>\n",
              "</table>\n",
              "<p>100 rows × 3 columns</p>\n",
              "</div>"
            ],
            "text/plain": [
              "        loss  val_loss  epoch\n",
              "62  0.316140  0.304700     62\n",
              "55  0.316347  0.304995     55\n",
              "70  0.316360  0.305202     70\n",
              "52  0.316008  0.305338     52\n",
              "49  0.316206  0.305466     49\n",
              "..       ...       ...    ...\n",
              "16  0.340209  0.332980     16\n",
              "15  0.342597  0.340783     15\n",
              "40  0.316096  0.341612     40\n",
              "81  0.315811  0.346990     81\n",
              "14  0.338880  0.356598     14\n",
              "\n",
              "[100 rows x 3 columns]"
            ]
          },
          "metadata": {
            "tags": []
          },
          "execution_count": 34
        }
      ]
    },
    {
      "cell_type": "markdown",
      "metadata": {
        "id": "dGrsHdeBeVl8"
      },
      "source": [
        "# Wider Model RMSprop"
      ]
    },
    {
      "cell_type": "code",
      "metadata": {
        "id": "tOisowvK-_12",
        "outputId": "4195f688-dc6d-4e46-b455-c3622ccdd876",
        "colab": {
          "base_uri": "https://localhost:8080/",
          "height": 230
        }
      },
      "source": [
        "from tensorflow.keras.optimizers import RMSprop\n",
        "\n",
        "wider_model_rmsprop = Sequential()\n",
        "wider_model_rmsprop.add(Dense(20, input_dim=2, kernel_initializer='normal', activation='relu'))\n",
        "wider_model_rmsprop.add(Dense(1, kernel_initializer='normal'))\n",
        "\n",
        "opt = RMSprop(lr=0.001)\n",
        "\n",
        "wider_model_rmsprop.compile(loss='mean_squared_error', optimizer=opt)\n",
        "\n",
        "wider_model_rmsprop.summary()"
      ],
      "execution_count": 35,
      "outputs": [
        {
          "output_type": "stream",
          "text": [
            "Model: \"sequential_3\"\n",
            "_________________________________________________________________\n",
            "Layer (type)                 Output Shape              Param #   \n",
            "=================================================================\n",
            "dense_7 (Dense)              (None, 20)                60        \n",
            "_________________________________________________________________\n",
            "dense_8 (Dense)              (None, 1)                 21        \n",
            "=================================================================\n",
            "Total params: 81\n",
            "Trainable params: 81\n",
            "Non-trainable params: 0\n",
            "_________________________________________________________________\n"
          ],
          "name": "stdout"
        }
      ]
    },
    {
      "cell_type": "code",
      "metadata": {
        "id": "NHe2-cXq_MnJ",
        "outputId": "09c31cb9-e005-4041-bba3-3232c360fb57",
        "colab": {
          "base_uri": "https://localhost:8080/",
          "height": 1000
        }
      },
      "source": [
        "history_rmsprop = wider_model_rmsprop.fit(x=feature_train, y=label_train, validation_data=(feature_test, label_test), epochs=100, batch_size=8)"
      ],
      "execution_count": 36,
      "outputs": [
        {
          "output_type": "stream",
          "text": [
            "Epoch 1/100\n",
            "76642/76642 [==============================] - 61s 801us/step - loss: 0.3549 - val_loss: 0.3313\n",
            "Epoch 2/100\n",
            "76642/76642 [==============================] - 61s 792us/step - loss: 0.3238 - val_loss: 0.3175\n",
            "Epoch 3/100\n",
            "76642/76642 [==============================] - 72s 945us/step - loss: 0.3160 - val_loss: 0.3086\n",
            "Epoch 4/100\n",
            "76642/76642 [==============================] - 76s 991us/step - loss: 0.3149 - val_loss: 0.3077\n",
            "Epoch 5/100\n",
            "76642/76642 [==============================] - 68s 881us/step - loss: 0.3142 - val_loss: 0.3081\n",
            "Epoch 6/100\n",
            "76642/76642 [==============================] - 63s 816us/step - loss: 0.3141 - val_loss: 0.3087\n",
            "Epoch 7/100\n",
            "76642/76642 [==============================] - 72s 941us/step - loss: 0.3142 - val_loss: 0.3161\n",
            "Epoch 8/100\n",
            "76642/76642 [==============================] - 77s 1ms/step - loss: 0.3143 - val_loss: 0.3076\n",
            "Epoch 9/100\n",
            "76642/76642 [==============================] - 69s 904us/step - loss: 0.3145 - val_loss: 0.3085\n",
            "Epoch 10/100\n",
            "76642/76642 [==============================] - 69s 894us/step - loss: 0.3148 - val_loss: 0.3038\n",
            "Epoch 11/100\n",
            "76642/76642 [==============================] - 73s 950us/step - loss: 0.3153 - val_loss: 0.3214\n",
            "Epoch 12/100\n",
            "76642/76642 [==============================] - 70s 918us/step - loss: 0.3157 - val_loss: 0.3215\n",
            "Epoch 13/100\n",
            "76642/76642 [==============================] - 70s 916us/step - loss: 0.3162 - val_loss: 0.3061\n",
            "Epoch 14/100\n",
            "76642/76642 [==============================] - 77s 1ms/step - loss: 0.3165 - val_loss: 0.3137\n",
            "Epoch 15/100\n",
            "76642/76642 [==============================] - 77s 1ms/step - loss: 0.3169 - val_loss: 0.3069\n",
            "Epoch 16/100\n",
            "76642/76642 [==============================] - 71s 929us/step - loss: 0.3175 - val_loss: 0.3580\n",
            "Epoch 17/100\n",
            "76642/76642 [==============================] - 82s 1ms/step - loss: 0.3180 - val_loss: 0.3586\n",
            "Epoch 18/100\n",
            "76642/76642 [==============================] - 77s 1ms/step - loss: 0.3183 - val_loss: 0.3083\n",
            "Epoch 19/100\n",
            "76642/76642 [==============================] - 84s 1ms/step - loss: 0.3189 - val_loss: 0.3108\n",
            "Epoch 20/100\n",
            "76642/76642 [==============================] - 103s 1ms/step - loss: 0.3194 - val_loss: 0.3123\n",
            "Epoch 21/100\n",
            "76642/76642 [==============================] - 95s 1ms/step - loss: 0.3199 - val_loss: 0.3095\n",
            "Epoch 22/100\n",
            "76642/76642 [==============================] - 85s 1ms/step - loss: 0.3201 - val_loss: 0.3122\n",
            "Epoch 23/100\n",
            "76642/76642 [==============================] - 85s 1ms/step - loss: 0.3204 - val_loss: 0.3144\n",
            "Epoch 24/100\n",
            "76642/76642 [==============================] - 92s 1ms/step - loss: 0.3202 - val_loss: 0.3094\n",
            "Epoch 25/100\n",
            "76642/76642 [==============================] - 112s 1ms/step - loss: 0.3210 - val_loss: 0.3062\n",
            "Epoch 26/100\n",
            "76642/76642 [==============================] - 83s 1ms/step - loss: 0.3218 - val_loss: 0.3091\n",
            "Epoch 27/100\n",
            "76642/76642 [==============================] - 82s 1ms/step - loss: 0.3226 - val_loss: 0.3230\n",
            "Epoch 28/100\n",
            "76642/76642 [==============================] - 66s 858us/step - loss: 0.3230 - val_loss: 0.3374\n",
            "Epoch 29/100\n",
            "76642/76642 [==============================] - 64s 836us/step - loss: 0.3227 - val_loss: 0.3042\n",
            "Epoch 30/100\n",
            "76642/76642 [==============================] - 59s 765us/step - loss: 0.3227 - val_loss: 0.3194\n",
            "Epoch 31/100\n",
            "76642/76642 [==============================] - 58s 751us/step - loss: 0.3233 - val_loss: 0.3172\n",
            "Epoch 32/100\n",
            "76642/76642 [==============================] - 63s 816us/step - loss: 0.3236 - val_loss: 0.3141\n",
            "Epoch 33/100\n",
            "76642/76642 [==============================] - 75s 983us/step - loss: 0.3238 - val_loss: 0.3267\n",
            "Epoch 34/100\n",
            "76642/76642 [==============================] - 74s 968us/step - loss: 0.3242 - val_loss: 0.3100\n",
            "Epoch 35/100\n",
            "76642/76642 [==============================] - 73s 954us/step - loss: 0.3247 - val_loss: 0.3093\n",
            "Epoch 36/100\n",
            "76642/76642 [==============================] - 67s 875us/step - loss: 0.3251 - val_loss: 0.3211\n",
            "Epoch 37/100\n",
            "76642/76642 [==============================] - 67s 868us/step - loss: 0.3254 - val_loss: 0.3735\n",
            "Epoch 38/100\n",
            "76642/76642 [==============================] - 70s 908us/step - loss: 0.3258 - val_loss: 0.3113\n",
            "Epoch 39/100\n",
            "76642/76642 [==============================] - 67s 871us/step - loss: 0.3260 - val_loss: 0.3266\n",
            "Epoch 40/100\n",
            "76642/76642 [==============================] - 60s 779us/step - loss: 0.3264 - val_loss: 0.3129\n",
            "Epoch 41/100\n",
            "76642/76642 [==============================] - 61s 795us/step - loss: 0.3267 - val_loss: 0.3087\n",
            "Epoch 42/100\n",
            "76642/76642 [==============================] - 73s 959us/step - loss: 0.3268 - val_loss: 0.3271\n",
            "Epoch 43/100\n",
            "76642/76642 [==============================] - 74s 966us/step - loss: 0.3275 - val_loss: 0.3102\n",
            "Epoch 44/100\n",
            "76642/76642 [==============================] - 68s 881us/step - loss: 0.3272 - val_loss: 0.3085\n",
            "Epoch 45/100\n",
            "76642/76642 [==============================] - 63s 820us/step - loss: 0.3278 - val_loss: 0.3079\n",
            "Epoch 46/100\n",
            "76642/76642 [==============================] - 59s 763us/step - loss: 0.3278 - val_loss: 0.3126\n",
            "Epoch 47/100\n",
            "76642/76642 [==============================] - 63s 818us/step - loss: 0.3280 - val_loss: 0.3236\n",
            "Epoch 48/100\n",
            "76642/76642 [==============================] - 68s 893us/step - loss: 0.3285 - val_loss: 0.4880\n",
            "Epoch 49/100\n",
            "76642/76642 [==============================] - 81s 1ms/step - loss: 0.3283 - val_loss: 0.3132\n",
            "Epoch 50/100\n",
            "76642/76642 [==============================] - 68s 882us/step - loss: 0.3283 - val_loss: 0.3355\n",
            "Epoch 51/100\n",
            "76642/76642 [==============================] - 65s 843us/step - loss: 0.3284 - val_loss: 0.3645\n",
            "Epoch 52/100\n",
            "76642/76642 [==============================] - 60s 787us/step - loss: 0.3284 - val_loss: 0.3330\n",
            "Epoch 53/100\n",
            "76642/76642 [==============================] - 57s 746us/step - loss: 0.3288 - val_loss: 0.3471\n",
            "Epoch 54/100\n",
            "76642/76642 [==============================] - 58s 759us/step - loss: 0.3286 - val_loss: 0.3372\n",
            "Epoch 55/100\n",
            "76642/76642 [==============================] - 79s 1ms/step - loss: 0.3287 - val_loss: 0.3129\n",
            "Epoch 56/100\n",
            "76642/76642 [==============================] - 72s 939us/step - loss: 0.3293 - val_loss: 0.3845\n",
            "Epoch 57/100\n",
            "76642/76642 [==============================] - 58s 762us/step - loss: 0.3296 - val_loss: 0.3706\n",
            "Epoch 58/100\n",
            "76642/76642 [==============================] - 58s 751us/step - loss: 0.3295 - val_loss: 0.3201\n",
            "Epoch 59/100\n",
            "76642/76642 [==============================] - 59s 767us/step - loss: 0.3297 - val_loss: 0.3824\n",
            "Epoch 60/100\n",
            "76642/76642 [==============================] - 97s 1ms/step - loss: 0.3297 - val_loss: 0.3588\n",
            "Epoch 61/100\n",
            "76642/76642 [==============================] - 86s 1ms/step - loss: 0.3302 - val_loss: 0.3059\n",
            "Epoch 62/100\n",
            "76642/76642 [==============================] - 94s 1ms/step - loss: 0.3307 - val_loss: 0.3611\n",
            "Epoch 63/100\n",
            "76642/76642 [==============================] - 71s 929us/step - loss: 0.3305 - val_loss: 0.3427\n",
            "Epoch 64/100\n",
            "76642/76642 [==============================] - 65s 851us/step - loss: 0.3308 - val_loss: 0.3491\n",
            "Epoch 65/100\n",
            "76642/76642 [==============================] - 62s 815us/step - loss: 0.3303 - val_loss: 0.3895\n",
            "Epoch 66/100\n",
            "76642/76642 [==============================] - 63s 826us/step - loss: 0.3309 - val_loss: 0.3941\n",
            "Epoch 67/100\n",
            "76642/76642 [==============================] - 64s 839us/step - loss: 0.3306 - val_loss: 0.3163\n",
            "Epoch 68/100\n",
            "76642/76642 [==============================] - 73s 947us/step - loss: 0.3311 - val_loss: 0.3202\n",
            "Epoch 69/100\n",
            "76642/76642 [==============================] - 74s 963us/step - loss: 0.3310 - val_loss: 0.3415\n",
            "Epoch 70/100\n",
            "76642/76642 [==============================] - 67s 872us/step - loss: 0.3313 - val_loss: 0.3098\n",
            "Epoch 71/100\n",
            "76642/76642 [==============================] - 64s 833us/step - loss: 0.3315 - val_loss: 0.3251\n",
            "Epoch 72/100\n",
            "76642/76642 [==============================] - 65s 843us/step - loss: 0.3307 - val_loss: 0.3216\n",
            "Epoch 73/100\n",
            "76642/76642 [==============================] - 66s 862us/step - loss: 0.3298 - val_loss: 0.3127\n",
            "Epoch 74/100\n",
            "76642/76642 [==============================] - 64s 838us/step - loss: 0.3303 - val_loss: 0.3247\n",
            "Epoch 75/100\n",
            "76642/76642 [==============================] - 59s 772us/step - loss: 0.3299 - val_loss: 0.3581\n",
            "Epoch 76/100\n",
            "76642/76642 [==============================] - 63s 817us/step - loss: 0.3294 - val_loss: 0.3222\n",
            "Epoch 77/100\n",
            "76642/76642 [==============================] - 70s 916us/step - loss: 0.3292 - val_loss: 0.3501\n",
            "Epoch 78/100\n",
            "76642/76642 [==============================] - 65s 846us/step - loss: 0.3288 - val_loss: 0.3328\n",
            "Epoch 79/100\n",
            "76642/76642 [==============================] - 58s 763us/step - loss: 0.3289 - val_loss: 0.3043\n",
            "Epoch 80/100\n",
            "76642/76642 [==============================] - 58s 754us/step - loss: 0.3292 - val_loss: 0.4170\n",
            "Epoch 81/100\n",
            "76642/76642 [==============================] - 59s 764us/step - loss: 0.3293 - val_loss: 0.3089\n",
            "Epoch 82/100\n",
            "76642/76642 [==============================] - 59s 771us/step - loss: 0.3291 - val_loss: 0.3121\n",
            "Epoch 83/100\n",
            "76642/76642 [==============================] - 63s 824us/step - loss: 0.3296 - val_loss: 0.3113\n",
            "Epoch 84/100\n",
            "76642/76642 [==============================] - 69s 896us/step - loss: 0.3299 - val_loss: 0.3040\n",
            "Epoch 85/100\n",
            "76642/76642 [==============================] - 65s 847us/step - loss: 0.3299 - val_loss: 0.3067\n",
            "Epoch 86/100\n",
            "76642/76642 [==============================] - 58s 758us/step - loss: 0.3300 - val_loss: 0.3117\n",
            "Epoch 87/100\n",
            "76642/76642 [==============================] - 58s 761us/step - loss: 0.3306 - val_loss: 0.3363\n",
            "Epoch 88/100\n",
            "76642/76642 [==============================] - 57s 745us/step - loss: 0.3308 - val_loss: 0.3432\n",
            "Epoch 89/100\n",
            "76642/76642 [==============================] - 63s 824us/step - loss: 0.3311 - val_loss: 0.3214\n",
            "Epoch 90/100\n",
            "76642/76642 [==============================] - 82s 1ms/step - loss: 0.3312 - val_loss: 0.4747\n",
            "Epoch 91/100\n",
            "76642/76642 [==============================] - 73s 952us/step - loss: 0.3315 - val_loss: 0.4506\n",
            "Epoch 92/100\n",
            "76642/76642 [==============================] - 61s 792us/step - loss: 0.3317 - val_loss: 0.3241\n",
            "Epoch 93/100\n",
            "76642/76642 [==============================] - 61s 801us/step - loss: 0.3320 - val_loss: 0.3111\n",
            "Epoch 94/100\n",
            "76642/76642 [==============================] - 59s 774us/step - loss: 0.3312 - val_loss: 0.3160\n",
            "Epoch 95/100\n",
            "76642/76642 [==============================] - 63s 818us/step - loss: 0.3324 - val_loss: 0.3367\n",
            "Epoch 96/100\n",
            "76642/76642 [==============================] - 62s 807us/step - loss: 0.3322 - val_loss: 0.3095\n",
            "Epoch 97/100\n",
            "76642/76642 [==============================] - 64s 839us/step - loss: 0.3322 - val_loss: 0.5083\n",
            "Epoch 98/100\n",
            "76642/76642 [==============================] - 66s 861us/step - loss: 0.3318 - val_loss: 0.3598\n",
            "Epoch 99/100\n",
            "76642/76642 [==============================] - 64s 837us/step - loss: 0.3322 - val_loss: 0.3225\n",
            "Epoch 100/100\n",
            "76642/76642 [==============================] - 73s 956us/step - loss: 0.3323 - val_loss: 0.3152\n"
          ],
          "name": "stdout"
        }
      ]
    },
    {
      "cell_type": "code",
      "metadata": {
        "id": "6JwmJe-ldMKe"
      },
      "source": [
        "predictions = wider_model_rmsprop.predict(feature_test)\n",
        "\n",
        "predictions = predictions.flatten()"
      ],
      "execution_count": 37,
      "outputs": []
    },
    {
      "cell_type": "code",
      "metadata": {
        "id": "bvy1VZMYdMKh",
        "outputId": "bc5c9347-b6da-4e1e-bdcb-b3502154d5ea",
        "colab": {
          "base_uri": "https://localhost:8080/",
          "height": 87
        }
      },
      "source": [
        "from sklearn.metrics import mean_squared_error, mean_absolute_error, r2_score\n",
        "\n",
        "mse = mean_squared_error(label_test, predictions)\n",
        "mae = mean_absolute_error(label_test, predictions)\n",
        "r2 = r2_score(label_test, predictions)\n",
        "print(\"MSE (Mean Squared Error)\", mse)\n",
        "print(\"MAE (Mean Absolute Error)\", mae)\n",
        "print(\"r^2 score\", r2)\n",
        "print('RMSE (Root Mean Squared Error', np.sqrt(mean_squared_error(label_test, predictions)))"
      ],
      "execution_count": 38,
      "outputs": [
        {
          "output_type": "stream",
          "text": [
            "MSE (Mean Squared Error) 0.3152470340034841\n",
            "MAE (Mean Absolute Error) 0.37546427936101684\n",
            "r^2 score 0.6836742963112858\n",
            "RMSE (Root Mean Squared Error 0.5614686402671872\n"
          ],
          "name": "stdout"
        }
      ]
    },
    {
      "cell_type": "code",
      "metadata": {
        "id": "w7sNIEcz_QV7",
        "outputId": "8c492306-f56e-46c0-d8d2-bed136ad219b",
        "colab": {
          "base_uri": "https://localhost:8080/",
          "height": 406
        }
      },
      "source": [
        "history_rmsprop_dataframe = pd.DataFrame(history_rmsprop.history)\n",
        "history_rmsprop_dataframe['epoch'] = history_rmsprop.epoch\n",
        "history_rmsprop_dataframe.sort_values(by='val_loss', ascending=True)"
      ],
      "execution_count": 39,
      "outputs": [
        {
          "output_type": "execute_result",
          "data": {
            "text/html": [
              "<div>\n",
              "<style scoped>\n",
              "    .dataframe tbody tr th:only-of-type {\n",
              "        vertical-align: middle;\n",
              "    }\n",
              "\n",
              "    .dataframe tbody tr th {\n",
              "        vertical-align: top;\n",
              "    }\n",
              "\n",
              "    .dataframe thead th {\n",
              "        text-align: right;\n",
              "    }\n",
              "</style>\n",
              "<table border=\"1\" class=\"dataframe\">\n",
              "  <thead>\n",
              "    <tr style=\"text-align: right;\">\n",
              "      <th></th>\n",
              "      <th>loss</th>\n",
              "      <th>val_loss</th>\n",
              "      <th>epoch</th>\n",
              "    </tr>\n",
              "  </thead>\n",
              "  <tbody>\n",
              "    <tr>\n",
              "      <th>9</th>\n",
              "      <td>0.314812</td>\n",
              "      <td>0.303769</td>\n",
              "      <td>9</td>\n",
              "    </tr>\n",
              "    <tr>\n",
              "      <th>83</th>\n",
              "      <td>0.329938</td>\n",
              "      <td>0.304031</td>\n",
              "      <td>83</td>\n",
              "    </tr>\n",
              "    <tr>\n",
              "      <th>28</th>\n",
              "      <td>0.322665</td>\n",
              "      <td>0.304220</td>\n",
              "      <td>28</td>\n",
              "    </tr>\n",
              "    <tr>\n",
              "      <th>78</th>\n",
              "      <td>0.328934</td>\n",
              "      <td>0.304278</td>\n",
              "      <td>78</td>\n",
              "    </tr>\n",
              "    <tr>\n",
              "      <th>60</th>\n",
              "      <td>0.330210</td>\n",
              "      <td>0.305863</td>\n",
              "      <td>60</td>\n",
              "    </tr>\n",
              "    <tr>\n",
              "      <th>...</th>\n",
              "      <td>...</td>\n",
              "      <td>...</td>\n",
              "      <td>...</td>\n",
              "    </tr>\n",
              "    <tr>\n",
              "      <th>79</th>\n",
              "      <td>0.329156</td>\n",
              "      <td>0.416955</td>\n",
              "      <td>79</td>\n",
              "    </tr>\n",
              "    <tr>\n",
              "      <th>90</th>\n",
              "      <td>0.331494</td>\n",
              "      <td>0.450605</td>\n",
              "      <td>90</td>\n",
              "    </tr>\n",
              "    <tr>\n",
              "      <th>89</th>\n",
              "      <td>0.331246</td>\n",
              "      <td>0.474680</td>\n",
              "      <td>89</td>\n",
              "    </tr>\n",
              "    <tr>\n",
              "      <th>47</th>\n",
              "      <td>0.328504</td>\n",
              "      <td>0.487977</td>\n",
              "      <td>47</td>\n",
              "    </tr>\n",
              "    <tr>\n",
              "      <th>96</th>\n",
              "      <td>0.332199</td>\n",
              "      <td>0.508320</td>\n",
              "      <td>96</td>\n",
              "    </tr>\n",
              "  </tbody>\n",
              "</table>\n",
              "<p>100 rows × 3 columns</p>\n",
              "</div>"
            ],
            "text/plain": [
              "        loss  val_loss  epoch\n",
              "9   0.314812  0.303769      9\n",
              "83  0.329938  0.304031     83\n",
              "28  0.322665  0.304220     28\n",
              "78  0.328934  0.304278     78\n",
              "60  0.330210  0.305863     60\n",
              "..       ...       ...    ...\n",
              "79  0.329156  0.416955     79\n",
              "90  0.331494  0.450605     90\n",
              "89  0.331246  0.474680     89\n",
              "47  0.328504  0.487977     47\n",
              "96  0.332199  0.508320     96\n",
              "\n",
              "[100 rows x 3 columns]"
            ]
          },
          "metadata": {
            "tags": []
          },
          "execution_count": 39
        }
      ]
    },
    {
      "cell_type": "markdown",
      "metadata": {
        "id": "9zNGkM1FdfC6"
      },
      "source": [
        "# Kesimpulan\n",
        "\n",
        "Untuk dataset Bottle ini, R2 Score paling tinggi dan MSE terendah didapatkan dengan model Deeper(Baseline), dimana:\n",
        "\n",
        "MSE (Mean Squared Error) 0.29325511315437164\n",
        "\n",
        "MAE (Mean Absolute Error) 0.3445997956569064\n",
        "\n",
        "r^2 score 0.705741466142248\n",
        "\n",
        "RMSE (Root Mean Squared Error 0.5415303437060306"
      ]
    }
  ]
}