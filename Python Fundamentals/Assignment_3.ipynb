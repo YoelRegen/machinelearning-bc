{
  "nbformat": 4,
  "nbformat_minor": 0,
  "metadata": {
    "colab": {
      "name": "Assignment_3.ipynb",
      "provenance": []
    },
    "kernelspec": {
      "name": "python3",
      "display_name": "Python 3"
    }
  },
  "cells": [
    {
      "cell_type": "code",
      "metadata": {
        "id": "SsyfBl-Mn4y0",
        "colab_type": "code",
        "colab": {}
      },
      "source": [
        "array_of_dictionaries = [{\n",
        "    \"name\": \"Budi\",\n",
        "    \"age\": 10,\n",
        "    \"test_scores\": [100.0, 98.0, 89.0]\n",
        "},\n",
        "{\n",
        "    \"name\": \"Charlie\",\n",
        "    \"age\": 12,\n",
        "    \"test_scores\": [90.0, 100.0]\n",
        "}]"
      ],
      "execution_count": null,
      "outputs": []
    },
    {
      "cell_type": "code",
      "metadata": {
        "id": "eNQXrOYLoXGV",
        "colab_type": "code",
        "colab": {
          "base_uri": "https://localhost:8080/",
          "height": 52
        },
        "outputId": "db93f7ee-c5a8-4e58-bdc3-faed1c6abfae"
      },
      "source": [
        "# 1\n",
        "\n",
        "def get_students_averages(dictionary_list):\n",
        "  for student in dictionary_list:\n",
        "    average = sum(student['test_scores']) / len(student['test_scores'])\n",
        "    \n",
        "    print(\"Pelajar \" + student['name'] + \" dengan umur \" + str(student['age']) + \" mendapatkan nilai rata-rata \" + str(round(average, 2)))\n",
        "\n",
        "get_students_averages(array_of_dictionaries)"
      ],
      "execution_count": null,
      "outputs": [
        {
          "output_type": "stream",
          "text": [
            "Pelajar Budi dengan umur 10 mendapatkan nilai rata-rata 95.67\n",
            "Pelajar Charlie dengan umur 12 mendapatkan nilai rata-rata 95.0\n"
          ],
          "name": "stdout"
        }
      ]
    },
    {
      "cell_type": "code",
      "metadata": {
        "id": "ILH8ZuW0pHGm",
        "colab_type": "code",
        "colab": {
          "base_uri": "https://localhost:8080/",
          "height": 52
        },
        "outputId": "08025bee-55cd-4e1f-b18d-4056e82b08ec"
      },
      "source": [
        "# 2\n",
        "\n",
        "def get_students_min_score(dictionary_list):\n",
        "  for student in dictionary_list:\n",
        "    min = 100000000000\n",
        "\n",
        "    for score in student['test_scores']:\n",
        "      if score < min:\n",
        "        min = score\n",
        "    \n",
        "    print(\"Pelajar \" + student['name'] + \" dengan umur \" + str(student['age']) + \" mendapatkan nilai terkecil \" + str(round(min, 2)))\n",
        "\n",
        "get_students_min_score(array_of_dictionaries)"
      ],
      "execution_count": null,
      "outputs": [
        {
          "output_type": "stream",
          "text": [
            "Pelajar Budi dengan umur 10 mendapatkan nilai terkecil 89.0\n",
            "Pelajar Charlie dengan umur 12 mendapatkan nilai terkecil 90.0\n"
          ],
          "name": "stdout"
        }
      ]
    },
    {
      "cell_type": "code",
      "metadata": {
        "colab_type": "code",
        "id": "oC5aa0gxpyto",
        "colab": {
          "base_uri": "https://localhost:8080/",
          "height": 52
        },
        "outputId": "c7570af5-9465-42be-d6ee-bfe7d63844a6"
      },
      "source": [
        "# 3\n",
        "\n",
        "def get_students_max_score(dictionary_list):\n",
        "  for student in dictionary_list:\n",
        "    max = 0\n",
        "\n",
        "    for score in student['test_scores']:\n",
        "      if score > max:\n",
        "        max = score\n",
        "    \n",
        "    print(\"Pelajar \" + student['name'] + \" dengan umur \" + str(student['age']) + \" mendapatkan nilai terbesar \" + str(round(max, 2)))\n",
        "\n",
        "get_students_max_score(array_of_dictionaries)"
      ],
      "execution_count": null,
      "outputs": [
        {
          "output_type": "stream",
          "text": [
            "Pelajar Budi dengan umur 10 mendapatkan nilai terbesar 100.0\n",
            "Pelajar Charlie dengan umur 12 mendapatkan nilai terbesar 100.0\n"
          ],
          "name": "stdout"
        }
      ]
    },
    {
      "cell_type": "code",
      "metadata": {
        "colab_type": "code",
        "id": "ELiiZQvyqHFM",
        "colab": {
          "base_uri": "https://localhost:8080/",
          "height": 34
        },
        "outputId": "28e9531f-6348-447e-bcd6-1b8d077e49b9"
      },
      "source": [
        "# 4\n",
        "\n",
        "def get_max_score_by_student(dictionary_list, student_name):\n",
        "  for student in dictionary_list:\n",
        "    if student['name'] != student_name:\n",
        "      continue\n",
        "\n",
        "    max = 0\n",
        "\n",
        "    for score in student['test_scores']:\n",
        "      if score > max:\n",
        "        max = score\n",
        "    \n",
        "    print(\"Pelajar \" + student['name'] + \" dengan umur \" + str(student['age']) + \" mendapatkan nilai terbesar \" + str(round(max, 2)))\n",
        "\n",
        "get_max_score_by_student(array_of_dictionaries, \"Charlie\")"
      ],
      "execution_count": null,
      "outputs": [
        {
          "output_type": "stream",
          "text": [
            "Pelajar Charlie dengan umur 12 mendapatkan nilai terbesar 100.0\n"
          ],
          "name": "stdout"
        }
      ]
    },
    {
      "cell_type": "code",
      "metadata": {
        "colab_type": "code",
        "id": "DjktfgBWqcu1",
        "colab": {
          "base_uri": "https://localhost:8080/",
          "height": 34
        },
        "outputId": "7d3e82d0-3509-4907-f2b9-28d37a8ec8e5"
      },
      "source": [
        "# 5\n",
        "\n",
        "def get_all_time_max_avg_score(dictionary_list):\n",
        "  max_student = None\n",
        "  max_average = 0\n",
        "\n",
        "  for student in dictionary_list:\n",
        "    average = sum(student['test_scores']) / len(student['test_scores'])\n",
        "\n",
        "    if average > max_average:\n",
        "      max_average = average\n",
        "      max_student = student\n",
        "    \n",
        "  print(\"Pelajar \" + max_student['name'] + \" dengan umur \" + str(max_student['age']) + \" mendapatkan nilai rata-rata terbesar \" + str(round(max_average, 2)))\n",
        "\n",
        "get_all_time_max_avg_score(array_of_dictionaries)"
      ],
      "execution_count": null,
      "outputs": [
        {
          "output_type": "stream",
          "text": [
            "Pelajar Budi dengan umur 10 mendapatkan nilai rata-rata terbesar 95.67\n"
          ],
          "name": "stdout"
        }
      ]
    },
    {
      "cell_type": "code",
      "metadata": {
        "id": "KLNgUBCKrsgv",
        "colab_type": "code",
        "colab": {
          "base_uri": "https://localhost:8080/",
          "height": 54
        },
        "outputId": "06a47b10-2ba7-41c6-966e-c692454fbc17"
      },
      "source": [
        "# 6\n",
        "\n",
        "def add_student(dictionary_list, student_dictionary):\n",
        "  dictionary_list.append(student_dictionary)\n",
        "\n",
        "  return dictionary_list\n",
        "\n",
        "updated_dictionary = add_student(array_of_dictionaries, { \"name\": \"Doddy\", \"age\": 13, \"test_scores\": [100.0, 100.0, 100.0] })\n",
        "\n",
        "print(updated_dictionary)\n"
      ],
      "execution_count": null,
      "outputs": [
        {
          "output_type": "stream",
          "text": [
            "[{'name': 'Budi', 'age': 10, 'test_scores': [100.0, 98.0, 89.0]}, {'name': 'Charlie', 'age': 12, 'test_scores': [90.0, 100.0]}, {'name': 'Doddy', 'age': 13, 'test_scores': [100.0, 100.0, 100.0]}]\n"
          ],
          "name": "stdout"
        }
      ]
    }
  ]
}