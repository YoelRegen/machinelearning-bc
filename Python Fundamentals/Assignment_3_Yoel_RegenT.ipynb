{
  "nbformat": 4,
  "nbformat_minor": 0,
  "metadata": {
    "colab": {
      "name": "Week_1_Python_1_Yoel_RegenT2.ipynb",
      "provenance": [],
      "collapsed_sections": []
    },
    "kernelspec": {
      "name": "python3",
      "display_name": "Python 3"
    }
  },
  "cells": [
    {
      "cell_type": "markdown",
      "metadata": {
        "id": "v2DBrroxte4e",
        "colab_type": "text"
      },
      "source": [
        "# Introduction to Python"
      ]
    },
    {
      "cell_type": "markdown",
      "metadata": {
        "id": "7HF9sOuF_uUE",
        "colab_type": "text"
      },
      "source": [
        "Suatu variabel menyimpan nilai:\n",
        "* *String* (teks)\n",
        "* *Integer*, *Float* (angka)\n",
        "* *Boolean* (True/False)\n",
        "* *None* (kosong, nilai default seuatu variabel)"
      ]
    },
    {
      "cell_type": "markdown",
      "metadata": {
        "id": "BsWXmBjOmZxu",
        "colab_type": "text"
      },
      "source": [
        "**Contoh variabel integer (bilangan bulat)**"
      ]
    },
    {
      "cell_type": "code",
      "metadata": {
        "id": "yOSVPekuk-QN",
        "colab_type": "code",
        "colab": {
          "base_uri": "https://localhost:8080/",
          "height": 34
        },
        "outputId": "14cce722-3a0d-4b8d-a832-7341b55010b9"
      },
      "source": [
        "x = 1\n",
        "print(x) # Print untuk menunjukan nilai x"
      ],
      "execution_count": 139,
      "outputs": [
        {
          "output_type": "stream",
          "text": [
            "1\n"
          ],
          "name": "stdout"
        }
      ]
    },
    {
      "cell_type": "code",
      "metadata": {
        "id": "FZaYt7dwlHNK",
        "colab_type": "code",
        "colab": {
          "base_uri": "https://localhost:8080/",
          "height": 34
        },
        "outputId": "86277c56-e038-48b2-8fa3-3274108bd856"
      },
      "source": [
        "x = 2 + x\n",
        "print(x)"
      ],
      "execution_count": 140,
      "outputs": [
        {
          "output_type": "stream",
          "text": [
            "3\n"
          ],
          "name": "stdout"
        }
      ]
    },
    {
      "cell_type": "code",
      "metadata": {
        "id": "r-jvVIuglrKE",
        "colab_type": "code",
        "colab": {
          "base_uri": "https://localhost:8080/",
          "height": 34
        },
        "outputId": "96944192-02f2-4546-b2c5-602cfe5f6b11"
      },
      "source": [
        "y = 2\n",
        "x_plus_y = x + y\n",
        "print(x_plus_y)"
      ],
      "execution_count": 141,
      "outputs": [
        {
          "output_type": "stream",
          "text": [
            "5\n"
          ],
          "name": "stdout"
        }
      ]
    },
    {
      "cell_type": "markdown",
      "metadata": {
        "id": "hCtdJlJemqGU",
        "colab_type": "text"
      },
      "source": [
        "**Contoh variabel decimal (bilangan decimal)**"
      ]
    },
    {
      "cell_type": "code",
      "metadata": {
        "id": "cGDFTi_AmAPW",
        "colab_type": "code",
        "colab": {
          "base_uri": "https://localhost:8080/",
          "height": 51
        },
        "outputId": "9439d4bd-7834-4b56-85cf-faf592f7599d"
      },
      "source": [
        "float_sample = 2.0\n",
        "print(\"Contoh float \" + str(float_sample)) # Apabila terdapat dua macam data type (string dan float), supaya teks bisa di-print perlu untuk melakukan casting (float menjadi string)\n",
        "\n",
        "result_float_plus_int = float_sample + x_plus_y\n",
        "print(\"Hasil penambahan float dan int\", result_float_plus_int) # Hasilnya merupakan float, mencari tingkat presisi yang lebih tinggi"
      ],
      "execution_count": 142,
      "outputs": [
        {
          "output_type": "stream",
          "text": [
            "Contoh float 2.0\n",
            "Hasil penambahan float dan int 7.0\n"
          ],
          "name": "stdout"
        }
      ]
    },
    {
      "cell_type": "markdown",
      "metadata": {
        "id": "u01iwIpcm4KX",
        "colab_type": "text"
      },
      "source": [
        "**Contoh variabel string (teks)**"
      ]
    },
    {
      "cell_type": "code",
      "metadata": {
        "id": "-6FBI0_4lhiU",
        "colab_type": "code",
        "colab": {
          "base_uri": "https://localhost:8080/",
          "height": 34
        },
        "outputId": "920a7e7b-3f1f-4e3a-a58f-67a59a0ddb36"
      },
      "source": [
        "string_sample = \"Ini contoh string\"\n",
        "print(string_sample)"
      ],
      "execution_count": 143,
      "outputs": [
        {
          "output_type": "stream",
          "text": [
            "Ini contoh string\n"
          ],
          "name": "stdout"
        }
      ]
    },
    {
      "cell_type": "code",
      "metadata": {
        "id": "sa6abBFRlP_v",
        "colab_type": "code",
        "colab": {
          "base_uri": "https://localhost:8080/",
          "height": 34
        },
        "outputId": "6b23894d-6d16-4a8a-a0a2-035486cadde6"
      },
      "source": [
        "# Ini contoh comment sebagai catatan keterangan\n",
        "# Print angka beserta string\n",
        "print(\"Hasil penambahan x dan y: \" + str(x_plus_y))"
      ],
      "execution_count": 144,
      "outputs": [
        {
          "output_type": "stream",
          "text": [
            "Hasil penambahan x dan y: 5\n"
          ],
          "name": "stdout"
        }
      ]
    },
    {
      "cell_type": "markdown",
      "metadata": {
        "id": "xnhp6HvXsoWN",
        "colab_type": "text"
      },
      "source": [
        "**Contoh variabel Boolean (True/False)**"
      ]
    },
    {
      "cell_type": "code",
      "metadata": {
        "id": "DiSJH1_1svHG",
        "colab_type": "code",
        "colab": {
          "base_uri": "https://localhost:8080/",
          "height": 85
        },
        "outputId": "4e089292-7bef-48a9-b195-a759e64fd175"
      },
      "source": [
        "is_true = True\n",
        "\n",
        "print(is_true)\n",
        "\n",
        "is_greater_than_10 = x_plus_y > 10 # Lebih besar dari 10?\n",
        "\n",
        "print(\"Nilai penambahan x dan y lebih dari 10? \" + str(is_true))\n",
        "\n",
        "if is_greater_than_10:\n",
        "  print(\"Angka lebih besar dari 10\")\n",
        "else:\n",
        "  print(\"Angka lebih kecil atau sama dengan 10\")\n",
        "\n",
        "# 1 baris :)\n",
        "result_string = \"Angka lebih besar dari 10\" if is_greater_than_10 else \"Angka lebih kecil atau sama dengan 10\"\n",
        "\n",
        "print(result_string)\n",
        "\n",
        "# Operators\n",
        "# >, <, ==, !=, is, >=, <="
      ],
      "execution_count": 145,
      "outputs": [
        {
          "output_type": "stream",
          "text": [
            "True\n",
            "Nilai penambahan x dan y lebih dari 10? True\n",
            "Angka lebih kecil atau sama dengan 10\n",
            "Angka lebih kecil atau sama dengan 10\n"
          ],
          "name": "stdout"
        }
      ]
    },
    {
      "cell_type": "markdown",
      "metadata": {
        "id": "rkcRo5rWne7L",
        "colab_type": "text"
      },
      "source": [
        "**Variabel List (Array)**"
      ]
    },
    {
      "cell_type": "code",
      "metadata": {
        "id": "YmZ5PmTAnmMs",
        "colab_type": "code",
        "colab": {
          "base_uri": "https://localhost:8080/",
          "height": 34
        },
        "outputId": "1f21d7bf-ca95-4bd6-9968-ef10d2fb4ba3"
      },
      "source": [
        "array_example = [1, 2, 3, 4, 5] # Suatu deret angka\n",
        "\n",
        "# Array dapat menyimpan lebih dari 1 nilai, dibandingkan kita membuat banyak variabel\n",
        "# Array juga bersifat dinamis, kita dapat menambahkan nilai ataupun menghapus nilai\n",
        "\n",
        "# Untuk melakukan debug/melihat isi array secara programatis\n",
        "print(array_example)"
      ],
      "execution_count": 146,
      "outputs": [
        {
          "output_type": "stream",
          "text": [
            "[1, 2, 3, 4, 5]\n"
          ],
          "name": "stdout"
        }
      ]
    },
    {
      "cell_type": "code",
      "metadata": {
        "id": "avQSS1JqoBSW",
        "colab_type": "code",
        "colab": {
          "base_uri": "https://localhost:8080/",
          "height": 102
        },
        "outputId": "07aaa2a8-84a6-4a9c-de35-dfb0cc99f5f3"
      },
      "source": [
        "# Untuk membaca nilai array satu per satu, menggunakan loop\n",
        "for i in array_example: \n",
        "  # Dimana i merupakan nama variabel BARU untuk menampung isi array (array_example)\n",
        "  # array_example merupakan nama variabel array yang SUDAH DIBUAT sebelumnya\n",
        "  print(\"Angka: \" + str(i)) # Atau bisa juga dengan, print(\"Angka\", i)"
      ],
      "execution_count": 147,
      "outputs": [
        {
          "output_type": "stream",
          "text": [
            "Angka: 1\n",
            "Angka: 2\n",
            "Angka: 3\n",
            "Angka: 4\n",
            "Angka: 5\n"
          ],
          "name": "stdout"
        }
      ]
    },
    {
      "cell_type": "code",
      "metadata": {
        "id": "_NUxNAtzoa_I",
        "colab_type": "code",
        "colab": {
          "base_uri": "https://localhost:8080/",
          "height": 102
        },
        "outputId": "08142bd4-3691-4d82-890b-819d01bf5dfa"
      },
      "source": [
        "# Melakukan operasi terhadap isi array\n",
        "for i in array_example:\n",
        "  i += 1 # Sama saja dengan i = i + 1\n",
        "  i *= 3 # Sama saja dengan i = i * 3\n",
        "\n",
        "  print(\"Angka\", i)"
      ],
      "execution_count": 148,
      "outputs": [
        {
          "output_type": "stream",
          "text": [
            "Angka 6\n",
            "Angka 9\n",
            "Angka 12\n",
            "Angka 15\n",
            "Angka 18\n"
          ],
          "name": "stdout"
        }
      ]
    },
    {
      "cell_type": "code",
      "metadata": {
        "id": "QKttXvEoo090",
        "colab_type": "code",
        "colab": {
          "base_uri": "https://localhost:8080/",
          "height": 102
        },
        "outputId": "395a4eed-7ac2-4efa-ef56-1819ba4c9ae0"
      },
      "source": [
        "# Suatu array terdiri dari elemen/isi serta index yang menunjukan posisi suatu elemen\n",
        "\n",
        "another_array = [6, 7, 8, 9, 10] # 6, 7, 8, 9, 10 adalah elemen\n",
        "\n",
        "for index, element in enumerate(another_array):\n",
        "  print(\"Angka ke-\" + str(index) + \" : \" + str(element))\n",
        "\n",
        "# Maka, kita melihat index suatu array dimulai dari angka 0, 1, dan seterusnya"
      ],
      "execution_count": 149,
      "outputs": [
        {
          "output_type": "stream",
          "text": [
            "Angka ke-0 : 6\n",
            "Angka ke-1 : 7\n",
            "Angka ke-2 : 8\n",
            "Angka ke-3 : 9\n",
            "Angka ke-4 : 10\n"
          ],
          "name": "stdout"
        }
      ]
    },
    {
      "cell_type": "code",
      "metadata": {
        "id": "1gk9hbREpeJq",
        "colab_type": "code",
        "colab": {
          "base_uri": "https://localhost:8080/",
          "height": 34
        },
        "outputId": "bf07b8e8-063f-4f2f-95eb-273ec01de1e2"
      },
      "source": [
        "# Mencari suatu nilai pada array\n",
        "\n",
        "# Mencari angka 9, di index berapa?\n",
        "\n",
        "index_9 = another_array.index(9)\n",
        "\n",
        "print(\"Angka 9 ditemukan di index ke\", index_9)\n",
        "\n",
        "# Mencari angka yang tidak ditemukan\n",
        "\n",
        "# Cara 1\n",
        "\n",
        "for index, element in enumerate(another_array):\n",
        "  # Menggunakan keyword if untuk mengecek suatu kondisi\n",
        "  if element == 11:\n",
        "    print(\"Angka 11 ditemukan di index\", index)\n",
        "    break\n",
        "\n",
        "# Cara 2\n",
        "\n",
        "#index_11 = another_array.index(11)\n",
        "\n",
        "#print(\"Angka 11 ditemukan di index ke\", index_11)\n",
        "\n",
        "# Error Handling\n",
        "\n",
        "# try:\n",
        "#   index_11 = another_array.index(11)\n",
        "\n",
        "#   print(\"Angka 11 ditemukan di index ke\", index_11)\n",
        "# except ValueError as e:\n",
        "#   print(\"Terdapat kesalahan:\", e)"
      ],
      "execution_count": 150,
      "outputs": [
        {
          "output_type": "stream",
          "text": [
            "Angka 9 ditemukan di index ke 3\n"
          ],
          "name": "stdout"
        }
      ]
    },
    {
      "cell_type": "code",
      "metadata": {
        "id": "YkfjcI55qs-1",
        "colab_type": "code",
        "colab": {
          "base_uri": "https://localhost:8080/",
          "height": 68
        },
        "outputId": "593babe7-8719-4dce-8925-ee3d15f58f55"
      },
      "source": [
        "# Cool loop one-liners :)\n",
        "\n",
        "another_array_doubled = [2 * element for element in another_array]\n",
        "\n",
        "print(another_array_doubled)\n",
        "\n",
        "# Sama saja dengan:\n",
        "another_array_doubled = [] # Membuat sebuah array kosong\n",
        "\n",
        "for i in another_array:\n",
        "   i *= 2\n",
        "\n",
        "   # Gunakan function .append() untuk menambahkan elemen baru ke array\n",
        "   another_array_doubled.append(i) # Atau, another_array_doubled.append(i * 2)\n",
        "\n",
        "print(another_array_doubled)\n",
        "\n",
        "# Lebih simple kan :)\n",
        "\n",
        "# Menambahkan kondisi\n",
        "\n",
        "# Mencari bilangan yang tidak habis dibagi 2 (bilangan ganjil), lalu dikalikan 2\n",
        "another_array_doubled_odd = [2 * element for element in another_array if element % 2 != 0]\n",
        "print(another_array_doubled_odd)"
      ],
      "execution_count": 151,
      "outputs": [
        {
          "output_type": "stream",
          "text": [
            "[12, 14, 16, 18, 20]\n",
            "[12, 14, 16, 18, 20]\n",
            "[14, 18]\n"
          ],
          "name": "stdout"
        }
      ]
    },
    {
      "cell_type": "markdown",
      "metadata": {
        "id": "GBuiQ7oRKA02",
        "colab_type": "text"
      },
      "source": [
        "# Assignments\n",
        "\n",
        "\n",
        "1. Buatlah suatu list kosong bernama `numbers`. Lalu, buatlah loop yang secara otomatis menambahkan nomor 1-10 ke list tersebut. \n",
        "  * Hint: Gunakan function `range()` untuk melakukan loop selama `n` kali\n",
        "\n",
        "2. Tambahkan setiap nilai numbers sebanyak 2.\n",
        "\n",
        "3. Cek untuk setiap angka ganjil, apabila ganjil tambahkan angka 1.\n",
        "\n",
        "4. Hapus semua angka yang lebih kecil dari 5 di list.\n",
        "  * Hint: Gunakan function `remove()`\n",
        "\n",
        "5. Print semua nilai isi di list dengan format:\n",
        "  * Angka ke-(index) bernilai (angka)\n",
        "  * Misal: Angka ke-0 bernilai 10\n",
        "\n",
        "6. Print semua angka yang habis dibagi 2, dengan format:\n",
        "  * Angka ke-(index) bernilai (angka)\n",
        "  * Misal: Angka ke-0 bernilai 10"
      ]
    },
    {
      "cell_type": "code",
      "metadata": {
        "id": "OWzyVT-qA1Nn",
        "colab_type": "code",
        "colab": {
          "base_uri": "https://localhost:8080/",
          "height": 34
        },
        "outputId": "44b72257-9b94-471f-845c-3c1bc93c0625"
      },
      "source": [
        "#Jawaban 1\n",
        "numbers = []\n",
        "temp = []\n",
        "for i in range(10):\n",
        "  i += 1\n",
        "  temp.append(i)\n",
        "  numbers = temp\n",
        "print (numbers)"
      ],
      "execution_count": 152,
      "outputs": [
        {
          "output_type": "stream",
          "text": [
            "[1, 2, 3, 4, 5, 6, 7, 8, 9, 10]\n"
          ],
          "name": "stdout"
        }
      ]
    },
    {
      "cell_type": "code",
      "metadata": {
        "id": "oEs0-3uHBdHF",
        "colab_type": "code",
        "colab": {
          "base_uri": "https://localhost:8080/",
          "height": 34
        },
        "outputId": "76526c59-899c-4376-9e64-332cd416f20c"
      },
      "source": [
        "#Jawaban 2\n",
        "temp = [n + 2 for n in numbers]\n",
        "numbers = temp\n",
        "print (numbers)"
      ],
      "execution_count": 153,
      "outputs": [
        {
          "output_type": "stream",
          "text": [
            "[3, 4, 5, 6, 7, 8, 9, 10, 11, 12]\n"
          ],
          "name": "stdout"
        }
      ]
    },
    {
      "cell_type": "code",
      "metadata": {
        "id": "XWjXy42XCYFD",
        "colab_type": "code",
        "colab": {
          "base_uri": "https://localhost:8080/",
          "height": 34
        },
        "outputId": "a333a532-f404-42c5-ff62-dd7567baaacb"
      },
      "source": [
        "#Jawaban 3\n",
        "for i in range(len(numbers)):\n",
        "  if (numbers[i] % 2 == 1):\n",
        "    temp = numbers[i] + 1\n",
        "    numbers[i] = temp\n",
        "print (numbers)"
      ],
      "execution_count": 154,
      "outputs": [
        {
          "output_type": "stream",
          "text": [
            "[4, 4, 6, 6, 8, 8, 10, 10, 12, 12]\n"
          ],
          "name": "stdout"
        }
      ]
    },
    {
      "cell_type": "code",
      "metadata": {
        "id": "Ovpg2xjzGHP1",
        "colab_type": "code",
        "colab": {
          "base_uri": "https://localhost:8080/",
          "height": 34
        },
        "outputId": "9f246cc4-f401-4602-97c7-250ccae923af"
      },
      "source": [
        "#Jawaban 4\n",
        "temp = [i for i in numbers if i >5]\n",
        "numbers = temp\n",
        "print (numbers)"
      ],
      "execution_count": 155,
      "outputs": [
        {
          "output_type": "stream",
          "text": [
            "[6, 6, 8, 8, 10, 10, 12, 12]\n"
          ],
          "name": "stdout"
        }
      ]
    },
    {
      "cell_type": "code",
      "metadata": {
        "id": "OuWGro1sN8Gt",
        "colab_type": "code",
        "colab": {
          "base_uri": "https://localhost:8080/",
          "height": 153
        },
        "outputId": "13d229de-ddbf-466c-eda8-912020d0f723"
      },
      "source": [
        "#Jawaban 5\n",
        "for index, elements in enumerate(numbers):\n",
        "  print(\"Angka ke-\" + str(index + 1) + \" : \" +  str(elements))"
      ],
      "execution_count": 156,
      "outputs": [
        {
          "output_type": "stream",
          "text": [
            "Angka ke-1 : 6\n",
            "Angka ke-2 : 6\n",
            "Angka ke-3 : 8\n",
            "Angka ke-4 : 8\n",
            "Angka ke-5 : 10\n",
            "Angka ke-6 : 10\n",
            "Angka ke-7 : 12\n",
            "Angka ke-8 : 12\n"
          ],
          "name": "stdout"
        }
      ]
    },
    {
      "cell_type": "code",
      "metadata": {
        "id": "pBu-b8YlPio7",
        "colab_type": "code",
        "colab": {
          "base_uri": "https://localhost:8080/",
          "height": 153
        },
        "outputId": "b48f75cd-5322-418d-a816-7b861caff0ea"
      },
      "source": [
        "#Jawaban 6\n",
        "for index, elements in enumerate(numbers):\n",
        "  if (elements % 2 == 0):\n",
        "    print(\"Angka ke-\" + str(index + 1) + \" : \" +  str(elements))"
      ],
      "execution_count": 157,
      "outputs": [
        {
          "output_type": "stream",
          "text": [
            "Angka ke-1 : 6\n",
            "Angka ke-2 : 6\n",
            "Angka ke-3 : 8\n",
            "Angka ke-4 : 8\n",
            "Angka ke-5 : 10\n",
            "Angka ke-6 : 10\n",
            "Angka ke-7 : 12\n",
            "Angka ke-8 : 12\n"
          ],
          "name": "stdout"
        }
      ]
    },
    {
      "cell_type": "markdown",
      "metadata": {
        "id": "Pu6FZHho96Oa",
        "colab_type": "text"
      },
      "source": [
        "**Functions**"
      ]
    },
    {
      "cell_type": "code",
      "metadata": {
        "id": "fidRKWKh989B",
        "colab_type": "code",
        "colab": {
          "base_uri": "https://localhost:8080/",
          "height": 85
        },
        "outputId": "7b369fe0-d545-42f9-8d63-f0aa98bb5fca"
      },
      "source": [
        "# Melakukan suatu instruksi terus menerus\n",
        "\n",
        "# Mencari nomor 11\n",
        "for index, element in enumerate(another_array):\n",
        "  # Menggunakan keyword if untuk mengecek suatu kondisi\n",
        "  if element == 11:\n",
        "    print(\"Angka 11 ditemukan di index\", index)\n",
        "    break\n",
        "\n",
        "# Mencari nomor lain....\n",
        "\n",
        "for index, element in enumerate(another_array):\n",
        "  # Menggunakan keyword if untuk mengecek suatu kondisi\n",
        "  if element == 9:\n",
        "    print(\"Angka 11 ditemukan di index\", index)\n",
        "    break\n",
        "    \n",
        "#Pakai Function\n",
        "def find_number(list_numbers, the_number): # Parameter list_number (array) & the_number (integer)\n",
        "  for i in list_numbers:\n",
        "    if i == the_number:\n",
        "      print(\"Angka \" + str(the_number) + \" ditemukan di index \" + str(i))\n",
        "\n",
        "find_number(another_array, 9)\n",
        "find_number(another_array, 13)\n",
        "\n",
        "def find_number(list_numbers, the_number): # Parameter list_number (array) & the_number (integer)\n",
        "  for index, i in enumerate(list_numbers):\n",
        "    if i == the_number:\n",
        "      print(\"Angka \" + str(the_number) + \" ditemukan di index \" + str(i))\n",
        "    elif index == len(list_numbers) - 1 and i != the_number: # Apabila sudah di akhir loop namun angka terakhir bukan juga angka yang kita cari\n",
        "      print(\"Maaf, angka \" + str(the_number) + \" tidak ditemukan\")\n",
        "\n",
        "find_number(another_array, 13)\n",
        "\n",
        "# Mekanisme diubah, memberikan sebuah nilai (returns a value)\n",
        "\n",
        "def find_number(list_numbers, the_number):\n",
        "  result_index = -1 # Angka yang akan direturn sebagai index, default value -1 karena belum ditemukan\n",
        "\n",
        "  for index, i in enumerate(list_numbers):\n",
        "    if i == the_number:\n",
        "      result_index = index\n",
        "      break\n",
        "\n",
        "  return result_index # Apabila ditemukan, maka akan me-return suatu angka integer > -1. Apabila tidak, akan return -1.\n",
        "\n",
        "# Membuat sebuah variabel untuk menampung nilainya\n",
        "\n",
        "number_index = find_number(another_array, 9)\n",
        "\n",
        "print(\"Angka 9 ditemukan di index \" + str(number_index))"
      ],
      "execution_count": 158,
      "outputs": [
        {
          "output_type": "stream",
          "text": [
            "Angka 11 ditemukan di index 3\n",
            "Angka 9 ditemukan di index 9\n",
            "Maaf, angka 13 tidak ditemukan\n",
            "Angka 9 ditemukan di index 3\n"
          ],
          "name": "stdout"
        }
      ]
    },
    {
      "cell_type": "markdown",
      "metadata": {
        "id": "5I1Wxbn1Crnm",
        "colab_type": "text"
      },
      "source": [
        "**Multi-Dimensional Array**"
      ]
    },
    {
      "cell_type": "code",
      "metadata": {
        "id": "gQdoJGN8CvTU",
        "colab_type": "code",
        "colab": {
          "base_uri": "https://localhost:8080/",
          "height": 221
        },
        "outputId": "2b304443-35d2-4bc4-d927-7897ae6614e8"
      },
      "source": [
        "# Sebelumnya, kita hanya membahas Array 1 dimensi (1 deret)\n",
        "\n",
        "one_dimensional_list = [1, 2, 3, 4, 5, 6]\n",
        "\n",
        "# Kini, kita akan membuat deret didalam deret\n",
        "\n",
        "two_dimensional_list = [[1, 2], [3, 4], [5, 6]] # Matrix\n",
        "\n",
        "# Matrix/Array 2x3\n",
        "# [1, 2]\n",
        "# [3, 4]\n",
        "# [5, 6]\n",
        "\n",
        "# print(two_dimensional_list)\n",
        "\n",
        "# Loop\n",
        "\n",
        "# for i in two_dimensional_list:\n",
        "#   print(i)\n",
        "\n",
        "# Kita perlu loop di dalam loop!\n",
        "\n",
        "# for i in two_dimensional_list:\n",
        "#   # i merupakan array\n",
        "#   for j in i:\n",
        "#     print(j) # j merupakan integer\n",
        "\n",
        "three_dimensional_list = [\n",
        "                          [\n",
        "                           [1, 2], \n",
        "                           [3, 4], \n",
        "                           [5, 6]\n",
        "                          ], \n",
        "                          [\n",
        "                           [7, 8], \n",
        "                           [9, 10], \n",
        "                           [11, 12]\n",
        "                           ]\n",
        "                          ]\n",
        "\n",
        "# Matrix/Array 2x3x2\n",
        "\n",
        "for i in three_dimensional_list:\n",
        "  for j in i:\n",
        "    for k in j:\n",
        "      print(k)"
      ],
      "execution_count": 159,
      "outputs": [
        {
          "output_type": "stream",
          "text": [
            "1\n",
            "2\n",
            "3\n",
            "4\n",
            "5\n",
            "6\n",
            "7\n",
            "8\n",
            "9\n",
            "10\n",
            "11\n",
            "12\n"
          ],
          "name": "stdout"
        }
      ]
    },
    {
      "cell_type": "markdown",
      "metadata": {
        "id": "tbOtcNfzEuHD",
        "colab_type": "text"
      },
      "source": [
        "**Dictionary**"
      ]
    },
    {
      "cell_type": "code",
      "metadata": {
        "id": "sfOnxS-qEzLf",
        "colab_type": "code",
        "colab": {
          "base_uri": "https://localhost:8080/",
          "height": 136
        },
        "outputId": "191eeb53-f031-4656-eec8-88e925abe6e8"
      },
      "source": [
        "dictionary_sample = {\n",
        "    \"name\": \"Budi\",\n",
        "    \"age\": 10,\n",
        "    \"test_scores\": [100.0, 98.0, 89.0]\n",
        "}\n",
        "\n",
        "#contoh_dict = {\n",
        " #   \"Nama\": \"Test\",\n",
        "  #  \"Year\": \"1999\",\n",
        "   # \"Num\": [10.2, 12,9]\n",
        "\n",
        "#}\n",
        "# Menyimpan value dengan index yang dapat dibaca (string)\n",
        "\n",
        "print(dictionary_sample['name']) # name dalam kasus ini merupakan attribute/property\n",
        "\n",
        "print(dictionary_sample.keys()) # Memunculkan semua attribute yang bisa didapat\n",
        "\n",
        "for attribute in dictionary_sample.keys():\n",
        "  print(attribute, dictionary_sample[attribute])\n",
        "\n",
        "#Array Berisi Dictionaries\n",
        "array_of_dictionaries = [{\n",
        "    \"name\": \"Budi\",\n",
        "    \"age\": 10,\n",
        "    \"test_scores\": [100.0, 98.0, 89.0]\n",
        "},\n",
        "{\n",
        "    \"name\": \"Charlie\",\n",
        "    \"age\": 12,\n",
        "    \"test_scores\": [90.0, 100.0]\n",
        "}]\n",
        "\n",
        "for element in array_of_dictionaries:\n",
        "  print(element)"
      ],
      "execution_count": 160,
      "outputs": [
        {
          "output_type": "stream",
          "text": [
            "Budi\n",
            "dict_keys(['name', 'age', 'test_scores'])\n",
            "name Budi\n",
            "age 10\n",
            "test_scores [100.0, 98.0, 89.0]\n",
            "{'name': 'Budi', 'age': 10, 'test_scores': [100.0, 98.0, 89.0]}\n",
            "{'name': 'Charlie', 'age': 12, 'test_scores': [90.0, 100.0]}\n"
          ],
          "name": "stdout"
        }
      ]
    },
    {
      "cell_type": "code",
      "metadata": {
        "id": "1nRmCBDU12dK",
        "colab_type": "code",
        "colab": {
          "base_uri": "https://localhost:8080/",
          "height": 51
        },
        "outputId": "69c6b956-7b56-47c8-bb8f-6b903d4adffd"
      },
      "source": [
        "#Semua dictionary yang ada di array\n",
        "for element in array_of_dictionaries:\n",
        "  print(element)"
      ],
      "execution_count": 161,
      "outputs": [
        {
          "output_type": "stream",
          "text": [
            "{'name': 'Budi', 'age': 10, 'test_scores': [100.0, 98.0, 89.0]}\n",
            "{'name': 'Charlie', 'age': 12, 'test_scores': [90.0, 100.0]}\n"
          ],
          "name": "stdout"
        }
      ]
    },
    {
      "cell_type": "code",
      "metadata": {
        "id": "ASHwiYfr3arJ",
        "colab_type": "code",
        "colab": {
          "base_uri": "https://localhost:8080/",
          "height": 34
        },
        "outputId": "0cbad8cb-db14-477e-9453-3382be9f9461"
      },
      "source": [
        "#Spesifik\n",
        "for element in array_of_dictionaries:\n",
        "  for attribute in element.keys():\n",
        "    if element[\"name\"] == 'Charlie': \n",
        "      print(element)\n",
        "      break"
      ],
      "execution_count": 162,
      "outputs": [
        {
          "output_type": "stream",
          "text": [
            "{'name': 'Charlie', 'age': 12, 'test_scores': [90.0, 100.0]}\n"
          ],
          "name": "stdout"
        }
      ]
    },
    {
      "cell_type": "markdown",
      "metadata": {
        "id": "vIH9wl7xGmik",
        "colab_type": "text"
      },
      "source": [
        "# Assignments\n",
        "\n",
        "\n",
        "1.   Membuat function `get_students_averages()` untuk mendapatkan nilai rata-rata ujian untuk masing-masing student dari array `array_of_dictionaries`. Function menerima 1 parameter:\n",
        "\n",
        "  *   `dictionary_list` (array of dictionaries)\n",
        "\n",
        "  Lalu, function akan menjalankan function `print()` yang menghasilkan output seperti berikut:\n",
        "\n",
        "    > Pelajar Budi dengan umur 10 mendapatkan nilai rata-rata 95.67  \n",
        "    > Pelajar Charlie dengan umur 12 mendapatkan nilai rata-rata 95.0\n",
        "\n",
        "\n",
        "2.   Membuat function `get_students_min_score()` untuk mendapatkan nilai ujian terkecil untuk masing-masing student dari array `array_of_dictionaries`. Function menerima 1 parameter:\n",
        "\n",
        "  *   `dictionary_list` (array of dictionaries)\n",
        "\n",
        "  Lalu, function akan menjalankan function `print()` yang menghasilkan output seperti berikut:\n",
        "  \n",
        "    > Pelajar Budi dengan umur 10 mendapatkan nilai terkecil 89.0\n",
        "    > Pelajar Charlie dengan umur 12 mendapatkan nilai terkecil 90.0\n",
        "\n",
        "3.   Membuat function `get_students_max_score()` untuk mendapatkan nilai ujian terbesar untuk masing-masing student dari array `array_of_dictionaries`. Function menerima 1 parameter:\n",
        "\n",
        "  *   `dictionary_list` (array of dictionaries)\n",
        "\n",
        "  Lalu, function akan menjalankan function `print()` yang menghasilkan output seperti berikut:\n",
        "  \n",
        "    > Pelajar Budi dengan umur 10 mendapatkan nilai terbesar 100.0\n",
        "    > Pelajar Charlie dengan umur 12 mendapatkan nilai terbesar 100.0\n",
        "\n",
        "4.   Membuat function `get_max_score_by_student()` untuk mendapatkan nilai ujian terbesar untuk suatu student dari array `array_of_dictionaries`. Function menerima 2 parameter:\n",
        "\n",
        "  *   `dictionary_list` (array of dictionaries)\n",
        "  *   `student_name` (nama pelajar yang ingin dicari nilai terbesarnya)\n",
        "\n",
        "  Lalu, function akan menjalankan function `print()` yang menghasilkan output seperti berikut ketika function `get_max_score_by_student(dictionary_sample, \"Charlie\")` dijalankan:\n",
        "\n",
        "  > Pelajar Charlie dengan umur 12 mendapatkan nilai terbesar 100.0\n",
        "\n",
        "5. Membuat function get_all_time_max_avg_score() untuk mendapatkan nilai rata-rata ujian terbesar dari semua pelajar. Function menerima 1 parameter:\n",
        "\n",
        "  *   `dictionary_list` (array of dictionaries)\n",
        "\n",
        "  Lalu, function akan menjalankan function `print()` yang menghasilkan output seperti berikut:\n",
        "\n",
        "  > Pelajar Budi dengan umur 10 mendapatkan nilai rata-rata terbesar, yaitu 95.67\n",
        "\n",
        "6. Membuat function add_student() untuk menambahkan seorang pelajar ke array dictionary yang sudah ada. Function menerima 2 parameter:\n",
        "  \n",
        "  * `dictionary_list` (array of dictionaries)\n",
        "  * `student_dictionary` (dictionary student yang akan dimasukan ke array)\n",
        "\n",
        "  Lalu, function akan memberikan return value dictionary baru yang sudah ditambahkan dengan student_dictionary yang diberikan di parameter.\n",
        "\n",
        "  Sehingga, ketika kode ini dijalankan \n",
        "\n",
        "  `updated_dictionary = add_student(array_of_dictionaries, {\n",
        "    \"name\": \"Doddy\",\n",
        "    \"age\": 13,\n",
        "    \"test_scores\": [100.0, 100.0, 100.0]\n",
        "  })`\n",
        "  \n",
        "  `print(updated_dictionary)`\n",
        "\n",
        "  Maka, sistem akan mengeluarkan isi list yang sudah ditambahkan dengan dictionary baru.\n"
      ]
    },
    {
      "cell_type": "code",
      "metadata": {
        "id": "HKToIbM0H3o6",
        "colab_type": "code",
        "colab": {
          "base_uri": "https://localhost:8080/",
          "height": 34
        },
        "outputId": "478d6236-1d8a-4eb0-ff8c-b091ca1ffb44"
      },
      "source": [
        "for element in array_of_dictionaries:\n",
        "  for attribute in element.keys():\n",
        "    if element[\"age\"] == 10: \n",
        "      print(array_of_dictionaries[1]['name'])\n",
        "      break"
      ],
      "execution_count": 163,
      "outputs": [
        {
          "output_type": "stream",
          "text": [
            "Charlie\n"
          ],
          "name": "stdout"
        }
      ]
    },
    {
      "cell_type": "code",
      "metadata": {
        "id": "LxhhXUuH44xq",
        "colab_type": "code",
        "colab": {
          "base_uri": "https://localhost:8080/",
          "height": 51
        },
        "outputId": "0b8862d1-4bd7-4b5c-d9b8-e01a3653b269"
      },
      "source": [
        "#Jawaban 1\n",
        "def get_students_averages(dictionary_list):\n",
        "  for element in dictionary_list:\n",
        "    lensum = len(element['test_scores'])\n",
        "    elesum = sum(element['test_scores'])\n",
        "    meansum = elesum / lensum\n",
        "    print(\"Pelajar \" + str(element['name']) + \" dengan umur \" + str(element['age']) + \" mendapatkan nilai rata-rata \" + str(round(meansum, 2)))\n",
        "\n",
        "get_students_averages(array_of_dictionaries)"
      ],
      "execution_count": 164,
      "outputs": [
        {
          "output_type": "stream",
          "text": [
            "Pelajar Budi dengan umur 10 mendapatkan nilai rata-rata 95.67\n",
            "Pelajar Charlie dengan umur 12 mendapatkan nilai rata-rata 95.0\n"
          ],
          "name": "stdout"
        }
      ]
    },
    {
      "cell_type": "code",
      "metadata": {
        "id": "08T3TJBxZX9H",
        "colab_type": "code",
        "colab": {
          "base_uri": "https://localhost:8080/",
          "height": 51
        },
        "outputId": "3ebac029-6576-4c07-b8ec-0dd92bca54ef"
      },
      "source": [
        "#Jawaban 2\n",
        "def get_students_min_score(dictionary_list):\n",
        "  for element in dictionary_list:\n",
        "    print(\"Pelajar \" + str(element['name']) + \" dengan umur \" + str(element['age']) + \" mendapatkan nilai terkecil \" + str(min(element['test_scores'])))\n",
        "\n",
        "get_students_min_score(array_of_dictionaries)"
      ],
      "execution_count": 165,
      "outputs": [
        {
          "output_type": "stream",
          "text": [
            "Pelajar Budi dengan umur 10 mendapatkan nilai terkecil 89.0\n",
            "Pelajar Charlie dengan umur 12 mendapatkan nilai terkecil 90.0\n"
          ],
          "name": "stdout"
        }
      ]
    },
    {
      "cell_type": "code",
      "metadata": {
        "id": "Q1vtROL8bfPt",
        "colab_type": "code",
        "colab": {
          "base_uri": "https://localhost:8080/",
          "height": 51
        },
        "outputId": "0259dc73-4f95-4677-c0b4-8cc017d3d742"
      },
      "source": [
        "#Jawaban 3\n",
        "def get_students_max_score(dictionary_list):\n",
        "  for element in dictionary_list:\n",
        "    print(\"Pelajar \" + str(element['name']) + \" dengan umur \" + str(element['age']) + \" mendapatkan nilai terbesar \" + str(max(element['test_scores'])))\n",
        "\n",
        "get_students_max_score(array_of_dictionaries)"
      ],
      "execution_count": 166,
      "outputs": [
        {
          "output_type": "stream",
          "text": [
            "Pelajar Budi dengan umur 10 mendapatkan nilai terbesar 100.0\n",
            "Pelajar Charlie dengan umur 12 mendapatkan nilai terbesar 100.0\n"
          ],
          "name": "stdout"
        }
      ]
    },
    {
      "cell_type": "code",
      "metadata": {
        "id": "R2pYStaObxwu",
        "colab_type": "code",
        "colab": {
          "base_uri": "https://localhost:8080/",
          "height": 34
        },
        "outputId": "200958d6-7265-4a0c-d0be-a1c8eb32aa19"
      },
      "source": [
        "#Jawaban 4\n",
        "def get_max_score_by_student(dictionary_list, student_name):\n",
        "  for element in dictionary_list:\n",
        "    for attribute in element.keys():\n",
        "      if(element['name'] == student_name):\n",
        "        print(\"Pelajar \" + str(element['name']) + \" dengan umur \" + str(element['age']) + \" mendapatkan nilai terbesar \" + str(max(element['test_scores'])))\n",
        "        break\n",
        "get_max_score_by_student(array_of_dictionaries, \"Charlie\")"
      ],
      "execution_count": 167,
      "outputs": [
        {
          "output_type": "stream",
          "text": [
            "Pelajar Charlie dengan umur 12 mendapatkan nilai terbesar 100.0\n"
          ],
          "name": "stdout"
        }
      ]
    },
    {
      "cell_type": "code",
      "metadata": {
        "id": "age_bywVc7Zt",
        "colab_type": "code",
        "colab": {
          "base_uri": "https://localhost:8080/",
          "height": 34
        },
        "outputId": "152c60c8-250b-4ba2-ace1-cd2515afa963"
      },
      "source": [
        "#Jawaban 5\n",
        "def get_all_time_max_avg_score(dictionary_list):\n",
        "    result = \"Pelajar {name} dengan umur {age} mendapatkan nilai rata-rata terbesar, yaitu {average:.2f}\"\n",
        "  \n",
        "    def average(element):\n",
        "      return sum(element['test_scores']) / len(element['test_scores'])\n",
        "\n",
        "    e = max((element for element in dictionary_list), key=average, default=0)\n",
        "    return result.format(name=e['name'], age=e['age'], average=average(e))\n",
        "\n",
        "print(get_all_time_max_avg_score(array_of_dictionaries))"
      ],
      "execution_count": 168,
      "outputs": [
        {
          "output_type": "stream",
          "text": [
            "Pelajar Budi dengan umur 10 mendapatkan nilai rata-rata terbesar, yaitu 95.67\n"
          ],
          "name": "stdout"
        }
      ]
    },
    {
      "cell_type": "code",
      "metadata": {
        "id": "ReeNbar7Al9n",
        "colab_type": "code",
        "colab": {
          "base_uri": "https://localhost:8080/",
          "height": 54
        },
        "outputId": "ebb55e8a-4f9d-4a1d-f8e1-d9334d85a4ba"
      },
      "source": [
        "#Jawaban 6\n",
        "def add_student(dictionary_list, student_dictionary):\n",
        "  dictionary_list.append(student_dictionary)\n",
        "  return dictionary_list\n",
        "updated_dictionary = add_student(array_of_dictionaries, { \"name\": \"Doddy\", \"age\": 13, \"test_scores\": [100.0, 100.0, 100.0] })\n",
        "print(updated_dictionary)"
      ],
      "execution_count": 169,
      "outputs": [
        {
          "output_type": "stream",
          "text": [
            "[{'name': 'Budi', 'age': 10, 'test_scores': [100.0, 98.0, 89.0]}, {'name': 'Charlie', 'age': 12, 'test_scores': [90.0, 100.0]}, {'name': 'Doddy', 'age': 13, 'test_scores': [100.0, 100.0, 100.0]}]\n"
          ],
          "name": "stdout"
        }
      ]
    }
  ]
}