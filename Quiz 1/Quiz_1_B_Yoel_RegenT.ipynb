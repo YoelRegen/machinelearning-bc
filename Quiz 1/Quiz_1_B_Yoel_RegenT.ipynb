{
  "nbformat": 4,
  "nbformat_minor": 0,
  "metadata": {
    "colab": {
      "name": "Quiz_B.ipynb",
      "provenance": [],
      "collapsed_sections": [
        "XCFXvueCaO5j",
        "-I6t2Qombnq8",
        "NdBrwJADcJ8W"
      ]
    },
    "kernelspec": {
      "name": "python3",
      "display_name": "Python 3"
    }
  },
  "cells": [
    {
      "cell_type": "markdown",
      "metadata": {
        "id": "jJZKgABpaHAi",
        "colab_type": "text"
      },
      "source": [
        "# Essay\n",
        "\n",
        "---\n",
        "\n"
      ]
    },
    {
      "cell_type": "markdown",
      "metadata": {
        "id": "MWA3xnNKZLJP",
        "colab_type": "text"
      },
      "source": [
        "1. Sebutkan dan jelaskan apa saja yang memiliki faktor terhadap proses machine learning! Jelaskan selengkap mungkin, terutama bagaimana faktor-faktor tersebut mempengaruhi hasil evaluasi model.\n"
      ]
    },
    {
      "cell_type": "markdown",
      "metadata": {
        "id": "LF83ybaVZo31",
        "colab_type": "text"
      },
      "source": [
        "**Jawaban:**\n",
        "1. Dataset yang digunakan dalam hal jumlah, validitas data, banyaknya data yang bersifat null atau tidak\n",
        "\n",
        "2. Pembagian training dan test data\n",
        "\n",
        "3. Metode preprocessing yang digunakan(Beserta hyperparameter yang digunakan)\n",
        "\n",
        "4. Algoritma yang digunakan(Beserta hyperparameter pada masing-masing algoritma tersebut"
      ]
    },
    {
      "cell_type": "markdown",
      "metadata": {
        "id": "HDv-rhiOZNVy",
        "colab_type": "text"
      },
      "source": [
        "2. Apakah algoritma yang sederhana pasti menghasilkan hasil evaluasi model yang buruk? Mengapa? Jelaskan!"
      ]
    },
    {
      "cell_type": "markdown",
      "metadata": {
        "id": "Ia--wLdkZ4IX",
        "colab_type": "text"
      },
      "source": [
        "**Jawaban:**\n",
        "\n",
        "Tidak, karena bisa saja variasi dalam suatu dataset ternyata sedikit, atau persebaran data terlihat jelas saat melakukan EDA. Sehingga algoritma yang lebih sederhana dapat lebih akurat dan lebih cepat dalam mengevaluasi dibandingkan yang lebih kompleks"
      ]
    },
    {
      "cell_type": "markdown",
      "metadata": {
        "id": "8oddfBoZZUTc",
        "colab_type": "text"
      },
      "source": [
        "3. Apakah perbedaan dari MAE dan R^2? Jelaskan selengkap mungkin!\n"
      ]
    },
    {
      "cell_type": "markdown",
      "metadata": {
        "id": "qg2IlkZKZ8Me",
        "colab_type": "text"
      },
      "source": [
        "**Jawaban:**\n",
        "\n",
        "MAE : Nilai rata-rata error prediksi pada data test dan diabsolutkan(Tidak menghasilkan angka minus)\n",
        "\n",
        "R^2 : Hasil penilaian/scoring terhadap suatu model setelah proses fitting data"
      ]
    },
    {
      "cell_type": "markdown",
      "metadata": {
        "id": "5e63UXaaZW9n",
        "colab_type": "text"
      },
      "source": [
        "4. Apakah suatu metric bisa kita bandingkan dengan metric lainnya walaupun dengan satuan/cara perhitungan yang berbeda? Mengapa? Jelaskan selengkap mungkin! \n",
        "\n",
        "  Gunakan contoh: MAE dan RMSE, apakah mereka dapat dibandingkan secara selaras?"
      ]
    },
    {
      "cell_type": "markdown",
      "metadata": {
        "id": "vmp04q4AZ9rD",
        "colab_type": "text"
      },
      "source": [
        "**Jawaban:**\n",
        "Ya, karena pada dasarnya metric-metric tersebut digunakan untuk mengevaluasi hasil prediksi oleh model-model yang digunakan"
      ]
    },
    {
      "cell_type": "markdown",
      "metadata": {
        "id": "Ad97SlqdZjQt",
        "colab_type": "text"
      },
      "source": [
        "5. Jelaskan bagaimana suatu problem time series dapat diubah menjadi problem regresi. Berikan suatu contoh dataset beserta contoh data apa saja yang perlu dicatat untuk dapat menjadi suatu problem regresi! Jelaskan selengkap mungkin."
      ]
    },
    {
      "cell_type": "markdown",
      "metadata": {
        "id": "QSPDT0YqZ_AD",
        "colab_type": "text"
      },
      "source": [
        "**Jawaban:**\n",
        "Problem time series dapat diubah menjadi problem regresi jika dataset tersebut mempunyai feature-feature tambahan sehingga dapat dimasukkan kedalam problem regresi.\n",
        "\n",
        "Sebagai contoh dataset birth yang telah dibahas sebelumnya. Dapat dilakukan penambahan feature seperti banyaknya wanita dan pria di daerah tersebut, umur, pendapatan per-kapita, dan lain-lain"
      ]
    },
    {
      "cell_type": "markdown",
      "metadata": {
        "id": "XCFXvueCaO5j",
        "colab_type": "text"
      },
      "source": [
        "# Python\n",
        "\n",
        "---\n",
        "\n"
      ]
    },
    {
      "cell_type": "markdown",
      "metadata": {
        "id": "I-pYN_q0aS-N",
        "colab_type": "text"
      },
      "source": [
        "1. Buatlah sederet angka dari 1 hingga 9 menggunakan function range(), dan tentukan berapa banyak bilangan genap dan ganjil dari deret tersebut!\n",
        "  \n",
        "  Output:\n",
        "  \n",
        "    Jumlah angka genap : 5\n",
        "\n",
        "    Jumlah angka ganjil : 4"
      ]
    },
    {
      "cell_type": "code",
      "metadata": {
        "id": "OZ7dUOwZahKE",
        "colab_type": "code",
        "colab": {
          "base_uri": "https://localhost:8080/",
          "height": 70
        },
        "outputId": "bf77be8c-d25b-4e25-dc83-05e1a28de328"
      },
      "source": [
        "numbers = []\n",
        "for i in range(9):\n",
        "  i += 1\n",
        "  numbers.append(i)\n",
        "print (numbers)\n",
        "\n",
        "ganjil, genap = 0, 0\n",
        "for i in numbers:\n",
        "  if (i % 2) == 0: \n",
        "    genap += 1\n",
        "  else: \n",
        "     ganjil += 1\n",
        "          \n",
        "print(\"Jumlah angka genap: \", genap) \n",
        "print(\"Jumlah angka ganjil: \", ganjil)"
      ],
      "execution_count": null,
      "outputs": [
        {
          "output_type": "stream",
          "text": [
            "[1, 2, 3, 4, 5, 6, 7, 8, 9]\n",
            "Jumlah angka genap:  4\n",
            "Jumlah angka ganjil:  5\n"
          ],
          "name": "stdout"
        }
      ]
    },
    {
      "cell_type": "markdown",
      "metadata": {
        "id": "QAhJPZwhahjD",
        "colab_type": "text"
      },
      "source": [
        "2. Buatlah sederet angka dari 1 - 10 yang dapat habis dibagi dengan 3 menggunakan loop!\n",
        "\n",
        "  Output:\n",
        "    3, 6, 9"
      ]
    },
    {
      "cell_type": "code",
      "metadata": {
        "id": "Ofq46NxcalS0",
        "colab_type": "code",
        "colab": {
          "base_uri": "https://localhost:8080/",
          "height": 34
        },
        "outputId": "bef97ab0-c532-427a-a1ff-3502102d11f5"
      },
      "source": [
        "numbers = []\n",
        "akhir = 0\n",
        "for i in range(10):\n",
        "  i += 1\n",
        "  numbers.append(i)\n",
        "\n",
        "for i in numbers:\n",
        "  if (i % 3) == 0:\n",
        "    akhir = i\n",
        "    print(akhir, end=\",\")"
      ],
      "execution_count": 166,
      "outputs": [
        {
          "output_type": "stream",
          "text": [
            "3,6,9,"
          ],
          "name": "stdout"
        }
      ]
    },
    {
      "cell_type": "markdown",
      "metadata": {
        "id": "ik82quc2all_",
        "colab_type": "text"
      },
      "source": [
        "3. Buatlah pattern berikut menggunakan function print() dan loop!\n",
        "\n",
        "    Output:\n",
        "\n",
        "    A\n",
        "\n",
        "    A A\n",
        "\n",
        "    A A A \n",
        "    \n",
        "    A A A A \n",
        "    \n",
        "    A A A A A \n",
        "\n"
      ]
    },
    {
      "cell_type": "code",
      "metadata": {
        "id": "yMZNqkBuaoGn",
        "colab_type": "code",
        "colab": {
          "base_uri": "https://localhost:8080/",
          "height": 105
        },
        "outputId": "17c3a24a-6582-4674-b3ab-09edd476faf0"
      },
      "source": [
        "a = 5\n",
        "for i in range(0, a):\n",
        "    for j in range(0, i + 1):\n",
        "        print('A ' , end='')\n",
        "    print('')"
      ],
      "execution_count": null,
      "outputs": [
        {
          "output_type": "stream",
          "text": [
            "A \n",
            "A A \n",
            "A A A \n",
            "A A A A \n",
            "A A A A A \n"
          ],
          "name": "stdout"
        }
      ]
    },
    {
      "cell_type": "markdown",
      "metadata": {
        "id": "QT_A4jeibD3K",
        "colab_type": "text"
      },
      "source": [
        "4. Buatlah sebuah function yang menerima parameter suatu angka (gunakan angka 2345) lalu melakukan return deret angka yang sama secara terbalik! (5432)"
      ]
    },
    {
      "cell_type": "code",
      "metadata": {
        "id": "RtSjkF9zbH5v",
        "colab_type": "code",
        "colab": {
          "base_uri": "https://localhost:8080/",
          "height": 34
        },
        "outputId": "6be55706-cb04-4596-c35d-ec3532dabe51"
      },
      "source": [
        "def rev(num):\n",
        "  return int(str(num)[::-1])\n",
        "\n",
        "number = 2345\n",
        "rev(number)"
      ],
      "execution_count": 175,
      "outputs": [
        {
          "output_type": "execute_result",
          "data": {
            "text/plain": [
              "5432"
            ]
          },
          "metadata": {
            "tags": []
          },
          "execution_count": 175
        }
      ]
    },
    {
      "cell_type": "markdown",
      "metadata": {
        "id": "Qk0apQRAbIb1",
        "colab_type": "text"
      },
      "source": [
        "5. Buatlah pattern berikut menggunakan function print() dan loop!\n",
        "\n",
        "  Output:\n",
        "  \n",
        "  1 \n",
        "\n",
        "  1 2 \n",
        "\n",
        "  1 2 3 \n",
        "\n",
        "  1 2 3 4 \n",
        "\n",
        "  1 2 3 4 5"
      ]
    },
    {
      "cell_type": "code",
      "metadata": {
        "id": "HHLDsjCubKUI",
        "colab_type": "code",
        "colab": {
          "base_uri": "https://localhost:8080/",
          "height": 105
        },
        "outputId": "db77ce00-e36f-46c8-bc82-1ceb889cb9b3"
      },
      "source": [
        "a = 5\n",
        "for i in range(1, a+1):\n",
        "    for j in range(1, i + 1):\n",
        "        print((j) , end='')\n",
        "    print('')"
      ],
      "execution_count": 178,
      "outputs": [
        {
          "output_type": "stream",
          "text": [
            "1\n",
            "12\n",
            "123\n",
            "1234\n",
            "12345\n"
          ],
          "name": "stdout"
        }
      ]
    },
    {
      "cell_type": "markdown",
      "metadata": {
        "id": "xus6OscgbKgc",
        "colab_type": "text"
      },
      "source": [
        "6. Gabungkan dua list berikut menjadi satu list gabungan:\n",
        "\n",
        "    [1, 2, 3, 4, 5]\n",
        "    [6, 7, 8, 9, 10]\n",
        "\n",
        "    Output:\n",
        "\n",
        "    [1, 2, 3, 4, 5, 6, 7, 8, 9, 10]"
      ]
    },
    {
      "cell_type": "code",
      "metadata": {
        "id": "4tL37uLKbOuY",
        "colab_type": "code",
        "colab": {
          "base_uri": "https://localhost:8080/",
          "height": 34
        },
        "outputId": "1cc32dc5-4fc3-47d1-ccca-c673d188beeb"
      },
      "source": [
        "lis1 = [1, 2, 3, 4, 5]\n",
        "lis2 = [6, 7, 8, 9, 10]\n",
        "lis1.extend(lis2)\n",
        "print(lis1)"
      ],
      "execution_count": null,
      "outputs": [
        {
          "output_type": "stream",
          "text": [
            "[1, 2, 3, 4, 5, 6, 7, 8, 9, 10]\n"
          ],
          "name": "stdout"
        }
      ]
    },
    {
      "cell_type": "markdown",
      "metadata": {
        "id": "r5m4AA5fbO9f",
        "colab_type": "text"
      },
      "source": [
        "7. Gabungkan list yang sama dengan cara selang seling:\n",
        "\n",
        "  Output:\n",
        "  [1, 6, 2, 7, 3, 8, 4, 9, 5, 10]"
      ]
    },
    {
      "cell_type": "code",
      "metadata": {
        "id": "DRL90574bchc",
        "colab_type": "code",
        "colab": {
          "base_uri": "https://localhost:8080/",
          "height": 34
        },
        "outputId": "62b7ba14-2412-44a0-afa8-1c85d8430e51"
      },
      "source": [
        "import itertools\n",
        "\n",
        "list(itertools.chain(*zip(lis1, lis2)))"
      ],
      "execution_count": 199,
      "outputs": [
        {
          "output_type": "execute_result",
          "data": {
            "text/plain": [
              "[1, 6, 2, 7, 3, 8, 4, 9, 5, 10]"
            ]
          },
          "metadata": {
            "tags": []
          },
          "execution_count": 199
        }
      ]
    },
    {
      "cell_type": "markdown",
      "metadata": {
        "id": "86kdiBGabfvO",
        "colab_type": "text"
      },
      "source": [
        "# Machine Learning\n",
        "\n",
        "---\n",
        "\n"
      ]
    },
    {
      "cell_type": "markdown",
      "metadata": {
        "id": "-I6t2Qombnq8",
        "colab_type": "text"
      },
      "source": [
        "## 1. Classification\n",
        "\n",
        "  Gunakan dataset **horse-colic**, dan hitung accuracy, F1, precision, dan recall dari minimal **3 algoritma**!\n",
        "\n",
        "  Silahkan merujuk ke file **.names** untuk melihat attributenya! Dipersilahkan untuk memproses nama feature menggunakan pandas atau mengubah langsung file .csv nya (ditambahkan header/judul per kolomnya)\n",
        "\n",
        "  **Jelaskan segala hal yang dilakukan** (preprocessing, hyperparameter tuning, dll) dengan sejelas mungkin!\n"
      ]
    },
    {
      "cell_type": "code",
      "metadata": {
        "id": "cX0iUboMcGSu",
        "colab_type": "code",
        "colab": {
          "base_uri": "https://localhost:8080/",
          "height": 0
        },
        "outputId": "8de10be6-33f7-4907-dd66-c6a2a9cd7bba"
      },
      "source": [
        "# Import libraries\n",
        "import pandas as pd\n",
        "import numpy as np\n",
        "import matplotlib.pyplot as plt\n",
        "import os\n",
        "import seaborn as sns\n",
        "from sklearn import preprocessing\n",
        "from sklearn.model_selection import train_test_split"
      ],
      "execution_count": 1,
      "outputs": [
        {
          "output_type": "stream",
          "text": [
            "/usr/local/lib/python3.6/dist-packages/statsmodels/tools/_testing.py:19: FutureWarning: pandas.util.testing is deprecated. Use the functions in the public API at pandas.testing instead.\n",
            "  import pandas.util.testing as tm\n"
          ],
          "name": "stderr"
        }
      ]
    },
    {
      "cell_type": "code",
      "metadata": {
        "id": "bu8SCPP_X9mY",
        "colab_type": "code",
        "colab": {}
      },
      "source": [
        "# Read, hapus separator (,) dan memberi nama feature pada kolom\n",
        "dataset = pd.read_csv(\"drive/My Drive/BCML/horse-colic.csv\", sep=\",\", \n",
        "                  names=[\"surgery\", \"Age\", \"Hospital Number\", \"rectal temperature\", \"pulse\", \"respiratory rate\", \"temperature of extremities\", \"peripheral pulse\", \"mucous membranes\", \"capillary refill time\", \"pain\", \n",
        "                         \"peristalsis\", \"abdominal distension\", \"nasogastric tube\", \n",
        "                         \"nasogastric reflux\", \"nasogastric reflux PH\", \"rectal examination - feces\", \n",
        "                         \"abdomen\", \"packed cell volume\", \"total protein\", \n",
        "                         \"abdominocentesis appearance\", \"abdomcentesis total protein\", \n",
        "                         \"outcome\", \"surgical lesion\", \"type of lesion1\", \"type of lesion2\", \"type of lesion3\", \n",
        "                         \"cp_data\"])"
      ],
      "execution_count": 2,
      "outputs": []
    },
    {
      "cell_type": "code",
      "metadata": {
        "id": "5o_AQBdxYQuX",
        "colab_type": "code",
        "colab": {
          "base_uri": "https://localhost:8080/",
          "height": 0
        },
        "outputId": "17a157c3-a155-488d-86c1-73a4571a2300"
      },
      "source": [
        "# Melihat 5 data teratas pada dataset\n",
        "dataset.head()"
      ],
      "execution_count": 3,
      "outputs": [
        {
          "output_type": "execute_result",
          "data": {
            "text/html": [
              "<div>\n",
              "<style scoped>\n",
              "    .dataframe tbody tr th:only-of-type {\n",
              "        vertical-align: middle;\n",
              "    }\n",
              "\n",
              "    .dataframe tbody tr th {\n",
              "        vertical-align: top;\n",
              "    }\n",
              "\n",
              "    .dataframe thead th {\n",
              "        text-align: right;\n",
              "    }\n",
              "</style>\n",
              "<table border=\"1\" class=\"dataframe\">\n",
              "  <thead>\n",
              "    <tr style=\"text-align: right;\">\n",
              "      <th></th>\n",
              "      <th>surgery</th>\n",
              "      <th>Age</th>\n",
              "      <th>Hospital Number</th>\n",
              "      <th>rectal temperature</th>\n",
              "      <th>pulse</th>\n",
              "      <th>respiratory rate</th>\n",
              "      <th>temperature of extremities</th>\n",
              "      <th>peripheral pulse</th>\n",
              "      <th>mucous membranes</th>\n",
              "      <th>capillary refill time</th>\n",
              "      <th>pain</th>\n",
              "      <th>peristalsis</th>\n",
              "      <th>abdominal distension</th>\n",
              "      <th>nasogastric tube</th>\n",
              "      <th>nasogastric reflux</th>\n",
              "      <th>nasogastric reflux PH</th>\n",
              "      <th>rectal examination - feces</th>\n",
              "      <th>abdomen</th>\n",
              "      <th>packed cell volume</th>\n",
              "      <th>total protein</th>\n",
              "      <th>abdominocentesis appearance</th>\n",
              "      <th>abdomcentesis total protein</th>\n",
              "      <th>outcome</th>\n",
              "      <th>surgical lesion</th>\n",
              "      <th>type of lesion1</th>\n",
              "      <th>type of lesion2</th>\n",
              "      <th>type of lesion3</th>\n",
              "      <th>cp_data</th>\n",
              "    </tr>\n",
              "  </thead>\n",
              "  <tbody>\n",
              "    <tr>\n",
              "      <th>0</th>\n",
              "      <td>2</td>\n",
              "      <td>1</td>\n",
              "      <td>530101</td>\n",
              "      <td>38.50</td>\n",
              "      <td>66</td>\n",
              "      <td>28</td>\n",
              "      <td>3</td>\n",
              "      <td>3</td>\n",
              "      <td>?</td>\n",
              "      <td>2</td>\n",
              "      <td>5</td>\n",
              "      <td>4</td>\n",
              "      <td>4</td>\n",
              "      <td>?</td>\n",
              "      <td>?</td>\n",
              "      <td>?</td>\n",
              "      <td>3</td>\n",
              "      <td>5</td>\n",
              "      <td>45.00</td>\n",
              "      <td>8.40</td>\n",
              "      <td>?</td>\n",
              "      <td>?</td>\n",
              "      <td>2</td>\n",
              "      <td>2</td>\n",
              "      <td>11300</td>\n",
              "      <td>0</td>\n",
              "      <td>0</td>\n",
              "      <td>2</td>\n",
              "    </tr>\n",
              "    <tr>\n",
              "      <th>1</th>\n",
              "      <td>1</td>\n",
              "      <td>1</td>\n",
              "      <td>534817</td>\n",
              "      <td>39.2</td>\n",
              "      <td>88</td>\n",
              "      <td>20</td>\n",
              "      <td>?</td>\n",
              "      <td>?</td>\n",
              "      <td>4</td>\n",
              "      <td>1</td>\n",
              "      <td>3</td>\n",
              "      <td>4</td>\n",
              "      <td>2</td>\n",
              "      <td>?</td>\n",
              "      <td>?</td>\n",
              "      <td>?</td>\n",
              "      <td>4</td>\n",
              "      <td>2</td>\n",
              "      <td>50</td>\n",
              "      <td>85</td>\n",
              "      <td>2</td>\n",
              "      <td>2</td>\n",
              "      <td>3</td>\n",
              "      <td>2</td>\n",
              "      <td>2208</td>\n",
              "      <td>0</td>\n",
              "      <td>0</td>\n",
              "      <td>2</td>\n",
              "    </tr>\n",
              "    <tr>\n",
              "      <th>2</th>\n",
              "      <td>2</td>\n",
              "      <td>1</td>\n",
              "      <td>530334</td>\n",
              "      <td>38.30</td>\n",
              "      <td>40</td>\n",
              "      <td>24</td>\n",
              "      <td>1</td>\n",
              "      <td>1</td>\n",
              "      <td>3</td>\n",
              "      <td>1</td>\n",
              "      <td>3</td>\n",
              "      <td>3</td>\n",
              "      <td>1</td>\n",
              "      <td>?</td>\n",
              "      <td>?</td>\n",
              "      <td>?</td>\n",
              "      <td>1</td>\n",
              "      <td>1</td>\n",
              "      <td>33.00</td>\n",
              "      <td>6.70</td>\n",
              "      <td>?</td>\n",
              "      <td>?</td>\n",
              "      <td>1</td>\n",
              "      <td>2</td>\n",
              "      <td>0</td>\n",
              "      <td>0</td>\n",
              "      <td>0</td>\n",
              "      <td>1</td>\n",
              "    </tr>\n",
              "    <tr>\n",
              "      <th>3</th>\n",
              "      <td>1</td>\n",
              "      <td>9</td>\n",
              "      <td>5290409</td>\n",
              "      <td>39.10</td>\n",
              "      <td>164</td>\n",
              "      <td>84</td>\n",
              "      <td>4</td>\n",
              "      <td>1</td>\n",
              "      <td>6</td>\n",
              "      <td>2</td>\n",
              "      <td>2</td>\n",
              "      <td>4</td>\n",
              "      <td>4</td>\n",
              "      <td>1</td>\n",
              "      <td>2</td>\n",
              "      <td>5.00</td>\n",
              "      <td>3</td>\n",
              "      <td>?</td>\n",
              "      <td>48.00</td>\n",
              "      <td>7.20</td>\n",
              "      <td>3</td>\n",
              "      <td>5.30</td>\n",
              "      <td>2</td>\n",
              "      <td>1</td>\n",
              "      <td>2208</td>\n",
              "      <td>0</td>\n",
              "      <td>0</td>\n",
              "      <td>1</td>\n",
              "    </tr>\n",
              "    <tr>\n",
              "      <th>4</th>\n",
              "      <td>2</td>\n",
              "      <td>1</td>\n",
              "      <td>530255</td>\n",
              "      <td>37.30</td>\n",
              "      <td>104</td>\n",
              "      <td>35</td>\n",
              "      <td>?</td>\n",
              "      <td>?</td>\n",
              "      <td>6</td>\n",
              "      <td>2</td>\n",
              "      <td>?</td>\n",
              "      <td>?</td>\n",
              "      <td>?</td>\n",
              "      <td>?</td>\n",
              "      <td>?</td>\n",
              "      <td>?</td>\n",
              "      <td>?</td>\n",
              "      <td>?</td>\n",
              "      <td>74.00</td>\n",
              "      <td>7.40</td>\n",
              "      <td>?</td>\n",
              "      <td>?</td>\n",
              "      <td>2</td>\n",
              "      <td>2</td>\n",
              "      <td>4300</td>\n",
              "      <td>0</td>\n",
              "      <td>0</td>\n",
              "      <td>2</td>\n",
              "    </tr>\n",
              "  </tbody>\n",
              "</table>\n",
              "</div>"
            ],
            "text/plain": [
              "  surgery  Age  Hospital Number  ... type of lesion2 type of lesion3 cp_data\n",
              "0       2    1           530101  ...               0               0       2\n",
              "1       1    1           534817  ...               0               0       2\n",
              "2       2    1           530334  ...               0               0       1\n",
              "3       1    9          5290409  ...               0               0       1\n",
              "4       2    1           530255  ...               0               0       2\n",
              "\n",
              "[5 rows x 28 columns]"
            ]
          },
          "metadata": {
            "tags": []
          },
          "execution_count": 3
        }
      ]
    },
    {
      "cell_type": "code",
      "metadata": {
        "id": "WI252KF1cQoh",
        "colab_type": "code",
        "colab": {}
      },
      "source": [
        "# Data Cleaning\n",
        "# Mengganti nilai \"?\" dengan None\n",
        "\n",
        "dataset.replace(\"?\", np.nan, inplace=True)"
      ],
      "execution_count": 4,
      "outputs": []
    },
    {
      "cell_type": "code",
      "metadata": {
        "id": "kttFWJ_0cc-X",
        "colab_type": "code",
        "colab": {
          "base_uri": "https://localhost:8080/",
          "height": 0
        },
        "outputId": "84d9788e-c112-4f43-f300-713dd64eec9c"
      },
      "source": [
        "dataset.head()"
      ],
      "execution_count": 5,
      "outputs": [
        {
          "output_type": "execute_result",
          "data": {
            "text/html": [
              "<div>\n",
              "<style scoped>\n",
              "    .dataframe tbody tr th:only-of-type {\n",
              "        vertical-align: middle;\n",
              "    }\n",
              "\n",
              "    .dataframe tbody tr th {\n",
              "        vertical-align: top;\n",
              "    }\n",
              "\n",
              "    .dataframe thead th {\n",
              "        text-align: right;\n",
              "    }\n",
              "</style>\n",
              "<table border=\"1\" class=\"dataframe\">\n",
              "  <thead>\n",
              "    <tr style=\"text-align: right;\">\n",
              "      <th></th>\n",
              "      <th>surgery</th>\n",
              "      <th>Age</th>\n",
              "      <th>Hospital Number</th>\n",
              "      <th>rectal temperature</th>\n",
              "      <th>pulse</th>\n",
              "      <th>respiratory rate</th>\n",
              "      <th>temperature of extremities</th>\n",
              "      <th>peripheral pulse</th>\n",
              "      <th>mucous membranes</th>\n",
              "      <th>capillary refill time</th>\n",
              "      <th>pain</th>\n",
              "      <th>peristalsis</th>\n",
              "      <th>abdominal distension</th>\n",
              "      <th>nasogastric tube</th>\n",
              "      <th>nasogastric reflux</th>\n",
              "      <th>nasogastric reflux PH</th>\n",
              "      <th>rectal examination - feces</th>\n",
              "      <th>abdomen</th>\n",
              "      <th>packed cell volume</th>\n",
              "      <th>total protein</th>\n",
              "      <th>abdominocentesis appearance</th>\n",
              "      <th>abdomcentesis total protein</th>\n",
              "      <th>outcome</th>\n",
              "      <th>surgical lesion</th>\n",
              "      <th>type of lesion1</th>\n",
              "      <th>type of lesion2</th>\n",
              "      <th>type of lesion3</th>\n",
              "      <th>cp_data</th>\n",
              "    </tr>\n",
              "  </thead>\n",
              "  <tbody>\n",
              "    <tr>\n",
              "      <th>0</th>\n",
              "      <td>2</td>\n",
              "      <td>1</td>\n",
              "      <td>530101</td>\n",
              "      <td>38.50</td>\n",
              "      <td>66</td>\n",
              "      <td>28</td>\n",
              "      <td>3</td>\n",
              "      <td>3</td>\n",
              "      <td>NaN</td>\n",
              "      <td>2</td>\n",
              "      <td>5</td>\n",
              "      <td>4</td>\n",
              "      <td>4</td>\n",
              "      <td>NaN</td>\n",
              "      <td>NaN</td>\n",
              "      <td>NaN</td>\n",
              "      <td>3</td>\n",
              "      <td>5</td>\n",
              "      <td>45.00</td>\n",
              "      <td>8.40</td>\n",
              "      <td>NaN</td>\n",
              "      <td>NaN</td>\n",
              "      <td>2</td>\n",
              "      <td>2</td>\n",
              "      <td>11300</td>\n",
              "      <td>0</td>\n",
              "      <td>0</td>\n",
              "      <td>2</td>\n",
              "    </tr>\n",
              "    <tr>\n",
              "      <th>1</th>\n",
              "      <td>1</td>\n",
              "      <td>1</td>\n",
              "      <td>534817</td>\n",
              "      <td>39.2</td>\n",
              "      <td>88</td>\n",
              "      <td>20</td>\n",
              "      <td>NaN</td>\n",
              "      <td>NaN</td>\n",
              "      <td>4</td>\n",
              "      <td>1</td>\n",
              "      <td>3</td>\n",
              "      <td>4</td>\n",
              "      <td>2</td>\n",
              "      <td>NaN</td>\n",
              "      <td>NaN</td>\n",
              "      <td>NaN</td>\n",
              "      <td>4</td>\n",
              "      <td>2</td>\n",
              "      <td>50</td>\n",
              "      <td>85</td>\n",
              "      <td>2</td>\n",
              "      <td>2</td>\n",
              "      <td>3</td>\n",
              "      <td>2</td>\n",
              "      <td>2208</td>\n",
              "      <td>0</td>\n",
              "      <td>0</td>\n",
              "      <td>2</td>\n",
              "    </tr>\n",
              "    <tr>\n",
              "      <th>2</th>\n",
              "      <td>2</td>\n",
              "      <td>1</td>\n",
              "      <td>530334</td>\n",
              "      <td>38.30</td>\n",
              "      <td>40</td>\n",
              "      <td>24</td>\n",
              "      <td>1</td>\n",
              "      <td>1</td>\n",
              "      <td>3</td>\n",
              "      <td>1</td>\n",
              "      <td>3</td>\n",
              "      <td>3</td>\n",
              "      <td>1</td>\n",
              "      <td>NaN</td>\n",
              "      <td>NaN</td>\n",
              "      <td>NaN</td>\n",
              "      <td>1</td>\n",
              "      <td>1</td>\n",
              "      <td>33.00</td>\n",
              "      <td>6.70</td>\n",
              "      <td>NaN</td>\n",
              "      <td>NaN</td>\n",
              "      <td>1</td>\n",
              "      <td>2</td>\n",
              "      <td>0</td>\n",
              "      <td>0</td>\n",
              "      <td>0</td>\n",
              "      <td>1</td>\n",
              "    </tr>\n",
              "    <tr>\n",
              "      <th>3</th>\n",
              "      <td>1</td>\n",
              "      <td>9</td>\n",
              "      <td>5290409</td>\n",
              "      <td>39.10</td>\n",
              "      <td>164</td>\n",
              "      <td>84</td>\n",
              "      <td>4</td>\n",
              "      <td>1</td>\n",
              "      <td>6</td>\n",
              "      <td>2</td>\n",
              "      <td>2</td>\n",
              "      <td>4</td>\n",
              "      <td>4</td>\n",
              "      <td>1</td>\n",
              "      <td>2</td>\n",
              "      <td>5.00</td>\n",
              "      <td>3</td>\n",
              "      <td>NaN</td>\n",
              "      <td>48.00</td>\n",
              "      <td>7.20</td>\n",
              "      <td>3</td>\n",
              "      <td>5.30</td>\n",
              "      <td>2</td>\n",
              "      <td>1</td>\n",
              "      <td>2208</td>\n",
              "      <td>0</td>\n",
              "      <td>0</td>\n",
              "      <td>1</td>\n",
              "    </tr>\n",
              "    <tr>\n",
              "      <th>4</th>\n",
              "      <td>2</td>\n",
              "      <td>1</td>\n",
              "      <td>530255</td>\n",
              "      <td>37.30</td>\n",
              "      <td>104</td>\n",
              "      <td>35</td>\n",
              "      <td>NaN</td>\n",
              "      <td>NaN</td>\n",
              "      <td>6</td>\n",
              "      <td>2</td>\n",
              "      <td>NaN</td>\n",
              "      <td>NaN</td>\n",
              "      <td>NaN</td>\n",
              "      <td>NaN</td>\n",
              "      <td>NaN</td>\n",
              "      <td>NaN</td>\n",
              "      <td>NaN</td>\n",
              "      <td>NaN</td>\n",
              "      <td>74.00</td>\n",
              "      <td>7.40</td>\n",
              "      <td>NaN</td>\n",
              "      <td>NaN</td>\n",
              "      <td>2</td>\n",
              "      <td>2</td>\n",
              "      <td>4300</td>\n",
              "      <td>0</td>\n",
              "      <td>0</td>\n",
              "      <td>2</td>\n",
              "    </tr>\n",
              "  </tbody>\n",
              "</table>\n",
              "</div>"
            ],
            "text/plain": [
              "  surgery  Age  Hospital Number  ... type of lesion2 type of lesion3 cp_data\n",
              "0       2    1           530101  ...               0               0       2\n",
              "1       1    1           534817  ...               0               0       2\n",
              "2       2    1           530334  ...               0               0       1\n",
              "3       1    9          5290409  ...               0               0       1\n",
              "4       2    1           530255  ...               0               0       2\n",
              "\n",
              "[5 rows x 28 columns]"
            ]
          },
          "metadata": {
            "tags": []
          },
          "execution_count": 5
        }
      ]
    },
    {
      "cell_type": "code",
      "metadata": {
        "id": "dTzBer6dl10T",
        "colab_type": "code",
        "colab": {
          "base_uri": "https://localhost:8080/",
          "height": 0
        },
        "outputId": "58fd9d7b-856b-4639-d7b3-923e5f45a81b"
      },
      "source": [
        "# Melihat statistik dari dataset\n",
        "dataset.describe()"
      ],
      "execution_count": 6,
      "outputs": [
        {
          "output_type": "execute_result",
          "data": {
            "text/html": [
              "<div>\n",
              "<style scoped>\n",
              "    .dataframe tbody tr th:only-of-type {\n",
              "        vertical-align: middle;\n",
              "    }\n",
              "\n",
              "    .dataframe tbody tr th {\n",
              "        vertical-align: top;\n",
              "    }\n",
              "\n",
              "    .dataframe thead th {\n",
              "        text-align: right;\n",
              "    }\n",
              "</style>\n",
              "<table border=\"1\" class=\"dataframe\">\n",
              "  <thead>\n",
              "    <tr style=\"text-align: right;\">\n",
              "      <th></th>\n",
              "      <th>Age</th>\n",
              "      <th>Hospital Number</th>\n",
              "      <th>surgical lesion</th>\n",
              "      <th>type of lesion1</th>\n",
              "      <th>type of lesion2</th>\n",
              "      <th>type of lesion3</th>\n",
              "      <th>cp_data</th>\n",
              "    </tr>\n",
              "  </thead>\n",
              "  <tbody>\n",
              "    <tr>\n",
              "      <th>count</th>\n",
              "      <td>300.000000</td>\n",
              "      <td>3.000000e+02</td>\n",
              "      <td>300.000000</td>\n",
              "      <td>300.000000</td>\n",
              "      <td>300.000000</td>\n",
              "      <td>300.000000</td>\n",
              "      <td>300.000000</td>\n",
              "    </tr>\n",
              "    <tr>\n",
              "      <th>mean</th>\n",
              "      <td>1.640000</td>\n",
              "      <td>1.085889e+06</td>\n",
              "      <td>1.363333</td>\n",
              "      <td>3657.880000</td>\n",
              "      <td>90.226667</td>\n",
              "      <td>7.363333</td>\n",
              "      <td>1.670000</td>\n",
              "    </tr>\n",
              "    <tr>\n",
              "      <th>std</th>\n",
              "      <td>2.173972</td>\n",
              "      <td>1.529801e+06</td>\n",
              "      <td>0.481763</td>\n",
              "      <td>5399.513513</td>\n",
              "      <td>649.569234</td>\n",
              "      <td>127.536674</td>\n",
              "      <td>0.470998</td>\n",
              "    </tr>\n",
              "    <tr>\n",
              "      <th>min</th>\n",
              "      <td>1.000000</td>\n",
              "      <td>5.184760e+05</td>\n",
              "      <td>1.000000</td>\n",
              "      <td>0.000000</td>\n",
              "      <td>0.000000</td>\n",
              "      <td>0.000000</td>\n",
              "      <td>1.000000</td>\n",
              "    </tr>\n",
              "    <tr>\n",
              "      <th>25%</th>\n",
              "      <td>1.000000</td>\n",
              "      <td>5.289040e+05</td>\n",
              "      <td>1.000000</td>\n",
              "      <td>2111.750000</td>\n",
              "      <td>0.000000</td>\n",
              "      <td>0.000000</td>\n",
              "      <td>1.000000</td>\n",
              "    </tr>\n",
              "    <tr>\n",
              "      <th>50%</th>\n",
              "      <td>1.000000</td>\n",
              "      <td>5.303055e+05</td>\n",
              "      <td>1.000000</td>\n",
              "      <td>2673.500000</td>\n",
              "      <td>0.000000</td>\n",
              "      <td>0.000000</td>\n",
              "      <td>2.000000</td>\n",
              "    </tr>\n",
              "    <tr>\n",
              "      <th>75%</th>\n",
              "      <td>1.000000</td>\n",
              "      <td>5.347275e+05</td>\n",
              "      <td>2.000000</td>\n",
              "      <td>3209.000000</td>\n",
              "      <td>0.000000</td>\n",
              "      <td>0.000000</td>\n",
              "      <td>2.000000</td>\n",
              "    </tr>\n",
              "    <tr>\n",
              "      <th>max</th>\n",
              "      <td>9.000000</td>\n",
              "      <td>5.305629e+06</td>\n",
              "      <td>2.000000</td>\n",
              "      <td>41110.000000</td>\n",
              "      <td>7111.000000</td>\n",
              "      <td>2209.000000</td>\n",
              "      <td>2.000000</td>\n",
              "    </tr>\n",
              "  </tbody>\n",
              "</table>\n",
              "</div>"
            ],
            "text/plain": [
              "              Age  Hospital Number  ...  type of lesion3     cp_data\n",
              "count  300.000000     3.000000e+02  ...       300.000000  300.000000\n",
              "mean     1.640000     1.085889e+06  ...         7.363333    1.670000\n",
              "std      2.173972     1.529801e+06  ...       127.536674    0.470998\n",
              "min      1.000000     5.184760e+05  ...         0.000000    1.000000\n",
              "25%      1.000000     5.289040e+05  ...         0.000000    1.000000\n",
              "50%      1.000000     5.303055e+05  ...         0.000000    2.000000\n",
              "75%      1.000000     5.347275e+05  ...         0.000000    2.000000\n",
              "max      9.000000     5.305629e+06  ...      2209.000000    2.000000\n",
              "\n",
              "[8 rows x 7 columns]"
            ]
          },
          "metadata": {
            "tags": []
          },
          "execution_count": 6
        }
      ]
    },
    {
      "cell_type": "code",
      "metadata": {
        "id": "Q1chlYv6cjUX",
        "colab_type": "code",
        "colab": {
          "base_uri": "https://localhost:8080/",
          "height": 0
        },
        "outputId": "61ebd6f8-4fa3-452f-be1d-f6345fe86a67"
      },
      "source": [
        "# Melihat jumlah data null pada masing-masing kolom\n",
        "dataset.isnull().sum().sort_values()"
      ],
      "execution_count": 7,
      "outputs": [
        {
          "output_type": "execute_result",
          "data": {
            "text/plain": [
              "cp_data                          0\n",
              "Age                              0\n",
              "Hospital Number                  0\n",
              "type of lesion2                  0\n",
              "type of lesion1                  0\n",
              "surgical lesion                  0\n",
              "type of lesion3                  0\n",
              "outcome                          1\n",
              "surgery                          1\n",
              "pulse                           24\n",
              "packed cell volume              29\n",
              "capillary refill time           32\n",
              "total protein                   33\n",
              "peristalsis                     44\n",
              "mucous membranes                47\n",
              "pain                            55\n",
              "abdominal distension            56\n",
              "temperature of extremities      56\n",
              "respiratory rate                58\n",
              "rectal temperature              60\n",
              "peripheral pulse                69\n",
              "rectal examination - feces     102\n",
              "nasogastric tube               104\n",
              "nasogastric reflux             106\n",
              "abdomen                        118\n",
              "abdominocentesis appearance    165\n",
              "abdomcentesis total protein    198\n",
              "nasogastric reflux PH          247\n",
              "dtype: int64"
            ]
          },
          "metadata": {
            "tags": []
          },
          "execution_count": 7
        }
      ]
    },
    {
      "cell_type": "code",
      "metadata": {
        "id": "gVY6vV7mkjV8",
        "colab_type": "code",
        "colab": {}
      },
      "source": [
        "# Melakukan drop beberapa kolom dari dataset karena lebih dari setengah total data adalah null(>150)\n",
        "dataset.drop(['nasogastric reflux PH', 'abdomcentesis total protein', 'abdominocentesis appearance'], axis=1, inplace=True)"
      ],
      "execution_count": 8,
      "outputs": []
    },
    {
      "cell_type": "code",
      "metadata": {
        "id": "TC5LiTj3cmmn",
        "colab_type": "code",
        "colab": {
          "base_uri": "https://localhost:8080/",
          "height": 0
        },
        "outputId": "81497a97-7e76-4247-d9b8-c58cec4a7e52"
      },
      "source": [
        "dataset.isnull().sum().sort_values()"
      ],
      "execution_count": 9,
      "outputs": [
        {
          "output_type": "execute_result",
          "data": {
            "text/plain": [
              "cp_data                         0\n",
              "Age                             0\n",
              "Hospital Number                 0\n",
              "type of lesion2                 0\n",
              "type of lesion1                 0\n",
              "surgical lesion                 0\n",
              "type of lesion3                 0\n",
              "outcome                         1\n",
              "surgery                         1\n",
              "pulse                          24\n",
              "packed cell volume             29\n",
              "capillary refill time          32\n",
              "total protein                  33\n",
              "peristalsis                    44\n",
              "mucous membranes               47\n",
              "pain                           55\n",
              "temperature of extremities     56\n",
              "abdominal distension           56\n",
              "respiratory rate               58\n",
              "rectal temperature             60\n",
              "peripheral pulse               69\n",
              "rectal examination - feces    102\n",
              "nasogastric tube              104\n",
              "nasogastric reflux            106\n",
              "abdomen                       118\n",
              "dtype: int64"
            ]
          },
          "metadata": {
            "tags": []
          },
          "execution_count": 9
        }
      ]
    },
    {
      "cell_type": "code",
      "metadata": {
        "id": "cnXitR9ndoVg",
        "colab_type": "code",
        "colab": {}
      },
      "source": [
        "# Cari rata2 untuk dimasukkan ke nilai null\n",
        "avg_abdomen = dataset['abdomen'].astype('float').mean(axis=0)\n",
        "avg_nasogastric_reflux = dataset['nasogastric reflux'].astype('float').mean(axis=0)\n",
        "avg_nasogastric_tube = dataset['nasogastric tube'].astype('float').mean(axis=0)\n",
        "avg_rectal_examination_feces = dataset['rectal examination - feces'].astype('float').mean(axis=0)\n",
        "avg_peripheral_pulse = dataset['peripheral pulse'].astype('float').mean(axis=0)\n",
        "\n",
        "avg_rectal_temperature = dataset['rectal temperature'].astype('float').mean(axis=0)\n",
        "avg_respiratory_rate = dataset['respiratory rate'].astype('float').mean(axis=0)\n",
        "avg_abdominal_distension = dataset['abdominal distension'].astype('float').mean(axis=0)\n",
        "avg_temperature_of_extremities = dataset['temperature of extremities'].astype('float').mean(axis=0)\n",
        "avg_pain = dataset['pain'].astype('float').mean(axis=0)\n",
        "\n",
        "avg_mucous_membranes = dataset['mucous membranes'].astype('float').mean(axis=0)\n",
        "avg_peristalsis = dataset['peristalsis'].astype('float').mean(axis=0)\n",
        "avg_total_protein = dataset['total protein'].astype('float').mean(axis=0)\n",
        "avg_capillary_refill_time = dataset['capillary refill time'].astype('float').mean(axis=0)\n",
        "avg_packed_cell_volume = dataset['packed cell volume'].astype('float').mean(axis=0)\n",
        "\n",
        "avg_pulse = dataset['pulse'].astype('float').mean(axis=0)\n",
        "avg_surgery = dataset['surgery'].astype('float').mean(axis=0)"
      ],
      "execution_count": 10,
      "outputs": []
    },
    {
      "cell_type": "code",
      "metadata": {
        "id": "pjOl-1JKndSr",
        "colab_type": "code",
        "colab": {
          "base_uri": "https://localhost:8080/",
          "height": 0
        },
        "outputId": "920edf32-1662-4ccd-d40b-b6171e7c4001"
      },
      "source": [
        "# Replace data none dengan nilai rata-rata2\n",
        "# Kolom outcome tidak ikut direplace karena data output\n",
        "dataset[\"abdomen\"].replace(np.nan, avg_abdomen, inplace=True)\n",
        "dataset[\"nasogastric reflux\"].replace(np.nan, avg_nasogastric_reflux, inplace=True)\n",
        "dataset[\"nasogastric tube\"].replace(np.nan, avg_nasogastric_tube, inplace=True)\n",
        "dataset[\"rectal examination - feces\"].replace(np.nan, avg_rectal_examination_feces, inplace=True)\n",
        "dataset[\"peripheral pulse\"].replace(np.nan, avg_peripheral_pulse, inplace=True)\n",
        "\n",
        "dataset[\"rectal temperature\"].replace(np.nan, avg_rectal_temperature, inplace=True)\n",
        "dataset[\"respiratory rate\"].replace(np.nan, avg_respiratory_rate, inplace=True)\n",
        "dataset[\"abdominal distension\"].replace(np.nan, avg_abdominal_distension, inplace=True)\n",
        "dataset[\"temperature of extremities\"].replace(np.nan, avg_temperature_of_extremities, inplace=True)\n",
        "dataset[\"pain\"].replace(np.nan, avg_pain, inplace=True)\n",
        "\n",
        "dataset[\"mucous membranes\"].replace(np.nan, avg_mucous_membranes, inplace=True)\n",
        "dataset[\"peristalsis\"].replace(np.nan, avg_peristalsis, inplace=True)\n",
        "dataset[\"total protein\"].replace(np.nan, avg_total_protein, inplace=True)\n",
        "dataset[\"capillary refill time\"].replace(np.nan, avg_capillary_refill_time, inplace=True)\n",
        "dataset[\"packed cell volume\"].replace(np.nan, avg_packed_cell_volume, inplace=True)\n",
        "\n",
        "dataset[\"pulse\"].replace(np.nan, avg_pulse, inplace=True)\n",
        "dataset[\"surgery\"].replace(np.nan, avg_surgery, inplace=True)\n",
        "\n",
        "dataset.head()"
      ],
      "execution_count": 11,
      "outputs": [
        {
          "output_type": "execute_result",
          "data": {
            "text/html": [
              "<div>\n",
              "<style scoped>\n",
              "    .dataframe tbody tr th:only-of-type {\n",
              "        vertical-align: middle;\n",
              "    }\n",
              "\n",
              "    .dataframe tbody tr th {\n",
              "        vertical-align: top;\n",
              "    }\n",
              "\n",
              "    .dataframe thead th {\n",
              "        text-align: right;\n",
              "    }\n",
              "</style>\n",
              "<table border=\"1\" class=\"dataframe\">\n",
              "  <thead>\n",
              "    <tr style=\"text-align: right;\">\n",
              "      <th></th>\n",
              "      <th>surgery</th>\n",
              "      <th>Age</th>\n",
              "      <th>Hospital Number</th>\n",
              "      <th>rectal temperature</th>\n",
              "      <th>pulse</th>\n",
              "      <th>respiratory rate</th>\n",
              "      <th>temperature of extremities</th>\n",
              "      <th>peripheral pulse</th>\n",
              "      <th>mucous membranes</th>\n",
              "      <th>capillary refill time</th>\n",
              "      <th>pain</th>\n",
              "      <th>peristalsis</th>\n",
              "      <th>abdominal distension</th>\n",
              "      <th>nasogastric tube</th>\n",
              "      <th>nasogastric reflux</th>\n",
              "      <th>rectal examination - feces</th>\n",
              "      <th>abdomen</th>\n",
              "      <th>packed cell volume</th>\n",
              "      <th>total protein</th>\n",
              "      <th>outcome</th>\n",
              "      <th>surgical lesion</th>\n",
              "      <th>type of lesion1</th>\n",
              "      <th>type of lesion2</th>\n",
              "      <th>type of lesion3</th>\n",
              "      <th>cp_data</th>\n",
              "    </tr>\n",
              "  </thead>\n",
              "  <tbody>\n",
              "    <tr>\n",
              "      <th>0</th>\n",
              "      <td>2</td>\n",
              "      <td>1</td>\n",
              "      <td>530101</td>\n",
              "      <td>38.50</td>\n",
              "      <td>66</td>\n",
              "      <td>28</td>\n",
              "      <td>3</td>\n",
              "      <td>3</td>\n",
              "      <td>2.85375</td>\n",
              "      <td>2</td>\n",
              "      <td>5</td>\n",
              "      <td>4</td>\n",
              "      <td>4</td>\n",
              "      <td>1.7551</td>\n",
              "      <td>1.58247</td>\n",
              "      <td>3</td>\n",
              "      <td>5</td>\n",
              "      <td>45.00</td>\n",
              "      <td>8.40</td>\n",
              "      <td>2</td>\n",
              "      <td>2</td>\n",
              "      <td>11300</td>\n",
              "      <td>0</td>\n",
              "      <td>0</td>\n",
              "      <td>2</td>\n",
              "    </tr>\n",
              "    <tr>\n",
              "      <th>1</th>\n",
              "      <td>1</td>\n",
              "      <td>1</td>\n",
              "      <td>534817</td>\n",
              "      <td>39.2</td>\n",
              "      <td>88</td>\n",
              "      <td>20</td>\n",
              "      <td>2.34836</td>\n",
              "      <td>2.01732</td>\n",
              "      <td>4</td>\n",
              "      <td>1</td>\n",
              "      <td>3</td>\n",
              "      <td>4</td>\n",
              "      <td>2</td>\n",
              "      <td>1.7551</td>\n",
              "      <td>1.58247</td>\n",
              "      <td>4</td>\n",
              "      <td>2</td>\n",
              "      <td>50</td>\n",
              "      <td>85</td>\n",
              "      <td>3</td>\n",
              "      <td>2</td>\n",
              "      <td>2208</td>\n",
              "      <td>0</td>\n",
              "      <td>0</td>\n",
              "      <td>2</td>\n",
              "    </tr>\n",
              "    <tr>\n",
              "      <th>2</th>\n",
              "      <td>2</td>\n",
              "      <td>1</td>\n",
              "      <td>530334</td>\n",
              "      <td>38.30</td>\n",
              "      <td>40</td>\n",
              "      <td>24</td>\n",
              "      <td>1</td>\n",
              "      <td>1</td>\n",
              "      <td>3</td>\n",
              "      <td>1</td>\n",
              "      <td>3</td>\n",
              "      <td>3</td>\n",
              "      <td>1</td>\n",
              "      <td>1.7551</td>\n",
              "      <td>1.58247</td>\n",
              "      <td>1</td>\n",
              "      <td>1</td>\n",
              "      <td>33.00</td>\n",
              "      <td>6.70</td>\n",
              "      <td>1</td>\n",
              "      <td>2</td>\n",
              "      <td>0</td>\n",
              "      <td>0</td>\n",
              "      <td>0</td>\n",
              "      <td>1</td>\n",
              "    </tr>\n",
              "    <tr>\n",
              "      <th>3</th>\n",
              "      <td>1</td>\n",
              "      <td>9</td>\n",
              "      <td>5290409</td>\n",
              "      <td>39.10</td>\n",
              "      <td>164</td>\n",
              "      <td>84</td>\n",
              "      <td>4</td>\n",
              "      <td>1</td>\n",
              "      <td>6</td>\n",
              "      <td>2</td>\n",
              "      <td>2</td>\n",
              "      <td>4</td>\n",
              "      <td>4</td>\n",
              "      <td>1</td>\n",
              "      <td>2</td>\n",
              "      <td>3</td>\n",
              "      <td>3.69231</td>\n",
              "      <td>48.00</td>\n",
              "      <td>7.20</td>\n",
              "      <td>2</td>\n",
              "      <td>1</td>\n",
              "      <td>2208</td>\n",
              "      <td>0</td>\n",
              "      <td>0</td>\n",
              "      <td>1</td>\n",
              "    </tr>\n",
              "    <tr>\n",
              "      <th>4</th>\n",
              "      <td>2</td>\n",
              "      <td>1</td>\n",
              "      <td>530255</td>\n",
              "      <td>37.30</td>\n",
              "      <td>104</td>\n",
              "      <td>35</td>\n",
              "      <td>2.34836</td>\n",
              "      <td>2.01732</td>\n",
              "      <td>6</td>\n",
              "      <td>2</td>\n",
              "      <td>2.95102</td>\n",
              "      <td>2.91797</td>\n",
              "      <td>2.26639</td>\n",
              "      <td>1.7551</td>\n",
              "      <td>1.58247</td>\n",
              "      <td>2.75758</td>\n",
              "      <td>3.69231</td>\n",
              "      <td>74.00</td>\n",
              "      <td>7.40</td>\n",
              "      <td>2</td>\n",
              "      <td>2</td>\n",
              "      <td>4300</td>\n",
              "      <td>0</td>\n",
              "      <td>0</td>\n",
              "      <td>2</td>\n",
              "    </tr>\n",
              "  </tbody>\n",
              "</table>\n",
              "</div>"
            ],
            "text/plain": [
              "  surgery  Age  Hospital Number  ... type of lesion2 type of lesion3 cp_data\n",
              "0       2    1           530101  ...               0               0       2\n",
              "1       1    1           534817  ...               0               0       2\n",
              "2       2    1           530334  ...               0               0       1\n",
              "3       1    9          5290409  ...               0               0       1\n",
              "4       2    1           530255  ...               0               0       2\n",
              "\n",
              "[5 rows x 25 columns]"
            ]
          },
          "metadata": {
            "tags": []
          },
          "execution_count": 11
        }
      ]
    },
    {
      "cell_type": "code",
      "metadata": {
        "id": "57CtL-LdphEj",
        "colab_type": "code",
        "colab": {
          "base_uri": "https://localhost:8080/",
          "height": 0
        },
        "outputId": "33c15663-3021-4522-801d-54c87cc43840"
      },
      "source": [
        "dataset.isnull().sum()"
      ],
      "execution_count": 12,
      "outputs": [
        {
          "output_type": "execute_result",
          "data": {
            "text/plain": [
              "surgery                       0\n",
              "Age                           0\n",
              "Hospital Number               0\n",
              "rectal temperature            0\n",
              "pulse                         0\n",
              "respiratory rate              0\n",
              "temperature of extremities    0\n",
              "peripheral pulse              0\n",
              "mucous membranes              0\n",
              "capillary refill time         0\n",
              "pain                          0\n",
              "peristalsis                   0\n",
              "abdominal distension          0\n",
              "nasogastric tube              0\n",
              "nasogastric reflux            0\n",
              "rectal examination - feces    0\n",
              "abdomen                       0\n",
              "packed cell volume            0\n",
              "total protein                 0\n",
              "outcome                       1\n",
              "surgical lesion               0\n",
              "type of lesion1               0\n",
              "type of lesion2               0\n",
              "type of lesion3               0\n",
              "cp_data                       0\n",
              "dtype: int64"
            ]
          },
          "metadata": {
            "tags": []
          },
          "execution_count": 12
        }
      ]
    },
    {
      "cell_type": "code",
      "metadata": {
        "id": "ieNP8pADvnNU",
        "colab_type": "code",
        "colab": {
          "base_uri": "https://localhost:8080/",
          "height": 0
        },
        "outputId": "d534b3eb-4001-4da4-ed24-f3df9789e003"
      },
      "source": [
        "dataset.dtypes"
      ],
      "execution_count": 13,
      "outputs": [
        {
          "output_type": "execute_result",
          "data": {
            "text/plain": [
              "surgery                       object\n",
              "Age                            int64\n",
              "Hospital Number                int64\n",
              "rectal temperature            object\n",
              "pulse                         object\n",
              "respiratory rate              object\n",
              "temperature of extremities    object\n",
              "peripheral pulse              object\n",
              "mucous membranes              object\n",
              "capillary refill time         object\n",
              "pain                          object\n",
              "peristalsis                   object\n",
              "abdominal distension          object\n",
              "nasogastric tube              object\n",
              "nasogastric reflux            object\n",
              "rectal examination - feces    object\n",
              "abdomen                       object\n",
              "packed cell volume            object\n",
              "total protein                 object\n",
              "outcome                       object\n",
              "surgical lesion                int64\n",
              "type of lesion1                int64\n",
              "type of lesion2                int64\n",
              "type of lesion3                int64\n",
              "cp_data                        int64\n",
              "dtype: object"
            ]
          },
          "metadata": {
            "tags": []
          },
          "execution_count": 13
        }
      ]
    },
    {
      "cell_type": "code",
      "metadata": {
        "id": "cFwTTpbSxpoi",
        "colab_type": "code",
        "colab": {
          "base_uri": "https://localhost:8080/",
          "height": 0
        },
        "outputId": "9c8bf7ec-cd1d-4127-e388-c88495c5e470"
      },
      "source": [
        "# Drop data null pada outcome\n",
        "dataset.dropna(subset=[\"outcome\"], axis=0, inplace=True)\n",
        "dataset.isnull().sum()"
      ],
      "execution_count": 14,
      "outputs": [
        {
          "output_type": "execute_result",
          "data": {
            "text/plain": [
              "surgery                       0\n",
              "Age                           0\n",
              "Hospital Number               0\n",
              "rectal temperature            0\n",
              "pulse                         0\n",
              "respiratory rate              0\n",
              "temperature of extremities    0\n",
              "peripheral pulse              0\n",
              "mucous membranes              0\n",
              "capillary refill time         0\n",
              "pain                          0\n",
              "peristalsis                   0\n",
              "abdominal distension          0\n",
              "nasogastric tube              0\n",
              "nasogastric reflux            0\n",
              "rectal examination - feces    0\n",
              "abdomen                       0\n",
              "packed cell volume            0\n",
              "total protein                 0\n",
              "outcome                       0\n",
              "surgical lesion               0\n",
              "type of lesion1               0\n",
              "type of lesion2               0\n",
              "type of lesion3               0\n",
              "cp_data                       0\n",
              "dtype: int64"
            ]
          },
          "metadata": {
            "tags": []
          },
          "execution_count": 14
        }
      ]
    },
    {
      "cell_type": "code",
      "metadata": {
        "id": "1JkQA7jeplVx",
        "colab_type": "code",
        "colab": {
          "base_uri": "https://localhost:8080/",
          "height": 0
        },
        "outputId": "fd50a712-6762-4bb8-b6a0-6a296c9466f3"
      },
      "source": [
        "# Melakukan casting data, dimana mayoritas data bersifat kategorial sehingga dicasting menjadi tipe data integer\n",
        "# Sementara untuk data bersifat linear dicasting menjadi tipe data float\n",
        "dataset[[\"abdomen\", \"nasogastric reflux\", \"nasogastric tube\", \"rectal examination - feces\", \"peripheral pulse\", \"respiratory rate\", \"abdominal distension\", \n",
        "         \"temperature of extremities\", \"pain\", \"mucous membranes\", \"peristalsis\", \"capillary refill time\", \"pulse\", \n",
        "         \"surgery\", \"outcome\"]] = dataset[[\"abdomen\", \"nasogastric reflux\", \"nasogastric tube\", \"rectal examination - feces\", \"peripheral pulse\", \"respiratory rate\", \"abdominal distension\", \n",
        "         \"temperature of extremities\", \"pain\", \"mucous membranes\", \"peristalsis\", \"capillary refill time\", \"pulse\", \n",
        "         \"surgery\", \"outcome\"]].astype('int')\n",
        "\n",
        "dataset[[\"rectal temperature\", \"packed cell volume\", \"total protein\"]] = dataset[[\"rectal temperature\", \"packed cell volume\", \"total protein\"]].astype('float')\n",
        "dataset.head()"
      ],
      "execution_count": 16,
      "outputs": [
        {
          "output_type": "execute_result",
          "data": {
            "text/html": [
              "<div>\n",
              "<style scoped>\n",
              "    .dataframe tbody tr th:only-of-type {\n",
              "        vertical-align: middle;\n",
              "    }\n",
              "\n",
              "    .dataframe tbody tr th {\n",
              "        vertical-align: top;\n",
              "    }\n",
              "\n",
              "    .dataframe thead th {\n",
              "        text-align: right;\n",
              "    }\n",
              "</style>\n",
              "<table border=\"1\" class=\"dataframe\">\n",
              "  <thead>\n",
              "    <tr style=\"text-align: right;\">\n",
              "      <th></th>\n",
              "      <th>surgery</th>\n",
              "      <th>Age</th>\n",
              "      <th>Hospital Number</th>\n",
              "      <th>rectal temperature</th>\n",
              "      <th>pulse</th>\n",
              "      <th>respiratory rate</th>\n",
              "      <th>temperature of extremities</th>\n",
              "      <th>peripheral pulse</th>\n",
              "      <th>mucous membranes</th>\n",
              "      <th>capillary refill time</th>\n",
              "      <th>pain</th>\n",
              "      <th>peristalsis</th>\n",
              "      <th>abdominal distension</th>\n",
              "      <th>nasogastric tube</th>\n",
              "      <th>nasogastric reflux</th>\n",
              "      <th>rectal examination - feces</th>\n",
              "      <th>abdomen</th>\n",
              "      <th>packed cell volume</th>\n",
              "      <th>total protein</th>\n",
              "      <th>outcome</th>\n",
              "      <th>surgical lesion</th>\n",
              "      <th>type of lesion1</th>\n",
              "      <th>type of lesion2</th>\n",
              "      <th>type of lesion3</th>\n",
              "      <th>cp_data</th>\n",
              "    </tr>\n",
              "  </thead>\n",
              "  <tbody>\n",
              "    <tr>\n",
              "      <th>0</th>\n",
              "      <td>2</td>\n",
              "      <td>1</td>\n",
              "      <td>530101</td>\n",
              "      <td>38.5</td>\n",
              "      <td>66</td>\n",
              "      <td>28</td>\n",
              "      <td>3</td>\n",
              "      <td>3</td>\n",
              "      <td>2</td>\n",
              "      <td>2</td>\n",
              "      <td>5</td>\n",
              "      <td>4</td>\n",
              "      <td>4</td>\n",
              "      <td>1</td>\n",
              "      <td>1</td>\n",
              "      <td>3</td>\n",
              "      <td>5</td>\n",
              "      <td>45.0</td>\n",
              "      <td>8.4</td>\n",
              "      <td>2</td>\n",
              "      <td>2</td>\n",
              "      <td>11300</td>\n",
              "      <td>0</td>\n",
              "      <td>0</td>\n",
              "      <td>2</td>\n",
              "    </tr>\n",
              "    <tr>\n",
              "      <th>1</th>\n",
              "      <td>1</td>\n",
              "      <td>1</td>\n",
              "      <td>534817</td>\n",
              "      <td>39.2</td>\n",
              "      <td>88</td>\n",
              "      <td>20</td>\n",
              "      <td>2</td>\n",
              "      <td>2</td>\n",
              "      <td>4</td>\n",
              "      <td>1</td>\n",
              "      <td>3</td>\n",
              "      <td>4</td>\n",
              "      <td>2</td>\n",
              "      <td>1</td>\n",
              "      <td>1</td>\n",
              "      <td>4</td>\n",
              "      <td>2</td>\n",
              "      <td>50.0</td>\n",
              "      <td>85.0</td>\n",
              "      <td>3</td>\n",
              "      <td>2</td>\n",
              "      <td>2208</td>\n",
              "      <td>0</td>\n",
              "      <td>0</td>\n",
              "      <td>2</td>\n",
              "    </tr>\n",
              "    <tr>\n",
              "      <th>2</th>\n",
              "      <td>2</td>\n",
              "      <td>1</td>\n",
              "      <td>530334</td>\n",
              "      <td>38.3</td>\n",
              "      <td>40</td>\n",
              "      <td>24</td>\n",
              "      <td>1</td>\n",
              "      <td>1</td>\n",
              "      <td>3</td>\n",
              "      <td>1</td>\n",
              "      <td>3</td>\n",
              "      <td>3</td>\n",
              "      <td>1</td>\n",
              "      <td>1</td>\n",
              "      <td>1</td>\n",
              "      <td>1</td>\n",
              "      <td>1</td>\n",
              "      <td>33.0</td>\n",
              "      <td>6.7</td>\n",
              "      <td>1</td>\n",
              "      <td>2</td>\n",
              "      <td>0</td>\n",
              "      <td>0</td>\n",
              "      <td>0</td>\n",
              "      <td>1</td>\n",
              "    </tr>\n",
              "    <tr>\n",
              "      <th>3</th>\n",
              "      <td>1</td>\n",
              "      <td>9</td>\n",
              "      <td>5290409</td>\n",
              "      <td>39.1</td>\n",
              "      <td>164</td>\n",
              "      <td>84</td>\n",
              "      <td>4</td>\n",
              "      <td>1</td>\n",
              "      <td>6</td>\n",
              "      <td>2</td>\n",
              "      <td>2</td>\n",
              "      <td>4</td>\n",
              "      <td>4</td>\n",
              "      <td>1</td>\n",
              "      <td>2</td>\n",
              "      <td>3</td>\n",
              "      <td>3</td>\n",
              "      <td>48.0</td>\n",
              "      <td>7.2</td>\n",
              "      <td>2</td>\n",
              "      <td>1</td>\n",
              "      <td>2208</td>\n",
              "      <td>0</td>\n",
              "      <td>0</td>\n",
              "      <td>1</td>\n",
              "    </tr>\n",
              "    <tr>\n",
              "      <th>4</th>\n",
              "      <td>2</td>\n",
              "      <td>1</td>\n",
              "      <td>530255</td>\n",
              "      <td>37.3</td>\n",
              "      <td>104</td>\n",
              "      <td>35</td>\n",
              "      <td>2</td>\n",
              "      <td>2</td>\n",
              "      <td>6</td>\n",
              "      <td>2</td>\n",
              "      <td>2</td>\n",
              "      <td>2</td>\n",
              "      <td>2</td>\n",
              "      <td>1</td>\n",
              "      <td>1</td>\n",
              "      <td>2</td>\n",
              "      <td>3</td>\n",
              "      <td>74.0</td>\n",
              "      <td>7.4</td>\n",
              "      <td>2</td>\n",
              "      <td>2</td>\n",
              "      <td>4300</td>\n",
              "      <td>0</td>\n",
              "      <td>0</td>\n",
              "      <td>2</td>\n",
              "    </tr>\n",
              "  </tbody>\n",
              "</table>\n",
              "</div>"
            ],
            "text/plain": [
              "   surgery  Age  Hospital Number  ...  type of lesion2  type of lesion3  cp_data\n",
              "0        2    1           530101  ...                0                0        2\n",
              "1        1    1           534817  ...                0                0        2\n",
              "2        2    1           530334  ...                0                0        1\n",
              "3        1    9          5290409  ...                0                0        1\n",
              "4        2    1           530255  ...                0                0        2\n",
              "\n",
              "[5 rows x 25 columns]"
            ]
          },
          "metadata": {
            "tags": []
          },
          "execution_count": 16
        }
      ]
    },
    {
      "cell_type": "code",
      "metadata": {
        "id": "JIzX19SywVzK",
        "colab_type": "code",
        "colab": {
          "base_uri": "https://localhost:8080/",
          "height": 0
        },
        "outputId": "e5961a4a-5a90-4763-f747-02e1cc756703"
      },
      "source": [
        "dataset.dtypes"
      ],
      "execution_count": 17,
      "outputs": [
        {
          "output_type": "execute_result",
          "data": {
            "text/plain": [
              "surgery                         int64\n",
              "Age                             int64\n",
              "Hospital Number                 int64\n",
              "rectal temperature            float64\n",
              "pulse                           int64\n",
              "respiratory rate                int64\n",
              "temperature of extremities      int64\n",
              "peripheral pulse                int64\n",
              "mucous membranes                int64\n",
              "capillary refill time           int64\n",
              "pain                            int64\n",
              "peristalsis                     int64\n",
              "abdominal distension            int64\n",
              "nasogastric tube                int64\n",
              "nasogastric reflux              int64\n",
              "rectal examination - feces      int64\n",
              "abdomen                         int64\n",
              "packed cell volume            float64\n",
              "total protein                 float64\n",
              "outcome                         int64\n",
              "surgical lesion                 int64\n",
              "type of lesion1                 int64\n",
              "type of lesion2                 int64\n",
              "type of lesion3                 int64\n",
              "cp_data                         int64\n",
              "dtype: object"
            ]
          },
          "metadata": {
            "tags": []
          },
          "execution_count": 17
        }
      ]
    },
    {
      "cell_type": "code",
      "metadata": {
        "id": "8MrI7kk2y-Xz",
        "colab_type": "code",
        "colab": {}
      },
      "source": [
        "# Melakukan drop dan labeling kolom outcome sebagai data output\n",
        "feature = dataset.drop(['outcome'], axis=1)\n",
        "label = dataset['outcome']"
      ],
      "execution_count": 19,
      "outputs": []
    },
    {
      "cell_type": "code",
      "metadata": {
        "id": "F3WEGzy1y52E",
        "colab_type": "code",
        "colab": {
          "base_uri": "https://localhost:8080/",
          "height": 0
        },
        "outputId": "ac85a97e-09a6-4449-a7ef-eb4e334565d8"
      },
      "source": [
        "# Preprocessing data dengan PowerTransformer, dimana menggunakan method yeo-johnson\n",
        "from sklearn.preprocessing import PowerTransformer\n",
        "scaler = PowerTransformer(method='yeo-johnson', standardize=True)\n",
        "\n",
        "feature_scaled = scaler.fit_transform(feature.values)"
      ],
      "execution_count": 20,
      "outputs": [
        {
          "output_type": "stream",
          "text": [
            "/usr/local/lib/python3.6/dist-packages/sklearn/preprocessing/_data.py:2982: RuntimeWarning: divide by zero encountered in log\n",
            "  loglike = -n_samples / 2 * np.log(x_trans.var())\n"
          ],
          "name": "stderr"
        }
      ]
    },
    {
      "cell_type": "code",
      "metadata": {
        "id": "QrX6IH1bzG7s",
        "colab_type": "code",
        "colab": {}
      },
      "source": [
        "# Train test split data, dengan komposisi 90% train dan 10% test dengan random state = 29\n",
        "from sklearn.model_selection import train_test_split\n",
        "feature_train, feature_test, label_train, label_test = train_test_split(feature_scaled, label, test_size=0.10, random_state=29)"
      ],
      "execution_count": 35,
      "outputs": []
    },
    {
      "cell_type": "code",
      "metadata": {
        "id": "N7puEQmozpUi",
        "colab_type": "code",
        "colab": {
          "base_uri": "https://localhost:8080/",
          "height": 0
        },
        "outputId": "a8e4066e-b3c5-4c65-f9a1-458f8b1bf6a8"
      },
      "source": [
        "# Menggunakan algoritma Logistic Regression. Dimana menggunakan hyperparameter tol = 25\n",
        "from sklearn.linear_model import LogisticRegression\n",
        "from sklearn.metrics import f1_score, precision_score, recall_score\n",
        "\n",
        "log_reg = LogisticRegression(tol=0.25)\n",
        "log_reg.fit(feature_train, label_train)\n",
        "\n",
        "predictions = log_reg.predict(feature_train)\n",
        "\n",
        "print('Accuracy of logistic regression classifier on train set: {:.2f}'.format(log_reg.score(feature_train, label_train))) # .score() -> Accuracy\n",
        "print(f1_score(label_train, predictions, average='macro'))\n",
        "print(precision_score(label_train, predictions, average='macro'))\n",
        "print(recall_score(label_train, predictions, average='macro'))\n",
        "predictions = log_reg.predict(feature_test)\n",
        "print('Accuracy of logistic regression classifier on test set: {:.2f}'.format(log_reg.score(feature_test, label_test))) # .score() -> Accuracy\n",
        "print(f1_score(label_test, predictions, average='macro'))\n",
        "print(precision_score(label_test, predictions, average='macro'))\n",
        "print(recall_score(label_test, predictions, average='macro'))"
      ],
      "execution_count": 49,
      "outputs": [
        {
          "output_type": "stream",
          "text": [
            "Accuracy of logistic regression classifier on train set: 0.78\n",
            "0.709108688354715\n",
            "0.7388233240812084\n",
            "0.6905434718012717\n",
            "Accuracy of logistic regression classifier on test set: 0.50\n",
            "0.4101307189542483\n",
            "0.42857142857142855\n",
            "0.43333333333333335\n"
          ],
          "name": "stdout"
        }
      ]
    },
    {
      "cell_type": "code",
      "metadata": {
        "id": "Ra0_pTR3z7NK",
        "colab_type": "code",
        "colab": {
          "base_uri": "https://localhost:8080/",
          "height": 0
        },
        "outputId": "395ab434-30b1-4e4e-94cd-6f7a69a81ee5"
      },
      "source": [
        "# Menggunakan algoritma Random Forest Classifier\n",
        "# Untuk hyperparameter : Estimator menggunakan for yaitu dari 50-150 dengan increment sebesar 25, random state = 20, bootstrap bernilai True dan max_features menggunakan Square root\n",
        "from sklearn.ensemble import RandomForestClassifier\n",
        "for i in range(50, 150 ,25):\n",
        "  rf_model = RandomForestClassifier(n_estimators=(i), random_state=(20), bootstrap=True, max_features = \"sqrt\")\n",
        "  rf_model.fit(feature_train, label_train)\n",
        "  predictions = rf_model.predict(feature_train)\n",
        "  print('Accuracy of Random Forest with Estimators = ' +str(i)+ ' on train set: {:.2f}'.format(rf_model.score(feature_train, label_train)))\n",
        "  print(f1_score(label_train, predictions, average=\"macro\"))\n",
        "  print(precision_score(label_train, predictions, average=\"macro\"))\n",
        "  print(recall_score(label_train, predictions, average=\"macro\"))\n",
        "  predictions = rf_model.predict(feature_test)\n",
        "  print('Accuracy of Random Forest with Estimators = ' +str(i)+ ' on test set: {:.2f}'.format(rf_model.score(feature_test, label_test)))\n",
        "  print(f1_score(label_test, predictions, average=\"macro\"))\n",
        "  print(precision_score(label_test, predictions, average=\"macro\"))\n",
        "  print(recall_score(label_test, predictions, average=\"macro\"))\n",
        "  print(\"\")"
      ],
      "execution_count": 37,
      "outputs": [
        {
          "output_type": "stream",
          "text": [
            "Accuracy of Random Forest with Estimators = 50 on train set: 1.00\n",
            "1.0\n",
            "1.0\n",
            "1.0\n",
            "Accuracy of Random Forest with Estimators = 50 on test set: 0.80\n",
            "0.7200333541796956\n",
            "0.8095238095238094\n",
            "0.6888888888888888\n",
            "\n",
            "Accuracy of Random Forest with Estimators = 75 on train set: 1.00\n",
            "1.0\n",
            "1.0\n",
            "1.0\n",
            "Accuracy of Random Forest with Estimators = 75 on test set: 0.80\n",
            "0.5396825396825397\n",
            "0.49621212121212127\n",
            "0.5944444444444444\n",
            "\n",
            "Accuracy of Random Forest with Estimators = 100 on train set: 1.00\n",
            "1.0\n",
            "1.0\n",
            "1.0\n",
            "Accuracy of Random Forest with Estimators = 100 on test set: 0.80\n"
          ],
          "name": "stdout"
        },
        {
          "output_type": "stream",
          "text": [
            "/usr/local/lib/python3.6/dist-packages/sklearn/metrics/_classification.py:1272: UndefinedMetricWarning: Precision is ill-defined and being set to 0.0 in labels with no predicted samples. Use `zero_division` parameter to control this behavior.\n",
            "  _warn_prf(average, modifier, msg_start, len(result))\n"
          ],
          "name": "stderr"
        },
        {
          "output_type": "stream",
          "text": [
            "0.6641114982578397\n",
            "0.8273809523809524\n",
            "0.6611111111111111\n",
            "\n",
            "Accuracy of Random Forest with Estimators = 125 on train set: 1.00\n",
            "1.0\n",
            "1.0\n",
            "1.0\n",
            "Accuracy of Random Forest with Estimators = 125 on test set: 0.80\n",
            "0.6641114982578397\n",
            "0.8273809523809524\n",
            "0.6611111111111111\n",
            "\n"
          ],
          "name": "stdout"
        }
      ]
    },
    {
      "cell_type": "code",
      "metadata": {
        "id": "FXhDMDwk0EAi",
        "colab_type": "code",
        "colab": {
          "base_uri": "https://localhost:8080/",
          "height": 0
        },
        "outputId": "edd22eed-f954-4db5-ebd6-23e04470053b"
      },
      "source": [
        "# Menggunakan algoritma KNN\n",
        "# Untuk hyperparameter : Neighbors menggunakan for, dimana start k = 1 hingga 10 dengan increment = 2. Dan metric yang digunakan adalah Canberra\n",
        "from sklearn.neighbors import KNeighborsClassifier\n",
        "for i in range(1, 10, 2):\n",
        "  knn = KNeighborsClassifier(n_neighbors=(i), metric='canberra')\n",
        "  knn.fit(feature_train, label_train)\n",
        "  \n",
        "  predictions = knn.predict(feature_train)\n",
        "  print('Accuracy KNN classifier with k = ' +str(i)+' on train set: {:.2f}'.format(knn.score(feature_train, label_train)))\n",
        "  print(f1_score(label_train, predictions, average=\"macro\"))\n",
        "  print(precision_score(label_train, predictions, average=\"macro\"))\n",
        "  print(recall_score(label_train, predictions, average=\"macro\"))\n",
        "  predictions = knn.predict(feature_test)\n",
        "  print('Accuracy KNN classifier with k = ' +str(i)+' on test set: {:.2f}'.format(knn.score(feature_test, label_test)))\n",
        "  print(f1_score(label_test, predictions, average=\"macro\"))\n",
        "  print(precision_score(label_test, predictions, average=\"macro\"))\n",
        "  print(recall_score(label_test, predictions, average=\"macro\"))\n",
        "  print(\"\")"
      ],
      "execution_count": 39,
      "outputs": [
        {
          "output_type": "stream",
          "text": [
            "Accuracy KNN classifier with k = 1 on train set: 1.00\n",
            "1.0\n",
            "1.0\n",
            "1.0\n",
            "Accuracy KNN classifier with k = 1 on test set: 0.80\n",
            "0.6602042943506358\n",
            "0.6904761904761904\n",
            "0.6611111111111111\n",
            "\n",
            "Accuracy KNN classifier with k = 3 on train set: 0.78\n",
            "0.7005401178173102\n",
            "0.8130284614223161\n",
            "0.6708192191121413\n",
            "Accuracy KNN classifier with k = 3 on test set: 0.73\n",
            "0.6276556776556776\n",
            "0.6484126984126983\n",
            "0.6166666666666667\n",
            "\n",
            "Accuracy KNN classifier with k = 5 on train set: 0.72\n",
            "0.6079073022785598\n",
            "0.7583789704271632\n",
            "0.5966616152611874\n",
            "Accuracy KNN classifier with k = 5 on test set: 0.73\n",
            "0.572893772893773\n",
            "0.7489177489177489\n",
            "0.5499999999999999\n",
            "\n",
            "Accuracy KNN classifier with k = 7 on train set: 0.71\n",
            "0.5708784642265915\n",
            "0.7377924898416701\n",
            "0.5633253105128663\n",
            "Accuracy KNN classifier with k = 7 on test set: 0.77\n",
            "0.6015873015873016\n",
            "0.6333333333333333\n",
            "0.6055555555555555\n",
            "\n",
            "Accuracy KNN classifier with k = 9 on train set: 0.71\n",
            "0.5719666260165371\n",
            "0.7811601555893793\n",
            "0.5602647530754145\n",
            "Accuracy KNN classifier with k = 9 on test set: 0.80\n",
            "0.6641114982578397\n",
            "0.8273809523809524\n",
            "0.6611111111111111\n",
            "\n"
          ],
          "name": "stdout"
        }
      ]
    },
    {
      "cell_type": "markdown",
      "metadata": {
        "id": "oO5VdIZb4TYm",
        "colab_type": "text"
      },
      "source": [
        "**Kesimpulan**\n",
        "\n",
        "Hasil terbaik didapatkan melalui algoritma Random Forest Classifier dengan Estimators = 125. Dimana mendapatkan hasil :\n",
        "\n",
        "Accuracy of Random Forest with Estimators = 125 on test set: 0.80\n",
        "\n",
        "F1 Score : 0.6641114982578397\n",
        "\n",
        "Precision Score : 0.8273809523809524\n",
        "\n",
        "Recall Score : 0.6611111111111111"
      ]
    },
    {
      "cell_type": "markdown",
      "metadata": {
        "id": "4QnTyc8LM7Gf",
        "colab_type": "text"
      },
      "source": [
        "**Tambahan(Breast_Cancer)**\n",
        "\n"
      ]
    },
    {
      "cell_type": "code",
      "metadata": {
        "id": "Dw5AiedWNQby",
        "colab_type": "code",
        "colab": {}
      },
      "source": [
        "# Import libraries\n",
        "import pandas as pd\n",
        "import numpy as np\n",
        "import matplotlib.pyplot as plt\n",
        "import os\n",
        "import seaborn as sb\n",
        "from sklearn import preprocessing\n",
        "from sklearn.model_selection import train_test_split"
      ],
      "execution_count": 69,
      "outputs": []
    },
    {
      "cell_type": "code",
      "metadata": {
        "id": "YcuObkaFNRd-",
        "colab_type": "code",
        "colab": {}
      },
      "source": [
        "# Melakukan read dataset breast-cancer dan memberikan nama feature pada masing-masing kolom\n",
        "dataset2 = pd.read_csv(\"drive/My Drive/BCML/breast-cancer-wisconsin.csv\", \n",
        "                  names=[\"Clump Thickness\", \"Uniformity of Cell Size\", \"Uniformity of Cell Shape\", \"Marginal Adhesion\", \"Single Epithelial Cell Size\", \"Bare Nuclei\", \"Bland Chromatin\", \"Normal Nucleoli\", \"Mitoses\", \"Class\"])"
      ],
      "execution_count": 47,
      "outputs": []
    },
    {
      "cell_type": "code",
      "metadata": {
        "id": "K5OgyhuHN39X",
        "colab_type": "code",
        "colab": {
          "base_uri": "https://localhost:8080/",
          "height": 0
        },
        "outputId": "aaad3da3-25f9-4182-9b7e-374b609dad02"
      },
      "source": [
        "# Melihat 5 data teratas pada dataset\n",
        "dataset2.head()"
      ],
      "execution_count": 52,
      "outputs": [
        {
          "output_type": "execute_result",
          "data": {
            "text/html": [
              "<div>\n",
              "<style scoped>\n",
              "    .dataframe tbody tr th:only-of-type {\n",
              "        vertical-align: middle;\n",
              "    }\n",
              "\n",
              "    .dataframe tbody tr th {\n",
              "        vertical-align: top;\n",
              "    }\n",
              "\n",
              "    .dataframe thead th {\n",
              "        text-align: right;\n",
              "    }\n",
              "</style>\n",
              "<table border=\"1\" class=\"dataframe\">\n",
              "  <thead>\n",
              "    <tr style=\"text-align: right;\">\n",
              "      <th></th>\n",
              "      <th>Clump Thickness</th>\n",
              "      <th>Uniformity of Cell Size</th>\n",
              "      <th>Uniformity of Cell Shape</th>\n",
              "      <th>Marginal Adhesion</th>\n",
              "      <th>Single Epithelial Cell Size</th>\n",
              "      <th>Bare Nuclei</th>\n",
              "      <th>Bland Chromatin</th>\n",
              "      <th>Normal Nucleoli</th>\n",
              "      <th>Mitoses</th>\n",
              "      <th>Class</th>\n",
              "    </tr>\n",
              "  </thead>\n",
              "  <tbody>\n",
              "    <tr>\n",
              "      <th>0</th>\n",
              "      <td>5</td>\n",
              "      <td>1</td>\n",
              "      <td>1</td>\n",
              "      <td>1</td>\n",
              "      <td>2</td>\n",
              "      <td>1</td>\n",
              "      <td>3</td>\n",
              "      <td>1</td>\n",
              "      <td>1</td>\n",
              "      <td>2</td>\n",
              "    </tr>\n",
              "    <tr>\n",
              "      <th>1</th>\n",
              "      <td>5</td>\n",
              "      <td>4</td>\n",
              "      <td>4</td>\n",
              "      <td>5</td>\n",
              "      <td>7</td>\n",
              "      <td>10</td>\n",
              "      <td>3</td>\n",
              "      <td>2</td>\n",
              "      <td>1</td>\n",
              "      <td>2</td>\n",
              "    </tr>\n",
              "    <tr>\n",
              "      <th>2</th>\n",
              "      <td>3</td>\n",
              "      <td>1</td>\n",
              "      <td>1</td>\n",
              "      <td>1</td>\n",
              "      <td>2</td>\n",
              "      <td>2</td>\n",
              "      <td>3</td>\n",
              "      <td>1</td>\n",
              "      <td>1</td>\n",
              "      <td>2</td>\n",
              "    </tr>\n",
              "    <tr>\n",
              "      <th>3</th>\n",
              "      <td>6</td>\n",
              "      <td>8</td>\n",
              "      <td>8</td>\n",
              "      <td>1</td>\n",
              "      <td>3</td>\n",
              "      <td>4</td>\n",
              "      <td>3</td>\n",
              "      <td>7</td>\n",
              "      <td>1</td>\n",
              "      <td>2</td>\n",
              "    </tr>\n",
              "    <tr>\n",
              "      <th>4</th>\n",
              "      <td>4</td>\n",
              "      <td>1</td>\n",
              "      <td>1</td>\n",
              "      <td>3</td>\n",
              "      <td>2</td>\n",
              "      <td>1</td>\n",
              "      <td>3</td>\n",
              "      <td>1</td>\n",
              "      <td>1</td>\n",
              "      <td>2</td>\n",
              "    </tr>\n",
              "  </tbody>\n",
              "</table>\n",
              "</div>"
            ],
            "text/plain": [
              "   Clump Thickness  Uniformity of Cell Size  ...  Mitoses  Class\n",
              "0                5                        1  ...        1      2\n",
              "1                5                        4  ...        1      2\n",
              "2                3                        1  ...        1      2\n",
              "3                6                        8  ...        1      2\n",
              "4                4                        1  ...        1      2\n",
              "\n",
              "[5 rows x 10 columns]"
            ]
          },
          "metadata": {
            "tags": []
          },
          "execution_count": 52
        }
      ]
    },
    {
      "cell_type": "code",
      "metadata": {
        "id": "Lsec6tUtPFRm",
        "colab_type": "code",
        "colab": {
          "base_uri": "https://localhost:8080/",
          "height": 0
        },
        "outputId": "42f6690a-aa85-4842-ecf4-952c7c3dc55a"
      },
      "source": [
        "# Melihat statistik dari dataset\n",
        "dataset2.describe()"
      ],
      "execution_count": 58,
      "outputs": [
        {
          "output_type": "execute_result",
          "data": {
            "text/html": [
              "<div>\n",
              "<style scoped>\n",
              "    .dataframe tbody tr th:only-of-type {\n",
              "        vertical-align: middle;\n",
              "    }\n",
              "\n",
              "    .dataframe tbody tr th {\n",
              "        vertical-align: top;\n",
              "    }\n",
              "\n",
              "    .dataframe thead th {\n",
              "        text-align: right;\n",
              "    }\n",
              "</style>\n",
              "<table border=\"1\" class=\"dataframe\">\n",
              "  <thead>\n",
              "    <tr style=\"text-align: right;\">\n",
              "      <th></th>\n",
              "      <th>Clump Thickness</th>\n",
              "      <th>Uniformity of Cell Size</th>\n",
              "      <th>Uniformity of Cell Shape</th>\n",
              "      <th>Marginal Adhesion</th>\n",
              "      <th>Single Epithelial Cell Size</th>\n",
              "      <th>Bland Chromatin</th>\n",
              "      <th>Normal Nucleoli</th>\n",
              "      <th>Mitoses</th>\n",
              "      <th>Class</th>\n",
              "    </tr>\n",
              "  </thead>\n",
              "  <tbody>\n",
              "    <tr>\n",
              "      <th>count</th>\n",
              "      <td>699.000000</td>\n",
              "      <td>699.000000</td>\n",
              "      <td>699.000000</td>\n",
              "      <td>699.000000</td>\n",
              "      <td>699.000000</td>\n",
              "      <td>699.000000</td>\n",
              "      <td>699.000000</td>\n",
              "      <td>699.000000</td>\n",
              "      <td>699.000000</td>\n",
              "    </tr>\n",
              "    <tr>\n",
              "      <th>mean</th>\n",
              "      <td>4.417740</td>\n",
              "      <td>3.134478</td>\n",
              "      <td>3.207439</td>\n",
              "      <td>2.806867</td>\n",
              "      <td>3.216023</td>\n",
              "      <td>3.437768</td>\n",
              "      <td>2.866953</td>\n",
              "      <td>1.589413</td>\n",
              "      <td>2.689557</td>\n",
              "    </tr>\n",
              "    <tr>\n",
              "      <th>std</th>\n",
              "      <td>2.815741</td>\n",
              "      <td>3.051459</td>\n",
              "      <td>2.971913</td>\n",
              "      <td>2.855379</td>\n",
              "      <td>2.214300</td>\n",
              "      <td>2.438364</td>\n",
              "      <td>3.053634</td>\n",
              "      <td>1.715078</td>\n",
              "      <td>0.951273</td>\n",
              "    </tr>\n",
              "    <tr>\n",
              "      <th>min</th>\n",
              "      <td>1.000000</td>\n",
              "      <td>1.000000</td>\n",
              "      <td>1.000000</td>\n",
              "      <td>1.000000</td>\n",
              "      <td>1.000000</td>\n",
              "      <td>1.000000</td>\n",
              "      <td>1.000000</td>\n",
              "      <td>1.000000</td>\n",
              "      <td>2.000000</td>\n",
              "    </tr>\n",
              "    <tr>\n",
              "      <th>25%</th>\n",
              "      <td>2.000000</td>\n",
              "      <td>1.000000</td>\n",
              "      <td>1.000000</td>\n",
              "      <td>1.000000</td>\n",
              "      <td>2.000000</td>\n",
              "      <td>2.000000</td>\n",
              "      <td>1.000000</td>\n",
              "      <td>1.000000</td>\n",
              "      <td>2.000000</td>\n",
              "    </tr>\n",
              "    <tr>\n",
              "      <th>50%</th>\n",
              "      <td>4.000000</td>\n",
              "      <td>1.000000</td>\n",
              "      <td>1.000000</td>\n",
              "      <td>1.000000</td>\n",
              "      <td>2.000000</td>\n",
              "      <td>3.000000</td>\n",
              "      <td>1.000000</td>\n",
              "      <td>1.000000</td>\n",
              "      <td>2.000000</td>\n",
              "    </tr>\n",
              "    <tr>\n",
              "      <th>75%</th>\n",
              "      <td>6.000000</td>\n",
              "      <td>5.000000</td>\n",
              "      <td>5.000000</td>\n",
              "      <td>4.000000</td>\n",
              "      <td>4.000000</td>\n",
              "      <td>5.000000</td>\n",
              "      <td>4.000000</td>\n",
              "      <td>1.000000</td>\n",
              "      <td>4.000000</td>\n",
              "    </tr>\n",
              "    <tr>\n",
              "      <th>max</th>\n",
              "      <td>10.000000</td>\n",
              "      <td>10.000000</td>\n",
              "      <td>10.000000</td>\n",
              "      <td>10.000000</td>\n",
              "      <td>10.000000</td>\n",
              "      <td>10.000000</td>\n",
              "      <td>10.000000</td>\n",
              "      <td>10.000000</td>\n",
              "      <td>4.000000</td>\n",
              "    </tr>\n",
              "  </tbody>\n",
              "</table>\n",
              "</div>"
            ],
            "text/plain": [
              "       Clump Thickness  Uniformity of Cell Size  ...     Mitoses       Class\n",
              "count       699.000000               699.000000  ...  699.000000  699.000000\n",
              "mean          4.417740                 3.134478  ...    1.589413    2.689557\n",
              "std           2.815741                 3.051459  ...    1.715078    0.951273\n",
              "min           1.000000                 1.000000  ...    1.000000    2.000000\n",
              "25%           2.000000                 1.000000  ...    1.000000    2.000000\n",
              "50%           4.000000                 1.000000  ...    1.000000    2.000000\n",
              "75%           6.000000                 5.000000  ...    1.000000    4.000000\n",
              "max          10.000000                10.000000  ...   10.000000    4.000000\n",
              "\n",
              "[8 rows x 9 columns]"
            ]
          },
          "metadata": {
            "tags": []
          },
          "execution_count": 58
        }
      ]
    },
    {
      "cell_type": "code",
      "metadata": {
        "id": "P2Bd_a7EOtPf",
        "colab_type": "code",
        "colab": {}
      },
      "source": [
        "# Proses Data Cleaning\n",
        "# Melakukan Replace nilai \"?\" dengan None\n",
        "\n",
        "dataset2.replace(\"?\", np.nan, inplace=True)"
      ],
      "execution_count": 55,
      "outputs": []
    },
    {
      "cell_type": "code",
      "metadata": {
        "id": "xAiK0SDxOER2",
        "colab_type": "code",
        "colab": {
          "base_uri": "https://localhost:8080/",
          "height": 0
        },
        "outputId": "c1c7d301-e956-47bd-f8ff-e5e3e780c102"
      },
      "source": [
        "# Melakukan check apakah terdapat data nan pada dataset\n",
        "dataset2.isnull().sum()"
      ],
      "execution_count": 56,
      "outputs": [
        {
          "output_type": "execute_result",
          "data": {
            "text/plain": [
              "Clump Thickness                 0\n",
              "Uniformity of Cell Size         0\n",
              "Uniformity of Cell Shape        0\n",
              "Marginal Adhesion               0\n",
              "Single Epithelial Cell Size     0\n",
              "Bare Nuclei                    16\n",
              "Bland Chromatin                 0\n",
              "Normal Nucleoli                 0\n",
              "Mitoses                         0\n",
              "Class                           0\n",
              "dtype: int64"
            ]
          },
          "metadata": {
            "tags": []
          },
          "execution_count": 56
        }
      ]
    },
    {
      "cell_type": "code",
      "metadata": {
        "id": "JrmemaauOHpG",
        "colab_type": "code",
        "colab": {
          "base_uri": "https://localhost:8080/",
          "height": 0
        },
        "outputId": "d9f0496f-f079-4b15-8c8d-58f05617b9dc"
      },
      "source": [
        "# Menghitung rata-rata dari feature Bare Nuclei untuk mengganti data nan pada feature tersebut\n",
        "avg_Bare_Nuclei = dataset2['Bare Nuclei'].astype('float').mean(axis=0)\n",
        "avg_Bare_Nuclei"
      ],
      "execution_count": 60,
      "outputs": [
        {
          "output_type": "execute_result",
          "data": {
            "text/plain": [
              "3.5446559297218156"
            ]
          },
          "metadata": {
            "tags": []
          },
          "execution_count": 60
        }
      ]
    },
    {
      "cell_type": "code",
      "metadata": {
        "id": "vl25hIGlPVn3",
        "colab_type": "code",
        "colab": {}
      },
      "source": [
        "# Melakukan replacing terhadap data nan dengan nilai average\n",
        "dataset2[\"Bare Nuclei\"].replace(np.nan, avg_Bare_Nuclei, inplace=True)"
      ],
      "execution_count": 61,
      "outputs": []
    },
    {
      "cell_type": "code",
      "metadata": {
        "id": "CHC6OgZxPnNe",
        "colab_type": "code",
        "colab": {
          "base_uri": "https://localhost:8080/",
          "height": 0
        },
        "outputId": "754b0408-d8a3-4952-c8a7-614d434e3542"
      },
      "source": [
        "# Melihat apakah masih ada data nan\n",
        "dataset2.isnull().sum()"
      ],
      "execution_count": 62,
      "outputs": [
        {
          "output_type": "execute_result",
          "data": {
            "text/plain": [
              "Clump Thickness                0\n",
              "Uniformity of Cell Size        0\n",
              "Uniformity of Cell Shape       0\n",
              "Marginal Adhesion              0\n",
              "Single Epithelial Cell Size    0\n",
              "Bare Nuclei                    0\n",
              "Bland Chromatin                0\n",
              "Normal Nucleoli                0\n",
              "Mitoses                        0\n",
              "Class                          0\n",
              "dtype: int64"
            ]
          },
          "metadata": {
            "tags": []
          },
          "execution_count": 62
        }
      ]
    },
    {
      "cell_type": "code",
      "metadata": {
        "id": "REPhdCcbPoq2",
        "colab_type": "code",
        "colab": {
          "base_uri": "https://localhost:8080/",
          "height": 0
        },
        "outputId": "f5a3559b-b289-4812-e5d3-0d688f3af75f"
      },
      "source": [
        "# Mengecek tipe data pada masing-masing feature\n",
        "dataset2.dtypes"
      ],
      "execution_count": 63,
      "outputs": [
        {
          "output_type": "execute_result",
          "data": {
            "text/plain": [
              "Clump Thickness                 int64\n",
              "Uniformity of Cell Size         int64\n",
              "Uniformity of Cell Shape        int64\n",
              "Marginal Adhesion               int64\n",
              "Single Epithelial Cell Size     int64\n",
              "Bare Nuclei                    object\n",
              "Bland Chromatin                 int64\n",
              "Normal Nucleoli                 int64\n",
              "Mitoses                         int64\n",
              "Class                           int64\n",
              "dtype: object"
            ]
          },
          "metadata": {
            "tags": []
          },
          "execution_count": 63
        }
      ]
    },
    {
      "cell_type": "code",
      "metadata": {
        "id": "uEjKXfNWPxcH",
        "colab_type": "code",
        "colab": {}
      },
      "source": [
        "# Melakukan casting terhadap feature Bare Nuclei agar menjadi tipe data integer\n",
        "dataset2[[\"Bare Nuclei\"]] = dataset2[[\"Bare Nuclei\"]].astype('int')"
      ],
      "execution_count": 66,
      "outputs": []
    },
    {
      "cell_type": "code",
      "metadata": {
        "id": "EbksgJ2aP8S-",
        "colab_type": "code",
        "colab": {
          "base_uri": "https://localhost:8080/",
          "height": 0
        },
        "outputId": "f06d1212-a5fe-42aa-9f1f-201922d75b86"
      },
      "source": [
        "dataset2.dtypes"
      ],
      "execution_count": 67,
      "outputs": [
        {
          "output_type": "execute_result",
          "data": {
            "text/plain": [
              "Clump Thickness                int64\n",
              "Uniformity of Cell Size        int64\n",
              "Uniformity of Cell Shape       int64\n",
              "Marginal Adhesion              int64\n",
              "Single Epithelial Cell Size    int64\n",
              "Bare Nuclei                    int64\n",
              "Bland Chromatin                int64\n",
              "Normal Nucleoli                int64\n",
              "Mitoses                        int64\n",
              "Class                          int64\n",
              "dtype: object"
            ]
          },
          "metadata": {
            "tags": []
          },
          "execution_count": 67
        }
      ]
    },
    {
      "cell_type": "code",
      "metadata": {
        "id": "tvyTuCuJQDm2",
        "colab_type": "code",
        "colab": {
          "base_uri": "https://localhost:8080/",
          "height": 1000
        },
        "outputId": "988e8f45-1bba-446b-ff45-699fb2c954af"
      },
      "source": [
        "# Melakukan plotting data dengan seaborn\n",
        "sb.pairplot(dataset2, hue='Class', size=3)\n",
        "plt.show()"
      ],
      "execution_count": 71,
      "outputs": [
        {
          "output_type": "stream",
          "text": [
            "/usr/local/lib/python3.6/dist-packages/seaborn/axisgrid.py:2071: UserWarning: The `size` parameter has been renamed to `height`; please update your code.\n",
            "  warnings.warn(msg, UserWarning)\n"
          ],
          "name": "stderr"
        },
        {
          "output_type": "display_data",
          "data": {
            "image/png": "[encoded data removed]",
            "text/plain": [
              "<Figure size 1986.38x1944 with 90 Axes>"
            ]
          },
          "metadata": {
            "tags": [],
            "needs_background": "light"
          }
        }
      ]
    },
    {
      "cell_type": "markdown",
      "metadata": {
        "id": "EjSBh8FXS0jA",
        "colab_type": "text"
      },
      "source": [
        "^ Nampak persebaran data seperti pola. Karena value-value pada dataset bersifat kategorial dan tidak ada nilai float"
      ]
    },
    {
      "cell_type": "code",
      "metadata": {
        "id": "lZC2vleQQm12",
        "colab_type": "code",
        "colab": {}
      },
      "source": [
        "# Drop feature Class karena sebagai feature output\n",
        "feature = dataset2.drop(['Class'], axis=1)\n",
        "label = dataset2['Class']"
      ],
      "execution_count": 73,
      "outputs": []
    },
    {
      "cell_type": "code",
      "metadata": {
        "id": "I-pA3gTGQjX9",
        "colab_type": "code",
        "colab": {}
      },
      "source": [
        "# Melakukan preprocessing dengan PowerTransformer dan method yang digunakan adalah yeo-johnson\n",
        "from sklearn.preprocessing import PowerTransformer\n",
        "scaler = PowerTransformer(method='yeo-johnson', standardize=True)\n",
        "\n",
        "feature_scaled = scaler.fit_transform(feature.values)"
      ],
      "execution_count": 74,
      "outputs": []
    },
    {
      "cell_type": "code",
      "metadata": {
        "id": "aZOqi26WQt__",
        "colab_type": "code",
        "colab": {}
      },
      "source": [
        "# Train test split data dengan komposisi train 90% dan test 10% dengan random state = 50\n",
        "from sklearn.model_selection import train_test_split\n",
        "feature_train, feature_test, label_train, label_test = train_test_split(feature_scaled, label, test_size=0.10, random_state=50)"
      ],
      "execution_count": 79,
      "outputs": []
    },
    {
      "cell_type": "code",
      "metadata": {
        "id": "-K-zyNnCQ89m",
        "colab_type": "code",
        "colab": {
          "base_uri": "https://localhost:8080/",
          "height": 0
        },
        "outputId": "dab2ae3f-de38-468d-db3d-ec455a958a8d"
      },
      "source": [
        "# Menggunakan algoritma Logistic Regression. Dimana menggunakan hyperparameter tol = 25\n",
        "from sklearn.linear_model import LogisticRegression\n",
        "from sklearn.metrics import f1_score, precision_score, recall_score\n",
        "\n",
        "log_reg = LogisticRegression(tol=0.25)\n",
        "log_reg.fit(feature_train, label_train)\n",
        "\n",
        "predictions = log_reg.predict(feature_train)\n",
        "\n",
        "print('Accuracy of logistic regression classifier on train set: {:.2f}'.format(log_reg.score(feature_train, label_train))) # .score() -> Accuracy\n",
        "print(f1_score(label_train, predictions, average='macro'))\n",
        "print(precision_score(label_train, predictions, average='macro'))\n",
        "print(recall_score(label_train, predictions, average='macro'))\n",
        "predictions = log_reg.predict(feature_test)\n",
        "print('Accuracy of logistic regression classifier on test set: {:.2f}'.format(log_reg.score(feature_test, label_test))) # .score() -> Accuracy\n",
        "print(f1_score(label_test, predictions, average='macro'))\n",
        "print(precision_score(label_test, predictions, average='macro'))\n",
        "print(recall_score(label_test, predictions, average='macro'))"
      ],
      "execution_count": 80,
      "outputs": [
        {
          "output_type": "stream",
          "text": [
            "Accuracy of logistic regression classifier on train set: 0.97\n",
            "0.9671637034045231\n",
            "0.9641157205240174\n",
            "0.9705159705159705\n",
            "Accuracy of logistic regression classifier on test set: 1.00\n",
            "1.0\n",
            "1.0\n",
            "1.0\n"
          ],
          "name": "stdout"
        }
      ]
    },
    {
      "cell_type": "code",
      "metadata": {
        "id": "0zW1e20aQ-lq",
        "colab_type": "code",
        "colab": {
          "base_uri": "https://localhost:8080/",
          "height": 0
        },
        "outputId": "2e62d3c5-f79e-45af-af41-df45853abbfb"
      },
      "source": [
        "# Menggunakan algoritma Random Forest Classifier\n",
        "# Untuk hyperparameter : Estimator menggunakan for yaitu dari 50-150 dengan increment sebesar 25, random state = 20, bootstrap bernilai True dan max_features menggunakan Square root\n",
        "from sklearn.ensemble import RandomForestClassifier\n",
        "for i in range(50, 150 ,25):\n",
        "  rf_model = RandomForestClassifier(n_estimators=(i), random_state=(20), bootstrap=True, max_features = \"sqrt\")\n",
        "  rf_model.fit(feature_train, label_train)\n",
        "  predictions = rf_model.predict(feature_train)\n",
        "  print('Accuracy of Random Forest with Estimators = ' +str(i)+ ' on train set: {:.2f}'.format(rf_model.score(feature_train, label_train)))\n",
        "  print(f1_score(label_train, predictions, average=\"macro\"))\n",
        "  print(precision_score(label_train, predictions, average=\"macro\"))\n",
        "  print(recall_score(label_train, predictions, average=\"macro\"))\n",
        "  predictions = rf_model.predict(feature_test)\n",
        "  print('Accuracy of Random Forest with Estimators = ' +str(i)+ ' on test set: {:.2f}'.format(rf_model.score(feature_test, label_test)))\n",
        "  print(f1_score(label_test, predictions, average=\"macro\"))\n",
        "  print(precision_score(label_test, predictions, average=\"macro\"))\n",
        "  print(recall_score(label_test, predictions, average=\"macro\"))\n",
        "  print(\"\")"
      ],
      "execution_count": 81,
      "outputs": [
        {
          "output_type": "stream",
          "text": [
            "Accuracy of Random Forest with Estimators = 50 on train set: 1.00\n",
            "0.9982578348959271\n",
            "0.9987745098039216\n",
            "0.9977477477477478\n",
            "Accuracy of Random Forest with Estimators = 50 on test set: 0.99\n",
            "0.9816321175544476\n",
            "0.9903846153846154\n",
            "0.9736842105263157\n",
            "\n",
            "Accuracy of Random Forest with Estimators = 75 on train set: 1.00\n",
            "1.0\n",
            "1.0\n",
            "1.0\n",
            "Accuracy of Random Forest with Estimators = 75 on test set: 0.99\n",
            "0.9816321175544476\n",
            "0.9903846153846154\n",
            "0.9736842105263157\n",
            "\n",
            "Accuracy of Random Forest with Estimators = 100 on train set: 1.00\n",
            "1.0\n",
            "1.0\n",
            "1.0\n",
            "Accuracy of Random Forest with Estimators = 100 on test set: 0.99\n",
            "0.9816321175544476\n",
            "0.9903846153846154\n",
            "0.9736842105263157\n",
            "\n",
            "Accuracy of Random Forest with Estimators = 125 on train set: 1.00\n",
            "1.0\n",
            "1.0\n",
            "1.0\n",
            "Accuracy of Random Forest with Estimators = 125 on test set: 0.99\n",
            "0.9816321175544476\n",
            "0.9903846153846154\n",
            "0.9736842105263157\n",
            "\n"
          ],
          "name": "stdout"
        }
      ]
    },
    {
      "cell_type": "code",
      "metadata": {
        "id": "6Shdh8_XRFF3",
        "colab_type": "code",
        "colab": {
          "base_uri": "https://localhost:8080/",
          "height": 0
        },
        "outputId": "f5f6ed6c-5e0d-4944-a638-cc7a4647f2f2"
      },
      "source": [
        "# Menggunakan algoritma KNN\n",
        "# Untuk hyperparameter : Neighbors menggunakan for, dimana start k = 1 hingga 10 dengan increment = 2. Dan metric yang digunakan adalah Canberra\n",
        "from sklearn.neighbors import KNeighborsClassifier\n",
        "for i in range(1, 10, 2):\n",
        "  knn = KNeighborsClassifier(n_neighbors=(i), metric='canberra')\n",
        "  knn.fit(feature_train, label_train)\n",
        "  \n",
        "  predictions = knn.predict(feature_train)\n",
        "  print('Accuracy KNN classifier with k = ' +str(i)+' on train set: {:.2f}'.format(knn.score(feature_train, label_train)))\n",
        "  print(f1_score(label_train, predictions, average=\"macro\"))\n",
        "  print(precision_score(label_train, predictions, average=\"macro\"))\n",
        "  print(recall_score(label_train, predictions, average=\"macro\"))\n",
        "  predictions = knn.predict(feature_test)\n",
        "  print('Accuracy KNN classifier with k = ' +str(i)+' on test set: {:.2f}'.format(knn.score(feature_test, label_test)))\n",
        "  print(f1_score(label_test, predictions, average=\"macro\"))\n",
        "  print(precision_score(label_test, predictions, average=\"macro\"))\n",
        "  print(recall_score(label_test, predictions, average=\"macro\"))\n",
        "  print(\"\")"
      ],
      "execution_count": 82,
      "outputs": [
        {
          "output_type": "stream",
          "text": [
            "Accuracy KNN classifier with k = 1 on train set: 1.00\n",
            "1.0\n",
            "1.0\n",
            "1.0\n",
            "Accuracy KNN classifier with k = 1 on test set: 1.00\n",
            "1.0\n",
            "1.0\n",
            "1.0\n",
            "\n",
            "Accuracy KNN classifier with k = 3 on train set: 0.98\n",
            "0.9758750301356653\n",
            "0.9716190393468254\n",
            "0.9807534807534808\n",
            "Accuracy KNN classifier with k = 3 on test set: 0.99\n",
            "0.9822289921299822\n",
            "0.975\n",
            "0.9901960784313726\n",
            "\n",
            "Accuracy KNN classifier with k = 5 on train set: 0.97\n",
            "0.9673520790477986\n",
            "0.962150340209526\n",
            "0.9735872235872236\n",
            "Accuracy KNN classifier with k = 5 on test set: 0.99\n",
            "0.9822289921299822\n",
            "0.975\n",
            "0.9901960784313726\n",
            "\n",
            "Accuracy KNN classifier with k = 7 on train set: 0.97\n",
            "0.9673520790477986\n",
            "0.962150340209526\n",
            "0.9735872235872236\n",
            "Accuracy KNN classifier with k = 7 on test set: 0.99\n",
            "0.9822289921299822\n",
            "0.975\n",
            "0.9901960784313726\n",
            "\n",
            "Accuracy KNN classifier with k = 9 on train set: 0.97\n",
            "0.962302495368857\n",
            "0.9562477164778955\n",
            "0.9699017199017199\n",
            "Accuracy KNN classifier with k = 9 on test set: 0.99\n",
            "0.9822289921299822\n",
            "0.975\n",
            "0.9901960784313726\n",
            "\n"
          ],
          "name": "stdout"
        }
      ]
    },
    {
      "cell_type": "markdown",
      "metadata": {
        "id": "MsH_4v_9Rjn3",
        "colab_type": "text"
      },
      "source": [
        "**Kesimpulan**\n",
        "\n",
        "Hasil terbaik didapatkan melalui algoritma KNN Classifier dengan Estimators = 1. Dimana mendapatkan hasil :\n",
        "\n",
        "Accuracy KNN classifier with k = 1 on test set: 1.00\n",
        "\n",
        "F1 Score = 1.0\n",
        "\n",
        "Precision Score = 1.0\n",
        "\n",
        "Recall Score = 1.0"
      ]
    },
    {
      "cell_type": "markdown",
      "metadata": {
        "id": "NdBrwJADcJ8W",
        "colab_type": "text"
      },
      "source": [
        "## 2. Regression\n",
        "\n",
        "Gunakan dataset **abalone**, dan hitung R^2, Mean Absolute Error, serta Root Mean Squared Error dari minimal 3 algoritma!\n",
        "\n",
        "Silahkan merujuk ke file **.names** untuk melihat attributenya! Dipersilahkan untuk memproses nama feature menggunakan pandas atau mengubah langsung file .csv nya (ditambahkan header/judul per kolomnya)\n",
        "\n",
        "**Jelaskan segala hal yang dilakukan** (preprocessing, hyperparameter tuning, dll) dengan sejelas mungkin!"
      ]
    },
    {
      "cell_type": "code",
      "metadata": {
        "id": "sDG2r9FQcdaR",
        "colab_type": "code",
        "colab": {}
      },
      "source": [
        "# Melakukan import library yang dibutuhkan\n",
        "# Sengaja melakukan import kembali jika hanya ingin menjalankan regression saja\n",
        "import pandas as pd\n",
        "import numpy as np\n",
        "import matplotlib.pyplot as plt\n",
        "import os\n",
        "import seaborn as sns\n",
        "from sklearn import preprocessing\n",
        "from sklearn.model_selection import train_test_split"
      ],
      "execution_count": 83,
      "outputs": []
    },
    {
      "cell_type": "code",
      "metadata": {
        "id": "U1DxqTJD62Fk",
        "colab_type": "code",
        "colab": {}
      },
      "source": [
        "# Melakukan read dataset abalone dan memberikan nama feature pada masing-masing kolom\n",
        "dataset3 = pd.read_csv(\"drive/My Drive/BCML/abalone.csv\", \n",
        "                  names=[\"Sex\", \"Length\", \"Diameter\", \"Height\", \"Whole weight\", \"Shucked weight\", \"Viscera weight\", \"Shell weight\", \"Rings\"])"
      ],
      "execution_count": 84,
      "outputs": []
    },
    {
      "cell_type": "code",
      "metadata": {
        "id": "516SuZ2t66Jz",
        "colab_type": "code",
        "colab": {
          "base_uri": "https://localhost:8080/",
          "height": 0
        },
        "outputId": "1cfe30d1-249f-42ff-f5c6-edfd95fb5146"
      },
      "source": [
        "# Melihat 5 data teratas\n",
        "dataset3.head()"
      ],
      "execution_count": 85,
      "outputs": [
        {
          "output_type": "execute_result",
          "data": {
            "text/html": [
              "<div>\n",
              "<style scoped>\n",
              "    .dataframe tbody tr th:only-of-type {\n",
              "        vertical-align: middle;\n",
              "    }\n",
              "\n",
              "    .dataframe tbody tr th {\n",
              "        vertical-align: top;\n",
              "    }\n",
              "\n",
              "    .dataframe thead th {\n",
              "        text-align: right;\n",
              "    }\n",
              "</style>\n",
              "<table border=\"1\" class=\"dataframe\">\n",
              "  <thead>\n",
              "    <tr style=\"text-align: right;\">\n",
              "      <th></th>\n",
              "      <th>Sex</th>\n",
              "      <th>Length</th>\n",
              "      <th>Diameter</th>\n",
              "      <th>Height</th>\n",
              "      <th>Whole weight</th>\n",
              "      <th>Shucked weight</th>\n",
              "      <th>Viscera weight</th>\n",
              "      <th>Shell weight</th>\n",
              "      <th>Rings</th>\n",
              "    </tr>\n",
              "  </thead>\n",
              "  <tbody>\n",
              "    <tr>\n",
              "      <th>0</th>\n",
              "      <td>M</td>\n",
              "      <td>0.455</td>\n",
              "      <td>0.365</td>\n",
              "      <td>0.095</td>\n",
              "      <td>0.5140</td>\n",
              "      <td>0.2245</td>\n",
              "      <td>0.1010</td>\n",
              "      <td>0.150</td>\n",
              "      <td>15</td>\n",
              "    </tr>\n",
              "    <tr>\n",
              "      <th>1</th>\n",
              "      <td>M</td>\n",
              "      <td>0.350</td>\n",
              "      <td>0.265</td>\n",
              "      <td>0.090</td>\n",
              "      <td>0.2255</td>\n",
              "      <td>0.0995</td>\n",
              "      <td>0.0485</td>\n",
              "      <td>0.070</td>\n",
              "      <td>7</td>\n",
              "    </tr>\n",
              "    <tr>\n",
              "      <th>2</th>\n",
              "      <td>F</td>\n",
              "      <td>0.530</td>\n",
              "      <td>0.420</td>\n",
              "      <td>0.135</td>\n",
              "      <td>0.6770</td>\n",
              "      <td>0.2565</td>\n",
              "      <td>0.1415</td>\n",
              "      <td>0.210</td>\n",
              "      <td>9</td>\n",
              "    </tr>\n",
              "    <tr>\n",
              "      <th>3</th>\n",
              "      <td>M</td>\n",
              "      <td>0.440</td>\n",
              "      <td>0.365</td>\n",
              "      <td>0.125</td>\n",
              "      <td>0.5160</td>\n",
              "      <td>0.2155</td>\n",
              "      <td>0.1140</td>\n",
              "      <td>0.155</td>\n",
              "      <td>10</td>\n",
              "    </tr>\n",
              "    <tr>\n",
              "      <th>4</th>\n",
              "      <td>I</td>\n",
              "      <td>0.330</td>\n",
              "      <td>0.255</td>\n",
              "      <td>0.080</td>\n",
              "      <td>0.2050</td>\n",
              "      <td>0.0895</td>\n",
              "      <td>0.0395</td>\n",
              "      <td>0.055</td>\n",
              "      <td>7</td>\n",
              "    </tr>\n",
              "  </tbody>\n",
              "</table>\n",
              "</div>"
            ],
            "text/plain": [
              "  Sex  Length  Diameter  ...  Viscera weight  Shell weight  Rings\n",
              "0   M   0.455     0.365  ...          0.1010         0.150     15\n",
              "1   M   0.350     0.265  ...          0.0485         0.070      7\n",
              "2   F   0.530     0.420  ...          0.1415         0.210      9\n",
              "3   M   0.440     0.365  ...          0.1140         0.155     10\n",
              "4   I   0.330     0.255  ...          0.0395         0.055      7\n",
              "\n",
              "[5 rows x 9 columns]"
            ]
          },
          "metadata": {
            "tags": []
          },
          "execution_count": 85
        }
      ]
    },
    {
      "cell_type": "code",
      "metadata": {
        "id": "9oIXI3Br6_6T",
        "colab_type": "code",
        "colab": {
          "base_uri": "https://localhost:8080/",
          "height": 0
        },
        "outputId": "78ab7df0-9019-45f3-b1f4-df4ae18abc05"
      },
      "source": [
        "# Melihat statistik dari dataset abalone\n",
        "dataset3.describe()"
      ],
      "execution_count": 86,
      "outputs": [
        {
          "output_type": "execute_result",
          "data": {
            "text/html": [
              "<div>\n",
              "<style scoped>\n",
              "    .dataframe tbody tr th:only-of-type {\n",
              "        vertical-align: middle;\n",
              "    }\n",
              "\n",
              "    .dataframe tbody tr th {\n",
              "        vertical-align: top;\n",
              "    }\n",
              "\n",
              "    .dataframe thead th {\n",
              "        text-align: right;\n",
              "    }\n",
              "</style>\n",
              "<table border=\"1\" class=\"dataframe\">\n",
              "  <thead>\n",
              "    <tr style=\"text-align: right;\">\n",
              "      <th></th>\n",
              "      <th>Length</th>\n",
              "      <th>Diameter</th>\n",
              "      <th>Height</th>\n",
              "      <th>Whole weight</th>\n",
              "      <th>Shucked weight</th>\n",
              "      <th>Viscera weight</th>\n",
              "      <th>Shell weight</th>\n",
              "      <th>Rings</th>\n",
              "    </tr>\n",
              "  </thead>\n",
              "  <tbody>\n",
              "    <tr>\n",
              "      <th>count</th>\n",
              "      <td>4177.000000</td>\n",
              "      <td>4177.000000</td>\n",
              "      <td>4177.000000</td>\n",
              "      <td>4177.000000</td>\n",
              "      <td>4177.000000</td>\n",
              "      <td>4177.000000</td>\n",
              "      <td>4177.000000</td>\n",
              "      <td>4177.000000</td>\n",
              "    </tr>\n",
              "    <tr>\n",
              "      <th>mean</th>\n",
              "      <td>0.523992</td>\n",
              "      <td>0.407881</td>\n",
              "      <td>0.139516</td>\n",
              "      <td>0.828742</td>\n",
              "      <td>0.359367</td>\n",
              "      <td>0.180594</td>\n",
              "      <td>0.238831</td>\n",
              "      <td>9.933684</td>\n",
              "    </tr>\n",
              "    <tr>\n",
              "      <th>std</th>\n",
              "      <td>0.120093</td>\n",
              "      <td>0.099240</td>\n",
              "      <td>0.041827</td>\n",
              "      <td>0.490389</td>\n",
              "      <td>0.221963</td>\n",
              "      <td>0.109614</td>\n",
              "      <td>0.139203</td>\n",
              "      <td>3.224169</td>\n",
              "    </tr>\n",
              "    <tr>\n",
              "      <th>min</th>\n",
              "      <td>0.075000</td>\n",
              "      <td>0.055000</td>\n",
              "      <td>0.000000</td>\n",
              "      <td>0.002000</td>\n",
              "      <td>0.001000</td>\n",
              "      <td>0.000500</td>\n",
              "      <td>0.001500</td>\n",
              "      <td>1.000000</td>\n",
              "    </tr>\n",
              "    <tr>\n",
              "      <th>25%</th>\n",
              "      <td>0.450000</td>\n",
              "      <td>0.350000</td>\n",
              "      <td>0.115000</td>\n",
              "      <td>0.441500</td>\n",
              "      <td>0.186000</td>\n",
              "      <td>0.093500</td>\n",
              "      <td>0.130000</td>\n",
              "      <td>8.000000</td>\n",
              "    </tr>\n",
              "    <tr>\n",
              "      <th>50%</th>\n",
              "      <td>0.545000</td>\n",
              "      <td>0.425000</td>\n",
              "      <td>0.140000</td>\n",
              "      <td>0.799500</td>\n",
              "      <td>0.336000</td>\n",
              "      <td>0.171000</td>\n",
              "      <td>0.234000</td>\n",
              "      <td>9.000000</td>\n",
              "    </tr>\n",
              "    <tr>\n",
              "      <th>75%</th>\n",
              "      <td>0.615000</td>\n",
              "      <td>0.480000</td>\n",
              "      <td>0.165000</td>\n",
              "      <td>1.153000</td>\n",
              "      <td>0.502000</td>\n",
              "      <td>0.253000</td>\n",
              "      <td>0.329000</td>\n",
              "      <td>11.000000</td>\n",
              "    </tr>\n",
              "    <tr>\n",
              "      <th>max</th>\n",
              "      <td>0.815000</td>\n",
              "      <td>0.650000</td>\n",
              "      <td>1.130000</td>\n",
              "      <td>2.825500</td>\n",
              "      <td>1.488000</td>\n",
              "      <td>0.760000</td>\n",
              "      <td>1.005000</td>\n",
              "      <td>29.000000</td>\n",
              "    </tr>\n",
              "  </tbody>\n",
              "</table>\n",
              "</div>"
            ],
            "text/plain": [
              "            Length     Diameter  ...  Shell weight        Rings\n",
              "count  4177.000000  4177.000000  ...   4177.000000  4177.000000\n",
              "mean      0.523992     0.407881  ...      0.238831     9.933684\n",
              "std       0.120093     0.099240  ...      0.139203     3.224169\n",
              "min       0.075000     0.055000  ...      0.001500     1.000000\n",
              "25%       0.450000     0.350000  ...      0.130000     8.000000\n",
              "50%       0.545000     0.425000  ...      0.234000     9.000000\n",
              "75%       0.615000     0.480000  ...      0.329000    11.000000\n",
              "max       0.815000     0.650000  ...      1.005000    29.000000\n",
              "\n",
              "[8 rows x 8 columns]"
            ]
          },
          "metadata": {
            "tags": []
          },
          "execution_count": 86
        }
      ]
    },
    {
      "cell_type": "code",
      "metadata": {
        "id": "gvyKJFXP8GuW",
        "colab_type": "code",
        "colab": {
          "base_uri": "https://localhost:8080/",
          "height": 0
        },
        "outputId": "d41f5046-c683-44c9-b6d2-08aaf0cd8aa1"
      },
      "source": [
        "# Mengecek apakah ada data null atau tidak\n",
        "dataset3.isnull().sum()"
      ],
      "execution_count": 87,
      "outputs": [
        {
          "output_type": "execute_result",
          "data": {
            "text/plain": [
              "Sex               0\n",
              "Length            0\n",
              "Diameter          0\n",
              "Height            0\n",
              "Whole weight      0\n",
              "Shucked weight    0\n",
              "Viscera weight    0\n",
              "Shell weight      0\n",
              "Rings             0\n",
              "dtype: int64"
            ]
          },
          "metadata": {
            "tags": []
          },
          "execution_count": 87
        }
      ]
    },
    {
      "cell_type": "code",
      "metadata": {
        "id": "WIJCDRdB9HZN",
        "colab_type": "code",
        "colab": {
          "base_uri": "https://localhost:8080/",
          "height": 0
        },
        "outputId": "31f6b099-7943-45b0-eb6d-e4dc2a046dbb"
      },
      "source": [
        "# Melihat tipe-tipe data kolom pada dataset\n",
        "dataset3.dtypes"
      ],
      "execution_count": 88,
      "outputs": [
        {
          "output_type": "execute_result",
          "data": {
            "text/plain": [
              "Sex                object\n",
              "Length            float64\n",
              "Diameter          float64\n",
              "Height            float64\n",
              "Whole weight      float64\n",
              "Shucked weight    float64\n",
              "Viscera weight    float64\n",
              "Shell weight      float64\n",
              "Rings               int64\n",
              "dtype: object"
            ]
          },
          "metadata": {
            "tags": []
          },
          "execution_count": 88
        }
      ]
    },
    {
      "cell_type": "code",
      "metadata": {
        "id": "fNn1JDbF9xud",
        "colab_type": "code",
        "colab": {
          "base_uri": "https://localhost:8080/",
          "height": 0
        },
        "outputId": "8eeb0361-a337-49b4-b16a-d0c6d829bc9d"
      },
      "source": [
        "# Karena terdapat data string dan bersifat kategorial, maka dilakukan one hot encoding\n",
        "# Melakukan value_counts() untuk melihat banyaknya data terhadap feature Sex\n",
        "dataset3['Sex'].value_counts()"
      ],
      "execution_count": 89,
      "outputs": [
        {
          "output_type": "execute_result",
          "data": {
            "text/plain": [
              "M    1528\n",
              "I    1342\n",
              "F    1307\n",
              "Name: Sex, dtype: int64"
            ]
          },
          "metadata": {
            "tags": []
          },
          "execution_count": 89
        }
      ]
    },
    {
      "cell_type": "code",
      "metadata": {
        "id": "SBtSi-nz-RmE",
        "colab_type": "code",
        "colab": {
          "base_uri": "https://localhost:8080/",
          "height": 0
        },
        "outputId": "ba2cb366-45bb-473c-ceb0-dae257b5a970"
      },
      "source": [
        "# Merubah data yang berupa string tadi menjadi biner dan menambahkan feature tambahan berdasarkan kolom Sex\n",
        "# Sebagai contoh jika suatu data bernilai 'M' pada kolom Sex, maka ditandai dengan angka '1', dan angka '0' pada kategori sex lainnya\n",
        "Sex_categorized = pd.get_dummies(dataset3['Sex'])\n",
        "Sex_categorized"
      ],
      "execution_count": 90,
      "outputs": [
        {
          "output_type": "execute_result",
          "data": {
            "text/html": [
              "<div>\n",
              "<style scoped>\n",
              "    .dataframe tbody tr th:only-of-type {\n",
              "        vertical-align: middle;\n",
              "    }\n",
              "\n",
              "    .dataframe tbody tr th {\n",
              "        vertical-align: top;\n",
              "    }\n",
              "\n",
              "    .dataframe thead th {\n",
              "        text-align: right;\n",
              "    }\n",
              "</style>\n",
              "<table border=\"1\" class=\"dataframe\">\n",
              "  <thead>\n",
              "    <tr style=\"text-align: right;\">\n",
              "      <th></th>\n",
              "      <th>F</th>\n",
              "      <th>I</th>\n",
              "      <th>M</th>\n",
              "    </tr>\n",
              "  </thead>\n",
              "  <tbody>\n",
              "    <tr>\n",
              "      <th>0</th>\n",
              "      <td>0</td>\n",
              "      <td>0</td>\n",
              "      <td>1</td>\n",
              "    </tr>\n",
              "    <tr>\n",
              "      <th>1</th>\n",
              "      <td>0</td>\n",
              "      <td>0</td>\n",
              "      <td>1</td>\n",
              "    </tr>\n",
              "    <tr>\n",
              "      <th>2</th>\n",
              "      <td>1</td>\n",
              "      <td>0</td>\n",
              "      <td>0</td>\n",
              "    </tr>\n",
              "    <tr>\n",
              "      <th>3</th>\n",
              "      <td>0</td>\n",
              "      <td>0</td>\n",
              "      <td>1</td>\n",
              "    </tr>\n",
              "    <tr>\n",
              "      <th>4</th>\n",
              "      <td>0</td>\n",
              "      <td>1</td>\n",
              "      <td>0</td>\n",
              "    </tr>\n",
              "    <tr>\n",
              "      <th>...</th>\n",
              "      <td>...</td>\n",
              "      <td>...</td>\n",
              "      <td>...</td>\n",
              "    </tr>\n",
              "    <tr>\n",
              "      <th>4172</th>\n",
              "      <td>1</td>\n",
              "      <td>0</td>\n",
              "      <td>0</td>\n",
              "    </tr>\n",
              "    <tr>\n",
              "      <th>4173</th>\n",
              "      <td>0</td>\n",
              "      <td>0</td>\n",
              "      <td>1</td>\n",
              "    </tr>\n",
              "    <tr>\n",
              "      <th>4174</th>\n",
              "      <td>0</td>\n",
              "      <td>0</td>\n",
              "      <td>1</td>\n",
              "    </tr>\n",
              "    <tr>\n",
              "      <th>4175</th>\n",
              "      <td>1</td>\n",
              "      <td>0</td>\n",
              "      <td>0</td>\n",
              "    </tr>\n",
              "    <tr>\n",
              "      <th>4176</th>\n",
              "      <td>0</td>\n",
              "      <td>0</td>\n",
              "      <td>1</td>\n",
              "    </tr>\n",
              "  </tbody>\n",
              "</table>\n",
              "<p>4177 rows × 3 columns</p>\n",
              "</div>"
            ],
            "text/plain": [
              "      F  I  M\n",
              "0     0  0  1\n",
              "1     0  0  1\n",
              "2     1  0  0\n",
              "3     0  0  1\n",
              "4     0  1  0\n",
              "...  .. .. ..\n",
              "4172  1  0  0\n",
              "4173  0  0  1\n",
              "4174  0  0  1\n",
              "4175  1  0  0\n",
              "4176  0  0  1\n",
              "\n",
              "[4177 rows x 3 columns]"
            ]
          },
          "metadata": {
            "tags": []
          },
          "execution_count": 90
        }
      ]
    },
    {
      "cell_type": "code",
      "metadata": {
        "id": "l7DNUvzK-et7",
        "colab_type": "code",
        "colab": {
          "base_uri": "https://localhost:8080/",
          "height": 0
        },
        "outputId": "5f4dab47-bd54-48be-fd18-4252d2b1fb01"
      },
      "source": [
        "# Hasil one hot encoding di-concat ke dataset\n",
        "dataset3 = pd.concat([dataset3, Sex_categorized], axis=1)\n",
        "\n",
        "dataset3.head()"
      ],
      "execution_count": 91,
      "outputs": [
        {
          "output_type": "execute_result",
          "data": {
            "text/html": [
              "<div>\n",
              "<style scoped>\n",
              "    .dataframe tbody tr th:only-of-type {\n",
              "        vertical-align: middle;\n",
              "    }\n",
              "\n",
              "    .dataframe tbody tr th {\n",
              "        vertical-align: top;\n",
              "    }\n",
              "\n",
              "    .dataframe thead th {\n",
              "        text-align: right;\n",
              "    }\n",
              "</style>\n",
              "<table border=\"1\" class=\"dataframe\">\n",
              "  <thead>\n",
              "    <tr style=\"text-align: right;\">\n",
              "      <th></th>\n",
              "      <th>Sex</th>\n",
              "      <th>Length</th>\n",
              "      <th>Diameter</th>\n",
              "      <th>Height</th>\n",
              "      <th>Whole weight</th>\n",
              "      <th>Shucked weight</th>\n",
              "      <th>Viscera weight</th>\n",
              "      <th>Shell weight</th>\n",
              "      <th>Rings</th>\n",
              "      <th>F</th>\n",
              "      <th>I</th>\n",
              "      <th>M</th>\n",
              "    </tr>\n",
              "  </thead>\n",
              "  <tbody>\n",
              "    <tr>\n",
              "      <th>0</th>\n",
              "      <td>M</td>\n",
              "      <td>0.455</td>\n",
              "      <td>0.365</td>\n",
              "      <td>0.095</td>\n",
              "      <td>0.5140</td>\n",
              "      <td>0.2245</td>\n",
              "      <td>0.1010</td>\n",
              "      <td>0.150</td>\n",
              "      <td>15</td>\n",
              "      <td>0</td>\n",
              "      <td>0</td>\n",
              "      <td>1</td>\n",
              "    </tr>\n",
              "    <tr>\n",
              "      <th>1</th>\n",
              "      <td>M</td>\n",
              "      <td>0.350</td>\n",
              "      <td>0.265</td>\n",
              "      <td>0.090</td>\n",
              "      <td>0.2255</td>\n",
              "      <td>0.0995</td>\n",
              "      <td>0.0485</td>\n",
              "      <td>0.070</td>\n",
              "      <td>7</td>\n",
              "      <td>0</td>\n",
              "      <td>0</td>\n",
              "      <td>1</td>\n",
              "    </tr>\n",
              "    <tr>\n",
              "      <th>2</th>\n",
              "      <td>F</td>\n",
              "      <td>0.530</td>\n",
              "      <td>0.420</td>\n",
              "      <td>0.135</td>\n",
              "      <td>0.6770</td>\n",
              "      <td>0.2565</td>\n",
              "      <td>0.1415</td>\n",
              "      <td>0.210</td>\n",
              "      <td>9</td>\n",
              "      <td>1</td>\n",
              "      <td>0</td>\n",
              "      <td>0</td>\n",
              "    </tr>\n",
              "    <tr>\n",
              "      <th>3</th>\n",
              "      <td>M</td>\n",
              "      <td>0.440</td>\n",
              "      <td>0.365</td>\n",
              "      <td>0.125</td>\n",
              "      <td>0.5160</td>\n",
              "      <td>0.2155</td>\n",
              "      <td>0.1140</td>\n",
              "      <td>0.155</td>\n",
              "      <td>10</td>\n",
              "      <td>0</td>\n",
              "      <td>0</td>\n",
              "      <td>1</td>\n",
              "    </tr>\n",
              "    <tr>\n",
              "      <th>4</th>\n",
              "      <td>I</td>\n",
              "      <td>0.330</td>\n",
              "      <td>0.255</td>\n",
              "      <td>0.080</td>\n",
              "      <td>0.2050</td>\n",
              "      <td>0.0895</td>\n",
              "      <td>0.0395</td>\n",
              "      <td>0.055</td>\n",
              "      <td>7</td>\n",
              "      <td>0</td>\n",
              "      <td>1</td>\n",
              "      <td>0</td>\n",
              "    </tr>\n",
              "  </tbody>\n",
              "</table>\n",
              "</div>"
            ],
            "text/plain": [
              "  Sex  Length  Diameter  Height  Whole weight  ...  Shell weight  Rings  F  I  M\n",
              "0   M   0.455     0.365   0.095        0.5140  ...         0.150     15  0  0  1\n",
              "1   M   0.350     0.265   0.090        0.2255  ...         0.070      7  0  0  1\n",
              "2   F   0.530     0.420   0.135        0.6770  ...         0.210      9  1  0  0\n",
              "3   M   0.440     0.365   0.125        0.5160  ...         0.155     10  0  0  1\n",
              "4   I   0.330     0.255   0.080        0.2050  ...         0.055      7  0  1  0\n",
              "\n",
              "[5 rows x 12 columns]"
            ]
          },
          "metadata": {
            "tags": []
          },
          "execution_count": 91
        }
      ]
    },
    {
      "cell_type": "code",
      "metadata": {
        "id": "9i10owv8-t9s",
        "colab_type": "code",
        "colab": {
          "base_uri": "https://localhost:8080/",
          "height": 0
        },
        "outputId": "17f58e4a-841d-48aa-f88d-4c00a5e8d698"
      },
      "source": [
        "# Melakukan drop pada feature Sex\n",
        "dataset3.drop(['Sex'], axis=1, inplace=True)\n",
        "dataset3.head()"
      ],
      "execution_count": 92,
      "outputs": [
        {
          "output_type": "execute_result",
          "data": {
            "text/html": [
              "<div>\n",
              "<style scoped>\n",
              "    .dataframe tbody tr th:only-of-type {\n",
              "        vertical-align: middle;\n",
              "    }\n",
              "\n",
              "    .dataframe tbody tr th {\n",
              "        vertical-align: top;\n",
              "    }\n",
              "\n",
              "    .dataframe thead th {\n",
              "        text-align: right;\n",
              "    }\n",
              "</style>\n",
              "<table border=\"1\" class=\"dataframe\">\n",
              "  <thead>\n",
              "    <tr style=\"text-align: right;\">\n",
              "      <th></th>\n",
              "      <th>Length</th>\n",
              "      <th>Diameter</th>\n",
              "      <th>Height</th>\n",
              "      <th>Whole weight</th>\n",
              "      <th>Shucked weight</th>\n",
              "      <th>Viscera weight</th>\n",
              "      <th>Shell weight</th>\n",
              "      <th>Rings</th>\n",
              "      <th>F</th>\n",
              "      <th>I</th>\n",
              "      <th>M</th>\n",
              "    </tr>\n",
              "  </thead>\n",
              "  <tbody>\n",
              "    <tr>\n",
              "      <th>0</th>\n",
              "      <td>0.455</td>\n",
              "      <td>0.365</td>\n",
              "      <td>0.095</td>\n",
              "      <td>0.5140</td>\n",
              "      <td>0.2245</td>\n",
              "      <td>0.1010</td>\n",
              "      <td>0.150</td>\n",
              "      <td>15</td>\n",
              "      <td>0</td>\n",
              "      <td>0</td>\n",
              "      <td>1</td>\n",
              "    </tr>\n",
              "    <tr>\n",
              "      <th>1</th>\n",
              "      <td>0.350</td>\n",
              "      <td>0.265</td>\n",
              "      <td>0.090</td>\n",
              "      <td>0.2255</td>\n",
              "      <td>0.0995</td>\n",
              "      <td>0.0485</td>\n",
              "      <td>0.070</td>\n",
              "      <td>7</td>\n",
              "      <td>0</td>\n",
              "      <td>0</td>\n",
              "      <td>1</td>\n",
              "    </tr>\n",
              "    <tr>\n",
              "      <th>2</th>\n",
              "      <td>0.530</td>\n",
              "      <td>0.420</td>\n",
              "      <td>0.135</td>\n",
              "      <td>0.6770</td>\n",
              "      <td>0.2565</td>\n",
              "      <td>0.1415</td>\n",
              "      <td>0.210</td>\n",
              "      <td>9</td>\n",
              "      <td>1</td>\n",
              "      <td>0</td>\n",
              "      <td>0</td>\n",
              "    </tr>\n",
              "    <tr>\n",
              "      <th>3</th>\n",
              "      <td>0.440</td>\n",
              "      <td>0.365</td>\n",
              "      <td>0.125</td>\n",
              "      <td>0.5160</td>\n",
              "      <td>0.2155</td>\n",
              "      <td>0.1140</td>\n",
              "      <td>0.155</td>\n",
              "      <td>10</td>\n",
              "      <td>0</td>\n",
              "      <td>0</td>\n",
              "      <td>1</td>\n",
              "    </tr>\n",
              "    <tr>\n",
              "      <th>4</th>\n",
              "      <td>0.330</td>\n",
              "      <td>0.255</td>\n",
              "      <td>0.080</td>\n",
              "      <td>0.2050</td>\n",
              "      <td>0.0895</td>\n",
              "      <td>0.0395</td>\n",
              "      <td>0.055</td>\n",
              "      <td>7</td>\n",
              "      <td>0</td>\n",
              "      <td>1</td>\n",
              "      <td>0</td>\n",
              "    </tr>\n",
              "  </tbody>\n",
              "</table>\n",
              "</div>"
            ],
            "text/plain": [
              "   Length  Diameter  Height  Whole weight  ...  Rings  F  I  M\n",
              "0   0.455     0.365   0.095        0.5140  ...     15  0  0  1\n",
              "1   0.350     0.265   0.090        0.2255  ...      7  0  0  1\n",
              "2   0.530     0.420   0.135        0.6770  ...      9  1  0  0\n",
              "3   0.440     0.365   0.125        0.5160  ...     10  0  0  1\n",
              "4   0.330     0.255   0.080        0.2050  ...      7  0  1  0\n",
              "\n",
              "[5 rows x 11 columns]"
            ]
          },
          "metadata": {
            "tags": []
          },
          "execution_count": 92
        }
      ]
    },
    {
      "cell_type": "code",
      "metadata": {
        "id": "LoL46TYJ_n-d",
        "colab_type": "code",
        "colab": {
          "base_uri": "https://localhost:8080/",
          "height": 0
        },
        "outputId": "183d769e-35db-4c59-8166-ce4e8951e19d"
      },
      "source": [
        "# Memindahkan feature Rings ke index paling depan untuk memudahkan dalam melihat korelasi antar feature\n",
        "col_name=\"Rings\"\n",
        "temp = dataset3.pop(col_name)\n",
        "\n",
        "dataset3.insert(0, col_name, temp)\n",
        "dataset3.head()"
      ],
      "execution_count": 93,
      "outputs": [
        {
          "output_type": "execute_result",
          "data": {
            "text/html": [
              "<div>\n",
              "<style scoped>\n",
              "    .dataframe tbody tr th:only-of-type {\n",
              "        vertical-align: middle;\n",
              "    }\n",
              "\n",
              "    .dataframe tbody tr th {\n",
              "        vertical-align: top;\n",
              "    }\n",
              "\n",
              "    .dataframe thead th {\n",
              "        text-align: right;\n",
              "    }\n",
              "</style>\n",
              "<table border=\"1\" class=\"dataframe\">\n",
              "  <thead>\n",
              "    <tr style=\"text-align: right;\">\n",
              "      <th></th>\n",
              "      <th>Rings</th>\n",
              "      <th>Length</th>\n",
              "      <th>Diameter</th>\n",
              "      <th>Height</th>\n",
              "      <th>Whole weight</th>\n",
              "      <th>Shucked weight</th>\n",
              "      <th>Viscera weight</th>\n",
              "      <th>Shell weight</th>\n",
              "      <th>F</th>\n",
              "      <th>I</th>\n",
              "      <th>M</th>\n",
              "    </tr>\n",
              "  </thead>\n",
              "  <tbody>\n",
              "    <tr>\n",
              "      <th>0</th>\n",
              "      <td>15</td>\n",
              "      <td>0.455</td>\n",
              "      <td>0.365</td>\n",
              "      <td>0.095</td>\n",
              "      <td>0.5140</td>\n",
              "      <td>0.2245</td>\n",
              "      <td>0.1010</td>\n",
              "      <td>0.150</td>\n",
              "      <td>0</td>\n",
              "      <td>0</td>\n",
              "      <td>1</td>\n",
              "    </tr>\n",
              "    <tr>\n",
              "      <th>1</th>\n",
              "      <td>7</td>\n",
              "      <td>0.350</td>\n",
              "      <td>0.265</td>\n",
              "      <td>0.090</td>\n",
              "      <td>0.2255</td>\n",
              "      <td>0.0995</td>\n",
              "      <td>0.0485</td>\n",
              "      <td>0.070</td>\n",
              "      <td>0</td>\n",
              "      <td>0</td>\n",
              "      <td>1</td>\n",
              "    </tr>\n",
              "    <tr>\n",
              "      <th>2</th>\n",
              "      <td>9</td>\n",
              "      <td>0.530</td>\n",
              "      <td>0.420</td>\n",
              "      <td>0.135</td>\n",
              "      <td>0.6770</td>\n",
              "      <td>0.2565</td>\n",
              "      <td>0.1415</td>\n",
              "      <td>0.210</td>\n",
              "      <td>1</td>\n",
              "      <td>0</td>\n",
              "      <td>0</td>\n",
              "    </tr>\n",
              "    <tr>\n",
              "      <th>3</th>\n",
              "      <td>10</td>\n",
              "      <td>0.440</td>\n",
              "      <td>0.365</td>\n",
              "      <td>0.125</td>\n",
              "      <td>0.5160</td>\n",
              "      <td>0.2155</td>\n",
              "      <td>0.1140</td>\n",
              "      <td>0.155</td>\n",
              "      <td>0</td>\n",
              "      <td>0</td>\n",
              "      <td>1</td>\n",
              "    </tr>\n",
              "    <tr>\n",
              "      <th>4</th>\n",
              "      <td>7</td>\n",
              "      <td>0.330</td>\n",
              "      <td>0.255</td>\n",
              "      <td>0.080</td>\n",
              "      <td>0.2050</td>\n",
              "      <td>0.0895</td>\n",
              "      <td>0.0395</td>\n",
              "      <td>0.055</td>\n",
              "      <td>0</td>\n",
              "      <td>1</td>\n",
              "      <td>0</td>\n",
              "    </tr>\n",
              "  </tbody>\n",
              "</table>\n",
              "</div>"
            ],
            "text/plain": [
              "   Rings  Length  Diameter  Height  ...  Shell weight  F  I  M\n",
              "0     15   0.455     0.365   0.095  ...         0.150  0  0  1\n",
              "1      7   0.350     0.265   0.090  ...         0.070  0  0  1\n",
              "2      9   0.530     0.420   0.135  ...         0.210  1  0  0\n",
              "3     10   0.440     0.365   0.125  ...         0.155  0  0  1\n",
              "4      7   0.330     0.255   0.080  ...         0.055  0  1  0\n",
              "\n",
              "[5 rows x 11 columns]"
            ]
          },
          "metadata": {
            "tags": []
          },
          "execution_count": 93
        }
      ]
    },
    {
      "cell_type": "code",
      "metadata": {
        "id": "gqJVyD55_6-E",
        "colab_type": "code",
        "colab": {
          "base_uri": "https://localhost:8080/",
          "height": 0
        },
        "outputId": "47cd7e91-0484-4e73-edb2-396786488d67"
      },
      "source": [
        "# Melihat correlation terhadap feature rings\n",
        "dataset3.corr()['Rings'][1:]"
      ],
      "execution_count": 94,
      "outputs": [
        {
          "output_type": "execute_result",
          "data": {
            "text/plain": [
              "Length            0.556720\n",
              "Diameter          0.574660\n",
              "Height            0.557467\n",
              "Whole weight      0.540390\n",
              "Shucked weight    0.420884\n",
              "Viscera weight    0.503819\n",
              "Shell weight      0.627574\n",
              "F                 0.250279\n",
              "I                -0.436063\n",
              "M                 0.181831\n",
              "Name: Rings, dtype: float64"
            ]
          },
          "metadata": {
            "tags": []
          },
          "execution_count": 94
        }
      ]
    },
    {
      "cell_type": "markdown",
      "metadata": {
        "id": "lI0QXBDBFeap",
        "colab_type": "text"
      },
      "source": [
        "^ Dapat dilihat bahwa Shell weight memiliki korelasi paling tinggi terhadap Rings"
      ]
    },
    {
      "cell_type": "code",
      "metadata": {
        "id": "-Mde7GVlAyX8",
        "colab_type": "code",
        "colab": {}
      },
      "source": [
        "# Melakukan drop feature Rings sebagai output\n",
        "feature = dataset3.drop(['Rings'], axis=1)\n",
        "label = dataset3['Rings']"
      ],
      "execution_count": 95,
      "outputs": []
    },
    {
      "cell_type": "code",
      "metadata": {
        "id": "bQO6m3XWA3dF",
        "colab_type": "code",
        "colab": {}
      },
      "source": [
        "# Preprocessing data dengan memakai PowerTransformer dengan method yeo-johnson\n",
        "from sklearn.preprocessing import PowerTransformer\n",
        "scaler = PowerTransformer(method='yeo-johnson', standardize=True)\n",
        "\n",
        "feature_scaled = scaler.fit_transform(feature.values)"
      ],
      "execution_count": 96,
      "outputs": []
    },
    {
      "cell_type": "code",
      "metadata": {
        "id": "aOQ7Mi1ZBC_E",
        "colab_type": "code",
        "colab": {}
      },
      "source": [
        "# Proses train-test split data dengan komposisi train 80% dan test 20% dengan random state = 50\n",
        "from sklearn.model_selection import train_test_split\n",
        "feature_train, feature_test, label_train, label_test = train_test_split(feature_scaled, label, test_size=0.20, random_state=50)"
      ],
      "execution_count": 97,
      "outputs": []
    },
    {
      "cell_type": "code",
      "metadata": {
        "id": "0Q53vt9vBFsM",
        "colab_type": "code",
        "colab": {
          "base_uri": "https://localhost:8080/",
          "height": 0
        },
        "outputId": "f7cd994f-d9e4-4c9a-dfd1-b72393fd1a89"
      },
      "source": [
        "# Menggunakan Random Forest Regressor\n",
        "# Untuk hyperparameter : Estimators bernilai 100 dan criterion menggunakan mse\n",
        "from sklearn.ensemble import RandomForestRegressor\n",
        "from sklearn.metrics import mean_squared_error, mean_absolute_error, r2_score\n",
        "lm = RandomForestRegressor(n_estimators=100, criterion='mse')\n",
        "lm.fit(feature_train, label_train)\n",
        "\n",
        "predictions = lm.predict(feature_test)\n",
        "mse = mean_squared_error(label_test, predictions)\n",
        "mae = mean_absolute_error(label_test, predictions)\n",
        "r2 = r2_score(label_test, predictions)\n",
        "\n",
        "print(\"MSE (Mean Squared Error)\", mse)\n",
        "print(\"MAE (Mean Absolute Error)\", mae)\n",
        "print(\"r^2 score\", r2)\n",
        "print('RMSE (Root Mean Squared Error', np.sqrt(mean_squared_error(label_test, predictions)))\n",
        "print(\"\")"
      ],
      "execution_count": 98,
      "outputs": [
        {
          "output_type": "stream",
          "text": [
            "MSE (Mean Squared Error) 4.374151794258373\n",
            "MAE (Mean Absolute Error) 1.5038875598086126\n",
            "r^2 score 0.5557031060757118\n",
            "RMSE (Root Mean Squared Error 2.0914472965528854\n",
            "\n"
          ],
          "name": "stdout"
        }
      ]
    },
    {
      "cell_type": "code",
      "metadata": {
        "id": "F8-pU-OKBicW",
        "colab_type": "code",
        "colab": {
          "base_uri": "https://localhost:8080/",
          "height": 0
        },
        "outputId": "b0843877-6263-4103-978e-e476b892e798"
      },
      "source": [
        "# Menggunakan algoritma XGBoost\n",
        "# Dimana hyperparameter yang digunakan yaitu learning_rate = 0.1\n",
        "import xgboost as xgb\n",
        "lm = xgb.XGBRegressor(learning_rate=0.1)\n",
        "lm.fit(feature_train, label_train)\n",
        "\n",
        "predictions = lm.predict(feature_test)\n",
        "mse = mean_squared_error(label_test, predictions)\n",
        "mae = mean_absolute_error(label_test, predictions)\n",
        "r2 = r2_score(label_test, predictions)\n",
        "\n",
        "print(\"MSE (Mean Squared Error)\", mse)\n",
        "print(\"MAE (Mean Absolute Error)\", mae)\n",
        "print(\"r^2 score\", r2)\n",
        "print('RMSE (Root Mean Squared Error', np.sqrt(mean_squared_error(label_test, predictions)))\n",
        "print(\"\")"
      ],
      "execution_count": 99,
      "outputs": [
        {
          "output_type": "stream",
          "text": [
            "[08:12:24] WARNING: /workspace/src/objective/regression_obj.cu:152: reg:linear is now deprecated in favor of reg:squarederror.\n",
            "MSE (Mean Squared Error) 4.123310975613051\n",
            "MAE (Mean Absolute Error) 1.485356977966984\n",
            "r^2 score 0.5811818278566596\n",
            "RMSE (Root Mean Squared Error 2.030593749525752\n",
            "\n"
          ],
          "name": "stdout"
        }
      ]
    },
    {
      "cell_type": "code",
      "metadata": {
        "id": "DrNxFCyIBvrF",
        "colab_type": "code",
        "colab": {
          "base_uri": "https://localhost:8080/",
          "height": 0
        },
        "outputId": "26f667e0-9f05-451e-e605-35b5f4986b6b"
      },
      "source": [
        "# Menggunakan KNN Regressor\n",
        "# Untuk neighbors menggunakan for loop dimulai dari 50 hingga 150 dengan increment = 25 dan metric yang digunakan adalah braycurtis\n",
        "from sklearn.neighbors import KNeighborsRegressor\n",
        "for i in range(50, 150, 25):\n",
        "  lm = KNeighborsRegressor(n_neighbors=(i), metric='braycurtis')\n",
        "  lm.fit(feature_train, label_train)\n",
        "\n",
        "  predictions = lm.predict(feature_test)\n",
        "  mse = mean_squared_error(label_test, predictions)\n",
        "  mae = mean_absolute_error(label_test, predictions)\n",
        "  r2 = r2_score(label_test, predictions)\n",
        "\n",
        "  print(\"Neighbors = \" +str(i))\n",
        "  print(\"MSE (Mean Squared Error)\", mse)\n",
        "  print(\"MAE (Mean Absolute Error)\", mae)\n",
        "  print(\"r^2 score\", r2)\n",
        "  print('RMSE (Root Mean Squared Error', np.sqrt(mean_squared_error(label_test, predictions)))\n",
        "  print(\"\")"
      ],
      "execution_count": 100,
      "outputs": [
        {
          "output_type": "stream",
          "text": [
            "Neighbors = 50\n",
            "MSE (Mean Squared Error) 4.967071291866029\n",
            "MAE (Mean Absolute Error) 1.5863397129186603\n",
            "r^2 score 0.4954783348457745\n",
            "RMSE (Root Mean Squared Error 2.2286927315953693\n",
            "\n",
            "Neighbors = 75\n",
            "MSE (Mean Squared Error) 5.098837852206273\n",
            "MAE (Mean Absolute Error) 1.6005582137161083\n",
            "r^2 score 0.4820943746551145\n",
            "RMSE (Root Mean Squared Error 2.2580606396211493\n",
            "\n",
            "Neighbors = 100\n",
            "MSE (Mean Squared Error) 5.201057296650717\n",
            "MAE (Mean Absolute Error) 1.6148684210526316\n",
            "r^2 score 0.47171161159578334\n",
            "RMSE (Root Mean Squared Error 2.280582666041886\n",
            "\n",
            "Neighbors = 125\n",
            "MSE (Mean Squared Error) 5.3371989282296655\n",
            "MAE (Mean Absolute Error) 1.6405263157894736\n",
            "r^2 score 0.4578832611202218\n",
            "RMSE (Root Mean Squared Error 2.3102378510079142\n",
            "\n"
          ],
          "name": "stdout"
        }
      ]
    },
    {
      "cell_type": "markdown",
      "metadata": {
        "id": "pj5wXXmBHS_W",
        "colab_type": "text"
      },
      "source": [
        "**Kesimpulan**\n",
        "\n",
        "Untuk R^2 score tertinggi didapatkan menggunakan XGBoost dengan learning_rate = 0.1 dan hasilnya:\n",
        "\n",
        "MSE (Mean Squared Error) 4.123310975613051\n",
        "\n",
        "MAE (Mean Absolute Error) 1.485356977966984\n",
        "\n",
        "r^2 score 0.5811818278566596\n",
        "\n",
        "RMSE (Root Mean Squared Error 2.030593749525752"
      ]
    },
    {
      "cell_type": "markdown",
      "metadata": {
        "id": "_hDxOVP6ICcd",
        "colab_type": "text"
      },
      "source": [
        "**Tambahan(Banknote)**"
      ]
    },
    {
      "cell_type": "code",
      "metadata": {
        "id": "xKG-cUUIIrof",
        "colab_type": "code",
        "colab": {}
      },
      "source": [
        "# Import libraries yang akan digunakan\n",
        "import pandas as pd\n",
        "import numpy as np\n",
        "import matplotlib.pyplot as plt\n",
        "import os\n",
        "import seaborn as sns\n",
        "from sklearn import preprocessing\n",
        "from sklearn.model_selection import train_test_split"
      ],
      "execution_count": 101,
      "outputs": []
    },
    {
      "cell_type": "code",
      "metadata": {
        "id": "VFwqEVm_Iw81",
        "colab_type": "code",
        "colab": {}
      },
      "source": [
        "# Melakukan read dataset banknote dan memberikan nama feature pada masing-masing kolom\n",
        "dataset4 = pd.read_csv(\"drive/My Drive/BCML/banknote.csv\", \n",
        "                  names=[\"variance\", \"skewness\", \"curtosis\", \"entropy\", \"class\"])"
      ],
      "execution_count": 102,
      "outputs": []
    },
    {
      "cell_type": "code",
      "metadata": {
        "id": "OhMkhDzjJgmf",
        "colab_type": "code",
        "colab": {
          "base_uri": "https://localhost:8080/",
          "height": 0
        },
        "outputId": "ae581980-5d3d-48d7-c4e5-b8ca8de47c37"
      },
      "source": [
        "dataset4.head()"
      ],
      "execution_count": 103,
      "outputs": [
        {
          "output_type": "execute_result",
          "data": {
            "text/html": [
              "<div>\n",
              "<style scoped>\n",
              "    .dataframe tbody tr th:only-of-type {\n",
              "        vertical-align: middle;\n",
              "    }\n",
              "\n",
              "    .dataframe tbody tr th {\n",
              "        vertical-align: top;\n",
              "    }\n",
              "\n",
              "    .dataframe thead th {\n",
              "        text-align: right;\n",
              "    }\n",
              "</style>\n",
              "<table border=\"1\" class=\"dataframe\">\n",
              "  <thead>\n",
              "    <tr style=\"text-align: right;\">\n",
              "      <th></th>\n",
              "      <th>variance</th>\n",
              "      <th>skewness</th>\n",
              "      <th>curtosis</th>\n",
              "      <th>entropy</th>\n",
              "      <th>class</th>\n",
              "    </tr>\n",
              "  </thead>\n",
              "  <tbody>\n",
              "    <tr>\n",
              "      <th>0</th>\n",
              "      <td>3.62160</td>\n",
              "      <td>8.6661</td>\n",
              "      <td>-2.8073</td>\n",
              "      <td>-0.44699</td>\n",
              "      <td>0</td>\n",
              "    </tr>\n",
              "    <tr>\n",
              "      <th>1</th>\n",
              "      <td>4.54590</td>\n",
              "      <td>8.1674</td>\n",
              "      <td>-2.4586</td>\n",
              "      <td>-1.46210</td>\n",
              "      <td>0</td>\n",
              "    </tr>\n",
              "    <tr>\n",
              "      <th>2</th>\n",
              "      <td>3.86600</td>\n",
              "      <td>-2.6383</td>\n",
              "      <td>1.9242</td>\n",
              "      <td>0.10645</td>\n",
              "      <td>0</td>\n",
              "    </tr>\n",
              "    <tr>\n",
              "      <th>3</th>\n",
              "      <td>3.45660</td>\n",
              "      <td>9.5228</td>\n",
              "      <td>-4.0112</td>\n",
              "      <td>-3.59440</td>\n",
              "      <td>0</td>\n",
              "    </tr>\n",
              "    <tr>\n",
              "      <th>4</th>\n",
              "      <td>0.32924</td>\n",
              "      <td>-4.4552</td>\n",
              "      <td>4.5718</td>\n",
              "      <td>-0.98880</td>\n",
              "      <td>0</td>\n",
              "    </tr>\n",
              "  </tbody>\n",
              "</table>\n",
              "</div>"
            ],
            "text/plain": [
              "   variance  skewness  curtosis  entropy  class\n",
              "0   3.62160    8.6661   -2.8073 -0.44699      0\n",
              "1   4.54590    8.1674   -2.4586 -1.46210      0\n",
              "2   3.86600   -2.6383    1.9242  0.10645      0\n",
              "3   3.45660    9.5228   -4.0112 -3.59440      0\n",
              "4   0.32924   -4.4552    4.5718 -0.98880      0"
            ]
          },
          "metadata": {
            "tags": []
          },
          "execution_count": 103
        }
      ]
    },
    {
      "cell_type": "code",
      "metadata": {
        "id": "ghGIMmy_Kj_f",
        "colab_type": "code",
        "colab": {
          "base_uri": "https://localhost:8080/",
          "height": 0
        },
        "outputId": "dedd21e3-d2ef-4724-9cba-5c34cba1eab4"
      },
      "source": [
        "dataset4.isnull().sum()"
      ],
      "execution_count": 104,
      "outputs": [
        {
          "output_type": "execute_result",
          "data": {
            "text/plain": [
              "variance    0\n",
              "skewness    0\n",
              "curtosis    0\n",
              "entropy     0\n",
              "class       0\n",
              "dtype: int64"
            ]
          },
          "metadata": {
            "tags": []
          },
          "execution_count": 104
        }
      ]
    },
    {
      "cell_type": "code",
      "metadata": {
        "id": "bOSPr5Z7Kq5W",
        "colab_type": "code",
        "colab": {
          "base_uri": "https://localhost:8080/",
          "height": 0
        },
        "outputId": "4d26ba28-f1c2-4f66-8123-62372853d4d9"
      },
      "source": [
        "dataset4.describe()"
      ],
      "execution_count": 105,
      "outputs": [
        {
          "output_type": "execute_result",
          "data": {
            "text/html": [
              "<div>\n",
              "<style scoped>\n",
              "    .dataframe tbody tr th:only-of-type {\n",
              "        vertical-align: middle;\n",
              "    }\n",
              "\n",
              "    .dataframe tbody tr th {\n",
              "        vertical-align: top;\n",
              "    }\n",
              "\n",
              "    .dataframe thead th {\n",
              "        text-align: right;\n",
              "    }\n",
              "</style>\n",
              "<table border=\"1\" class=\"dataframe\">\n",
              "  <thead>\n",
              "    <tr style=\"text-align: right;\">\n",
              "      <th></th>\n",
              "      <th>variance</th>\n",
              "      <th>skewness</th>\n",
              "      <th>curtosis</th>\n",
              "      <th>entropy</th>\n",
              "      <th>class</th>\n",
              "    </tr>\n",
              "  </thead>\n",
              "  <tbody>\n",
              "    <tr>\n",
              "      <th>count</th>\n",
              "      <td>1372.000000</td>\n",
              "      <td>1372.000000</td>\n",
              "      <td>1372.000000</td>\n",
              "      <td>1372.000000</td>\n",
              "      <td>1372.000000</td>\n",
              "    </tr>\n",
              "    <tr>\n",
              "      <th>mean</th>\n",
              "      <td>0.433735</td>\n",
              "      <td>1.922353</td>\n",
              "      <td>1.397627</td>\n",
              "      <td>-1.191657</td>\n",
              "      <td>0.444606</td>\n",
              "    </tr>\n",
              "    <tr>\n",
              "      <th>std</th>\n",
              "      <td>2.842763</td>\n",
              "      <td>5.869047</td>\n",
              "      <td>4.310030</td>\n",
              "      <td>2.101013</td>\n",
              "      <td>0.497103</td>\n",
              "    </tr>\n",
              "    <tr>\n",
              "      <th>min</th>\n",
              "      <td>-7.042100</td>\n",
              "      <td>-13.773100</td>\n",
              "      <td>-5.286100</td>\n",
              "      <td>-8.548200</td>\n",
              "      <td>0.000000</td>\n",
              "    </tr>\n",
              "    <tr>\n",
              "      <th>25%</th>\n",
              "      <td>-1.773000</td>\n",
              "      <td>-1.708200</td>\n",
              "      <td>-1.574975</td>\n",
              "      <td>-2.413450</td>\n",
              "      <td>0.000000</td>\n",
              "    </tr>\n",
              "    <tr>\n",
              "      <th>50%</th>\n",
              "      <td>0.496180</td>\n",
              "      <td>2.319650</td>\n",
              "      <td>0.616630</td>\n",
              "      <td>-0.586650</td>\n",
              "      <td>0.000000</td>\n",
              "    </tr>\n",
              "    <tr>\n",
              "      <th>75%</th>\n",
              "      <td>2.821475</td>\n",
              "      <td>6.814625</td>\n",
              "      <td>3.179250</td>\n",
              "      <td>0.394810</td>\n",
              "      <td>1.000000</td>\n",
              "    </tr>\n",
              "    <tr>\n",
              "      <th>max</th>\n",
              "      <td>6.824800</td>\n",
              "      <td>12.951600</td>\n",
              "      <td>17.927400</td>\n",
              "      <td>2.449500</td>\n",
              "      <td>1.000000</td>\n",
              "    </tr>\n",
              "  </tbody>\n",
              "</table>\n",
              "</div>"
            ],
            "text/plain": [
              "          variance     skewness     curtosis      entropy        class\n",
              "count  1372.000000  1372.000000  1372.000000  1372.000000  1372.000000\n",
              "mean      0.433735     1.922353     1.397627    -1.191657     0.444606\n",
              "std       2.842763     5.869047     4.310030     2.101013     0.497103\n",
              "min      -7.042100   -13.773100    -5.286100    -8.548200     0.000000\n",
              "25%      -1.773000    -1.708200    -1.574975    -2.413450     0.000000\n",
              "50%       0.496180     2.319650     0.616630    -0.586650     0.000000\n",
              "75%       2.821475     6.814625     3.179250     0.394810     1.000000\n",
              "max       6.824800    12.951600    17.927400     2.449500     1.000000"
            ]
          },
          "metadata": {
            "tags": []
          },
          "execution_count": 105
        }
      ]
    },
    {
      "cell_type": "code",
      "metadata": {
        "id": "ey12Cy0KLOZo",
        "colab_type": "code",
        "colab": {
          "base_uri": "https://localhost:8080/",
          "height": 0
        },
        "outputId": "d1f41188-cceb-4bd8-bffa-6b28c95541c1"
      },
      "source": [
        "dataset4.corr()['class'][0:]"
      ],
      "execution_count": 106,
      "outputs": [
        {
          "output_type": "execute_result",
          "data": {
            "text/plain": [
              "variance   -0.724843\n",
              "skewness   -0.444688\n",
              "curtosis    0.155883\n",
              "entropy    -0.023424\n",
              "class       1.000000\n",
              "Name: class, dtype: float64"
            ]
          },
          "metadata": {
            "tags": []
          },
          "execution_count": 106
        }
      ]
    },
    {
      "cell_type": "markdown",
      "metadata": {
        "id": "yegp5sP3LnY6",
        "colab_type": "text"
      },
      "source": [
        "^ Dapat dilihat bahwa variance memiliki korelasi paling tinggi terhadap Rings walaupun minus"
      ]
    },
    {
      "cell_type": "code",
      "metadata": {
        "id": "bLVTe16kLce4",
        "colab_type": "code",
        "colab": {}
      },
      "source": [
        "# Preprocessing data dengan memakai PowerTransformer dengan method yeo-johnson\n",
        "from sklearn.preprocessing import PowerTransformer\n",
        "scaler = PowerTransformer(method='yeo-johnson', standardize=True)\n",
        "\n",
        "feature_scaled = scaler.fit_transform(feature.values)"
      ],
      "execution_count": 107,
      "outputs": []
    },
    {
      "cell_type": "code",
      "metadata": {
        "id": "HezM74THL0fS",
        "colab_type": "code",
        "colab": {}
      },
      "source": [
        "# Proses train-test split data dengan komposisi train 80% dan test 20% dengan random state = 50\n",
        "from sklearn.model_selection import train_test_split\n",
        "feature_train, feature_test, label_train, label_test = train_test_split(feature_scaled, label, test_size=0.20, random_state=50)"
      ],
      "execution_count": 108,
      "outputs": []
    },
    {
      "cell_type": "code",
      "metadata": {
        "id": "xFrO1Z1hL16d",
        "colab_type": "code",
        "colab": {
          "base_uri": "https://localhost:8080/",
          "height": 0
        },
        "outputId": "368fcabe-abf4-47d0-f75f-0576ecb3ee68"
      },
      "source": [
        "# Menggunakan Random Forest Regressor\n",
        "# Untuk hyperparameter : Estimators bernilai 100 dan criterion menggunakan mse\n",
        "from sklearn.ensemble import RandomForestRegressor\n",
        "from sklearn.metrics import mean_squared_error, mean_absolute_error, r2_score\n",
        "lm = RandomForestRegressor(n_estimators=100, criterion='mse')\n",
        "lm.fit(feature_train, label_train)\n",
        "\n",
        "predictions = lm.predict(feature_test)\n",
        "mse = mean_squared_error(label_test, predictions)\n",
        "mae = mean_absolute_error(label_test, predictions)\n",
        "r2 = r2_score(label_test, predictions)\n",
        "\n",
        "print(\"MSE (Mean Squared Error)\", mse)\n",
        "print(\"MAE (Mean Absolute Error)\", mae)\n",
        "print(\"r^2 score\", r2)\n",
        "print('RMSE (Root Mean Squared Error', np.sqrt(mean_squared_error(label_test, predictions)))\n",
        "print(\"\")"
      ],
      "execution_count": 109,
      "outputs": [
        {
          "output_type": "stream",
          "text": [
            "MSE (Mean Squared Error) 4.294941387559809\n",
            "MAE (Mean Absolute Error) 1.492464114832536\n",
            "r^2 score 0.5637487659700134\n",
            "RMSE (Root Mean Squared Error 2.072424036619873\n",
            "\n"
          ],
          "name": "stdout"
        }
      ]
    },
    {
      "cell_type": "code",
      "metadata": {
        "id": "3V3dchJZMB2F",
        "colab_type": "code",
        "colab": {
          "base_uri": "https://localhost:8080/",
          "height": 0
        },
        "outputId": "9baf9fe5-ae45-4f05-e1be-83d1aa527832"
      },
      "source": [
        "# Menggunakan algoritma XGBoost\n",
        "# Dimana hyperparameter yang digunakan yaitu learning_rate = 0.1\n",
        "import xgboost as xgb\n",
        "lm = xgb.XGBRegressor(learning_rate=0.1)\n",
        "lm.fit(feature_train, label_train)\n",
        "\n",
        "predictions = lm.predict(feature_test)\n",
        "mse = mean_squared_error(label_test, predictions)\n",
        "mae = mean_absolute_error(label_test, predictions)\n",
        "r2 = r2_score(label_test, predictions)\n",
        "\n",
        "print(\"MSE (Mean Squared Error)\", mse)\n",
        "print(\"MAE (Mean Absolute Error)\", mae)\n",
        "print(\"r^2 score\", r2)\n",
        "print('RMSE (Root Mean Squared Error', np.sqrt(mean_squared_error(label_test, predictions)))\n",
        "print(\"\")"
      ],
      "execution_count": 110,
      "outputs": [
        {
          "output_type": "stream",
          "text": [
            "[08:12:27] WARNING: /workspace/src/objective/regression_obj.cu:152: reg:linear is now deprecated in favor of reg:squarederror.\n",
            "MSE (Mean Squared Error) 4.123310975613051\n",
            "MAE (Mean Absolute Error) 1.485356977966984\n",
            "r^2 score 0.5811818278566596\n",
            "RMSE (Root Mean Squared Error 2.030593749525752\n",
            "\n"
          ],
          "name": "stdout"
        }
      ]
    },
    {
      "cell_type": "code",
      "metadata": {
        "id": "q9sZC9lMMDl2",
        "colab_type": "code",
        "colab": {
          "base_uri": "https://localhost:8080/",
          "height": 0
        },
        "outputId": "df24dbd9-9c00-43c2-adee-d11cf8d73cdf"
      },
      "source": [
        "# Menggunakan KNN Regressor\n",
        "# Untuk neighbors menggunakan for loop dimulai dari 50 hingga 150 dengan increment = 25 dan metric yang digunakan adalah braycurtis\n",
        "from sklearn.neighbors import KNeighborsRegressor\n",
        "for i in range(50, 150, 25):\n",
        "  lm = KNeighborsRegressor(n_neighbors=(i), metric='minkowski')\n",
        "  lm.fit(feature_train, label_train)\n",
        "\n",
        "  predictions = lm.predict(feature_test)\n",
        "  mse = mean_squared_error(label_test, predictions)\n",
        "  mae = mean_absolute_error(label_test, predictions)\n",
        "  r2 = r2_score(label_test, predictions)\n",
        "\n",
        "  print(\"Neighbors = \" +str(i))\n",
        "  print(\"MSE (Mean Squared Error)\", mse)\n",
        "  print(\"MAE (Mean Absolute Error)\", mae)\n",
        "  print(\"r^2 score\", r2)\n",
        "  print('RMSE (Root Mean Squared Error', np.sqrt(mean_squared_error(label_test, predictions)))\n",
        "  print(\"\")"
      ],
      "execution_count": 111,
      "outputs": [
        {
          "output_type": "stream",
          "text": [
            "Neighbors = 50\n",
            "MSE (Mean Squared Error) 4.900537320574164\n",
            "MAE (Mean Absolute Error) 1.5788755980861244\n",
            "r^2 score 0.5022364077650148\n",
            "RMSE (Root Mean Squared Error 2.2137157271371053\n",
            "\n",
            "Neighbors = 75\n",
            "MSE (Mean Squared Error) 5.118836576289208\n",
            "MAE (Mean Absolute Error) 1.5957097288676236\n",
            "r^2 score 0.48006303888753554\n",
            "RMSE (Root Mean Squared Error 2.2624846024424583\n",
            "\n",
            "Neighbors = 100\n",
            "MSE (Mean Squared Error) 5.239174880382774\n",
            "MAE (Mean Absolute Error) 1.6130622009569378\n",
            "r^2 score 0.4678398840351894\n",
            "RMSE (Root Mean Squared Error 2.28892439376725\n",
            "\n",
            "Neighbors = 125\n",
            "MSE (Mean Squared Error) 5.37003238277512\n",
            "MAE (Mean Absolute Error) 1.636535885167464\n",
            "r^2 score 0.4545482598314009\n",
            "RMSE (Root Mean Squared Error 2.3173330323402204\n",
            "\n"
          ],
          "name": "stdout"
        }
      ]
    },
    {
      "cell_type": "markdown",
      "metadata": {
        "id": "n6NB_BoLMUrD",
        "colab_type": "text"
      },
      "source": [
        "**Kesimpulan**\n",
        "\n",
        "Untuk R^2 score tertinggi kembali didapatkan menggunakan XGBoost dengan learning_rate = 0.1 dan hasilnya:\n",
        "\n",
        "MSE (Mean Squared Error) 4.123310975613051\n",
        "\n",
        "MAE (Mean Absolute Error) 1.485356977966984\n",
        "\n",
        "r^2 score 0.5811818278566596\n",
        "\n",
        "RMSE (Root Mean Squared Error 2.030593749525752"
      ]
    }
  ]
}