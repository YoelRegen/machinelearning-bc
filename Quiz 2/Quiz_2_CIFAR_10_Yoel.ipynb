{
  "nbformat": 4,
  "nbformat_minor": 0,
  "metadata": {
    "colab": {
      "name": "Quiz_2_CIFAR-10_Yoel.ipynb",
      "provenance": [],
      "collapsed_sections": []
    },
    "kernelspec": {
      "name": "python3",
      "display_name": "Python 3"
    },
    "accelerator": "GPU"
  },
  "cells": [
    {
      "cell_type": "markdown",
      "metadata": {
        "id": "zhYNhIPA5XPS"
      },
      "source": [
        "# Import libaries"
      ]
    },
    {
      "cell_type": "code",
      "metadata": {
        "id": "uqzMn5cjOd_B"
      },
      "source": [
        "import matplotlib.pyplot as plt\n",
        "import pandas as pd\n",
        "import tensorflow as tf\n",
        "import os\n",
        "import numpy as np\n",
        "import cv2\n",
        "from sklearn.preprocessing import OneHotEncoder\n",
        "from keras.layers import Conv2D, MaxPool2D, Flatten, Dense, Dropout\n",
        "\n",
        "\n",
        "\n",
        "from tensorflow.keras.models import Sequential\n",
        "from tensorflow.keras.layers import Conv2D\n",
        "from tensorflow.keras.layers import MaxPooling2D\n",
        "from tensorflow.keras.optimizers import SGD\n",
        "from tensorflow.keras.layers import BatchNormalization\n",
        "\n",
        "from tensorflow.keras.utils import to_categorical"
      ],
      "execution_count": 1,
      "outputs": []
    },
    {
      "cell_type": "markdown",
      "metadata": {
        "id": "lRU25cui5aWh"
      },
      "source": [
        "# Preprocessing"
      ]
    },
    {
      "cell_type": "code",
      "metadata": {
        "id": "rjf5i5LFPSJU"
      },
      "source": [
        "#Load dataset CIFAR-10\n",
        "(feature_train, label_train), (feature_test, label_test) = tf.keras.datasets.cifar10.load_data()\n",
        "\n",
        "#Normalisasi value dari array\n",
        "feature_train  = feature_train/255\n",
        "feature_test  = feature_test/255\n"
      ],
      "execution_count": 2,
      "outputs": []
    },
    {
      "cell_type": "markdown",
      "metadata": {
        "id": "CxfQzCAGWDJE"
      },
      "source": [
        "# CNN"
      ]
    },
    {
      "cell_type": "code",
      "metadata": {
        "id": "4HlcBWsyV-A8",
        "outputId": "3ce54bae-744d-473a-d7a6-ba029a729a27",
        "colab": {
          "base_uri": "https://localhost:8080/",
          "height": 443
        }
      },
      "source": [
        "# 3 Layer Convolutional(32,64,64) dengan Max Pooling sebanyak 2 kali(2,2)\n",
        "model = Sequential()\n",
        "model.add(Conv2D(32, (3, 3), activation='relu', input_shape=(32, 32, 3)))\n",
        "model.add(MaxPooling2D((2, 2)))\n",
        "model.add(Conv2D(64, (3, 3), activation='relu'))\n",
        "model.add(MaxPooling2D((2, 2)))\n",
        "model.add(Conv2D(64, (3, 3), activation='relu'))\n",
        "\n",
        "# 1 Layer Hidden dengan 64 neuron. Layer output sebanyak 10 neuron karena 10 class\n",
        "model.add(Flatten())\n",
        "model.add(Dense(64, activation='relu'))\n",
        "model.add(Dense(10))\n",
        "\n",
        "# Menggunakan Sparse Categorical Crossentropy karena 10 class. Menggunakan Sparse karena output menggunakan label bukan binary\n",
        "model.compile(optimizer='adam',\n",
        "              loss=tf.keras.losses.SparseCategoricalCrossentropy(from_logits=True),\n",
        "              metrics=['accuracy'])\n",
        "model.summary()"
      ],
      "execution_count": 8,
      "outputs": [
        {
          "output_type": "stream",
          "text": [
            "Model: \"sequential_3\"\n",
            "_________________________________________________________________\n",
            "Layer (type)                 Output Shape              Param #   \n",
            "=================================================================\n",
            "conv2d_3 (Conv2D)            (None, 30, 30, 32)        896       \n",
            "_________________________________________________________________\n",
            "max_pooling2d_2 (MaxPooling2 (None, 15, 15, 32)        0         \n",
            "_________________________________________________________________\n",
            "conv2d_4 (Conv2D)            (None, 13, 13, 64)        18496     \n",
            "_________________________________________________________________\n",
            "max_pooling2d_3 (MaxPooling2 (None, 6, 6, 64)          0         \n",
            "_________________________________________________________________\n",
            "conv2d_5 (Conv2D)            (None, 4, 4, 64)          36928     \n",
            "_________________________________________________________________\n",
            "flatten_1 (Flatten)          (None, 1024)              0         \n",
            "_________________________________________________________________\n",
            "dense_2 (Dense)              (None, 64)                65600     \n",
            "_________________________________________________________________\n",
            "dense_3 (Dense)              (None, 10)                650       \n",
            "=================================================================\n",
            "Total params: 122,570\n",
            "Trainable params: 122,570\n",
            "Non-trainable params: 0\n",
            "_________________________________________________________________\n"
          ],
          "name": "stdout"
        }
      ]
    },
    {
      "cell_type": "code",
      "metadata": {
        "id": "zW_V336Z2Iwa",
        "outputId": "4c599cdf-c68f-4aad-e61b-cdb09779b914",
        "colab": {
          "base_uri": "https://localhost:8080/",
          "height": 372
        }
      },
      "source": [
        "# Epoch 10\n",
        "history = model.fit(feature_train, label_train, epochs=10, \n",
        "                    validation_data=(feature_test, label_test))"
      ],
      "execution_count": 9,
      "outputs": [
        {
          "output_type": "stream",
          "text": [
            "Epoch 1/10\n",
            "1563/1563 [==============================] - 64s 41ms/step - loss: 1.5321 - accuracy: 0.4378 - val_loss: 1.2635 - val_accuracy: 0.5500\n",
            "Epoch 2/10\n",
            "1563/1563 [==============================] - 65s 42ms/step - loss: 1.1431 - accuracy: 0.5949 - val_loss: 1.0842 - val_accuracy: 0.6129\n",
            "Epoch 3/10\n",
            "1563/1563 [==============================] - 68s 43ms/step - loss: 1.0051 - accuracy: 0.6460 - val_loss: 1.0273 - val_accuracy: 0.6323\n",
            "Epoch 4/10\n",
            "1563/1563 [==============================] - 65s 41ms/step - loss: 0.9144 - accuracy: 0.6773 - val_loss: 0.9959 - val_accuracy: 0.6557\n",
            "Epoch 5/10\n",
            "1563/1563 [==============================] - 64s 41ms/step - loss: 0.8383 - accuracy: 0.7076 - val_loss: 0.8918 - val_accuracy: 0.6910\n",
            "Epoch 6/10\n",
            "1563/1563 [==============================] - 64s 41ms/step - loss: 0.7785 - accuracy: 0.7277 - val_loss: 0.9028 - val_accuracy: 0.6907\n",
            "Epoch 7/10\n",
            "1563/1563 [==============================] - 65s 41ms/step - loss: 0.7281 - accuracy: 0.7446 - val_loss: 0.8682 - val_accuracy: 0.7052\n",
            "Epoch 8/10\n",
            "1563/1563 [==============================] - 65s 41ms/step - loss: 0.6808 - accuracy: 0.7623 - val_loss: 0.8681 - val_accuracy: 0.7061\n",
            "Epoch 9/10\n",
            "1563/1563 [==============================] - 65s 41ms/step - loss: 0.6389 - accuracy: 0.7762 - val_loss: 0.8969 - val_accuracy: 0.7056\n",
            "Epoch 10/10\n",
            "1563/1563 [==============================] - 65s 41ms/step - loss: 0.6014 - accuracy: 0.7884 - val_loss: 0.9223 - val_accuracy: 0.6959\n"
          ],
          "name": "stdout"
        }
      ]
    },
    {
      "cell_type": "code",
      "metadata": {
        "id": "CCXg4s0FV4uO"
      },
      "source": [
        "def plot_loss(history):\n",
        "  plt.plot(history.history['loss'], label='loss')\n",
        "  plt.plot(history.history['val_loss'], label='val_loss')\n",
        "  plt.xlabel('Epoch')\n",
        "  plt.ylabel('Loss')\n",
        "  plt.legend()\n",
        "  plt.grid(True)"
      ],
      "execution_count": 10,
      "outputs": []
    },
    {
      "cell_type": "code",
      "metadata": {
        "id": "CMfv3AQzV7ak",
        "outputId": "5d668753-dba0-4b66-850c-68280159e0f5",
        "colab": {
          "base_uri": "https://localhost:8080/",
          "height": 347
        }
      },
      "source": [
        "# Menampilkan val_loss terkecil dengan dataframe\n",
        "history_dataframe = pd.DataFrame(history.history)\n",
        "history_dataframe['epoch'] = history.epoch\n",
        "history_dataframe.sort_values(by='val_loss', ascending=True)"
      ],
      "execution_count": 13,
      "outputs": [
        {
          "output_type": "execute_result",
          "data": {
            "text/html": [
              "<div>\n",
              "<style scoped>\n",
              "    .dataframe tbody tr th:only-of-type {\n",
              "        vertical-align: middle;\n",
              "    }\n",
              "\n",
              "    .dataframe tbody tr th {\n",
              "        vertical-align: top;\n",
              "    }\n",
              "\n",
              "    .dataframe thead th {\n",
              "        text-align: right;\n",
              "    }\n",
              "</style>\n",
              "<table border=\"1\" class=\"dataframe\">\n",
              "  <thead>\n",
              "    <tr style=\"text-align: right;\">\n",
              "      <th></th>\n",
              "      <th>loss</th>\n",
              "      <th>accuracy</th>\n",
              "      <th>val_loss</th>\n",
              "      <th>val_accuracy</th>\n",
              "      <th>epoch</th>\n",
              "    </tr>\n",
              "  </thead>\n",
              "  <tbody>\n",
              "    <tr>\n",
              "      <th>7</th>\n",
              "      <td>0.680813</td>\n",
              "      <td>0.76226</td>\n",
              "      <td>0.868084</td>\n",
              "      <td>0.7061</td>\n",
              "      <td>7</td>\n",
              "    </tr>\n",
              "    <tr>\n",
              "      <th>6</th>\n",
              "      <td>0.728128</td>\n",
              "      <td>0.74464</td>\n",
              "      <td>0.868220</td>\n",
              "      <td>0.7052</td>\n",
              "      <td>6</td>\n",
              "    </tr>\n",
              "    <tr>\n",
              "      <th>4</th>\n",
              "      <td>0.838285</td>\n",
              "      <td>0.70762</td>\n",
              "      <td>0.891802</td>\n",
              "      <td>0.6910</td>\n",
              "      <td>4</td>\n",
              "    </tr>\n",
              "    <tr>\n",
              "      <th>8</th>\n",
              "      <td>0.638853</td>\n",
              "      <td>0.77618</td>\n",
              "      <td>0.896920</td>\n",
              "      <td>0.7056</td>\n",
              "      <td>8</td>\n",
              "    </tr>\n",
              "    <tr>\n",
              "      <th>5</th>\n",
              "      <td>0.778538</td>\n",
              "      <td>0.72766</td>\n",
              "      <td>0.902806</td>\n",
              "      <td>0.6907</td>\n",
              "      <td>5</td>\n",
              "    </tr>\n",
              "    <tr>\n",
              "      <th>9</th>\n",
              "      <td>0.601448</td>\n",
              "      <td>0.78842</td>\n",
              "      <td>0.922310</td>\n",
              "      <td>0.6959</td>\n",
              "      <td>9</td>\n",
              "    </tr>\n",
              "    <tr>\n",
              "      <th>3</th>\n",
              "      <td>0.914418</td>\n",
              "      <td>0.67734</td>\n",
              "      <td>0.995873</td>\n",
              "      <td>0.6557</td>\n",
              "      <td>3</td>\n",
              "    </tr>\n",
              "    <tr>\n",
              "      <th>2</th>\n",
              "      <td>1.005128</td>\n",
              "      <td>0.64604</td>\n",
              "      <td>1.027283</td>\n",
              "      <td>0.6323</td>\n",
              "      <td>2</td>\n",
              "    </tr>\n",
              "    <tr>\n",
              "      <th>1</th>\n",
              "      <td>1.143105</td>\n",
              "      <td>0.59488</td>\n",
              "      <td>1.084188</td>\n",
              "      <td>0.6129</td>\n",
              "      <td>1</td>\n",
              "    </tr>\n",
              "    <tr>\n",
              "      <th>0</th>\n",
              "      <td>1.532094</td>\n",
              "      <td>0.43776</td>\n",
              "      <td>1.263471</td>\n",
              "      <td>0.5500</td>\n",
              "      <td>0</td>\n",
              "    </tr>\n",
              "  </tbody>\n",
              "</table>\n",
              "</div>"
            ],
            "text/plain": [
              "       loss  accuracy  val_loss  val_accuracy  epoch\n",
              "7  0.680813   0.76226  0.868084        0.7061      7\n",
              "6  0.728128   0.74464  0.868220        0.7052      6\n",
              "4  0.838285   0.70762  0.891802        0.6910      4\n",
              "8  0.638853   0.77618  0.896920        0.7056      8\n",
              "5  0.778538   0.72766  0.902806        0.6907      5\n",
              "9  0.601448   0.78842  0.922310        0.6959      9\n",
              "3  0.914418   0.67734  0.995873        0.6557      3\n",
              "2  1.005128   0.64604  1.027283        0.6323      2\n",
              "1  1.143105   0.59488  1.084188        0.6129      1\n",
              "0  1.532094   0.43776  1.263471        0.5500      0"
            ]
          },
          "metadata": {
            "tags": []
          },
          "execution_count": 13
        }
      ]
    },
    {
      "cell_type": "code",
      "metadata": {
        "id": "BElO_mKcV99M",
        "outputId": "571437bb-f4f3-4acc-eb22-afb75246920a",
        "colab": {
          "base_uri": "https://localhost:8080/",
          "height": 278
        }
      },
      "source": [
        "plot_loss(history)"
      ],
      "execution_count": 12,
      "outputs": [
        {
          "output_type": "display_data",
          "data": {
            "image/png": "[encoded data removed]",
            "text/plain": [
              "<Figure size 432x288 with 1 Axes>"
            ]
          },
          "metadata": {
            "tags": [],
            "needs_background": "light"
          }
        }
      ]
    },
    {
      "cell_type": "markdown",
      "metadata": {
        "id": "G3tcmRxxCm8K"
      },
      "source": [
        "# Hasil\n",
        "\n",
        "Dari sorting value dataframe didapat val_loss terendah adalah pada epoch 7, dan sejalan dengan yang ditampilkan pada plot history dimana titik terendah mengarah pada epoch 7\n",
        "\n",
        "Epoch : 7\n",
        "\n",
        "Loss : \t0.680813\n",
        "\n",
        "Accuracy : 0.76226\n",
        "\n",
        "Val_Loss : 0.868084\t\n",
        "\n",
        "Val_Accuracy : 0.7061"
      ]
    }
  ]
}